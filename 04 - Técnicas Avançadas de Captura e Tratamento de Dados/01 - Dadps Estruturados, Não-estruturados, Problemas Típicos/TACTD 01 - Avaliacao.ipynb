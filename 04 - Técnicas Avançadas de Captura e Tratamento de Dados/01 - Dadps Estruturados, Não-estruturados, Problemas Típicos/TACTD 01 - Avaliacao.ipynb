{
 "cells": [
  {
   "cell_type": "markdown",
   "metadata": {},
   "source": [
    "# MBA em Ciência de Dados\n",
    "# Técnicas Avançadas de Captura e Tratamento de Dados\n",
    "\n",
    "### <span style=\"color:darkred\">Módulo I - Dados Estruturados, Não Estruturados e problemas típicos em bases de dados</span>\n",
    "\n",
    "\n",
    "## <span style=\"color:darkred\">Avaliação</span>\n",
    "\n",
    "Moacir Antonelli Ponti\n",
    "\n",
    "CeMEAI - ICMC/USP São Carlos\n",
    "\n",
    "\n",
    "---\n",
    "\n",
    "#### <font color='red'> As respostas devem ser fornecidas no Moodle. Usar o notebook para a implementação dos códigos que fornecerão as respostas</font>\n",
    "\n",
    "---"
   ]
  },
  {
   "cell_type": "code",
   "execution_count": 1,
   "metadata": {},
   "outputs": [],
   "source": [
    "# carregando as bibliotecas necessárias\n",
    "import pandas as pd\n",
    "import matplotlib.pyplot as plt\n",
    "import numpy as np"
   ]
  },
  {
   "cell_type": "code",
   "execution_count": 2,
   "metadata": {},
   "outputs": [],
   "source": [
    "df = pd.read_csv(\"./dados/TACTD-01-Base.csv\")"
   ]
  },
  {
   "cell_type": "markdown",
   "metadata": {},
   "source": [
    "### Questão 1)\n",
    "\n",
    "Considere a base de dados disponível em `TACTD-01-Base.csv`. Com relação aos dados faltantes no atributo 'Sex', i.e. linhas que não sejam 'F' nem 'M', podemos dizer que:\n",
    " \n",
    " (a) São do tipo completamente aleatório (MCAR)<br>\n",
    " (b) São do tipo (condicionalmente) aleatório (MAR)<br>\n",
    " (c) São do tipo não aleatório<br>\n",
    " (d) Não há dados faltantes<br> "
   ]
  },
  {
   "cell_type": "code",
   "execution_count": 1,
   "metadata": {},
   "outputs": [],
   "source": [
    "# seu código com análise do atributo Sex"
   ]
  },
  {
   "cell_type": "markdown",
   "metadata": {},
   "source": [
    "---\n",
    "\n",
    "### Questão 2)\n",
    "\n",
    "Considere a base de dados disponível em `TACTD-01-Base.csv`, e analise os dados no atributo 'Religion'. Esse atributo possui os seguintes problemas:\n",
    "\n",
    " (a) 9 dados faltantes (sendo desses 5 dados errôneos) e 1 outlier<br>\n",
    " (b) 4 dados faltantes devido a omissão do usuário<br>\n",
    " (c) 9 dados errôneos, sendo desses 2 outliers<br>\n",
    " (d) 1 outlier<br>"
   ]
  },
  {
   "cell_type": "code",
   "execution_count": 2,
   "metadata": {},
   "outputs": [],
   "source": [
    "# seu código com análise dos dados no atributo Religion"
   ]
  },
  {
   "cell_type": "markdown",
   "metadata": {},
   "source": [
    "---\n",
    "### Questão 3)\n",
    "\n",
    "Dados estruturados, quando comparados aos não-estruturados, são caracterizados por:\n",
    "\n",
    "(a) permitir executar validação dos dados, mas não possibilitar acesso direto<br>\n",
    "(b) possibilitar maior liberdade/flexibilidade na coleta dos dados, sendo ideais para coleta com baixo controle<br>\n",
    "(c) armazenado em arquivos de formato texto livre, permitindo controle de versões<br>\n",
    "(d) possuir campos e atributos que permitam endereçar os dados diretamenteo<br>\n"
   ]
  },
  {
   "cell_type": "markdown",
   "metadata": {},
   "source": [
    "---\n",
    "\n",
    "### Questão 4)\n",
    "\n",
    "Considere a base de dados disponível em `TACTD-01-Base.csv`, e analise os dados no atributo 'Years of experience' por meio do gráfico de caixa e depois visualizando as linhas contendo outliers mostrados no gráfico de caixa.\n",
    "\n",
    "O atributo possui:\n",
    "\n",
    "(a) 3 outliers globais<br>\n",
    "(b) 1 outlier, pois os outros dados são plausíveis<br>\n",
    "(c) 3 outliers globais, sendo dois desses também outliers contextuais<br>\n",
    "(d) 3 outliers contextuais, sendo um deles também um outlier global<br>"
   ]
  },
  {
   "cell_type": "code",
   "execution_count": 3,
   "metadata": {},
   "outputs": [],
   "source": [
    "# seu código com análise do atributo Years of Experience"
   ]
  },
  {
   "cell_type": "markdown",
   "metadata": {},
   "source": [
    "## Questão 5)\n",
    "\n",
    "Gere o gráfico de caixa do atributo 'Year of Birth' e depois selecione e imprima na tela todas as linhas em que o atributo 'Year of Birth' possui valores fora das barras de mínimo e máximo do gráfico de caixa.\n",
    "\n",
    "Como interpretar as linhas retornadas e quais ações são mais indicadas, em termos de manter ou remover os dados supeitos?\n",
    "\n",
    "(a) a linha 15 e a linha 71 possuem outliers e dados errôneos, ambas devem ser removidas por completo.<br>\n",
    "(b) a linha 15 possui valores considerados outliers, mas são plausíveis e podem ser mantidos; a linha 71 possui outliers e dados errôneos e deve ser removida<br>\n",
    "(c) a linha 22 possui outliers e atributos com dados errôneos, com valores que devem ser removidos; a linha 71 possui um outlier, mas é plausível e pode ser mantido<br>\n",
    "(d) a linha 15 e a linha 71 possuem valores outliers, mas podem ser mantidos pois não há outros problemas que exigam limpeza<br>\n"
   ]
  },
  {
   "cell_type": "code",
   "execution_count": 4,
   "metadata": {},
   "outputs": [],
   "source": [
    "# seu código com análise do atributo \"Year of Birth\""
   ]
  }
 ],
 "metadata": {
  "kernelspec": {
   "display_name": "Python 3",
   "language": "python",
   "name": "python3"
  },
  "language_info": {
   "codemirror_mode": {
    "name": "ipython",
    "version": 3
   },
   "file_extension": ".py",
   "mimetype": "text/x-python",
   "name": "python",
   "nbconvert_exporter": "python",
   "pygments_lexer": "ipython3",
   "version": "3.9.2"
  }
 },
 "nbformat": 4,
 "nbformat_minor": 4
}
