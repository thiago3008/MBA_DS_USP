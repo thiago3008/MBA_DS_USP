{
 "cells": [
  {
   "cell_type": "markdown",
   "metadata": {},
   "source": [
    "# MBA em Ciência de Dados\r\n",
    "# Técnicas Avançadas de Captura e Tratamento de Dados\r\n",
    "\r\n",
    "## <span style=\"color:blue\">Módulo I - Dados Estruturados e Não Estruturados</span>\r\n",
    "\r\n",
    "\r\n",
    "### <span style=\"color:blue\">Problemas típicos em bases de dados:  Informações faltantes</span>\r\n",
    "\r\n",
    "Material Produzido por Moacir Antonelli Ponti\r\n",
    "\r\n",
    "CeMEAI - ICMC/USP São Carlos\r\n",
    "\r\n",
    "---"
   ]
  },
  {
   "cell_type": "markdown",
   "metadata": {},
   "source": [
    "__Conteúdo:__\n",
    "1. Dados Não-estruturados\n",
    "2. Dados Estruturados\n",
    "3. *Problemas típicos em bases de dados*\n",
    "    1. *Informações faltantes*\n",
    "    2. Pontos \"fora da curva\" (*outliers*)\n",
    "    3. Informações errôneas\n",
    "    4. Dados redundantes\n",
    "    5. Dados desbalanceados\n",
    "\n",
    "__Referências:__\n",
    "- Salvador García, Julián Luengo, Francisco Herrera. Data Processing in Data Mining, 2015.\n",
    "- Hadley Wickham, Tidy Data. Journal of Statistical Software, v.59, n.10, 2014.\n",
    "- Katti Faceli; Ana Carolina Lorena; João Gama; André C.P.L.F. Carvalho. Inteligência Artificial: uma abordagem de aprendizado de máquina, 2011.\n",
    "\n",
    "__Referência complementar:__\n",
    "- Karthika Mohan; Judea Pearl; Tian Jin. Missing data as a causal inference problem. In: Proceedings of the Neural Information Processing Systems Conference (NIPS). 2013.\n",
    "\n",
    "***"
   ]
  },
  {
   "cell_type": "markdown",
   "metadata": {},
   "source": [
    "## Problemas típicos em bases de dados\n",
    "\n",
    "* bases de dados, ainda que estruturadas, possuem problemas\n",
    "* a regra 80/20 diz que **80%** do tempo dos cientistas de dados é gasto **encontrando, limpando e organizando dados**\n",
    "\n",
    "    https://www.ibm.com/cloud/blog/ibm-data-catalog-data-scientists-productivity\n",
    "    \n",
    "<img src=\"./imagens/ibm-8020rule.png\" alt=\"drawing\" width=\"700\"/>\n",
    "\n",
    "* *não reconhecer esses problemas e ignorá-los pode levar a conclusões erradas na fase de análise.*\n",
    "\n",
    "\n",
    "\n",
    "## A. Informações faltantes (*missing data*)\n",
    "\n",
    "\n",
    "#### Razões para dados faltantes\n",
    "\n",
    "A maior causa da existência de dados faltantes está no projeto do protocolo de *coleta de dados* e na sua execução.\n",
    "\n",
    "Podemos observar as seguintes fontes de dados faltantes:\n",
    "\n",
    "* Omissão / não preenchimento de campo:\n",
    "    * usuário esqueceu\n",
    "    * usuário escolheu não preencher por não saber como preencher\n",
    "    * usuário preferiu não preencher com receio da interpretação da resposta\n",
    "    \n",
    "    \n",
    "* Dados perdidos: \n",
    "    * na digitação (quando em papel), \n",
    "    * na transferência de dados \n",
    "    * na migração de bases de dados \n",
    "    * na conversão entre formatos de arquivos    \n",
    "    \n",
    "    \n",
    "* Erro de programação\n",
    "\n"
   ]
  },
  {
   "cell_type": "markdown",
   "metadata": {},
   "source": [
    "#### Tipo do dado faltante\r\n",
    "\r\n",
    "Seja $C$ o conjunto de todas as observações em um conjunto de dados. \r\n",
    "\r\n",
    "$C$ é particionado em $C_c$ e $C_m$, sendo que:\r\n",
    "* $C_c \\subseteq C$ são as observações completas em todos os campos/atributos,\r\n",
    "* $C_m \\subseteq C$ são as observações com ao menos um campo/atributo faltante (*missing*),\r\n",
    "\r\n",
    "---\r\n",
    "\r\n",
    "* **Faltantes completamente aleatórios** ou *missing completely at random (MCAR)*: \r\n",
    "    - a probabilidade de $C_m$ ser faltante é independente de $C_m$ e independente de qualquer outra observação $X \\in C_c$ no dataset;\r\n",
    "    - pode ser visto como o caso em que qualquer dado tem a mesma chance de estar faltando;\r\n",
    "    - *exemplo*: ao avaliar um produto os clientes decidem reportar ou não a sua satisfação jogando cara-ou-coroa;\r\n",
    "    - *nesse caso:* $C_c$ são uma amostra representativa de todas as outras, e podem ser usadas para completar $C_m$\r\n"
   ]
  },
  {
   "cell_type": "code",
   "execution_count": 3,
   "metadata": {},
   "outputs": [
    {
     "name": "stdout",
     "output_type": "stream",
     "text": [
      "Número de observacoes na base de dados:  30\n"
     ]
    },
    {
     "data": {
      "text/html": "<div>\n<style scoped>\n    .dataframe tbody tr th:only-of-type {\n        vertical-align: middle;\n    }\n\n    .dataframe tbody tr th {\n        vertical-align: top;\n    }\n\n    .dataframe thead th {\n        text-align: right;\n    }\n</style>\n<table border=\"1\" class=\"dataframe\">\n  <thead>\n    <tr style=\"text-align: right;\">\n      <th></th>\n      <th>e-mail</th>\n      <th>Name</th>\n      <th>Sex</th>\n      <th>Rate</th>\n    </tr>\n  </thead>\n  <tbody>\n    <tr>\n      <th>0</th>\n      <td>eug_ewell@live.com</td>\n      <td>Eugenio Ewell</td>\n      <td>M</td>\n      <td>NaN</td>\n    </tr>\n    <tr>\n      <th>1</th>\n      <td>NaN</td>\n      <td>Ivo Izidro</td>\n      <td>M</td>\n      <td>5.0</td>\n    </tr>\n    <tr>\n      <th>2</th>\n      <td>multiplx@mac.com</td>\n      <td>Lindsey Lever</td>\n      <td>NaN</td>\n      <td>3.0</td>\n    </tr>\n    <tr>\n      <th>3</th>\n      <td>bader@sbcglobal.net</td>\n      <td>Desiree Dardar</td>\n      <td>F</td>\n      <td>NaN</td>\n    </tr>\n    <tr>\n      <th>4</th>\n      <td>nasarius@aol.com</td>\n      <td>Mariann Mulero</td>\n      <td>F</td>\n      <td>3.0</td>\n    </tr>\n    <tr>\n      <th>5</th>\n      <td>jusdisgi@outlook.com</td>\n      <td>Kathey Kleiman</td>\n      <td>F</td>\n      <td>4.0</td>\n    </tr>\n    <tr>\n      <th>6</th>\n      <td>rrollison@aol.com</td>\n      <td>Rupert Rollison</td>\n      <td>M</td>\n      <td>2.0</td>\n    </tr>\n    <tr>\n      <th>7</th>\n      <td>seymoress@aol.com</td>\n      <td>Signe Seymore</td>\n      <td>F</td>\n      <td>NaN</td>\n    </tr>\n    <tr>\n      <th>8</th>\n      <td>loralemo@gmail.com</td>\n      <td>Lora Lemoine</td>\n      <td>F</td>\n      <td>4.0</td>\n    </tr>\n    <tr>\n      <th>9</th>\n      <td>NaN</td>\n      <td>Leanne Lowy</td>\n      <td>F</td>\n      <td>4.0</td>\n    </tr>\n  </tbody>\n</table>\n</div>",
      "text/plain": "                 e-mail             Name  Sex  Rate\n0    eug_ewell@live.com    Eugenio Ewell    M   NaN\n1                   NaN       Ivo Izidro    M   5.0\n2      multiplx@mac.com    Lindsey Lever  NaN   3.0\n3   bader@sbcglobal.net   Desiree Dardar    F   NaN\n4      nasarius@aol.com   Mariann Mulero    F   3.0\n5  jusdisgi@outlook.com   Kathey Kleiman    F   4.0\n6     rrollison@aol.com  Rupert Rollison    M   2.0\n7     seymoress@aol.com    Signe Seymore    F   NaN\n8    loralemo@gmail.com     Lora Lemoine    F   4.0\n9                   NaN      Leanne Lowy    F   4.0"
     },
     "execution_count": 3,
     "metadata": {},
     "output_type": "execute_result"
    }
   ],
   "source": [
    "import numpy as np\r\n",
    "import matplotlib.pyplot as plt\r\n",
    "import pandas as pd\r\n",
    "\r\n",
    "data_mcar = pd.read_csv(\"./dados/TACTD_01B_Dadosfaltantes_MCAR.csv\", sep=',', header=0)\r\n",
    "\r\n",
    "print(\"Número de observacoes na base de dados: \", data_mcar.shape[0])\r\n",
    "data_mcar[:10]"
   ]
  },
  {
   "cell_type": "markdown",
   "metadata": {},
   "source": [
    "Digamos que estamos interessados nas avaliacoes realizadas, ou seja \"Rate\", vamos ver as estatísticas descritivas desse atributo"
   ]
  },
  {
   "cell_type": "code",
   "execution_count": 106,
   "metadata": {},
   "outputs": [
    {
     "data": {
      "text/plain": [
       "count    24.000000\n",
       "mean      3.500000\n",
       "std       1.215838\n",
       "min       1.000000\n",
       "25%       3.000000\n",
       "50%       4.000000\n",
       "75%       4.000000\n",
       "max       5.000000\n",
       "Name: Rate, dtype: float64"
      ]
     },
     "execution_count": 106,
     "metadata": {},
     "output_type": "execute_result"
    }
   ],
   "source": [
    "data_mcar['Rate'].describe()"
   ]
  },
  {
   "cell_type": "markdown",
   "metadata": {},
   "source": [
    "Mas sabemos que há dados faltantes, então vamos olhar especificamente para eles"
   ]
  },
  {
   "cell_type": "code",
   "execution_count": 107,
   "metadata": {},
   "outputs": [
    {
     "data": {
      "text/html": [
       "<div>\n",
       "<style scoped>\n",
       "    .dataframe tbody tr th:only-of-type {\n",
       "        vertical-align: middle;\n",
       "    }\n",
       "\n",
       "    .dataframe tbody tr th {\n",
       "        vertical-align: top;\n",
       "    }\n",
       "\n",
       "    .dataframe thead th {\n",
       "        text-align: right;\n",
       "    }\n",
       "</style>\n",
       "<table border=\"1\" class=\"dataframe\">\n",
       "  <thead>\n",
       "    <tr style=\"text-align: right;\">\n",
       "      <th></th>\n",
       "      <th>e-mail</th>\n",
       "      <th>Name</th>\n",
       "      <th>Sex</th>\n",
       "      <th>Rate</th>\n",
       "    </tr>\n",
       "  </thead>\n",
       "  <tbody>\n",
       "    <tr>\n",
       "      <th>0</th>\n",
       "      <td>eug_ewell@live.com</td>\n",
       "      <td>Eugenio Ewell</td>\n",
       "      <td>M</td>\n",
       "      <td>NaN</td>\n",
       "    </tr>\n",
       "    <tr>\n",
       "      <th>3</th>\n",
       "      <td>bader@sbcglobal.net</td>\n",
       "      <td>Desiree Dardar</td>\n",
       "      <td>F</td>\n",
       "      <td>NaN</td>\n",
       "    </tr>\n",
       "    <tr>\n",
       "      <th>7</th>\n",
       "      <td>seymoress@aol.com</td>\n",
       "      <td>Signe Seymore</td>\n",
       "      <td>F</td>\n",
       "      <td>NaN</td>\n",
       "    </tr>\n",
       "    <tr>\n",
       "      <th>13</th>\n",
       "      <td>cobree@aol.com</td>\n",
       "      <td>Carlos Cobre</td>\n",
       "      <td>M</td>\n",
       "      <td>NaN</td>\n",
       "    </tr>\n",
       "    <tr>\n",
       "      <th>18</th>\n",
       "      <td>agapow@comcast.net</td>\n",
       "      <td>Ricardo Rima</td>\n",
       "      <td>M</td>\n",
       "      <td>NaN</td>\n",
       "    </tr>\n",
       "    <tr>\n",
       "      <th>24</th>\n",
       "      <td>NaN</td>\n",
       "      <td>Herta Hatley</td>\n",
       "      <td>NaN</td>\n",
       "      <td>NaN</td>\n",
       "    </tr>\n",
       "  </tbody>\n",
       "</table>\n",
       "</div>"
      ],
      "text/plain": [
       "                 e-mail            Name  Sex  Rate\n",
       "0    eug_ewell@live.com   Eugenio Ewell    M   NaN\n",
       "3   bader@sbcglobal.net  Desiree Dardar    F   NaN\n",
       "7     seymoress@aol.com   Signe Seymore    F   NaN\n",
       "13       cobree@aol.com    Carlos Cobre    M   NaN\n",
       "18   agapow@comcast.net    Ricardo Rima    M   NaN\n",
       "24                  NaN    Herta Hatley  NaN   NaN"
      ]
     },
     "execution_count": 107,
     "metadata": {},
     "output_type": "execute_result"
    }
   ],
   "source": [
    "# observando os dados de avaliacoes que sao nulos\n",
    "data_mcar[data_mcar['Rate'].isnull()]"
   ]
  },
  {
   "cell_type": "code",
   "execution_count": 126,
   "metadata": {},
   "outputs": [
    {
     "data": {
      "image/png": "[encoded data removed]",
      "text/plain": [
       "<Figure size 432x288 with 1 Axes>"
      ]
     },
     "metadata": {
      "needs_background": "light"
     },
     "output_type": "display_data"
    }
   ],
   "source": [
    "# olhando para a distribuicao dos dados...\n",
    "hist = data_mcar.hist(bins=np.arange(1,7))"
   ]
  },
  {
   "cell_type": "markdown",
   "metadata": {},
   "source": [
    "Aparentemente, não há uma causa dos dados faltantes, então temos um cenário **MCAR**, para o qual existem várias técnicas disponíveis para minimizar o efeito de dados faltantes.\n",
    "\n",
    "Note que $V_m$, mostradas acima não parece ter qualquer relação com os valores de $V_m$ nem com outras variáveis $V_c$ observadas."
   ]
  },
  {
   "cell_type": "markdown",
   "metadata": {},
   "source": [
    "---\r\n",
    "\r\n",
    "* **Faltantes (condicionalmente) aleatórios** ou *missing at random (MAR)*:\r\n",
    "    - a probabilidade de $C_m$ ser faltante é independente de $C_m$, mas está relacionada a outras variáveis $C_c$ (para os quais há dados disponíveis) no dataset;\r\n",
    "    - *exemplo*: ao revisar um serviço contratado online, *homens* tendem a omitir a satisfação sobre o serviço, mas isso *não* tem nada a ver com seu nível de satisfação,\r\n",
    "    - *nesse caso:* $C_c$ são uma amostra representativa apenas para certo conjunto de observações,\r\n",
    "\r\n"
   ]
  },
  {
   "cell_type": "code",
   "execution_count": 4,
   "metadata": {},
   "outputs": [
    {
     "data": {
      "text/html": "<div>\n<style scoped>\n    .dataframe tbody tr th:only-of-type {\n        vertical-align: middle;\n    }\n\n    .dataframe tbody tr th {\n        vertical-align: top;\n    }\n\n    .dataframe thead th {\n        text-align: right;\n    }\n</style>\n<table border=\"1\" class=\"dataframe\">\n  <thead>\n    <tr style=\"text-align: right;\">\n      <th></th>\n      <th>e-mail</th>\n      <th>Name</th>\n      <th>Sex</th>\n      <th>Rate</th>\n    </tr>\n  </thead>\n  <tbody>\n    <tr>\n      <th>0</th>\n      <td>eug_ewell@live.com</td>\n      <td>Eugenio Ewell</td>\n      <td>M</td>\n      <td>4.0</td>\n    </tr>\n    <tr>\n      <th>1</th>\n      <td>iizi@yahoo.ca</td>\n      <td>Ivo Izidro</td>\n      <td>M</td>\n      <td>NaN</td>\n    </tr>\n    <tr>\n      <th>2</th>\n      <td>multiplx@mac.com</td>\n      <td>Lindsey Lever</td>\n      <td>M</td>\n      <td>3.0</td>\n    </tr>\n    <tr>\n      <th>3</th>\n      <td>bader@sbcglobal.net</td>\n      <td>Desiree Dardar</td>\n      <td>F</td>\n      <td>3.0</td>\n    </tr>\n    <tr>\n      <th>4</th>\n      <td>nasarius@aol.com</td>\n      <td>Mariann Mulero</td>\n      <td>F</td>\n      <td>3.0</td>\n    </tr>\n    <tr>\n      <th>5</th>\n      <td>jusdisgi@outlook.com</td>\n      <td>Kathey Kleiman</td>\n      <td>F</td>\n      <td>4.0</td>\n    </tr>\n    <tr>\n      <th>6</th>\n      <td>rrollison@aol.com</td>\n      <td>Rupert Rollison</td>\n      <td>M</td>\n      <td>2.0</td>\n    </tr>\n    <tr>\n      <th>7</th>\n      <td>seymoress@aol.com</td>\n      <td>Signe Seymore</td>\n      <td>F</td>\n      <td>4.0</td>\n    </tr>\n    <tr>\n      <th>8</th>\n      <td>loralemo@gmail.com</td>\n      <td>Lora Lemoine</td>\n      <td>F</td>\n      <td>4.0</td>\n    </tr>\n    <tr>\n      <th>9</th>\n      <td>leanne99@comcast.net</td>\n      <td>Leanne Lowy</td>\n      <td>F</td>\n      <td>4.0</td>\n    </tr>\n  </tbody>\n</table>\n</div>",
      "text/plain": "                 e-mail             Name Sex  Rate\n0    eug_ewell@live.com    Eugenio Ewell   M   4.0\n1         iizi@yahoo.ca       Ivo Izidro   M   NaN\n2      multiplx@mac.com    Lindsey Lever   M   3.0\n3   bader@sbcglobal.net   Desiree Dardar   F   3.0\n4      nasarius@aol.com   Mariann Mulero   F   3.0\n5  jusdisgi@outlook.com   Kathey Kleiman   F   4.0\n6     rrollison@aol.com  Rupert Rollison   M   2.0\n7     seymoress@aol.com    Signe Seymore   F   4.0\n8    loralemo@gmail.com     Lora Lemoine   F   4.0\n9  leanne99@comcast.net      Leanne Lowy   F   4.0"
     },
     "execution_count": 4,
     "metadata": {},
     "output_type": "execute_result"
    }
   ],
   "source": [
    "data_mar = pd.read_csv(\"./dados/TACTD_01B_Dadosfaltantes_MAR.csv\")\n",
    "\n",
    "data_mar[:10]"
   ]
  },
  {
   "cell_type": "markdown",
   "metadata": {},
   "source": [
    "Observar os dados visualmente pode não significar muito... vamos usar estatística descritiva e depois olhar apenas para os dados faltantes"
   ]
  },
  {
   "cell_type": "code",
   "execution_count": 5,
   "metadata": {},
   "outputs": [
    {
     "data": {
      "text/html": "<div>\n<style scoped>\n    .dataframe tbody tr th:only-of-type {\n        vertical-align: middle;\n    }\n\n    .dataframe tbody tr th {\n        vertical-align: top;\n    }\n\n    .dataframe thead th {\n        text-align: right;\n    }\n</style>\n<table border=\"1\" class=\"dataframe\">\n  <thead>\n    <tr style=\"text-align: right;\">\n      <th></th>\n      <th>Rate</th>\n    </tr>\n  </thead>\n  <tbody>\n    <tr>\n      <th>count</th>\n      <td>24.000000</td>\n    </tr>\n    <tr>\n      <th>mean</th>\n      <td>3.458333</td>\n    </tr>\n    <tr>\n      <th>std</th>\n      <td>1.102533</td>\n    </tr>\n    <tr>\n      <th>min</th>\n      <td>1.000000</td>\n    </tr>\n    <tr>\n      <th>25%</th>\n      <td>3.000000</td>\n    </tr>\n    <tr>\n      <th>50%</th>\n      <td>4.000000</td>\n    </tr>\n    <tr>\n      <th>75%</th>\n      <td>4.000000</td>\n    </tr>\n    <tr>\n      <th>max</th>\n      <td>5.000000</td>\n    </tr>\n  </tbody>\n</table>\n</div>",
      "text/plain": "            Rate\ncount  24.000000\nmean    3.458333\nstd     1.102533\nmin     1.000000\n25%     3.000000\n50%     4.000000\n75%     4.000000\nmax     5.000000"
     },
     "execution_count": 5,
     "metadata": {},
     "output_type": "execute_result"
    }
   ],
   "source": [
    "data_mar.describe()"
   ]
  },
  {
   "cell_type": "code",
   "execution_count": 6,
   "metadata": {},
   "outputs": [
    {
     "data": {
      "text/html": "<div>\n<style scoped>\n    .dataframe tbody tr th:only-of-type {\n        vertical-align: middle;\n    }\n\n    .dataframe tbody tr th {\n        vertical-align: top;\n    }\n\n    .dataframe thead th {\n        text-align: right;\n    }\n</style>\n<table border=\"1\" class=\"dataframe\">\n  <thead>\n    <tr style=\"text-align: right;\">\n      <th></th>\n      <th>e-mail</th>\n      <th>Name</th>\n      <th>Sex</th>\n      <th>Rate</th>\n    </tr>\n  </thead>\n  <tbody>\n    <tr>\n      <th>1</th>\n      <td>iizi@yahoo.ca</td>\n      <td>Ivo Izidro</td>\n      <td>M</td>\n      <td>NaN</td>\n    </tr>\n    <tr>\n      <th>12</th>\n      <td>kk@verizon.net</td>\n      <td>Kraig Kriner</td>\n      <td>M</td>\n      <td>NaN</td>\n    </tr>\n    <tr>\n      <th>18</th>\n      <td>agapow@comcast.net</td>\n      <td>Ricardo Rima</td>\n      <td>M</td>\n      <td>NaN</td>\n    </tr>\n    <tr>\n      <th>23</th>\n      <td>joelw@live.com</td>\n      <td>Elias Elmo</td>\n      <td>M</td>\n      <td>NaN</td>\n    </tr>\n    <tr>\n      <th>25</th>\n      <td>jaju@mac.com</td>\n      <td>Jada Judon</td>\n      <td>M</td>\n      <td>NaN</td>\n    </tr>\n    <tr>\n      <th>27</th>\n      <td>njpayne@comcast.net</td>\n      <td>Lillian Labree</td>\n      <td>F</td>\n      <td>NaN</td>\n    </tr>\n  </tbody>\n</table>\n</div>",
      "text/plain": "                 e-mail            Name Sex  Rate\n1         iizi@yahoo.ca      Ivo Izidro   M   NaN\n12       kk@verizon.net    Kraig Kriner   M   NaN\n18   agapow@comcast.net    Ricardo Rima   M   NaN\n23       joelw@live.com      Elias Elmo   M   NaN\n25         jaju@mac.com      Jada Judon   M   NaN\n27  njpayne@comcast.net  Lillian Labree   F   NaN"
     },
     "execution_count": 6,
     "metadata": {},
     "output_type": "execute_result"
    }
   ],
   "source": [
    "# observando os dados de avaliacoes que sao nulos\n",
    "data_mar[data_mar['Rate'].isnull()]"
   ]
  },
  {
   "cell_type": "code",
   "execution_count": 7,
   "metadata": {},
   "outputs": [
    {
     "data": {
      "text/html": "<div>\n<style scoped>\n    .dataframe tbody tr th:only-of-type {\n        vertical-align: middle;\n    }\n\n    .dataframe tbody tr th {\n        vertical-align: top;\n    }\n\n    .dataframe thead th {\n        text-align: right;\n    }\n</style>\n<table border=\"1\" class=\"dataframe\">\n  <thead>\n    <tr style=\"text-align: right;\">\n      <th></th>\n      <th>Rate</th>\n    </tr>\n  </thead>\n  <tbody>\n    <tr>\n      <th>count</th>\n      <td>17.000000</td>\n    </tr>\n    <tr>\n      <th>mean</th>\n      <td>3.705882</td>\n    </tr>\n    <tr>\n      <th>std</th>\n      <td>1.046704</td>\n    </tr>\n    <tr>\n      <th>min</th>\n      <td>1.000000</td>\n    </tr>\n    <tr>\n      <th>25%</th>\n      <td>3.000000</td>\n    </tr>\n    <tr>\n      <th>50%</th>\n      <td>4.000000</td>\n    </tr>\n    <tr>\n      <th>75%</th>\n      <td>4.000000</td>\n    </tr>\n    <tr>\n      <th>max</th>\n      <td>5.000000</td>\n    </tr>\n  </tbody>\n</table>\n</div>",
      "text/plain": "            Rate\ncount  17.000000\nmean    3.705882\nstd     1.046704\nmin     1.000000\n25%     3.000000\n50%     4.000000\n75%     4.000000\nmax     5.000000"
     },
     "execution_count": 7,
     "metadata": {},
     "output_type": "execute_result"
    }
   ],
   "source": [
    "data_mar[data_mar['Sex']=='F'].describe()"
   ]
  },
  {
   "cell_type": "code",
   "execution_count": 8,
   "metadata": {},
   "outputs": [
    {
     "data": {
      "text/html": "<div>\n<style scoped>\n    .dataframe tbody tr th:only-of-type {\n        vertical-align: middle;\n    }\n\n    .dataframe tbody tr th {\n        vertical-align: top;\n    }\n\n    .dataframe thead th {\n        text-align: right;\n    }\n</style>\n<table border=\"1\" class=\"dataframe\">\n  <thead>\n    <tr style=\"text-align: right;\">\n      <th></th>\n      <th>Rate</th>\n    </tr>\n  </thead>\n  <tbody>\n    <tr>\n      <th>count</th>\n      <td>7.000000</td>\n    </tr>\n    <tr>\n      <th>mean</th>\n      <td>2.857143</td>\n    </tr>\n    <tr>\n      <th>std</th>\n      <td>1.069045</td>\n    </tr>\n    <tr>\n      <th>min</th>\n      <td>1.000000</td>\n    </tr>\n    <tr>\n      <th>25%</th>\n      <td>2.500000</td>\n    </tr>\n    <tr>\n      <th>50%</th>\n      <td>3.000000</td>\n    </tr>\n    <tr>\n      <th>75%</th>\n      <td>3.500000</td>\n    </tr>\n    <tr>\n      <th>max</th>\n      <td>4.000000</td>\n    </tr>\n  </tbody>\n</table>\n</div>",
      "text/plain": "           Rate\ncount  7.000000\nmean   2.857143\nstd    1.069045\nmin    1.000000\n25%    2.500000\n50%    3.000000\n75%    3.500000\nmax    4.000000"
     },
     "execution_count": 8,
     "metadata": {},
     "output_type": "execute_result"
    }
   ],
   "source": [
    "data_mar[data_mar['Sex']=='M'].describe()"
   ]
  },
  {
   "cell_type": "markdown",
   "metadata": {},
   "source": [
    "--- \n",
    "\n",
    "* **Faltantes não aleatórios**, respostas não ignoráveis ou *missing not at random (MNAR)*:\n",
    "    - dados não MCAR e não MAR;\n",
    "    - o valor da variável faltante é a razão pela qual ela está faltando;\n",
    "    - *exemplo*: ao revisar um produto comprado, clientes tendem a omitir o nível satisfação com o produto **devido** ao nível de satisfação,\n",
    "    - *nesse caso:* ?\n",
    "\n"
   ]
  },
  {
   "cell_type": "code",
   "execution_count": 2,
   "metadata": {},
   "outputs": [
    {
     "data": {
      "text/html": "<div>\n<style scoped>\n    .dataframe tbody tr th:only-of-type {\n        vertical-align: middle;\n    }\n\n    .dataframe tbody tr th {\n        vertical-align: top;\n    }\n\n    .dataframe thead th {\n        text-align: right;\n    }\n</style>\n<table border=\"1\" class=\"dataframe\">\n  <thead>\n    <tr style=\"text-align: right;\">\n      <th></th>\n      <th>e-mail</th>\n      <th>Name</th>\n      <th>Sex</th>\n      <th>Rate</th>\n    </tr>\n  </thead>\n  <tbody>\n    <tr>\n      <th>0</th>\n      <td>eug_ewell@live.com</td>\n      <td>Eugenio Ewell</td>\n      <td>M</td>\n      <td>4.0</td>\n    </tr>\n    <tr>\n      <th>1</th>\n      <td>iizi@yahoo.ca</td>\n      <td>Ivo Izidro</td>\n      <td>M</td>\n      <td>5.0</td>\n    </tr>\n    <tr>\n      <th>2</th>\n      <td>multiplx@mac.com</td>\n      <td>Lindsey Lever</td>\n      <td>M</td>\n      <td>3.0</td>\n    </tr>\n    <tr>\n      <th>3</th>\n      <td>bader@sbcglobal.net</td>\n      <td>Desiree Dardar</td>\n      <td>F</td>\n      <td>NaN</td>\n    </tr>\n    <tr>\n      <th>4</th>\n      <td>nasarius@aol.com</td>\n      <td>Mariann Mulero</td>\n      <td>F</td>\n      <td>NaN</td>\n    </tr>\n    <tr>\n      <th>5</th>\n      <td>jusdisgi@outlook.com</td>\n      <td>Kathey Kleiman</td>\n      <td>F</td>\n      <td>4.0</td>\n    </tr>\n    <tr>\n      <th>6</th>\n      <td>rrollison@aol.com</td>\n      <td>Rupert Rollison</td>\n      <td>M</td>\n      <td>NaN</td>\n    </tr>\n    <tr>\n      <th>7</th>\n      <td>seymoress@aol.com</td>\n      <td>Signe Seymore</td>\n      <td>F</td>\n      <td>4.0</td>\n    </tr>\n    <tr>\n      <th>8</th>\n      <td>loralemo@gmail.com</td>\n      <td>Lora Lemoine</td>\n      <td>F</td>\n      <td>4.0</td>\n    </tr>\n    <tr>\n      <th>9</th>\n      <td>leanne99@comcast.net</td>\n      <td>Leanne Lowy</td>\n      <td>F</td>\n      <td>4.0</td>\n    </tr>\n  </tbody>\n</table>\n</div>",
      "text/plain": "                 e-mail             Name Sex  Rate\n0    eug_ewell@live.com    Eugenio Ewell   M   4.0\n1         iizi@yahoo.ca       Ivo Izidro   M   5.0\n2      multiplx@mac.com    Lindsey Lever   M   3.0\n3   bader@sbcglobal.net   Desiree Dardar   F   NaN\n4      nasarius@aol.com   Mariann Mulero   F   NaN\n5  jusdisgi@outlook.com   Kathey Kleiman   F   4.0\n6     rrollison@aol.com  Rupert Rollison   M   NaN\n7     seymoress@aol.com    Signe Seymore   F   4.0\n8    loralemo@gmail.com     Lora Lemoine   F   4.0\n9  leanne99@comcast.net      Leanne Lowy   F   4.0"
     },
     "execution_count": 2,
     "metadata": {},
     "output_type": "execute_result"
    }
   ],
   "source": [
    "import pandas as pd\r\n",
    "data_nr = pd.read_csv(\"./dados/TACTD_01B_Dadosfaltantes_NonRandom.csv\")\r\n",
    "\r\n",
    "data_nr[:10]"
   ]
  },
  {
   "cell_type": "code",
   "execution_count": 3,
   "metadata": {},
   "outputs": [
    {
     "data": {
      "text/html": "<div>\n<style scoped>\n    .dataframe tbody tr th:only-of-type {\n        vertical-align: middle;\n    }\n\n    .dataframe tbody tr th {\n        vertical-align: top;\n    }\n\n    .dataframe thead th {\n        text-align: right;\n    }\n</style>\n<table border=\"1\" class=\"dataframe\">\n  <thead>\n    <tr style=\"text-align: right;\">\n      <th></th>\n      <th>Rate</th>\n    </tr>\n  </thead>\n  <tbody>\n    <tr>\n      <th>count</th>\n      <td>21.000000</td>\n    </tr>\n    <tr>\n      <th>mean</th>\n      <td>4.095238</td>\n    </tr>\n    <tr>\n      <th>std</th>\n      <td>0.624881</td>\n    </tr>\n    <tr>\n      <th>min</th>\n      <td>3.000000</td>\n    </tr>\n    <tr>\n      <th>25%</th>\n      <td>4.000000</td>\n    </tr>\n    <tr>\n      <th>50%</th>\n      <td>4.000000</td>\n    </tr>\n    <tr>\n      <th>75%</th>\n      <td>4.000000</td>\n    </tr>\n    <tr>\n      <th>max</th>\n      <td>5.000000</td>\n    </tr>\n  </tbody>\n</table>\n</div>",
      "text/plain": "            Rate\ncount  21.000000\nmean    4.095238\nstd     0.624881\nmin     3.000000\n25%     4.000000\n50%     4.000000\n75%     4.000000\nmax     5.000000"
     },
     "execution_count": 3,
     "metadata": {},
     "output_type": "execute_result"
    }
   ],
   "source": [
    "data_nr.describe()"
   ]
  },
  {
   "cell_type": "code",
   "execution_count": 4,
   "metadata": {},
   "outputs": [
    {
     "data": {
      "text/html": "<div>\n<style scoped>\n    .dataframe tbody tr th:only-of-type {\n        vertical-align: middle;\n    }\n\n    .dataframe tbody tr th {\n        vertical-align: top;\n    }\n\n    .dataframe thead th {\n        text-align: right;\n    }\n</style>\n<table border=\"1\" class=\"dataframe\">\n  <thead>\n    <tr style=\"text-align: right;\">\n      <th></th>\n      <th>e-mail</th>\n      <th>Name</th>\n      <th>Sex</th>\n      <th>Rate</th>\n    </tr>\n  </thead>\n  <tbody>\n    <tr>\n      <th>3</th>\n      <td>bader@sbcglobal.net</td>\n      <td>Desiree Dardar</td>\n      <td>F</td>\n      <td>NaN</td>\n    </tr>\n    <tr>\n      <th>4</th>\n      <td>nasarius@aol.com</td>\n      <td>Mariann Mulero</td>\n      <td>F</td>\n      <td>NaN</td>\n    </tr>\n    <tr>\n      <th>6</th>\n      <td>rrollison@aol.com</td>\n      <td>Rupert Rollison</td>\n      <td>M</td>\n      <td>NaN</td>\n    </tr>\n    <tr>\n      <th>11</th>\n      <td>danzigism@aol.com</td>\n      <td>Mayra Mcnish</td>\n      <td>F</td>\n      <td>NaN</td>\n    </tr>\n    <tr>\n      <th>13</th>\n      <td>cobree@aol.com</td>\n      <td>Carlos Cobre</td>\n      <td>M</td>\n      <td>NaN</td>\n    </tr>\n    <tr>\n      <th>20</th>\n      <td>temmink@icloud.com</td>\n      <td>Willene Wolfgram</td>\n      <td>F</td>\n      <td>NaN</td>\n    </tr>\n    <tr>\n      <th>26</th>\n      <td>tubajon@sbcglobal.net</td>\n      <td>Joelle Jaffee</td>\n      <td>F</td>\n      <td>NaN</td>\n    </tr>\n    <tr>\n      <th>27</th>\n      <td>njpayne@comcast.net</td>\n      <td>Lillian Labree</td>\n      <td>F</td>\n      <td>NaN</td>\n    </tr>\n    <tr>\n      <th>29</th>\n      <td>dfevre@optonline.net</td>\n      <td>Douglas Damario</td>\n      <td>M</td>\n      <td>NaN</td>\n    </tr>\n  </tbody>\n</table>\n</div>",
      "text/plain": "                   e-mail              Name Sex  Rate\n3     bader@sbcglobal.net    Desiree Dardar   F   NaN\n4        nasarius@aol.com    Mariann Mulero   F   NaN\n6       rrollison@aol.com   Rupert Rollison   M   NaN\n11      danzigism@aol.com      Mayra Mcnish   F   NaN\n13         cobree@aol.com      Carlos Cobre   M   NaN\n20     temmink@icloud.com  Willene Wolfgram   F   NaN\n26  tubajon@sbcglobal.net     Joelle Jaffee   F   NaN\n27    njpayne@comcast.net    Lillian Labree   F   NaN\n29   dfevre@optonline.net   Douglas Damario   M   NaN"
     },
     "execution_count": 4,
     "metadata": {},
     "output_type": "execute_result"
    }
   ],
   "source": [
    "data_nr[data_nr['Rate'].isnull()]"
   ]
  },
  {
   "cell_type": "code",
   "execution_count": 6,
   "metadata": {},
   "outputs": [
    {
     "data": {
      "image/png": "[encoded data removed]",
      "text/plain": "<Figure size 432x288 with 1 Axes>"
     },
     "metadata": {
      "needs_background": "light"
     },
     "output_type": "display_data"
    }
   ],
   "source": [
    "import numpy as np\r\n",
    "# olhando para a distribuicao dos dados...\r\n",
    "hist = data_nr.hist(bins=np.arange(1,7))"
   ]
  },
  {
   "cell_type": "markdown",
   "metadata": {},
   "source": [
    "## Resumo e considerações finais\n",
    "\n",
    "Bases de dados reais possuem problemas relacionados à coleta que não podem ser negligenciados\n",
    "\n",
    "Parte importante do trabalho do cientista de dados é reconhecer esses problemas\n",
    "\n",
    "**Dados faltantes** é um desses problemas e pode ocorrer em três tipos principais\n",
    "* Completamente Aleatório - MCAR\n",
    "* Aleatório (condicionalmente) - MAR\n",
    "* Não aleatório\n",
    "\n",
    "A abordagem para tratar cada caso deve ser diferente!"
   ]
  }
 ],
 "metadata": {
  "kernelspec": {
   "display_name": "Python 3.9.2 64-bit",
   "name": "python392jvsc74a57bd0ac59ebe37160ed0dfa835113d9b8498d9f09ceb179beaac4002f036b9467c963"
  },
  "language_info": {
   "codemirror_mode": {
    "name": "ipython",
    "version": 3
   },
   "file_extension": ".py",
   "mimetype": "text/x-python",
   "name": "python",
   "nbconvert_exporter": "python",
   "pygments_lexer": "ipython3",
   "version": "3.9.2"
  },
  "metadata": {
   "interpreter": {
    "hash": "ac59ebe37160ed0dfa835113d9b8498d9f09ceb179beaac4002f036b9467c963"
   }
  }
 },
 "nbformat": 4,
 "nbformat_minor": 4
}