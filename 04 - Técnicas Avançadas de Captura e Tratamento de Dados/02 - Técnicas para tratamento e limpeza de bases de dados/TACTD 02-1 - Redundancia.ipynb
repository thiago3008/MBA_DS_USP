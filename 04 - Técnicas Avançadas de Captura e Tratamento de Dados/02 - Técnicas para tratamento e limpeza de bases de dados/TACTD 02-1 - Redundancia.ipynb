{
 "cells": [
  {
   "cell_type": "markdown",
   "metadata": {},
   "source": [
    "# MBA em Ciência de Dados\n",
    "# Técnicas Avançadas de Captura e Tratamento de Dados\n",
    "\n",
    "### <span style=\"color:darkred\">Módulo II - Tratamento e Limpeza de Dados</span>\n",
    "\n",
    "### <span style=\"color:darkred\">Redundância</span>\n",
    "\n",
    "Material Produzido por Moacir Antonelli Ponti\n",
    "\n",
    "CeMEAI - ICMC/USP São Carlos\n",
    "\n",
    "---"
   ]
  },
  {
   "cell_type": "markdown",
   "metadata": {},
   "source": [
    "__Referências:__\n",
    "- Salvador García, Julián Luengo, Francisco Herrera. Data Processing in Data Mining, 2015.\n",
    "- Hadley Wickham, Tidy Data. Journal of Statistical Software, v.59, n.10, 2014.\n",
    "- Katti Faceli; Ana Carolina Lorena; João Gama; André C.P.L.F. Carvalho. Inteligência Artificial: uma abordagem de aprendizado de máquina, 2011.\n",
    "\n",
    "__Referência complementar:__\n",
    "- PRATI, Ronaldo C.; BATISTA, Gustavo EAPA; SILVA, Diego F. Class imbalance revisited: a new experimental setup to assess the performance of treatment methods. Knowledge and Information Systems, v. 45, n. 1, p. 247-270, 2015.\n",
    "\n",
    "***"
   ]
  },
  {
   "cell_type": "markdown",
   "metadata": {},
   "source": [
    "## Redundância em dados\n",
    "\n",
    "**Redundância em dados não-estruturados**\n",
    "\n",
    "Muito comum pois dados binários e textuais possuem elementos que não auxiliam na análise. Exemplos incluem:\n",
    "\n",
    "- o fundo de imagens e documentos\n",
    "\n",
    "- timbre em documentos e cartas\n",
    "\n",
    "- tipos de palavras em textos: artigos, conjunções, etc.\n",
    "\n",
    "\n",
    "**Redundância em dados estruturados**\n",
    "\n",
    "Diretamente relacionada a:\n",
    "1. linhas/instâncias com valores repetidos (duplicados) \n",
    "2. colunas/atributos com valores constantes (iguais para todas as instâncias)\n",
    "3. colunas/atributos com alta correlação\n",
    "\n",
    "Nesse notebook tratar apenas de *dados estruturados*"
   ]
  },
  {
   "cell_type": "markdown",
   "metadata": {},
   "source": [
    "## Dados duplicados ou constantes\n",
    "\n",
    "Bases de dados que contém informações repetidas ou atributos irrelevantes para obter as respostas que se espera da análise.\n",
    "\n",
    "A redundância pode atrapalhar no projeto de modelos de aprendizado e estatísticos pois a quantidade de exemplos pode influenciar no viés do modelo.\n",
    "\n",
    "**Redundância em bases de dados estruturadas**:\n",
    "\n",
    "* Registros duplicados\n",
    "\n",
    "* Atributos com valores iguais em todas as observacoes\n",
    "\n",
    "\n",
    "Vamos carregar uma base de dados para mostrar exemplos"
   ]
  },
  {
   "cell_type": "code",
   "execution_count": 5,
   "metadata": {
    "scrolled": false
   },
   "outputs": [
    {
     "data": {
      "text/plain": "Name                object\nSex                 object\nYear of Birth        int64\nCountry of Birth    object\nReligion            object\nCity                object\nProfession          object\nAge                  int64\nExperience           int64\nSalary               int64\ndtype: object"
     },
     "execution_count": 5,
     "metadata": {},
     "output_type": "execute_result"
    }
   ],
   "source": [
    "import numpy as np\n",
    "import matplotlib.pyplot as plt\n",
    "import pandas as pd\n",
    "\n",
    "data = pd.read_csv(\"./dados/people_prof_relig.csv\")\n",
    "data.dtypes"
   ]
  },
  {
   "cell_type": "code",
   "execution_count": 6,
   "metadata": {},
   "outputs": [
    {
     "data": {
      "text/html": "<div>\n<style scoped>\n    .dataframe tbody tr th:only-of-type {\n        vertical-align: middle;\n    }\n\n    .dataframe tbody tr th {\n        vertical-align: top;\n    }\n\n    .dataframe thead th {\n        text-align: right;\n    }\n</style>\n<table border=\"1\" class=\"dataframe\">\n  <thead>\n    <tr style=\"text-align: right;\">\n      <th></th>\n      <th>Name</th>\n      <th>Sex</th>\n      <th>Year of Birth</th>\n      <th>Country of Birth</th>\n      <th>Religion</th>\n      <th>City</th>\n      <th>Profession</th>\n      <th>Age</th>\n      <th>Experience</th>\n      <th>Salary</th>\n    </tr>\n  </thead>\n  <tbody>\n    <tr>\n      <th>0</th>\n      <td>Eugenio Ewell</td>\n      <td>M</td>\n      <td>1968</td>\n      <td>USA</td>\n      <td>Christian</td>\n      <td>New Orleans</td>\n      <td>Nurse</td>\n      <td>53</td>\n      <td>21</td>\n      <td>4140</td>\n    </tr>\n    <tr>\n      <th>1</th>\n      <td>Ivo Izidro</td>\n      <td>M</td>\n      <td>1988</td>\n      <td>Mexico</td>\n      <td>Christian</td>\n      <td>Acapulco</td>\n      <td>Nurse</td>\n      <td>33</td>\n      <td>2</td>\n      <td>2709</td>\n    </tr>\n    <tr>\n      <th>2</th>\n      <td>Lindsey Lever</td>\n      <td>M</td>\n      <td>1965</td>\n      <td>USA</td>\n      <td>Christian</td>\n      <td>New Orleans</td>\n      <td>Nurse</td>\n      <td>56</td>\n      <td>37</td>\n      <td>7896</td>\n    </tr>\n    <tr>\n      <th>3</th>\n      <td>Desiree Dardar</td>\n      <td>F</td>\n      <td>1995</td>\n      <td>USA</td>\n      <td>Christian</td>\n      <td>New Orleans</td>\n      <td>Nurse</td>\n      <td>26</td>\n      <td>1</td>\n      <td>2580</td>\n    </tr>\n    <tr>\n      <th>4</th>\n      <td>Mariann Mulero</td>\n      <td>F</td>\n      <td>1973</td>\n      <td>USA</td>\n      <td>Christian</td>\n      <td>New Orleans</td>\n      <td>Nurse</td>\n      <td>48</td>\n      <td>16</td>\n      <td>3668</td>\n    </tr>\n  </tbody>\n</table>\n</div>",
      "text/plain": "             Name Sex  Year of Birth Country of Birth   Religion         City  \\\n0   Eugenio Ewell   M           1968              USA  Christian  New Orleans   \n1      Ivo Izidro   M           1988           Mexico  Christian     Acapulco   \n2   Lindsey Lever   M           1965              USA  Christian  New Orleans   \n3  Desiree Dardar   F           1995              USA  Christian  New Orleans   \n4  Mariann Mulero   F           1973              USA  Christian  New Orleans   \n\n  Profession  Age  Experience  Salary  \n0      Nurse   53          21    4140  \n1      Nurse   33           2    2709  \n2      Nurse   56          37    7896  \n3      Nurse   26           1    2580  \n4      Nurse   48          16    3668  "
     },
     "execution_count": 6,
     "metadata": {},
     "output_type": "execute_result"
    }
   ],
   "source": [
    "data.head()"
   ]
  },
  {
   "cell_type": "markdown",
   "metadata": {},
   "source": [
    "**Linhas/registros duplicados**\n",
    "\n",
    "O tipo mais comum de dados redundantes são as linhas ou registros duplicados, ou seja, aquelas que possuem todos os valores de atributos iguais."
   ]
  },
  {
   "cell_type": "code",
   "execution_count": 7,
   "metadata": {
    "scrolled": true
   },
   "outputs": [
    {
     "data": {
      "text/plain": "0     False\n1     False\n2     False\n3     False\n4     False\n      ...  \n95    False\n96    False\n97    False\n98    False\n99    False\nLength: 100, dtype: bool"
     },
     "execution_count": 7,
     "metadata": {},
     "output_type": "execute_result"
    }
   ],
   "source": [
    "data.duplicated()"
   ]
  },
  {
   "cell_type": "code",
   "execution_count": 8,
   "metadata": {},
   "outputs": [
    {
     "data": {
      "text/html": "<div>\n<style scoped>\n    .dataframe tbody tr th:only-of-type {\n        vertical-align: middle;\n    }\n\n    .dataframe tbody tr th {\n        vertical-align: top;\n    }\n\n    .dataframe thead th {\n        text-align: right;\n    }\n</style>\n<table border=\"1\" class=\"dataframe\">\n  <thead>\n    <tr style=\"text-align: right;\">\n      <th></th>\n      <th>Name</th>\n      <th>Sex</th>\n      <th>Year of Birth</th>\n      <th>Country of Birth</th>\n      <th>Religion</th>\n      <th>City</th>\n      <th>Profession</th>\n      <th>Age</th>\n      <th>Experience</th>\n      <th>Salary</th>\n    </tr>\n  </thead>\n  <tbody>\n    <tr>\n      <th>33</th>\n      <td>Apolonia Abler</td>\n      <td>F</td>\n      <td>1967</td>\n      <td>Canada</td>\n      <td>Christian</td>\n      <td>Vancouver</td>\n      <td>Nurse</td>\n      <td>54</td>\n      <td>35</td>\n      <td>7141</td>\n    </tr>\n    <tr>\n      <th>51</th>\n      <td>Carlos Cobre</td>\n      <td>M</td>\n      <td>1983</td>\n      <td>Brazil</td>\n      <td>Christian</td>\n      <td>São Paulo</td>\n      <td>Nurse</td>\n      <td>38</td>\n      <td>15</td>\n      <td>6300</td>\n    </tr>\n    <tr>\n      <th>61</th>\n      <td>Apolonia Abler</td>\n      <td>F</td>\n      <td>1967</td>\n      <td>Canada</td>\n      <td>Christian</td>\n      <td>Vancouver</td>\n      <td>Nurse</td>\n      <td>54</td>\n      <td>35</td>\n      <td>7141</td>\n    </tr>\n    <tr>\n      <th>68</th>\n      <td>Ricardo Rima</td>\n      <td>M</td>\n      <td>1977</td>\n      <td>Peru</td>\n      <td>Christian</td>\n      <td>Arequipa</td>\n      <td>Nurse</td>\n      <td>44</td>\n      <td>16</td>\n      <td>6677</td>\n    </tr>\n  </tbody>\n</table>\n</div>",
      "text/plain": "              Name Sex  Year of Birth Country of Birth   Religion       City  \\\n33  Apolonia Abler   F           1967           Canada  Christian  Vancouver   \n51    Carlos Cobre   M           1983           Brazil  Christian  São Paulo   \n61  Apolonia Abler   F           1967           Canada  Christian  Vancouver   \n68    Ricardo Rima   M           1977             Peru  Christian   Arequipa   \n\n   Profession  Age  Experience  Salary  \n33      Nurse   54          35    7141  \n51      Nurse   38          15    6300  \n61      Nurse   54          35    7141  \n68      Nurse   44          16    6677  "
     },
     "execution_count": 8,
     "metadata": {},
     "output_type": "execute_result"
    }
   ],
   "source": [
    "data[data.duplicated()]"
   ]
  },
  {
   "cell_type": "markdown",
   "metadata": {},
   "source": [
    "A consulta acima mostra apenas as linhas \"extra\", ou seja, as duplicadas encontradas após a ocorrência da primeira linha original.\n",
    "\n",
    "Assim, ao consultar por um dos nomes que temos acima duplicados, veremos que há duas linhas para ele, sendo a duplicada considerada a linha 51."
   ]
  },
  {
   "cell_type": "code",
   "execution_count": 9,
   "metadata": {},
   "outputs": [
    {
     "data": {
      "text/html": "<div>\n<style scoped>\n    .dataframe tbody tr th:only-of-type {\n        vertical-align: middle;\n    }\n\n    .dataframe tbody tr th {\n        vertical-align: top;\n    }\n\n    .dataframe thead th {\n        text-align: right;\n    }\n</style>\n<table border=\"1\" class=\"dataframe\">\n  <thead>\n    <tr style=\"text-align: right;\">\n      <th></th>\n      <th>Name</th>\n      <th>Sex</th>\n      <th>Year of Birth</th>\n      <th>Country of Birth</th>\n      <th>Religion</th>\n      <th>City</th>\n      <th>Profession</th>\n      <th>Age</th>\n      <th>Experience</th>\n      <th>Salary</th>\n    </tr>\n  </thead>\n  <tbody>\n    <tr>\n      <th>13</th>\n      <td>Carlos Cobre</td>\n      <td>M</td>\n      <td>1983</td>\n      <td>Brazil</td>\n      <td>Christian</td>\n      <td>São Paulo</td>\n      <td>Nurse</td>\n      <td>38</td>\n      <td>15</td>\n      <td>6300</td>\n    </tr>\n    <tr>\n      <th>51</th>\n      <td>Carlos Cobre</td>\n      <td>M</td>\n      <td>1983</td>\n      <td>Brazil</td>\n      <td>Christian</td>\n      <td>São Paulo</td>\n      <td>Nurse</td>\n      <td>38</td>\n      <td>15</td>\n      <td>6300</td>\n    </tr>\n  </tbody>\n</table>\n</div>",
      "text/plain": "            Name Sex  Year of Birth Country of Birth   Religion       City  \\\n13  Carlos Cobre   M           1983           Brazil  Christian  São Paulo   \n51  Carlos Cobre   M           1983           Brazil  Christian  São Paulo   \n\n   Profession  Age  Experience  Salary  \n13      Nurse   38          15    6300  \n51      Nurse   38          15    6300  "
     },
     "execution_count": 9,
     "metadata": {},
     "output_type": "execute_result"
    }
   ],
   "source": [
    "data[data['Name']=='Carlos Cobre']"
   ]
  },
  {
   "cell_type": "markdown",
   "metadata": {},
   "source": [
    "Podemos usar a opção `keep` para manter todas as duplicatas, mostrando seus valores"
   ]
  },
  {
   "cell_type": "code",
   "execution_count": 10,
   "metadata": {},
   "outputs": [
    {
     "data": {
      "text/html": "<div>\n<style scoped>\n    .dataframe tbody tr th:only-of-type {\n        vertical-align: middle;\n    }\n\n    .dataframe tbody tr th {\n        vertical-align: top;\n    }\n\n    .dataframe thead th {\n        text-align: right;\n    }\n</style>\n<table border=\"1\" class=\"dataframe\">\n  <thead>\n    <tr style=\"text-align: right;\">\n      <th></th>\n      <th>Name</th>\n      <th>Sex</th>\n      <th>Year of Birth</th>\n      <th>Country of Birth</th>\n      <th>Religion</th>\n      <th>City</th>\n      <th>Profession</th>\n      <th>Age</th>\n      <th>Experience</th>\n      <th>Salary</th>\n    </tr>\n  </thead>\n  <tbody>\n    <tr>\n      <th>13</th>\n      <td>Carlos Cobre</td>\n      <td>M</td>\n      <td>1983</td>\n      <td>Brazil</td>\n      <td>Christian</td>\n      <td>São Paulo</td>\n      <td>Nurse</td>\n      <td>38</td>\n      <td>15</td>\n      <td>6300</td>\n    </tr>\n    <tr>\n      <th>18</th>\n      <td>Ricardo Rima</td>\n      <td>M</td>\n      <td>1977</td>\n      <td>Peru</td>\n      <td>Christian</td>\n      <td>Arequipa</td>\n      <td>Nurse</td>\n      <td>44</td>\n      <td>16</td>\n      <td>6677</td>\n    </tr>\n    <tr>\n      <th>19</th>\n      <td>Apolonia Abler</td>\n      <td>F</td>\n      <td>1967</td>\n      <td>Canada</td>\n      <td>Christian</td>\n      <td>Vancouver</td>\n      <td>Nurse</td>\n      <td>54</td>\n      <td>35</td>\n      <td>7141</td>\n    </tr>\n    <tr>\n      <th>33</th>\n      <td>Apolonia Abler</td>\n      <td>F</td>\n      <td>1967</td>\n      <td>Canada</td>\n      <td>Christian</td>\n      <td>Vancouver</td>\n      <td>Nurse</td>\n      <td>54</td>\n      <td>35</td>\n      <td>7141</td>\n    </tr>\n    <tr>\n      <th>51</th>\n      <td>Carlos Cobre</td>\n      <td>M</td>\n      <td>1983</td>\n      <td>Brazil</td>\n      <td>Christian</td>\n      <td>São Paulo</td>\n      <td>Nurse</td>\n      <td>38</td>\n      <td>15</td>\n      <td>6300</td>\n    </tr>\n    <tr>\n      <th>61</th>\n      <td>Apolonia Abler</td>\n      <td>F</td>\n      <td>1967</td>\n      <td>Canada</td>\n      <td>Christian</td>\n      <td>Vancouver</td>\n      <td>Nurse</td>\n      <td>54</td>\n      <td>35</td>\n      <td>7141</td>\n    </tr>\n    <tr>\n      <th>68</th>\n      <td>Ricardo Rima</td>\n      <td>M</td>\n      <td>1977</td>\n      <td>Peru</td>\n      <td>Christian</td>\n      <td>Arequipa</td>\n      <td>Nurse</td>\n      <td>44</td>\n      <td>16</td>\n      <td>6677</td>\n    </tr>\n  </tbody>\n</table>\n</div>",
      "text/plain": "              Name Sex  Year of Birth Country of Birth   Religion       City  \\\n13    Carlos Cobre   M           1983           Brazil  Christian  São Paulo   \n18    Ricardo Rima   M           1977             Peru  Christian   Arequipa   \n19  Apolonia Abler   F           1967           Canada  Christian  Vancouver   \n33  Apolonia Abler   F           1967           Canada  Christian  Vancouver   \n51    Carlos Cobre   M           1983           Brazil  Christian  São Paulo   \n61  Apolonia Abler   F           1967           Canada  Christian  Vancouver   \n68    Ricardo Rima   M           1977             Peru  Christian   Arequipa   \n\n   Profession  Age  Experience  Salary  \n13      Nurse   38          15    6300  \n18      Nurse   44          16    6677  \n19      Nurse   54          35    7141  \n33      Nurse   54          35    7141  \n51      Nurse   38          15    6300  \n61      Nurse   54          35    7141  \n68      Nurse   44          16    6677  "
     },
     "execution_count": 10,
     "metadata": {},
     "output_type": "execute_result"
    }
   ],
   "source": [
    "data[data.duplicated(keep=False)]"
   ]
  },
  {
   "cell_type": "markdown",
   "metadata": {},
   "source": [
    "Felizmente, temos uma funcão pronta para remover duplicatas de dataframes, `drop_duplicates()`, na qual podemos manter a primeira ocorrência da linha duplicada: `first`, a última: `last`, ou remover todas as que aparecem duplicadas: `False`."
   ]
  },
  {
   "cell_type": "code",
   "execution_count": 11,
   "metadata": {},
   "outputs": [
    {
     "data": {
      "text/html": "<div>\n<style scoped>\n    .dataframe tbody tr th:only-of-type {\n        vertical-align: middle;\n    }\n\n    .dataframe tbody tr th {\n        vertical-align: top;\n    }\n\n    .dataframe thead th {\n        text-align: right;\n    }\n</style>\n<table border=\"1\" class=\"dataframe\">\n  <thead>\n    <tr style=\"text-align: right;\">\n      <th></th>\n      <th>Name</th>\n      <th>Sex</th>\n      <th>Year of Birth</th>\n      <th>Country of Birth</th>\n      <th>Religion</th>\n      <th>City</th>\n      <th>Profession</th>\n      <th>Age</th>\n      <th>Experience</th>\n      <th>Salary</th>\n    </tr>\n  </thead>\n  <tbody>\n    <tr>\n      <th>13</th>\n      <td>Carlos Cobre</td>\n      <td>M</td>\n      <td>1983</td>\n      <td>Brazil</td>\n      <td>Christian</td>\n      <td>São Paulo</td>\n      <td>Nurse</td>\n      <td>38</td>\n      <td>15</td>\n      <td>6300</td>\n    </tr>\n  </tbody>\n</table>\n</div>",
      "text/plain": "            Name Sex  Year of Birth Country of Birth   Religion       City  \\\n13  Carlos Cobre   M           1983           Brazil  Christian  São Paulo   \n\n   Profession  Age  Experience  Salary  \n13      Nurse   38          15    6300  "
     },
     "execution_count": 11,
     "metadata": {},
     "output_type": "execute_result"
    }
   ],
   "source": [
    "d_ndup = data.drop_duplicates(keep='first')\n",
    "d_ndup[d_ndup['Name']=='Carlos Cobre']"
   ]
  },
  {
   "cell_type": "code",
   "execution_count": 12,
   "metadata": {},
   "outputs": [
    {
     "data": {
      "text/html": "<div>\n<style scoped>\n    .dataframe tbody tr th:only-of-type {\n        vertical-align: middle;\n    }\n\n    .dataframe tbody tr th {\n        vertical-align: top;\n    }\n\n    .dataframe thead th {\n        text-align: right;\n    }\n</style>\n<table border=\"1\" class=\"dataframe\">\n  <thead>\n    <tr style=\"text-align: right;\">\n      <th></th>\n      <th>Name</th>\n      <th>Sex</th>\n      <th>Year of Birth</th>\n      <th>Country of Birth</th>\n      <th>Religion</th>\n      <th>City</th>\n      <th>Profession</th>\n      <th>Age</th>\n      <th>Experience</th>\n      <th>Salary</th>\n    </tr>\n  </thead>\n  <tbody>\n  </tbody>\n</table>\n</div>",
      "text/plain": "Empty DataFrame\nColumns: [Name, Sex, Year of Birth, Country of Birth, Religion, City, Profession, Age, Experience, Salary]\nIndex: []"
     },
     "execution_count": 12,
     "metadata": {},
     "output_type": "execute_result"
    }
   ],
   "source": [
    "d_ndup[d_ndup.duplicated(keep=False)]"
   ]
  },
  {
   "cell_type": "markdown",
   "metadata": {},
   "source": [
    "---\n",
    "\n",
    "**Duplicidade em atributos**\n",
    "\n",
    "A duplicidade pode gerar problemas quando aparece isolada em determinado atributo. \n",
    "\n",
    "Nessa base de dados um atributo que pode ser sensível a isso é o nome"
   ]
  },
  {
   "cell_type": "code",
   "execution_count": 13,
   "metadata": {},
   "outputs": [
    {
     "data": {
      "text/plain": "0     False\n1     False\n2     False\n3     False\n4     False\n      ...  \n95    False\n96    False\n97    False\n98    False\n99    False\nLength: 96, dtype: bool"
     },
     "execution_count": 13,
     "metadata": {},
     "output_type": "execute_result"
    }
   ],
   "source": [
    "d_ndup.duplicated(['Name'])"
   ]
  },
  {
   "cell_type": "code",
   "execution_count": 14,
   "metadata": {},
   "outputs": [
    {
     "data": {
      "text/html": "<div>\n<style scoped>\n    .dataframe tbody tr th:only-of-type {\n        vertical-align: middle;\n    }\n\n    .dataframe tbody tr th {\n        vertical-align: top;\n    }\n\n    .dataframe thead th {\n        text-align: right;\n    }\n</style>\n<table border=\"1\" class=\"dataframe\">\n  <thead>\n    <tr style=\"text-align: right;\">\n      <th></th>\n      <th>Name</th>\n      <th>Sex</th>\n      <th>Year of Birth</th>\n      <th>Country of Birth</th>\n      <th>Religion</th>\n      <th>City</th>\n      <th>Profession</th>\n      <th>Age</th>\n      <th>Experience</th>\n      <th>Salary</th>\n    </tr>\n  </thead>\n  <tbody>\n    <tr>\n      <th>19</th>\n      <td>Apolonia Abler</td>\n      <td>F</td>\n      <td>1967</td>\n      <td>Canada</td>\n      <td>Christian</td>\n      <td>Vancouver</td>\n      <td>Nurse</td>\n      <td>54</td>\n      <td>35</td>\n      <td>7141</td>\n    </tr>\n    <tr>\n      <th>93</th>\n      <td>Apolonia Abler</td>\n      <td>F</td>\n      <td>1967</td>\n      <td>Australia</td>\n      <td>Christian</td>\n      <td>Brisbane</td>\n      <td>Nurse</td>\n      <td>54</td>\n      <td>23</td>\n      <td>5496</td>\n    </tr>\n  </tbody>\n</table>\n</div>",
      "text/plain": "              Name Sex  Year of Birth Country of Birth   Religion       City  \\\n19  Apolonia Abler   F           1967           Canada  Christian  Vancouver   \n93  Apolonia Abler   F           1967        Australia  Christian   Brisbane   \n\n   Profession  Age  Experience  Salary  \n19      Nurse   54          35    7141  \n93      Nurse   54          23    5496  "
     },
     "execution_count": 14,
     "metadata": {},
     "output_type": "execute_result"
    }
   ],
   "source": [
    "d_ndup[d_ndup.duplicated(['Name'], keep=False)]"
   ]
  },
  {
   "cell_type": "markdown",
   "metadata": {},
   "source": [
    "Notamos que, apesar de ter o mesmo nome, sexo e ano de nascimento, as duas pessoas nasceram em países diferentes e portanto não há redundância ou dados duplicados a remover."
   ]
  },
  {
   "cell_type": "markdown",
   "metadata": {},
   "source": [
    "---\n",
    "**Atributos constantes**\n",
    "\n",
    "Investigando os atributos Profession e Religion, mostrando seus histogramas, notamos que todas as linhas tem o mesmo valor para esses atributos.\n",
    "\n",
    "Apesar do valor informativo, ao construir modelos computacionais, por exemplo classificadores, esses atributos representam um aumento na dimensionalidade sem contribuir para a tarefa principal, classificação.\n",
    "\n",
    "Podemos usar o método `nunique()` para obter a contagem de valores distintos"
   ]
  },
  {
   "cell_type": "code",
   "execution_count": 17,
   "metadata": {},
   "outputs": [
    {
     "data": {
      "text/plain": "Name                95\nSex                  2\nYear of Birth       39\nCountry of Birth    10\nReligion             1\nCity                10\nProfession           1\nAge                 39\nExperience          37\nSalary              95\ndtype: int64"
     },
     "execution_count": 17,
     "metadata": {},
     "output_type": "execute_result"
    }
   ],
   "source": [
    "d_ndup.nunique()"
   ]
  },
  {
   "cell_type": "code",
   "execution_count": 15,
   "metadata": {},
   "outputs": [
    {
     "name": "stdout",
     "output_type": "stream",
     "text": [
      "['Religion' 'Profession']\n"
     ]
    }
   ],
   "source": [
    "att_const = np.array(d_ndup.columns[d_ndup.nunique() <= 1])\n",
    "print(att_const)"
   ]
  },
  {
   "cell_type": "code",
   "execution_count": 16,
   "metadata": {},
   "outputs": [
    {
     "data": {
      "image/png": "[encoded data removed]",
      "text/plain": "<Figure size 432x288 with 1 Axes>"
     },
     "metadata": {
      "needs_background": "light"
     },
     "output_type": "display_data"
    }
   ],
   "source": [
    "for att in att_const:\r\n",
    "    d_ndup[att].hist(xrot=15)"
   ]
  },
  {
   "cell_type": "code",
   "execution_count": 16,
   "metadata": {},
   "outputs": [
    {
     "data": {
      "text/html": [
       "<div>\n",
       "<style scoped>\n",
       "    .dataframe tbody tr th:only-of-type {\n",
       "        vertical-align: middle;\n",
       "    }\n",
       "\n",
       "    .dataframe tbody tr th {\n",
       "        vertical-align: top;\n",
       "    }\n",
       "\n",
       "    .dataframe thead th {\n",
       "        text-align: right;\n",
       "    }\n",
       "</style>\n",
       "<table border=\"1\" class=\"dataframe\">\n",
       "  <thead>\n",
       "    <tr style=\"text-align: right;\">\n",
       "      <th></th>\n",
       "      <th>Religion</th>\n",
       "      <th>Profession</th>\n",
       "    </tr>\n",
       "  </thead>\n",
       "  <tbody>\n",
       "    <tr>\n",
       "      <th>0</th>\n",
       "      <td>Christian</td>\n",
       "      <td>Nurse</td>\n",
       "    </tr>\n",
       "    <tr>\n",
       "      <th>1</th>\n",
       "      <td>Christian</td>\n",
       "      <td>Nurse</td>\n",
       "    </tr>\n",
       "    <tr>\n",
       "      <th>2</th>\n",
       "      <td>Christian</td>\n",
       "      <td>Nurse</td>\n",
       "    </tr>\n",
       "    <tr>\n",
       "      <th>3</th>\n",
       "      <td>Christian</td>\n",
       "      <td>Nurse</td>\n",
       "    </tr>\n",
       "    <tr>\n",
       "      <th>4</th>\n",
       "      <td>Christian</td>\n",
       "      <td>Nurse</td>\n",
       "    </tr>\n",
       "    <tr>\n",
       "      <th>...</th>\n",
       "      <td>...</td>\n",
       "      <td>...</td>\n",
       "    </tr>\n",
       "    <tr>\n",
       "      <th>95</th>\n",
       "      <td>Christian</td>\n",
       "      <td>Nurse</td>\n",
       "    </tr>\n",
       "    <tr>\n",
       "      <th>96</th>\n",
       "      <td>Christian</td>\n",
       "      <td>Nurse</td>\n",
       "    </tr>\n",
       "    <tr>\n",
       "      <th>97</th>\n",
       "      <td>Christian</td>\n",
       "      <td>Nurse</td>\n",
       "    </tr>\n",
       "    <tr>\n",
       "      <th>98</th>\n",
       "      <td>Christian</td>\n",
       "      <td>Nurse</td>\n",
       "    </tr>\n",
       "    <tr>\n",
       "      <th>99</th>\n",
       "      <td>Christian</td>\n",
       "      <td>Nurse</td>\n",
       "    </tr>\n",
       "  </tbody>\n",
       "</table>\n",
       "<p>96 rows × 2 columns</p>\n",
       "</div>"
      ],
      "text/plain": [
       "     Religion Profession\n",
       "0   Christian      Nurse\n",
       "1   Christian      Nurse\n",
       "2   Christian      Nurse\n",
       "3   Christian      Nurse\n",
       "4   Christian      Nurse\n",
       "..        ...        ...\n",
       "95  Christian      Nurse\n",
       "96  Christian      Nurse\n",
       "97  Christian      Nurse\n",
       "98  Christian      Nurse\n",
       "99  Christian      Nurse\n",
       "\n",
       "[96 rows x 2 columns]"
      ]
     },
     "execution_count": 16,
     "metadata": {},
     "output_type": "execute_result"
    }
   ],
   "source": [
    "d_ndup[att_const]"
   ]
  },
  {
   "cell_type": "code",
   "execution_count": 28,
   "metadata": {},
   "outputs": [],
   "source": [
    "data_nred = d_ndup.drop(att_const, axis=1)"
   ]
  },
  {
   "cell_type": "code",
   "execution_count": 30,
   "metadata": {},
   "outputs": [
    {
     "data": {
      "text/html": "<div>\n<style scoped>\n    .dataframe tbody tr th:only-of-type {\n        vertical-align: middle;\n    }\n\n    .dataframe tbody tr th {\n        vertical-align: top;\n    }\n\n    .dataframe thead th {\n        text-align: right;\n    }\n</style>\n<table border=\"1\" class=\"dataframe\">\n  <thead>\n    <tr style=\"text-align: right;\">\n      <th></th>\n      <th>Name</th>\n      <th>Sex</th>\n      <th>Year of Birth</th>\n      <th>Country of Birth</th>\n      <th>City</th>\n      <th>Age</th>\n      <th>Experience</th>\n      <th>Salary</th>\n    </tr>\n  </thead>\n  <tbody>\n    <tr>\n      <th>63</th>\n      <td>Alton Thornton</td>\n      <td>M</td>\n      <td>1994</td>\n      <td>Canada</td>\n      <td>Vancouver</td>\n      <td>27</td>\n      <td>2</td>\n      <td>5121</td>\n    </tr>\n    <tr>\n      <th>98</th>\n      <td>Diego Colque</td>\n      <td>M</td>\n      <td>1958</td>\n      <td>Peru</td>\n      <td>Arequipa</td>\n      <td>63</td>\n      <td>33</td>\n      <td>5725</td>\n    </tr>\n    <tr>\n      <th>96</th>\n      <td>Petra Cruz</td>\n      <td>F</td>\n      <td>1976</td>\n      <td>Mexico</td>\n      <td>Acapulco</td>\n      <td>45</td>\n      <td>17</td>\n      <td>602</td>\n    </tr>\n    <tr>\n      <th>41</th>\n      <td>Donnie Adkins</td>\n      <td>M</td>\n      <td>1962</td>\n      <td>Spain</td>\n      <td>Valencia</td>\n      <td>59</td>\n      <td>27</td>\n      <td>3247</td>\n    </tr>\n    <tr>\n      <th>21</th>\n      <td>Marcos Magro</td>\n      <td>M</td>\n      <td>1989</td>\n      <td>Brazil</td>\n      <td>São Paulo</td>\n      <td>32</td>\n      <td>8</td>\n      <td>3457</td>\n    </tr>\n    <tr>\n      <th>50</th>\n      <td>Lorraine Richards</td>\n      <td>F</td>\n      <td>1992</td>\n      <td>Brazil</td>\n      <td>São Paulo</td>\n      <td>29</td>\n      <td>4</td>\n      <td>3683</td>\n    </tr>\n  </tbody>\n</table>\n</div>",
      "text/plain": "                 Name Sex  Year of Birth Country of Birth       City  Age  \\\n63     Alton Thornton   M           1994           Canada  Vancouver   27   \n98       Diego Colque   M           1958             Peru   Arequipa   63   \n96         Petra Cruz   F           1976           Mexico   Acapulco   45   \n41      Donnie Adkins   M           1962            Spain   Valencia   59   \n21       Marcos Magro   M           1989           Brazil  São Paulo   32   \n50  Lorraine Richards   F           1992           Brazil  São Paulo   29   \n\n    Experience  Salary  \n63           2    5121  \n98          33    5725  \n96          17     602  \n41          27    3247  \n21           8    3457  \n50           4    3683  "
     },
     "execution_count": 30,
     "metadata": {},
     "output_type": "execute_result"
    }
   ],
   "source": [
    "data_nred.sample(6)"
   ]
  },
  {
   "cell_type": "markdown",
   "metadata": {},
   "source": [
    "## Atributos correlacionados\n",
    "\n",
    "Alguns atributos podem estar altamente correlacionados com outros. Esses atributos oferecem pouca contribuição no sentido de melhorar o que sabemos sobre o conjunto de dados. \n",
    "\n",
    "Ainda, quando se trata de treinar modelos podemos incorrer em maior custo computacional ou problemas de convergência.\n",
    "\n",
    "Uma ferramenta interessante para entender *dependências lineares* entre atributos é a correlação.\n",
    "\n",
    "No entanto, a correlação só é computada com valores numéricos."
   ]
  },
  {
   "cell_type": "code",
   "execution_count": 31,
   "metadata": {},
   "outputs": [
    {
     "data": {
      "text/html": "<div>\n<style scoped>\n    .dataframe tbody tr th:only-of-type {\n        vertical-align: middle;\n    }\n\n    .dataframe tbody tr th {\n        vertical-align: top;\n    }\n\n    .dataframe thead th {\n        text-align: right;\n    }\n</style>\n<table border=\"1\" class=\"dataframe\">\n  <thead>\n    <tr style=\"text-align: right;\">\n      <th></th>\n      <th>Year of Birth</th>\n      <th>Age</th>\n      <th>Experience</th>\n      <th>Salary</th>\n    </tr>\n  </thead>\n  <tbody>\n    <tr>\n      <th>Year of Birth</th>\n      <td>1.000000</td>\n      <td>-1.000000</td>\n      <td>-0.908208</td>\n      <td>-0.362197</td>\n    </tr>\n    <tr>\n      <th>Age</th>\n      <td>-1.000000</td>\n      <td>1.000000</td>\n      <td>0.908208</td>\n      <td>0.362197</td>\n    </tr>\n    <tr>\n      <th>Experience</th>\n      <td>-0.908208</td>\n      <td>0.908208</td>\n      <td>1.000000</td>\n      <td>0.432904</td>\n    </tr>\n    <tr>\n      <th>Salary</th>\n      <td>-0.362197</td>\n      <td>0.362197</td>\n      <td>0.432904</td>\n      <td>1.000000</td>\n    </tr>\n  </tbody>\n</table>\n</div>",
      "text/plain": "               Year of Birth       Age  Experience    Salary\nYear of Birth       1.000000 -1.000000   -0.908208 -0.362197\nAge                -1.000000  1.000000    0.908208  0.362197\nExperience         -0.908208  0.908208    1.000000  0.432904\nSalary             -0.362197  0.362197    0.432904  1.000000"
     },
     "execution_count": 31,
     "metadata": {},
     "output_type": "execute_result"
    }
   ],
   "source": [
    "mat_corr = data_nred.corr()\n",
    "mat_corr"
   ]
  },
  {
   "cell_type": "markdown",
   "metadata": {},
   "source": [
    "Características da matriz de correlação:\n",
    "- valores negativos indicam correlação inversa\n",
    "- tem diagonal igual a 1 (auto-correlação)\n",
    "- é simétrica\n",
    "\n",
    "Vamos considerar como alta correlação atributos com valores iguais ou superiores a 0.95\n",
    "\n",
    "Para facilitar:\n",
    "- pegamos o valor absoluto da correlação, \n",
    "- consideramos apenas a matriz triangular superior - devido a simetria, e\n",
    "- não incluimos a diagonal principal (para a qual todos os valores são 1)"
   ]
  },
  {
   "cell_type": "code",
   "execution_count": 32,
   "metadata": {},
   "outputs": [
    {
     "data": {
      "text/html": "<div>\n<style scoped>\n    .dataframe tbody tr th:only-of-type {\n        vertical-align: middle;\n    }\n\n    .dataframe tbody tr th {\n        vertical-align: top;\n    }\n\n    .dataframe thead th {\n        text-align: right;\n    }\n</style>\n<table border=\"1\" class=\"dataframe\">\n  <thead>\n    <tr style=\"text-align: right;\">\n      <th></th>\n      <th>Year of Birth</th>\n      <th>Age</th>\n      <th>Experience</th>\n      <th>Salary</th>\n    </tr>\n  </thead>\n  <tbody>\n    <tr>\n      <th>Year of Birth</th>\n      <td>1.000000</td>\n      <td>1.000000</td>\n      <td>0.908208</td>\n      <td>0.362197</td>\n    </tr>\n    <tr>\n      <th>Age</th>\n      <td>1.000000</td>\n      <td>1.000000</td>\n      <td>0.908208</td>\n      <td>0.362197</td>\n    </tr>\n    <tr>\n      <th>Experience</th>\n      <td>0.908208</td>\n      <td>0.908208</td>\n      <td>1.000000</td>\n      <td>0.432904</td>\n    </tr>\n    <tr>\n      <th>Salary</th>\n      <td>0.362197</td>\n      <td>0.362197</td>\n      <td>0.432904</td>\n      <td>1.000000</td>\n    </tr>\n  </tbody>\n</table>\n</div>",
      "text/plain": "               Year of Birth       Age  Experience    Salary\nYear of Birth       1.000000  1.000000    0.908208  0.362197\nAge                 1.000000  1.000000    0.908208  0.362197\nExperience          0.908208  0.908208    1.000000  0.432904\nSalary              0.362197  0.362197    0.432904  1.000000"
     },
     "execution_count": 32,
     "metadata": {},
     "output_type": "execute_result"
    }
   ],
   "source": [
    "mat_corr = np.abs(mat_corr)\n",
    "mat_corr"
   ]
  },
  {
   "cell_type": "code",
   "execution_count": 33,
   "metadata": {},
   "outputs": [
    {
     "name": "stdout",
     "output_type": "stream",
     "text": [
      "[[False  True  True  True]\n",
      " [False False  True  True]\n",
      " [False False False  True]\n",
      " [False False False False]]\n"
     ]
    },
    {
     "name": "stderr",
     "output_type": "stream",
     "text": [
      "<ipython-input-33-e0335c7d7cf5>:2: DeprecationWarning: `np.bool` is a deprecated alias for the builtin `bool`. To silence this warning, use `bool` by itself. Doing this will not modify any behavior and is safe. If you specifically wanted the numpy scalar type, use `np.bool_` here.\n",
      "Deprecated in NumPy 1.20; for more details and guidance: https://numpy.org/devdocs/release/1.20.0-notes.html#deprecations\n",
      "  mask_tri = np.triu(np.ones(mat_corr.shape),k=1).astype(np.bool)\n"
     ]
    }
   ],
   "source": [
    "# o parametro k indica para nao incluir a diagonal principal\n",
    "mask_tri = np.triu(np.ones(mat_corr.shape),k=1).astype(np.bool)\n",
    "print(mask_tri)"
   ]
  },
  {
   "cell_type": "code",
   "execution_count": 34,
   "metadata": {
    "scrolled": true
   },
   "outputs": [
    {
     "name": "stdout",
     "output_type": "stream",
     "text": [
      "               Year of Birth  Age  Experience    Salary\n",
      "Year of Birth            NaN  1.0    0.908208  0.362197\n",
      "Age                      NaN  NaN    0.908208  0.362197\n",
      "Experience               NaN  NaN         NaN  0.432904\n",
      "Salary                   NaN  NaN         NaN       NaN\n"
     ]
    }
   ],
   "source": [
    "tri_sup = mat_corr.where(mask_tri)\n",
    "print(tri_sup)"
   ]
  },
  {
   "cell_type": "markdown",
   "metadata": {},
   "source": [
    "Para cada coluna das colunas da matriz triangular nas quais qualquer valor seja maior ou igual a 0.95"
   ]
  },
  {
   "cell_type": "code",
   "execution_count": 35,
   "metadata": {},
   "outputs": [],
   "source": [
    "atrib_altacor = [col for col in tri_sup.columns if any( [col] >= 0.95)]"
   ]
  },
  {
   "cell_type": "code",
   "execution_count": 36,
   "metadata": {},
   "outputs": [
    {
     "data": {
      "text/plain": "['Age']"
     },
     "execution_count": 36,
     "metadata": {},
     "output_type": "execute_result"
    }
   ],
   "source": [
    "atrib_altacor"
   ]
  },
  {
   "cell_type": "code",
   "execution_count": 37,
   "metadata": {},
   "outputs": [],
   "source": [
    "data_clean = data_nred.drop(data_nred[atrib_altacor], axis=1)"
   ]
  },
  {
   "cell_type": "code",
   "execution_count": 38,
   "metadata": {},
   "outputs": [
    {
     "data": {
      "text/html": "<div>\n<style scoped>\n    .dataframe tbody tr th:only-of-type {\n        vertical-align: middle;\n    }\n\n    .dataframe tbody tr th {\n        vertical-align: top;\n    }\n\n    .dataframe thead th {\n        text-align: right;\n    }\n</style>\n<table border=\"1\" class=\"dataframe\">\n  <thead>\n    <tr style=\"text-align: right;\">\n      <th></th>\n      <th>Name</th>\n      <th>Sex</th>\n      <th>Year of Birth</th>\n      <th>Country of Birth</th>\n      <th>City</th>\n      <th>Experience</th>\n      <th>Salary</th>\n    </tr>\n  </thead>\n  <tbody>\n    <tr>\n      <th>24</th>\n      <td>Herta Hatley</td>\n      <td>F</td>\n      <td>1988</td>\n      <td>USA</td>\n      <td>New Orleans</td>\n      <td>1</td>\n      <td>4337</td>\n    </tr>\n    <tr>\n      <th>89</th>\n      <td>Ezequiel Anthony</td>\n      <td>M</td>\n      <td>1985</td>\n      <td>USA</td>\n      <td>New Orleans</td>\n      <td>17</td>\n      <td>5943</td>\n    </tr>\n    <tr>\n      <th>40</th>\n      <td>Billie Duncan</td>\n      <td>F</td>\n      <td>1976</td>\n      <td>Scotland</td>\n      <td>Edinburgh</td>\n      <td>9</td>\n      <td>2391</td>\n    </tr>\n    <tr>\n      <th>54</th>\n      <td>David Pittman</td>\n      <td>M</td>\n      <td>1987</td>\n      <td>Australia</td>\n      <td>Brisbane</td>\n      <td>9</td>\n      <td>2242</td>\n    </tr>\n    <tr>\n      <th>34</th>\n      <td>Shelley Mendoza</td>\n      <td>F</td>\n      <td>1978</td>\n      <td>Scotland</td>\n      <td>Edinburgh</td>\n      <td>7</td>\n      <td>5564</td>\n    </tr>\n    <tr>\n      <th>5</th>\n      <td>Kathey Kleiman</td>\n      <td>F</td>\n      <td>1973</td>\n      <td>USA</td>\n      <td>New Orleans</td>\n      <td>20</td>\n      <td>6905</td>\n    </tr>\n    <tr>\n      <th>3</th>\n      <td>Desiree Dardar</td>\n      <td>F</td>\n      <td>1995</td>\n      <td>USA</td>\n      <td>New Orleans</td>\n      <td>1</td>\n      <td>2580</td>\n    </tr>\n    <tr>\n      <th>69</th>\n      <td>Andre Logan</td>\n      <td>M</td>\n      <td>1981</td>\n      <td>USA</td>\n      <td>New Orleans</td>\n      <td>17</td>\n      <td>847</td>\n    </tr>\n    <tr>\n      <th>32</th>\n      <td>Esther Morgan</td>\n      <td>F</td>\n      <td>1991</td>\n      <td>Australia</td>\n      <td>Brisbane</td>\n      <td>1</td>\n      <td>1543</td>\n    </tr>\n    <tr>\n      <th>11</th>\n      <td>Mayra Mcnish</td>\n      <td>F</td>\n      <td>1987</td>\n      <td>Scotland</td>\n      <td>Edinburgh</td>\n      <td>11</td>\n      <td>4818</td>\n    </tr>\n  </tbody>\n</table>\n</div>",
      "text/plain": "                Name Sex  Year of Birth Country of Birth         City  \\\n24      Herta Hatley   F           1988              USA  New Orleans   \n89  Ezequiel Anthony   M           1985              USA  New Orleans   \n40     Billie Duncan   F           1976         Scotland    Edinburgh   \n54     David Pittman   M           1987        Australia     Brisbane   \n34   Shelley Mendoza   F           1978         Scotland    Edinburgh   \n5     Kathey Kleiman   F           1973              USA  New Orleans   \n3     Desiree Dardar   F           1995              USA  New Orleans   \n69       Andre Logan   M           1981              USA  New Orleans   \n32     Esther Morgan   F           1991        Australia     Brisbane   \n11      Mayra Mcnish   F           1987         Scotland    Edinburgh   \n\n    Experience  Salary  \n24           1    4337  \n89          17    5943  \n40           9    2391  \n54           9    2242  \n34           7    5564  \n5           20    6905  \n3            1    2580  \n69          17     847  \n32           1    1543  \n11          11    4818  "
     },
     "execution_count": 38,
     "metadata": {},
     "output_type": "execute_result"
    }
   ],
   "source": [
    "data_clean.sample(10)"
   ]
  },
  {
   "cell_type": "code",
   "execution_count": 39,
   "metadata": {},
   "outputs": [
    {
     "name": "stdout",
     "output_type": "stream",
     "text": [
      "<class 'pandas.core.frame.DataFrame'>\n",
      "RangeIndex: 100 entries, 0 to 99\n",
      "Data columns (total 10 columns):\n",
      " #   Column            Non-Null Count  Dtype \n",
      "---  ------            --------------  ----- \n",
      " 0   Name              100 non-null    object\n",
      " 1   Sex               100 non-null    object\n",
      " 2   Year of Birth     100 non-null    int64 \n",
      " 3   Country of Birth  100 non-null    object\n",
      " 4   Religion          100 non-null    object\n",
      " 5   City              100 non-null    object\n",
      " 6   Profession        100 non-null    object\n",
      " 7   Age               100 non-null    int64 \n",
      " 8   Experience        100 non-null    int64 \n",
      " 9   Salary            100 non-null    int64 \n",
      "dtypes: int64(4), object(6)\n",
      "memory usage: 7.9+ KB\n"
     ]
    }
   ],
   "source": [
    "data.info()"
   ]
  },
  {
   "cell_type": "code",
   "execution_count": 40,
   "metadata": {},
   "outputs": [
    {
     "name": "stdout",
     "output_type": "stream",
     "text": [
      "<class 'pandas.core.frame.DataFrame'>\n",
      "Int64Index: 96 entries, 0 to 99\n",
      "Data columns (total 7 columns):\n",
      " #   Column            Non-Null Count  Dtype \n",
      "---  ------            --------------  ----- \n",
      " 0   Name              96 non-null     object\n",
      " 1   Sex               96 non-null     object\n",
      " 2   Year of Birth     96 non-null     int64 \n",
      " 3   Country of Birth  96 non-null     object\n",
      " 4   City              96 non-null     object\n",
      " 5   Experience        96 non-null     int64 \n",
      " 6   Salary            96 non-null     int64 \n",
      "dtypes: int64(3), object(4)\n",
      "memory usage: 6.0+ KB\n"
     ]
    }
   ],
   "source": [
    "data_clean.info()"
   ]
  },
  {
   "cell_type": "code",
   "execution_count": null,
   "metadata": {},
   "outputs": [],
   "source": []
  }
 ],
 "metadata": {
  "kernelspec": {
   "display_name": "Python 3.9.2 64-bit",
   "name": "python392jvsc74a57bd0ac59ebe37160ed0dfa835113d9b8498d9f09ceb179beaac4002f036b9467c963"
  },
  "language_info": {
   "codemirror_mode": {
    "name": "ipython",
    "version": 3
   },
   "file_extension": ".py",
   "mimetype": "text/x-python",
   "name": "python",
   "nbconvert_exporter": "python",
   "pygments_lexer": "ipython3",
   "version": "3.9.2"
  },
  "metadata": {
   "interpreter": {
    "hash": "ac59ebe37160ed0dfa835113d9b8498d9f09ceb179beaac4002f036b9467c963"
   }
  }
 },
 "nbformat": 4,
 "nbformat_minor": 4
}