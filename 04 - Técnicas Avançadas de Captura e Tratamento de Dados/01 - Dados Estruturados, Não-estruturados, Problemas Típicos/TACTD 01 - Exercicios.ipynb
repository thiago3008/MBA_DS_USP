{
 "cells": [
  {
   "cell_type": "markdown",
   "metadata": {},
   "source": [
    "# MBA em Ciência de Dados\r\n",
    "# Técnicas Avançadas de Captura e Tratamento de Dados\r\n",
    "\r\n",
    "### <span style=\"color:blue\">Módulo I - Dados Estruturados e Não Estruturados</span>\r\n",
    "\r\n",
    "\r\n",
    "### <span style=\"color:blue\">Exercícios</span>\r\n",
    "\r\n",
    "Moacir Antonelli Ponti\r\n",
    "\r\n",
    "CeMEAI - ICMC/USP São Carlos\r\n",
    "\r\n",
    "---\r\n",
    "\r\n",
    "#### <span style=\"color:blue\">Recomenda-se fortemente que os exercícios sejam feitos sem consultar as respostas antecipadamente.</span>\r\n",
    "\r\n",
    "---"
   ]
  },
  {
   "cell_type": "code",
   "execution_count": 2,
   "metadata": {},
   "outputs": [],
   "source": [
    "# carregando a biblioteca necessária\n",
    "import pandas as pd\n",
    "import numpy as np\n",
    "import matplotlib.pyplot as plt"
   ]
  },
  {
   "cell_type": "markdown",
   "metadata": {},
   "source": [
    "### Exercício 1)\r\n",
    "\r\n",
    "Considere a tabela com os dados a seguir\r\n",
    "\r\n",
    " username     | Primeiro Nome  | Sobrenome | Ano de nascimento | Foto\r\n",
    " :------ |:--------- |:----- | --- | --- \r\n",
    " joao@provider.com     | João | Oliveira | 1996 | foto1033.jpg\r\n",
    " bet89@hoster.net    | Elizabete | Costa Silva | 1989 | foto0010.jpg\r\n",
    " maria@internet.com.br | Maria Cláudia | Nunes de Souza | 1976 | foto2401.jpg\r\n",
    " \r\n",
    " De acordo com a definição de dados estruturados e não estruturados, esse conjunto de dados é\r\n",
    " \r\n",
    " <span style=\"color:green\">(a) Estruturado</span><br>\r\n",
    " (b) Não-estruturado<br>\r\n",
    " (c) Estruturado quando não consideramos o atributo *Foto*<br>\r\n",
    " (d) Estruturado quando não consideramos os atributos *username* e *Foto*<br>\r\n",
    " \r\n",
    " Justifique sua escolha.<br>\r\n",
    " \r\n",
    " ---\r\n",
    " \r\n",
    " <font color=\"green\">Resposta: </font>Todos os campos e registros são endereçáveis e passíveis de armazenamento e recuperação."
   ]
  },
  {
   "cell_type": "markdown",
   "metadata": {},
   "source": [
    "---\r\n",
    "\r\n",
    "### Exercício 2)\r\n",
    "\r\n",
    "São características de dados não-estruturados\r\n",
    "\r\n",
    " (a) Facilidade de <s>versionamento</s>, baixo controle de coleta, e inexistência de formato bem definido para armazenamento<br>\r\n",
    "<font color=\"green\"> (b) Alta dimensionalidade, armazenamento em formato binário ou textual, e alta flexibilidade na coleta dos dados</font><br>\r\n",
    " (c) Alta redundância, e informações <s>fáceis de recuperar</s> a partir dos dados brutos<br>\r\n",
    " (d) <s>Inexistência de esquema de armazenamento e recuperação, e alto controle de integridade dos dados</s><br>\r\n",
    "\r\n"
   ]
  },
  {
   "cell_type": "markdown",
   "metadata": {},
   "source": [
    "---\n",
    "### Exercício 3)\n",
    "\n",
    "Analise a base de dados \"Exercicio\", que contém 100 linhas. Em particular vamos estudar os atributos \"Religion\", \"Profession\" e \"Year of Birth\", que possuem dados faltantes. Explore esses atributos utilizando estatística descritiva com `describe()` e buscando pelo conjunto de valores únicos com `unique()`.\n",
    "\n",
    "Após isso, responda as **questões I, II, III e IV** abaixo. OBS: Para responder às questões com maior segurança, pode ser necessário explorar a base de dados com outras ferramentas, gráficos e buscas.\n"
   ]
  },
  {
   "cell_type": "code",
   "execution_count": 7,
   "metadata": {},
   "outputs": [
    {
     "name": "stdout",
     "output_type": "stream",
     "text": [
      "count            98\n",
      "unique            3\n",
      "top       Christian\n",
      "freq             96\n",
      "Name: Religion, dtype: object\n",
      "\n",
      "['Christian' '---' nan 'x']\n"
     ]
    }
   ],
   "source": [
    "data_m = pd.read_csv(\"./dados/TACTD-01-Missing.csv\")\r\n",
    "\r\n",
    "# insira seu código exibindo a estatística descritiva e valores únicos para o atributo Religion\r\n",
    "print(data_m['Religion'].describe())\r\n",
    "print()\r\n",
    "print(data_m['Religion'].unique())"
   ]
  },
  {
   "cell_type": "code",
   "execution_count": 9,
   "metadata": {},
   "outputs": [
    {
     "name": "stdout",
     "output_type": "stream",
     "text": [
      "count        98\n",
      "unique        2\n",
      "top       Nurse\n",
      "freq         92\n",
      "Name: Profession, dtype: object\n",
      "\n",
      "['Nurse' 'X' nan]\n"
     ]
    }
   ],
   "source": [
    "# insira seu código exibindo a estatística descritiva e valores únicos para o atributo Profession\r\n",
    "print(data_m['Profession'].describe())\r\n",
    "print()\r\n",
    "print(data_m['Profession'].unique())"
   ]
  },
  {
   "cell_type": "code",
   "execution_count": 25,
   "metadata": {},
   "outputs": [
    {
     "name": "stdout",
     "output_type": "stream",
     "text": [
      "Name                 0\n",
      "Sex                  0\n",
      "Year of Birth       21\n",
      "Country of Birth     0\n",
      "Religion             2\n",
      "City                 0\n",
      "Profession           2\n",
      "dtype: int64\n",
      "\n",
      "\n",
      "Dados Faltantes\t'Year of Birth'\n",
      "\n",
      "                 Name Sex  Year of Birth Country of Birth   Religion  \\\n",
      "3      Desiree Dardar   F            NaN              USA  Christian   \n",
      "8        Lora Lemoine   F            NaN          England  Christian   \n",
      "20   Willene Wolfgram   F            NaN              USA        NaN   \n",
      "21       Marcos Magro   M            NaN           Brazil  Christian   \n",
      "24       Herta Hatley   F            NaN              USA  Christian   \n",
      "32      Esther Morgan   F            NaN        Australia  Christian   \n",
      "36      Gabriel Paiva   M            NaN         Portugal  Christian   \n",
      "50  Lorraine Richards   F            NaN           Brazil  Christian   \n",
      "52       Susie Hodges   F            NaN           Brazil  Christian   \n",
      "53      Pablo Alvarez   M            NaN           Mexico  Christian   \n",
      "55    Bernard Summers   M            NaN              USA  Christian   \n",
      "56          Vera Reid   F            NaN        Australia  Christian   \n",
      "57         Ramon West   M            NaN         Portugal  Christian   \n",
      "63     Alton Thornton   M            NaN           Canada  Christian   \n",
      "67    Marshall Vargas   M            NaN         Scotland  Christian   \n",
      "72        Merle Clark   M            NaN           Mexico  Christian   \n",
      "73        Marla Olson   F            NaN             Peru  Christian   \n",
      "76        Monica Rice   F            NaN            Spain  Christian   \n",
      "81      Izaiah Duarte   M            NaN           Brazil  Christian   \n",
      "85      Maique Santos   M            NaN           Brazil  Christian   \n",
      "88    Jameson Mendoza   M            NaN           Mexico  Christian   \n",
      "\n",
      "           City Profession  \n",
      "3   New Orleans      Nurse  \n",
      "8    Birmingham      Nurse  \n",
      "20  New Orleans      Nurse  \n",
      "21    São Paulo      Nurse  \n",
      "24  New Orleans      Nurse  \n",
      "32     Brisbane      Nurse  \n",
      "36       Lisbon          X  \n",
      "50    São Paulo      Nurse  \n",
      "52    São Paulo      Nurse  \n",
      "53     Acapulco      Nurse  \n",
      "55  New Orleans      Nurse  \n",
      "56     Brisbane      Nurse  \n",
      "57       Lisbon          X  \n",
      "63    Vancouver      Nurse  \n",
      "67    Edinburgh      Nurse  \n",
      "72     Acapulco      Nurse  \n",
      "73     Arequipa      Nurse  \n",
      "76     Valencia      Nurse  \n",
      "81    São Paulo      Nurse  \n",
      "85    São Paulo        NaN  \n",
      "88     Acapulco      Nurse  \n",
      "\n",
      "\n",
      "Dados Faltantes\t'Religion'\n",
      "\n",
      "                Name Sex  Year of Birth Country of Birth Religion  \\\n",
      "20  Willene Wolfgram   F            NaN              USA      NaN   \n",
      "91      John Bradley   M         1984.0           Canada      NaN   \n",
      "\n",
      "           City Profession  \n",
      "20  New Orleans      Nurse  \n",
      "91    Vancouver      Nurse  \n",
      "\n",
      "\n",
      "Dados Faltantes\t'Profession'\n",
      "\n",
      "             Name Sex  Year of Birth Country of Birth   Religion         City  \\\n",
      "46  Brad Ferguson   M         1985.0              USA  Christian  New Orleans   \n",
      "85  Maique Santos   M            NaN           Brazil  Christian    São Paulo   \n",
      "\n",
      "   Profession  \n",
      "46        NaN  \n",
      "85        NaN  \n"
     ]
    }
   ],
   "source": [
    "#### para investigar a questao da origem dos dados faltantes, exiba as linhas com dados faltantes\r\n",
    "print(data_m.isnull().sum())\r\n",
    "\r\n",
    "print(\"\\n\\nDados Faltantes\\t'Year of Birth'\\n\")\r\n",
    "print(data_m [data_m['Year of Birth'].isnull() ])\r\n",
    "\r\n",
    "print(\"\\n\\nDados Faltantes\\t'Religion'\\n\")\r\n",
    "print(data_m [data_m['Religion'].isnull() ])\r\n",
    "\r\n",
    "print(\"\\n\\nDados Faltantes\\t'Profession'\\n\")\r\n",
    "print(data_m [data_m['Profession'].isnull() ])"
   ]
  },
  {
   "cell_type": "code",
   "execution_count": 27,
   "metadata": {},
   "outputs": [
    {
     "data": {
      "text/plain": "count      79.000000\nmean     1974.177215\nstd         8.622807\nmin      1960.000000\n25%      1967.000000\n50%      1974.000000\n75%      1981.500000\nmax      1998.000000\nName: Year of Birth, dtype: float64"
     },
     "execution_count": 27,
     "metadata": {},
     "output_type": "execute_result"
    }
   ],
   "source": [
    "# insira seu código exibindo a estatística descritiva e valores únicos para o atributo Year of Birth\r\n",
    "data_m['Year of Birth'].describe()"
   ]
  },
  {
   "cell_type": "code",
   "execution_count": 29,
   "metadata": {},
   "outputs": [
    {
     "data": {
      "text/plain": "<AxesSubplot:>"
     },
     "execution_count": 29,
     "metadata": {},
     "output_type": "execute_result"
    },
    {
     "data": {
      "image/png": "[encoded data removed]",
      "text/plain": "<Figure size 432x288 with 1 Axes>"
     },
     "metadata": {
      "needs_background": "light"
     },
     "output_type": "display_data"
    }
   ],
   "source": [
    "#### investigue como os anos estão distribuídos\r\n",
    "min_year = data_m['Year of Birth'].describe()['min']\r\n",
    "max_year = data_m['Year of Birth'].describe()['max']\r\n",
    "\r\n",
    "data_m['Year of Birth'].hist(bins=range(int(min_year),int(max_year)+2))"
   ]
  },
  {
   "cell_type": "markdown",
   "metadata": {},
   "source": [
    "#### Exercício 3, questão I\n",
    "\n",
    "Sobre o atributo Religion, qual das alternativas é mais plausível:\n",
    "\n",
    "(a) há 2 dados faltantes, do tipo completamente aleatório<br>\n",
    "(b) há 4 dados faltantes, podendo ser do tipo completamente aleatório (MCAR) ou não-aleatório<br>\n",
    "(c) há 2 dados faltantes, do tipo não-aleatório<br>\n",
    "(d) há 4 dados faltantes, do tipo (condicionalmente) aleatório<br>\n",
    "\n",
    "\n",
    "#### Exercício 3, questão II\n",
    "\n",
    "Sobre o atributo Profession, é possível dizer que:\n",
    "\n",
    "(a) há 6 dados errôneos<br>\n",
    "(b) há 2 dados faltantes<br>\n",
    "(c) há 2 dados faltantes e 5 dados errôneos<br>\n",
    "(d) há 8 dados faltantes<br>\n",
    "\n",
    "#### Exercício 3, questão III\n",
    "\n",
    "Sobre o atributo Profession, é possível dizer que os dados faltantes são:\n",
    "\n",
    "(a) uma mistura dos tipos (condicionalmente) aleatório (MAR) e completamente aleatório (MCAR)<br>\n",
    "(b) unicamente do tipo (condicionalmente) aleatório (MAR) <br>\n",
    "(b) unicamente do tipo completamente aleatório (MCAR) <br>\n",
    "(d) uma mistura dos tipos não aleatório e (condicionalmente) aleatório (MAR)<br>\n",
    "\n",
    "#### Exercício 3, questão IV\n",
    "\n",
    "Sobre o atributo Year of Birth, de acordo com a análise exploratória, qual(is) tipo(s) de dados faltantes são mais plausíveis (escolha apenas uma opcao abaixo):\n",
    "\n",
    "(a) uma mistura dos tipos (condicionalmente) aleatório (MAR) e completamente aleatório (MCAR)<br>\n",
    "(b) do tipo (condicionalmente) aleatório (MAR) <br>\n",
    "(c) do tipo completamente aleatório (MCAR) <br>\n",
    "(d) do tipo não aleatório<br>\n"
   ]
  },
  {
   "cell_type": "markdown",
   "metadata": {},
   "source": [
    "---\n",
    "\n",
    "### Exercício 4)\n",
    "\n",
    "Analise a base de dados \"BCE_Outliers_Err_Desbal\", utilizada nas aulas. Utilize `boxplot()` e `hist()` para explorar cada atributo (exceto Weight, já analisado na aula), mas também codifique outras buscas que achar necessário para responder às  **questões I e II**  abaixo."
   ]
  },
  {
   "cell_type": "code",
   "execution_count": 30,
   "metadata": {},
   "outputs": [],
   "source": [
    "data2 = pd.read_csv(\"./dados/TACTD_01-BCE_Outliers_Err_Desbal.csv\") "
   ]
  },
  {
   "cell_type": "code",
   "execution_count": 34,
   "metadata": {},
   "outputs": [
    {
     "name": "stdout",
     "output_type": "stream",
     "text": [
      "Index(['Sex', 'Weight', 'Gestational age', 'Month', 'Year'], dtype='object')\n",
      "\n",
      "   Sex  Weight  Gestational age  Month  Year\n",
      "0   F    3490               38     11  2016\n",
      "1   M    3650               39     11  2016\n",
      "2   M    2740               34     11  2016\n",
      "3   F    3380               39     12  2016\n",
      "4   F    3820               38     12  2016\n"
     ]
    }
   ],
   "source": [
    "print(data2.columns)\r\n",
    "print(\"\\n\",data2.head())"
   ]
  },
  {
   "cell_type": "code",
   "execution_count": null,
   "metadata": {},
   "outputs": [],
   "source": []
  },
  {
   "cell_type": "code",
   "execution_count": 41,
   "metadata": {},
   "outputs": [
    {
     "data": {
      "text/plain": "<AxesSubplot:>"
     },
     "execution_count": 41,
     "metadata": {},
     "output_type": "execute_result"
    },
    {
     "data": {
      "image/png": "[encoded data removed]",
      "text/plain": "<Figure size 864x288 with 2 Axes>"
     },
     "metadata": {
      "needs_background": "light"
     },
     "output_type": "display_data"
    }
   ],
   "source": [
    "plt.figure(figsize=(12,4))\r\n",
    "plt.subplot(121); data2.boxplot('Gestational age')\r\n",
    "plt.subplot(122); data2['Gestational age'].hist(bins=range(min(data2['Gestational age']),max(data2['Gestational age'])+2))"
   ]
  },
  {
   "cell_type": "markdown",
   "metadata": {},
   "source": [
    "#### Exercício 4, questão I\n",
    "\n",
    "Procure por um **outlier** não comentado na aula. Esse outlier é um \n",
    "\n",
    "(a) idade gestacional com valor muito alto<br>\n",
    "(b) idade gestacional com valor muito baixo<br>\n",
    "(c) ano com valor muito alto<br>\n",
    "(d) ano com valor muito baixo<br>\n",
    "\n",
    "\n",
    "\n",
    "#### Exercício 4, questão II\n",
    "\n",
    "Como interpretar o outlier encontrado?\n",
    "\n",
    "(a) outlier global e dado errôneo resultado de problema na coleta de dados, deve ser removido<br>\n",
    "(b) outlier global, mas não deve ser modificado<br>\n",
    "(c) outlier global e dado errôneo, podendo ser corrigido<br>\n",
    "(d) outlier condicional, deve ser removido<br>\n"
   ]
  },
  {
   "cell_type": "markdown",
   "metadata": {},
   "source": [
    "---\n",
    "\n",
    "### Exercício 5)\n",
    "\n",
    "Considere as informações dadas a seguir:\n",
    "\n",
    "<img src=\"./imagens/foto_tabela2.jpg\" alt=\"tabela\" width=\"760\"/>\n",
    "\n",
    "Poderíamos dizer que os dados disponíveis nesse arquivo exibido são do tipo: \n",
    "\n",
    "(a) não estruturado<br>\n",
    "(b) estruturado\n",
    "\n",
    "Justifique sua resposta."
   ]
  },
  {
   "cell_type": "markdown",
   "metadata": {},
   "source": [
    "---\n",
    "## Exercício 6) \n",
    "\n",
    "Analise a base de dados \"Exercicio\" novamente. Agora vamos buscar por problemas dos tipos errôneos e outliers no atributo \"Years of Experience\":\n"
   ]
  },
  {
   "cell_type": "code",
   "execution_count": 12,
   "metadata": {},
   "outputs": [],
   "source": [
    "data_m = pd.read_csv(\"./dados/TACTD-01-Exercicio.csv\")"
   ]
  },
  {
   "cell_type": "markdown",
   "metadata": {},
   "source": [
    "\n",
    "#### Exercício 6, questão I\n",
    "\n",
    "Escolha a alternativa que melhor descreve os problemas no atributo:\n",
    "\n",
    "(a) possui ao menos um dado errôneo <br>\n",
    "(b) possui outliers contextuais relacionados ao ano de nascimento<br>\n",
    "(c) possui outliers conjuntos relacionados ao ano de nascimento<br>\n",
    "(d) possui ao menos 4 outliers globais<br>\n",
    "\n",
    "\n",
    "#### Exercício 6, questão II\n",
    "\n",
    "Assuma que precisamos construir um modelo para tentar compreender a correlação entre o sexo e país de origem com a quantidade de anos de experiência. \n",
    "\n",
    "Considerando o problema encontrado na questão anterior, e sabendo que há dados faltantes mas para os quais não conhecemos o tipo, como é mais adequado proceder?\n",
    "\n",
    "(a) não é necessário nenhum tratamento<br>\n",
    "(b) é preciso remover os outliers e desconsiderar dados faltantes<br>\n",
    "(c) é preciso remover os dados errôneos e desconsiderar os dados faltantes na análise<br>\n",
    "(d) é preciso preencher os dados faltantes<br>"
   ]
  }
 ],
 "metadata": {
  "kernelspec": {
   "display_name": "Python 3",
   "language": "python",
   "name": "python3"
  },
  "language_info": {
   "codemirror_mode": {
    "name": "ipython",
    "version": 3
   },
   "file_extension": ".py",
   "mimetype": "text/x-python",
   "name": "python",
   "nbconvert_exporter": "python",
   "pygments_lexer": "ipython3",
   "version": "3.9.2"
  }
 },
 "nbformat": 4,
 "nbformat_minor": 4
}