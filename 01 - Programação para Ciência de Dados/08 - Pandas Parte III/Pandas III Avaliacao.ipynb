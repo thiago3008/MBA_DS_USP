{
 "cells": [
  {
   "cell_type": "markdown",
   "metadata": {},
   "source": [
    "# <span style=\"color:blue\"> MBA em Ciência de Dados</span>\n",
    "# <span style=\"color:blue\">Programação para Ciência de Dados</span>\n",
    "\n",
    "## <span style=\"color:blue\">Pandas Parte III - Avaliação </span>\n",
    "**Material Produzido por Luis Gustavo Nonato**<br>\n",
    "**Cemeai - ICMC/USP São Carlos**"
   ]
  },
  {
   "cell_type": "markdown",
   "metadata": {},
   "source": [
    "Os exercícios a seguir farão uso do arquivo <font style=\"font-family: monaco\">sales1000.csv</font> disponível para download no moodle.\n",
    "\n",
    "O arquivo <font style=\"font-family: monaco\">sales1000.csv</font> possui informações relativas à venda de produtos. As colunas abaixo são de particular importância para solução dos exercícios:\n",
    "- *Country*: país da venda\n",
    "- *Item Type*: tipo do produto vendido no país\n",
    "- *Units Sold*: quantidade vendida\n",
    "- *Unit Price*: preço de venda\n",
    "- *Unit Cost*: preço de custo\n",
    "- *Total Profit*: lucro total"
   ]
  },
  {
   "cell_type": "code",
   "execution_count": null,
   "metadata": {},
   "outputs": [],
   "source": [
    "import pandas as pd\n",
    "import numpy as np\n",
    "\n",
    "df = pd.read_csv('sales1000.csv')"
   ]
  },
  {
   "cell_type": "markdown",
   "metadata": {},
   "source": [
    "### Exercício 1)\n",
    "Agrupe os elementos da base de dados armazenada no arquivo <font style=\"font-family: monaco\">sales1000.csv</font> de acordo com os países.\n",
    "Quantos produtos diferentes o país 'Japan' vende?\n",
    "\n",
    "a) 8<br>\n",
    "b) 7<br>\n",
    "c) 6<br>\n",
    "d) 5"
   ]
  },
  {
   "cell_type": "code",
   "execution_count": null,
   "metadata": {},
   "outputs": [],
   "source": []
  },
  {
   "cell_type": "markdown",
   "metadata": {},
   "source": [
    "### Exercício 2)\n",
    "Considerando todas as vendas de um país, qual o país com o menor lucro total?\n",
    "\n",
    "a) Cameroon<br>\n",
    "b) Japan<br>\n",
    "c) Australia<br>\n",
    "d) Cuba"
   ]
  },
  {
   "cell_type": "code",
   "execution_count": null,
   "metadata": {},
   "outputs": [],
   "source": []
  },
  {
   "cell_type": "markdown",
   "metadata": {},
   "source": [
    "### Exercício 3)\n",
    "Quais países vendem mais que sete produtos distintos? \n",
    "\n",
    "a) Cuba e Belarus<br>\n",
    "b) Cuba<br>\n",
    "c) Cuba e Australia<br>\n",
    "d) Romania e Angola"
   ]
  },
  {
   "cell_type": "code",
   "execution_count": null,
   "metadata": {},
   "outputs": [],
   "source": []
  },
  {
   "cell_type": "markdown",
   "metadata": {},
   "source": [
    "### Exercício 4)\n",
    "Qual o país com a maior diferença entre a maior quantidade e a menor quantidade de produtos vendidos? Por exemplo, 'Tonga' vende os seguintes quantidades de produtos:\n",
    "```python\n",
    "Household  8635\n",
    "Beverages  9367\n",
    "Meat       9633\n",
    "Fruits     7124\n",
    "Meat       3499\n",
    "```\n",
    "Portando, a diferença entre a maior e a menor quantidade de produtos vendidos é $$9633-3499=6134$$ Qual o país com a maior diferença?\n",
    "\n",
    "a) Tonga<br>\n",
    "b) Cape Verde<br>\n",
    "c) Romania<br>\n",
    "d) Cuba"
   ]
  },
  {
   "cell_type": "code",
   "execution_count": null,
   "metadata": {},
   "outputs": [],
   "source": []
  },
  {
   "cell_type": "markdown",
   "metadata": {},
   "source": [
    "### Exercício 5)\n",
    "O lucro de um produto é a diferença entre o preço de venda e o de custo. Qual o produto que fornece o menor lucro médio?\n",
    "\n",
    "a) Baby Food<br>\n",
    "b) Fruits<br>\n",
    "c) Household<br>\n",
    "d) Cosmetics"
   ]
  },
  {
   "cell_type": "code",
   "execution_count": null,
   "metadata": {},
   "outputs": [],
   "source": []
  }
 ],
 "metadata": {
  "kernelspec": {
   "display_name": "Python 3",
   "language": "python",
   "name": "python3"
  },
  "language_info": {
   "codemirror_mode": {
    "name": "ipython",
    "version": 3
   },
   "file_extension": ".py",
   "mimetype": "text/x-python",
   "name": "python",
   "nbconvert_exporter": "python",
   "pygments_lexer": "ipython3",
   "version": "3.8.5"
  }
 },
 "nbformat": 4,
 "nbformat_minor": 2
}
