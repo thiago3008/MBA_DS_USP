{
  "cells": [
    {
      "cell_type": "markdown",
      "metadata": {
        "id": "v52kQ8vWTQmc"
      },
      "source": [
        "# <span style=\"color:blue\"> MBA em Ciência de Dados</span>\n",
        "# <span style=\"color:blue\">Programação para Ciência de Dados</span>\n",
        "\n",
        "## <span style=\"color:blue\">Pandas Parte III - Avaliação </span>\n",
        "**Material Produzido por Luis Gustavo Nonato**<br>\n",
        "**Cemeai - ICMC/USP São Carlos**"
      ]
    },
    {
      "cell_type": "markdown",
      "metadata": {
        "id": "Itl6Y3drTQmk"
      },
      "source": [
        "Os exercícios a seguir farão uso do arquivo <font style=\"font-family: monaco\">sales1000.csv</font> disponível para download no moodle.\n",
        "\n",
        "O arquivo <font style=\"font-family: monaco\">sales1000.csv</font> possui informações relativas à venda de produtos. As colunas abaixo são de particular importância para solução dos exercícios:\n",
        "- *Country*: país da venda\n",
        "- *Item Type*: tipo do produto vendido no país\n",
        "- *Units Sold*: quantidade vendida\n",
        "- *Unit Price*: preço de venda\n",
        "- *Unit Cost*: preço de custo\n",
        "- *Total Profit*: lucro total"
      ]
    },
    {
      "cell_type": "code",
      "execution_count": 2,
      "metadata": {
        "colab": {
          "base_uri": "https://localhost:8080/",
          "height": 255
        },
        "id": "TrW7cJfHTQml",
        "outputId": "ccad2e9f-06b5-494a-e76e-2fec58b7c5f1"
      },
      "outputs": [
        {
          "data": {
            "text/html": "<div>\n<style scoped>\n    .dataframe tbody tr th:only-of-type {\n        vertical-align: middle;\n    }\n\n    .dataframe tbody tr th {\n        vertical-align: top;\n    }\n\n    .dataframe thead th {\n        text-align: right;\n    }\n</style>\n<table border=\"1\" class=\"dataframe\">\n  <thead>\n    <tr style=\"text-align: right;\">\n      <th></th>\n      <th>Region</th>\n      <th>Country</th>\n      <th>Item Type</th>\n      <th>Sales Channel</th>\n      <th>Order Priority</th>\n      <th>Order Date</th>\n      <th>Order ID</th>\n      <th>Ship Date</th>\n      <th>Units Sold</th>\n      <th>Unit Price</th>\n      <th>Unit Cost</th>\n      <th>Total Revenue</th>\n      <th>Total Cost</th>\n      <th>Total Profit</th>\n    </tr>\n  </thead>\n  <tbody>\n    <tr>\n      <th>0</th>\n      <td>Middle East and North Africa</td>\n      <td>Libya</td>\n      <td>Cosmetics</td>\n      <td>Offline</td>\n      <td>M</td>\n      <td>10/18/2014</td>\n      <td>686800706</td>\n      <td>10/31/2014</td>\n      <td>8446</td>\n      <td>437.20</td>\n      <td>263.33</td>\n      <td>3692591.20</td>\n      <td>2224085.18</td>\n      <td>1468506.02</td>\n    </tr>\n    <tr>\n      <th>1</th>\n      <td>North America</td>\n      <td>Canada</td>\n      <td>Vegetables</td>\n      <td>Online</td>\n      <td>M</td>\n      <td>11/7/2011</td>\n      <td>185941302</td>\n      <td>12/8/2011</td>\n      <td>3018</td>\n      <td>154.06</td>\n      <td>90.93</td>\n      <td>464953.08</td>\n      <td>274426.74</td>\n      <td>190526.34</td>\n    </tr>\n    <tr>\n      <th>2</th>\n      <td>Middle East and North Africa</td>\n      <td>Libya</td>\n      <td>Baby Food</td>\n      <td>Offline</td>\n      <td>C</td>\n      <td>10/31/2016</td>\n      <td>246222341</td>\n      <td>12/9/2016</td>\n      <td>1517</td>\n      <td>255.28</td>\n      <td>159.42</td>\n      <td>387259.76</td>\n      <td>241840.14</td>\n      <td>145419.62</td>\n    </tr>\n    <tr>\n      <th>3</th>\n      <td>Asia</td>\n      <td>Japan</td>\n      <td>Cereal</td>\n      <td>Offline</td>\n      <td>C</td>\n      <td>4/10/2010</td>\n      <td>161442649</td>\n      <td>5/12/2010</td>\n      <td>3322</td>\n      <td>205.70</td>\n      <td>117.11</td>\n      <td>683335.40</td>\n      <td>389039.42</td>\n      <td>294295.98</td>\n    </tr>\n    <tr>\n      <th>4</th>\n      <td>Sub-Saharan Africa</td>\n      <td>Chad</td>\n      <td>Fruits</td>\n      <td>Offline</td>\n      <td>H</td>\n      <td>8/16/2011</td>\n      <td>645713555</td>\n      <td>8/31/2011</td>\n      <td>9845</td>\n      <td>9.33</td>\n      <td>6.92</td>\n      <td>91853.85</td>\n      <td>68127.40</td>\n      <td>23726.45</td>\n    </tr>\n  </tbody>\n</table>\n</div>",
            "text/plain": "                         Region Country   Item Type Sales Channel  \\\n0  Middle East and North Africa   Libya   Cosmetics       Offline   \n1                 North America  Canada  Vegetables        Online   \n2  Middle East and North Africa   Libya   Baby Food       Offline   \n3                          Asia   Japan      Cereal       Offline   \n4            Sub-Saharan Africa    Chad      Fruits       Offline   \n\n  Order Priority  Order Date   Order ID   Ship Date  Units Sold  Unit Price  \\\n0              M  10/18/2014  686800706  10/31/2014        8446      437.20   \n1              M   11/7/2011  185941302   12/8/2011        3018      154.06   \n2              C  10/31/2016  246222341   12/9/2016        1517      255.28   \n3              C   4/10/2010  161442649   5/12/2010        3322      205.70   \n4              H   8/16/2011  645713555   8/31/2011        9845        9.33   \n\n   Unit Cost  Total Revenue  Total Cost  Total Profit  \n0     263.33     3692591.20  2224085.18    1468506.02  \n1      90.93      464953.08   274426.74     190526.34  \n2     159.42      387259.76   241840.14     145419.62  \n3     117.11      683335.40   389039.42     294295.98  \n4       6.92       91853.85    68127.40      23726.45  "
          },
          "execution_count": 2,
          "metadata": {},
          "output_type": "execute_result"
        }
      ],
      "source": [
        "import pandas as pd\r\n",
        "import numpy as np\r\n",
        "\r\n",
        "df = pd.read_csv('sales1000.csv')\r\n",
        "df.head()"
      ]
    },
    {
      "cell_type": "markdown",
      "metadata": {
        "id": "WY4CHzcyTQmm"
      },
      "source": [
        "### Exercício 1)\n",
        "Agrupe os elementos da base de dados armazenada no arquivo <font style=\"font-family: monaco\">sales1000.csv</font> de acordo com os países.\n",
        "Quantos produtos diferentes o país 'Japan' vende?\n",
        "\n",
        "a) 8<br>\n",
        "b) 7<br>\n",
        "c) 6<br>\n",
        "d) 5"
      ]
    },
    {
      "cell_type": "code",
      "execution_count": 4,
      "metadata": {
        "colab": {
          "base_uri": "https://localhost:8080/"
        },
        "id": "gI1qZvUkTQmm",
        "outputId": "ab4c7d15-ca97-44b7-94a5-502d47dfe083"
      },
      "outputs": [
        {
          "name": "stdout",
          "output_type": "stream",
          "text": [
            "3             Cereal\n",
            "168        Beverages\n",
            "342        Baby Food\n",
            "398        Cosmetics\n",
            "536        Cosmetics\n",
            "555    Personal Care\n",
            "627             Meat\n",
            "901        Cosmetics\n",
            "Name: Item Type, dtype: object\n",
            "\n",
            "Items distintos: 6\n"
          ]
        }
      ],
      "source": [
        "paises = df.groupby('Country')\n",
        "itens_japan = paises.get_group('Japan')['Item Type']\n",
        "print(itens_japan)\n",
        "print('\\nItems distintos:', itens_japan.nunique())"
      ]
    },
    {
      "cell_type": "markdown",
      "metadata": {
        "id": "uq2rjV2XTQmn"
      },
      "source": [
        "### Exercício 2)\n",
        "Considerando todas as vendas de um país, qual o país com o menor lucro total?\n",
        "\n",
        "a) Cameroon<br>\n",
        "b) Japan<br>\n",
        "c) Australia<br>\n",
        "d) Cuba"
      ]
    },
    {
      "cell_type": "code",
      "execution_count": 11,
      "metadata": {
        "colab": {
          "base_uri": "https://localhost:8080/"
        },
        "id": "DLkvbgiLTQmn",
        "outputId": "aa6c4ec1-958a-4a6d-a90a-f87e4232604e"
      },
      "outputs": [
        {
          "name": "stdout",
          "output_type": "stream",
          "text": [
            "Country\n",
            "Afghanistan    1365407.10\n",
            "Albania        3143068.34\n",
            "Algeria        2235989.24\n",
            "Andorra        2143268.87\n",
            "Angola         4541144.42\n",
            "Name: Total Profit, dtype: float64\n",
            "\n",
            "Pais com menor lucro: Cameroon\n"
          ]
        }
      ],
      "source": [
        "lucro_pais = paises['Total Profit'].sum()\n",
        "print(lucro_pais.head())\n",
        "print('\\nPais com menor lucro:', lucro_pais.idxmin())"
      ]
    },
    {
      "cell_type": "markdown",
      "metadata": {
        "id": "toorW0VKTQmn"
      },
      "source": [
        "### Exercício 3)\n",
        "Quais países vendem mais que sete produtos distintos? \n",
        "\n",
        "a) Cuba e Belarus<br>\n",
        "b) Cuba<br>\n",
        "c) Cuba e Australia<br>\n",
        "d) Romania e Angola"
      ]
    },
    {
      "cell_type": "code",
      "execution_count": 5,
      "metadata": {
        "colab": {
          "base_uri": "https://localhost:8080/"
        },
        "id": "iaShIdUATQmo",
        "outputId": "27910a8b-c4aa-4105-8815-f663a646970f"
      },
      "outputs": [
        {
          "name": "stdout",
          "output_type": "stream",
          "text": [
            "Country\n",
            "Afghanistan    4\n",
            "Albania        6\n",
            "Algeria        5\n",
            "Andorra        6\n",
            "Angola         7\n",
            "Name: Item Type, dtype: int64\n",
            "\n",
            "Paises que vendem mais que sete produtos distintos: Belarus e Cuba\n"
          ]
        }
      ],
      "source": [
        "produtos_pais = paises['Item Type'].nunique()\n",
        "print(produtos_pais.head())\n",
        "produtos_pais_maior7 = produtos_pais[produtos_pais > 7]\n",
        "print('\\nPaises que vendem mais que sete produtos distintos:', ' e '.join(produtos_pais_maior7.index))"
      ]
    },
    {
      "cell_type": "markdown",
      "metadata": {
        "id": "FkdcjWbtTQmo"
      },
      "source": [
        "### Exercício 4)\n",
        "Qual o país com a maior diferença entre a maior quantidade e a menor quantidade de produtos vendidos? Por exemplo, 'Tonga' vende os seguintes quantidades de produtos:\n",
        "```python\n",
        "Household  8635\n",
        "Beverages  9367\n",
        "Meat       9633\n",
        "Fruits     7124\n",
        "Meat       3499\n",
        "```\n",
        "Portando, a diferença entre a maior e a menor quantidade de produtos vendidos é $$9633-3499=6134$$ Qual o país com a maior diferença?\n",
        "\n",
        "a) Tonga<br>\n",
        "b) Cape Verde<br>\n",
        "c) Romania<br>\n",
        "d) Cuba"
      ]
    },
    {
      "cell_type": "code",
      "execution_count": 9,
      "metadata": {
        "colab": {
          "base_uri": "https://localhost:8080/"
        },
        "id": "p28DpZhYTQmp",
        "outputId": "e097d2bd-5f5b-4014-ce23-325a5b8b7d28"
      },
      "outputs": [
        {
          "name": "stdout",
          "output_type": "stream",
          "text": [
            "Pais com maior diferença: Cape Verde\n"
          ]
        }
      ],
      "source": [
        "paises = df.groupby('Country')\r\n",
        "diff_produtos = paises['Units Sold'].agg(lambda x : x.max()-x.min())\r\n",
        "print('Pais com maior diferença:', diff_produtos.idxmax())"
      ]
    },
    {
      "cell_type": "markdown",
      "metadata": {
        "id": "ZSExQYQlTQmp"
      },
      "source": [
        "### Exercício 5)\n",
        "O lucro de um produto é a diferença entre o preço de venda e o de custo. Qual o produto que fornece o menor lucro médio?\n",
        "\n",
        "a) Baby Food<br>\n",
        "b) Fruits<br>\n",
        "c) Household<br>\n",
        "d) Cosmetics"
      ]
    },
    {
      "cell_type": "code",
      "execution_count": 34,
      "metadata": {
        "colab": {
          "base_uri": "https://localhost:8080/"
        },
        "id": "GkFIDeeKTQmp",
        "outputId": "36da0117-e997-43e6-c931-ddc6b7fa5110"
      },
      "outputs": [
        {
          "name": "stdout",
          "output_type": "stream",
          "text": [
            "Produto com o menor lucro: Fruits\n"
          ]
        }
      ],
      "source": [
        "produtos = df.groupby('Item Type')\n",
        "produtos = produtos.apply(lambda x : (x['Unit Price'] - x['Unit Cost']).mean())\n",
        "print('Produto com o menor lucro:', produtos.idxmin())"
      ]
    }
  ],
  "metadata": {
    "colab": {
      "name": "Pandas III Avaliacao.ipynb",
      "provenance": [],
      "toc_visible": true
    },
    "kernelspec": {
      "display_name": "Python 3.9.2 64-bit",
      "name": "python392jvsc74a57bd0ac59ebe37160ed0dfa835113d9b8498d9f09ceb179beaac4002f036b9467c963"
    },
    "language_info": {
      "codemirror_mode": {
        "name": "ipython",
        "version": 3
      },
      "file_extension": ".py",
      "mimetype": "text/x-python",
      "name": "python",
      "nbconvert_exporter": "python",
      "pygments_lexer": "ipython3",
      "version": "3.9.2"
    },
    "metadata": {
      "interpreter": {
        "hash": "ac59ebe37160ed0dfa835113d9b8498d9f09ceb179beaac4002f036b9467c963"
      }
    }
  },
  "nbformat": 4,
  "nbformat_minor": 0
}