{
 "cells": [
  {
   "cell_type": "markdown",
   "metadata": {},
   "source": [
    "# <font color=\"blue\"> MBA em Ciência de Dados</font>\n",
    "# <font color=\"blue\"> Programação para Ciência de Dados</font>\n",
    "\n",
    "## <font color=\"blue\">Exercícios Pandas Parte III</font>\n",
    "**Material Produzido por Luis Gustavo Nonato**<br>\n",
    "**Cemeai - ICMC/USP São Carlos**"
   ]
  },
  {
   "cell_type": "markdown",
   "metadata": {},
   "source": [
    "#### <span style=\"color:red\">Recomenda-se fortemente que os exercícios sejam feitos sem consultar as respostas antecipadamente.</span>"
   ]
  },
  {
   "cell_type": "markdown",
   "metadata": {},
   "source": [
    "Parte dos exercícios a seguir farão uso do arquivo <font style=\"font-family: monaco\">sales.csv</font> disponível para download no moodle.\n",
    "\n",
    "O arquivo <font style=\"font-family: monaco\">sales.csv</font> possui informações relativas à venda de produtos. As colunas abaixo são de particular importância para solução dos exercícios:\n",
    "- *Country*: país da venda\n",
    "- *Item Type*: tipo do produto vendido\n",
    "- *Units Sold*: quantidade vendida\n",
    "- *Unit Price*: preço de venda\n",
    "- *Unit Cost*: preço de custo\n",
    "- *Total Profit*: lucro"
   ]
  },
  {
   "cell_type": "code",
   "execution_count": 1,
   "metadata": {},
   "outputs": [],
   "source": [
    "# importando o 'pandas' e 'numpy'\n",
    "import pandas as pd\n",
    "import numpy as np"
   ]
  },
  {
   "cell_type": "code",
   "execution_count": 24,
   "metadata": {},
   "outputs": [
    {
     "data": {
      "text/html": "<div>\n<style scoped>\n    .dataframe tbody tr th:only-of-type {\n        vertical-align: middle;\n    }\n\n    .dataframe tbody tr th {\n        vertical-align: top;\n    }\n\n    .dataframe thead th {\n        text-align: right;\n    }\n</style>\n<table border=\"1\" class=\"dataframe\">\n  <thead>\n    <tr style=\"text-align: right;\">\n      <th></th>\n      <th>Region</th>\n      <th>Country</th>\n      <th>Item Type</th>\n      <th>Sales Channel</th>\n      <th>Order Priority</th>\n      <th>Order Date</th>\n      <th>Order ID</th>\n      <th>Ship Date</th>\n      <th>Units Sold</th>\n      <th>Unit Price</th>\n      <th>Unit Cost</th>\n      <th>Total Revenue</th>\n      <th>Total Cost</th>\n      <th>Total Profit</th>\n    </tr>\n  </thead>\n  <tbody>\n    <tr>\n      <th>0</th>\n      <td>Australia and Oceania</td>\n      <td>Tuvalu</td>\n      <td>Baby Food</td>\n      <td>Offline</td>\n      <td>H</td>\n      <td>5/28/2010</td>\n      <td>669165933</td>\n      <td>6/27/2010</td>\n      <td>9925</td>\n      <td>255.28</td>\n      <td>159.42</td>\n      <td>2533654.00</td>\n      <td>1582243.50</td>\n      <td>951410.50</td>\n    </tr>\n    <tr>\n      <th>1</th>\n      <td>Central America and the Caribbean</td>\n      <td>Grenada</td>\n      <td>Cereal</td>\n      <td>Online</td>\n      <td>C</td>\n      <td>8/22/2012</td>\n      <td>963881480</td>\n      <td>9/15/2012</td>\n      <td>2804</td>\n      <td>205.70</td>\n      <td>117.11</td>\n      <td>576782.80</td>\n      <td>328376.44</td>\n      <td>248406.36</td>\n    </tr>\n    <tr>\n      <th>2</th>\n      <td>Europe</td>\n      <td>Russia</td>\n      <td>Office Supplies</td>\n      <td>Offline</td>\n      <td>L</td>\n      <td>5/2/2014</td>\n      <td>341417157</td>\n      <td>5/8/2014</td>\n      <td>1779</td>\n      <td>651.21</td>\n      <td>524.96</td>\n      <td>1158502.59</td>\n      <td>933903.84</td>\n      <td>224598.75</td>\n    </tr>\n    <tr>\n      <th>3</th>\n      <td>Sub-Saharan Africa</td>\n      <td>Sao Tome and Principe</td>\n      <td>Fruits</td>\n      <td>Online</td>\n      <td>C</td>\n      <td>6/20/2014</td>\n      <td>514321792</td>\n      <td>7/5/2014</td>\n      <td>8102</td>\n      <td>9.33</td>\n      <td>6.92</td>\n      <td>75591.66</td>\n      <td>56065.84</td>\n      <td>19525.82</td>\n    </tr>\n    <tr>\n      <th>4</th>\n      <td>Sub-Saharan Africa</td>\n      <td>Rwanda</td>\n      <td>Office Supplies</td>\n      <td>Offline</td>\n      <td>L</td>\n      <td>2/1/2013</td>\n      <td>115456712</td>\n      <td>2/6/2013</td>\n      <td>5062</td>\n      <td>651.21</td>\n      <td>524.96</td>\n      <td>3296425.02</td>\n      <td>2657347.52</td>\n      <td>639077.50</td>\n    </tr>\n  </tbody>\n</table>\n</div>",
      "text/plain": "                              Region                Country        Item Type  \\\n0              Australia and Oceania                 Tuvalu        Baby Food   \n1  Central America and the Caribbean                Grenada           Cereal   \n2                             Europe                 Russia  Office Supplies   \n3                 Sub-Saharan Africa  Sao Tome and Principe           Fruits   \n4                 Sub-Saharan Africa                 Rwanda  Office Supplies   \n\n  Sales Channel Order Priority Order Date   Order ID  Ship Date  Units Sold  \\\n0       Offline              H  5/28/2010  669165933  6/27/2010        9925   \n1        Online              C  8/22/2012  963881480  9/15/2012        2804   \n2       Offline              L   5/2/2014  341417157   5/8/2014        1779   \n3        Online              C  6/20/2014  514321792   7/5/2014        8102   \n4       Offline              L   2/1/2013  115456712   2/6/2013        5062   \n\n   Unit Price  Unit Cost  Total Revenue  Total Cost  Total Profit  \n0      255.28     159.42     2533654.00  1582243.50     951410.50  \n1      205.70     117.11      576782.80   328376.44     248406.36  \n2      651.21     524.96     1158502.59   933903.84     224598.75  \n3        9.33       6.92       75591.66    56065.84      19525.82  \n4      651.21     524.96     3296425.02  2657347.52     639077.50  "
     },
     "execution_count": 24,
     "metadata": {},
     "output_type": "execute_result"
    }
   ],
   "source": [
    "# carregando o arquivo 'sales.csv'\r\n",
    "df = pd.read_csv('sales.csv')\r\n",
    "df.head()"
   ]
  },
  {
   "cell_type": "markdown",
   "metadata": {},
   "source": [
    "### Exercício 1)\n",
    "Agrupe os dados da base <font style=\"font-family: monaco\">sales.csv</font> de acordo com os países. Imprima as colunas 'Item Type' and 'Total Profit' dos grupos gerados. "
   ]
  },
  {
   "cell_type": "code",
   "execution_count": 49,
   "metadata": {},
   "outputs": [],
   "source": [
    "paises = df.groupby('Country')\r\n",
    "for name,group in paises:\r\n",
    "    print(10*'----')\r\n",
    "    print(f'País: {name}')\r\n",
    "    print(group[['Item Type','Total Profit']])"
   ]
  },
  {
   "cell_type": "markdown",
   "metadata": {},
   "source": [
    "### Exercício 2)\n",
    "Encontre quantos tipos distintos de produtos o 'México' e a 'Austria' vendem."
   ]
  },
  {
   "cell_type": "code",
   "execution_count": 56,
   "metadata": {},
   "outputs": [
    {
     "name": "stdout",
     "output_type": "stream",
     "text": [
      "75        Household\n",
      "85    Personal Care\n",
      "98    Personal Care\n",
      "Name: Item Type, dtype: object\n",
      "\n",
      "Mexico:  2  produtos diferentes\n",
      "\n",
      "\n",
      "57    Cosmetics\n",
      "Name: Item Type, dtype: object\n",
      "\n",
      "Austria:  1  produtos diferentes\n"
     ]
    }
   ],
   "source": [
    "mexico = paises.get_group('Mexico')\r\n",
    "print(mexico['Item Type'])\r\n",
    "print('\\nMexico: ',len(mexico['Item Type'].unique()),' produtos diferentes')\r\n",
    "\r\n",
    "print('\\n')\r\n",
    "\r\n",
    "austria = paises.get_group('Austria')\r\n",
    "print(austria['Item Type'])\r\n",
    "print('\\nAustria: ',len(austria['Item Type'].unique()),' produtos diferentes')"
   ]
  },
  {
   "cell_type": "markdown",
   "metadata": {},
   "source": [
    "### Exercício 3)\n",
    "Qual o país com o maior número de produtos distintos?"
   ]
  },
  {
   "cell_type": "code",
   "execution_count": 76,
   "metadata": {},
   "outputs": [
    {
     "name": "stdout",
     "output_type": "stream",
     "text": [
      "País com maior número de produtos distintos: 'The Gambia' - 4 produtos\n"
     ]
    }
   ],
   "source": [
    "print(f\"País com maior número de produtos distintos: '{paises['Item Type'].nunique().idxmax()}' - {paises['Item Type'].nunique().max()} produtos\")"
   ]
  },
  {
   "cell_type": "markdown",
   "metadata": {},
   "source": [
    "### Exercício 4)\n",
    "Utilizando <font color='blue'>groupby</font>, construa um DataFrame onde:\n",
    "- os rótulos das linhas correspondem a cada tipo de produto vendido\n",
    "- possua uma coluna contendo a quantidade total de vendas de cada produto\n",
    "- possua uma coluna contendo o lucro total de cada produto"
   ]
  },
  {
   "cell_type": "code",
   "execution_count": 86,
   "metadata": {},
   "outputs": [
    {
     "name": "stdout",
     "output_type": "stream",
     "text": [
      "                 Qtd_Vendida        Lucro\n",
      "Item Type                                \n",
      "Baby Food              40545   3886643.70\n",
      "Beverages              56708    888047.28\n",
      "Cereal                 25877   2292443.43\n",
      "Clothes                71260   5233334.40\n",
      "Cosmetics              83718  14556048.66\n",
      "Fruits                 49998    120495.18\n",
      "Household              44727   7412605.71\n",
      "Meat                   10675    610610.00\n",
      "Office Supplies        46967   5929583.75\n",
      "Personal Care          48708   1220622.48\n",
      "Snacks                 13637    751944.18\n",
      "Vegetables             20051   1265819.63\n"
     ]
    }
   ],
   "source": [
    "# a solução deste exercício é uma aplicação direta de grouby com agregação\r\n",
    "produtos = df.groupby(['Item Type']).agg(Qtd_Vendida=('Units Sold','sum'),\r\n",
    "                                         Lucro=('Total Profit','sum'))\r\n",
    "print(produtos)"
   ]
  },
  {
   "cell_type": "markdown",
   "metadata": {},
   "source": [
    "### Exercício 5)\n",
    "Utilizando <font color='blue'>groupby</font>, construa um DataFrame contendo:\n",
    "- uma coluna com o nome dos países contidos na base de dados, sendo que cada país aparece somente uma vez \n",
    "- uma coluna com o total de unidades vendas no país correspondente"
   ]
  },
  {
   "cell_type": "code",
   "execution_count": 96,
   "metadata": {},
   "outputs": [
    {
     "name": "stdout",
     "output_type": "stream",
     "text": [
      "           Country  TotalVendas\n",
      "0          Albania         2269\n",
      "1           Angola         4187\n",
      "2        Australia        12995\n",
      "3          Austria         2847\n",
      "4       Azerbaijan         9255\n",
      "..             ...          ...\n",
      "71      The Gambia        14813\n",
      "72    Turkmenistan         8840\n",
      "73          Tuvalu         9925\n",
      "74  United Kingdom          282\n",
      "75          Zambia         4085\n",
      "\n",
      "[76 rows x 2 columns]\n"
     ]
    }
   ],
   "source": [
    "# Para agrupar e fazer com que o nome dos grupos se tornem uma coluna \r\n",
    "# e não rótulos para as linhas, deve-se utilizar o método reset_index()'\r\n",
    "paises_vendas = df.groupby('Country').agg(TotalVendas=('Units Sold','sum')).reset_index()\r\n",
    "print(paises_vendas)"
   ]
  },
  {
   "cell_type": "markdown",
   "metadata": {},
   "source": [
    "### Exercício 6)\n",
    "Construa um DataFrame com as seguintes características:\n",
    "- Possua uma coluna contendo cada tipo de produto (cada produto aparece apenas uma vez)\n",
    "- Para cada produto, incluir seu lucro médio em uma nova coluna, ou seja, para cada produto deve-se calcular a diferença entre o valor de venda e o valor de custo do produto e calcular a média destas diferenças.\n",
    "\n",
    "**Dica**: Adicione uma nova coluna no DataFrame original com as diferenças e depois construa o novo DataFrame"
   ]
  },
  {
   "cell_type": "code",
   "execution_count": 98,
   "metadata": {},
   "outputs": [
    {
     "name": "stdout",
     "output_type": "stream",
     "text": [
      "          Item Type  Lucro Produto\n",
      "0         Baby Food          95.86\n",
      "1         Beverages          15.66\n",
      "2            Cereal          88.59\n",
      "3           Clothes          73.44\n",
      "4         Cosmetics         173.87\n",
      "5            Fruits           2.41\n",
      "6         Household         165.73\n",
      "7              Meat          57.20\n",
      "8   Office Supplies         126.25\n",
      "9     Personal Care          25.06\n",
      "10           Snacks          55.14\n",
      "11       Vegetables          63.13\n"
     ]
    }
   ],
   "source": [
    "# calculando o lucro: o resultado da diferenca é o lucro de cada produto.\r\n",
    "# O resultado é uma Serie que é adicionada como um nova coluna ao DataFrame\r\n",
    "df['Lucro Produto']=df['Unit Price']-df['Unit Cost']\r\n",
    "\r\n",
    "# agrupando de acordo com os produtos e calculando a media do lucro\r\n",
    "# como o resultado de groupby(df['Item Type']).mean() é uma Serie, \r\n",
    "# pegamos apenas os valores para atribuir a nova coluna 'Lucro'\r\n",
    "prod_qtdade_lucro = df.groupby('Item Type')['Lucro Produto'].mean().reset_index()\r\n",
    "print(prod_qtdade_lucro)"
   ]
  },
  {
   "cell_type": "markdown",
   "metadata": {},
   "source": [
    "### Exercício 7) \n",
    "Utilizando o método <font color='blue'>transfom</font> do <font color='blue'>groupby</font> construa uma Serie com o mesmo número de linhas do conjunto de dados <font style=\"font-family: monaco\">sales.csv</font>, onde os valores correspondem ao índice da linha onde o produto mais vendido de cada país ocorre.\n",
    "\n",
    "Por exemplo: O país 'Australia' vende três tipos de produtos, \n",
    "'Office Supplies', 'Cereal', and 'Beverages'. A busca \n",
    "```python\n",
    "df[['Country','Item Type','Units Sold']].loc[df['Country']=='Australia'])\n",
    "```\n",
    "resulta em:\n",
    "```python\n",
    "      Country        Item Type  Units Sold\n",
    "32  Australia  Office Supplies        2924\n",
    "60  Australia           Cereal         682\n",
    "91  Australia        Beverages        9389\n",
    "```\n",
    "Assim, o produto mais vendido da 'Australia' é 'Beverages' e esta informação ocorre na linha de índice 91 do DataFrame original. Desta forma, a Serie gerada deve possuir nas linhas de índice 32, 60 e 91 o valor 91.\n",
    "\n",
    "**Dica**: Agrupe pela coluna 'Country' e aplique o método <font color='blue'>transfom</font> somente na coluna 'Units Sold'. O método <font color='blue'>idxmax()</font>  do <font color='blue'>pandas</font>  retorna o índice da linha onde o máximo valor de uma Serie ocorre. "
   ]
  },
  {
   "cell_type": "code",
   "execution_count": 99,
   "metadata": {
    "scrolled": true
   },
   "outputs": [
    {
     "name": "stdout",
     "output_type": "stream",
     "text": [
      "32    91\n",
      "60    91\n",
      "91    91\n",
      "Name: Units Sold, dtype: int64\n"
     ]
    }
   ],
   "source": [
    "# Agrupando por países e restringindo o método 'transform' \r\n",
    "# à coluna 'Units Sold'\r\n",
    "id_mais_vendidos = df.groupby('Country')['Units Sold'].transform(lambda x: x.idxmax())\r\n",
    "\r\n",
    "# verificando o resultado para o país 'Australia'\r\n",
    "print(id_mais_vendidos.iloc[[32,60,91]])"
   ]
  },
  {
   "cell_type": "markdown",
   "metadata": {},
   "source": [
    "### Exercício 8) \n",
    "Construa um DataFrame com uma coluna chamada 'Pais', contendo os nomes de todos os países do DataFrame original (sem repetição). O DataFrame deve ser indexado com valores interios entre 0 e $n-1$, onde $n$ é o número de paises. Quantos países existem na base de dados?\n",
    "\n",
    "**Dica**: Para obter o rótulo (nome) de um grupo dentro do método <font color='blue'>apply</font> pode-se utilizar o atributo <font color='blue'>.name</font>, ou seja,\n",
    "```python\n",
    "df.groupby(<dados agrupamento>).apply(lambda x. x.name)\n",
    "```\n",
    "retorna o rótulo de cada grupo gerado pelo <font color='blue'>groupby</font>"
   ]
  },
  {
   "cell_type": "code",
   "execution_count": 105,
   "metadata": {},
   "outputs": [
    {
     "name": "stdout",
     "output_type": "stream",
     "text": [
      "              Pais\n",
      "0          Albania\n",
      "1           Angola\n",
      "2        Australia\n",
      "3          Austria\n",
      "4       Azerbaijan\n",
      "..             ...\n",
      "71      The Gambia\n",
      "72    Turkmenistan\n",
      "73          Tuvalu\n",
      "74  United Kingdom\n",
      "75          Zambia\n",
      "\n",
      "[76 rows x 1 columns]\n",
      "76\n"
     ]
    }
   ],
   "source": [
    "paises = pd.DataFrame(df.groupby('Country').apply(lambda x: x.name).values,\r\n",
    "                                      columns=['Pais'])\r\n",
    "print(paises)\r\n",
    "print(paises.shape[0])"
   ]
  },
  {
   "cell_type": "markdown",
   "metadata": {},
   "source": [
    "### Exercício 9) \n",
    "Construa um DataFrame contendo:\n",
    "- uma coluna com os nomes dos países (cada país aparece apenas uma vez)\n",
    "- uma coluna com o nome do produto mais vendido no país, ou seja, cada linha contém o nome do país e o produto mais vendido daquele país.\n",
    "\n",
    "**Dica**: Agrupe a Serie criada no exercício 7) de acordo com os países,\n",
    "gerando uma nova Serie com o número de linhas equivalente ao número de países. Utilize a Serie gerada para buscar, no DataFrame original, o nome do produto mais vendido."
   ]
  },
  {
   "cell_type": "code",
   "execution_count": 106,
   "metadata": {
    "scrolled": true
   },
   "outputs": [
    {
     "name": "stdout",
     "output_type": "stream",
     "text": [
      "              Pais Prod Mais Vendido\n",
      "0          Albania           Clothes\n",
      "1           Angola         Household\n",
      "2        Australia         Beverages\n",
      "3          Austria         Cosmetics\n",
      "4       Azerbaijan         Cosmetics\n",
      "..             ...               ...\n",
      "71      The Gambia         Baby Food\n",
      "72    Turkmenistan   Office Supplies\n",
      "73          Tuvalu         Baby Food\n",
      "74  United Kingdom         Household\n",
      "75          Zambia            Snacks\n",
      "\n",
      "[76 rows x 2 columns]\n"
     ]
    }
   ],
   "source": [
    "id_mais_vendidos = df.groupby('Country')['Units Sold'].transform(lambda x: x.idxmax())\r\n",
    "\r\n",
    "prod_mais_vendido_pais = pd.DataFrame(df.groupby('Country').apply(lambda x: x.name).values,\r\n",
    "                                      columns=['Pais'])\r\n",
    "\r\n",
    "# Agrupando de acordo com os países e retornando apena o primeiro elemento\r\n",
    "# de cada grupo (todos os elementos do grupo possem o mesmo valor,\r\n",
    "# que corresponde ao índice da linha onde o produto mais vendido ocorre)\r\n",
    "aux = id_mais_vendidos.groupby(df['Country'].values).apply(lambda i: i.iloc[0]).values\r\n",
    "\r\n",
    "# Extraindo do DataFrame original o produto mais vendido de cada país\r\n",
    "prod_mais_vendido_pais['Prod Mais Vendido'] = df['Item Type'].iloc[aux].values\r\n",
    "print(prod_mais_vendido_pais)"
   ]
  },
  {
   "cell_type": "code",
   "execution_count": null,
   "metadata": {},
   "outputs": [],
   "source": []
  },
  {
   "cell_type": "markdown",
   "metadata": {},
   "source": [
    "### Exercício 10) \n",
    "O método <font color='blue'>groupby</font> combinado com a transformação <font color='blue'>apply</font> podem ser utilizados para preencher dados faltantes com valores específicos em cada grupo. O DataFrame gerado no código abaixo possui dados faltantes (`NaN`) em várias posições. \n",
    "1. Divida os elementos do DataFrame em dois grupos, o grupo das linha pares e o grupo das linhas ímpares.\n",
    "2. Preencha os dados faltantes do grupo das linhas pares com o valor médio dos valores no grupo \n",
    "3. Preencha os dados faltantes do grupo das linhas ímpares com o valor médio dos valores no grupo "
   ]
  },
  {
   "cell_type": "code",
   "execution_count": 107,
   "metadata": {},
   "outputs": [
    {
     "name": "stdout",
     "output_type": "stream",
     "text": [
      "    c1   c2   c3   c4   c5\n",
      "0  5.0  3.0  6.0  3.0  0.0\n",
      "1  1.0  4.0  9.0  9.0  8.0\n",
      "2  1.0  9.0  1.0  NaN  5.0\n",
      "3  2.0  5.0  5.0  NaN  1.0\n",
      "4  NaN  6.0  6.0  3.0  1.0\n",
      "5  3.0  3.0  0.0  5.0  2.0\n",
      "6  7.0  3.0  5.0  3.0  NaN\n",
      "7  9.0  2.0  0.0  1.0  2.0\n",
      "8  6.0  NaN  0.0  7.0  6.0\n",
      "9  2.0  8.0  3.0  1.0  8.0\n"
     ]
    }
   ],
   "source": [
    "# construindo um DataFrame com valores faltantes\n",
    "dataf = np.random.randint(low=0, high=10, size=(10,5)).astype(float)\n",
    "rid = np.random.randint(low=0, high=10, size=5)\n",
    "cid = np.random.randint(low=0, high=5, size=5)\n",
    "dataf[rid,cid] = np.nan\n",
    "\n",
    "clabels=['c1','c2','c3','c4','c5']\n",
    "df = pd.DataFrame(data=dataf,columns=clabels)\n",
    "\n",
    "print(df)"
   ]
  },
  {
   "cell_type": "code",
   "execution_count": 108,
   "metadata": {},
   "outputs": [
    {
     "name": "stdout",
     "output_type": "stream",
     "text": [
      "           c1    c2   c3   c4   c5\n",
      "False 1  1.00  4.00  9.0  9.0  8.0\n",
      "      3  2.00  5.00  5.0  4.0  1.0\n",
      "      5  3.00  3.00  0.0  5.0  2.0\n",
      "      7  9.00  2.00  0.0  1.0  2.0\n",
      "      9  2.00  8.00  3.0  1.0  8.0\n",
      "True  0  5.00  3.00  6.0  3.0  0.0\n",
      "      2  1.00  9.00  1.0  4.0  5.0\n",
      "      4  4.75  6.00  6.0  3.0  1.0\n",
      "      6  7.00  3.00  5.0  3.0  3.0\n",
      "      8  6.00  5.25  0.0  7.0  6.0\n"
     ]
    }
   ],
   "source": [
    "# escreva o codigo aqui\r\n",
    "dfgrouped = df.groupby(lambda x: x%2==0).apply(lambda i: i.fillna(i.mean()))\r\n",
    "print(dfgrouped)"
   ]
  }
 ],
 "metadata": {
  "kernelspec": {
   "display_name": "Python 3.9.2 64-bit",
   "name": "python392jvsc74a57bd0ac59ebe37160ed0dfa835113d9b8498d9f09ceb179beaac4002f036b9467c963"
  },
  "language_info": {
   "codemirror_mode": {
    "name": "ipython",
    "version": 3
   },
   "file_extension": ".py",
   "mimetype": "text/x-python",
   "name": "python",
   "nbconvert_exporter": "python",
   "pygments_lexer": "ipython3",
   "version": "3.9.2"
  },
  "metadata": {
   "interpreter": {
    "hash": "ac59ebe37160ed0dfa835113d9b8498d9f09ceb179beaac4002f036b9467c963"
   }
  },
  "toc": {
   "base_numbering": 1,
   "nav_menu": {},
   "number_sections": true,
   "sideBar": true,
   "skip_h1_title": false,
   "title_cell": "Table of Contents",
   "title_sidebar": "Contents",
   "toc_cell": false,
   "toc_position": {},
   "toc_section_display": true,
   "toc_window_display": false
  }
 },
 "nbformat": 4,
 "nbformat_minor": 2
}