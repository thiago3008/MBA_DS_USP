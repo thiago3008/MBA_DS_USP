{
 "cells": [
  {
   "cell_type": "markdown",
   "metadata": {
    "colab_type": "text",
    "id": "fT8v5Hk3bShe"
   },
   "source": [
    "# <font color=\"blue\"> MBA em Ciência de Dados</font>\n",
    "# <font color=\"blue\">Programação para Ciência de Dados</font>\n",
    "\n",
    "## <font color=\"blue\">Pandas Parte III</font>\n",
    "**Material Produzido por Luis Gustavo Nonato e Bruno Coelho**<br>\n",
    "**Cemeai - ICMC/USP São Carlos**\n",
    "---\n"
   ]
  },
  {
   "cell_type": "markdown",
   "metadata": {
    "colab_type": "text",
    "id": "4oFbzLT2bShi"
   },
   "source": [
    "__Conteúdo:__\n",
    "- GroupBy\n",
    "    - Agregação\n",
    "    - Filtragem\n",
    "    - Transformação\n",
    "\n",
    "__Referências__ <br>\n",
    "- [Pandas: powerful Python data analysis toolkit: Wes McKinney & PyData Devel. Team](https://pandas.pydata.org/pandas-docs/stable/pandas.pdf)\n",
    "- [http://pandas.pydata.org/pandas-docs/stable/index.html](http://pandas.pydata.org/pandas-docs/stable/index.html)\n"
   ]
  },
  {
   "cell_type": "markdown",
   "metadata": {
    "colab_type": "text",
    "id": "IAxVpf0NbShl"
   },
   "source": [
    "## Introdução\n",
    "\n",
    "Frequentemente queremos aplicar transformações e filtragens  em um conjunto de dados a fim de extrair informações relevantes e padrões contidos nos dados. Por exemplo, analisar o salário médio de um grupo de profissionais considerando o sexo e a faixa etária dos profissionais.\n",
    "Muitas destas transformações podem ser realizadas por meio de uma operação denominada _MapReduce_.\n",
    "\n",
    "_MapReduce_ é implementada no pacote <font color='blue'>Pandas</font> por meio do método <font color='blue'>groupby</font>.\n",
    "\n",
    "Em geral, o método <font color='blue'>groupby</font> envolve 3 tarefas:\n",
    "- __Split__: Divide os dados em subgrupos. Por exemplo, divide os profissionais em subgrupos de acordo com a faixa etária dos profissionais.\n",
    "- __Apply__: Aplica alguma transformação, agregação ou filtragem para extrair informações de cada subgrupo. Por exemplo, pode-se calcular a média salarial em cada faixa etária dos profissionais.\n",
    "- __Combine__: Combina os resultados das transformações em um DataFrame ou Série.\n"
   ]
  },
  {
   "cell_type": "markdown",
   "metadata": {},
   "source": [
    "$$\n",
    "\\begin{array}{ccccc}\n",
    "DataFrame & & Split & Apply & Combine\\\\\n",
    "\\begin{array}{c|c}\n",
    "C1 & C2 \\\\ \\hline\n",
    "A & 0 \\\\ \\hline\n",
    "B & 5 \\\\ \\hline\n",
    "C & 10 \\\\ \\hline\n",
    "A & 5 \\\\ \\hline\n",
    "B & 5 \\\\ \\hline\n",
    "C & 10 \\\\ \\hline\n",
    "A & 10 \\\\ \\hline\n",
    "B & 5 \\\\ \\hline\n",
    "C & 10 \n",
    "\\end{array} &\n",
    "\\begin{array}{c}\n",
    "\\nearrow \\\\ \\\\\n",
    "\\rightarrow \\\\ \\\\\n",
    "\\searrow\n",
    "\\end{array} &\n",
    "\\begin{array}{c|c}\n",
    "A & 0 \\\\ \\hline\n",
    "A & 5 \\\\ \\hline\n",
    "A & 10 \\\\ \\\\\n",
    "B & 5 \\\\ \\hline\n",
    "B & 5 \\\\ \\hline\n",
    "B & 5 \\\\ \\\\\n",
    "C & 10 \\\\ \\hline\n",
    "C & 10 \\\\ \\hline\n",
    "C & 10 \n",
    "\\end{array} &\n",
    "\\begin{array}{c}\n",
    "\\searrow\\\\ \\\\\n",
    "\\rightarrow \\\\ \\\\\n",
    "\\nearrow\n",
    "\\end{array} & \n",
    "\\begin{array}{c|c}\n",
    "A & 15 \\\\ \\hline\n",
    "B & 15 \\\\ \\hline\n",
    "C & 30 \n",
    "\\end{array}\n",
    "\\end{array}\n",
    "$$"
   ]
  },
  {
   "cell_type": "markdown",
   "metadata": {
    "colab_type": "text",
    "id": "PwNwWN6IbSho"
   },
   "source": [
    "A etapa de \"split\" divide um conjunto de dados de acordo com algum critério, que pode ser valores das colunas do DataFrame, lista de valores externos ou até mesmo o resultado de uma função. \n",
    "\n",
    "Na verdade, o  <font color='blue'>pandas</font> não divide o DataFrame, mas cria uma estrutura que permite operar como se os dados estivessem divididos, evitando o uso excessivo de memória.\n",
    "\n",
    "Portanto, é importante estar atento, pois o resultado de aplicar o método <font color='blue'>groupby</font> não é um novo DataFrame (ou Serie), mas sim um objeto do tipo `groupby`.\n",
    "Para visualizar ou acessar os grupos criados pode-se realizar uma redução (que é o resultado do \"apply\" e \"combine\") ou utilizar algum método do objeto `groupby`, como por exemplo:\n",
    "- <font color='blue'>first()</font>: apresenta a primeira linha de cada grupo formado\n",
    "- <font color='blue'>get_group()</font>: retorna um DataFrame com o conteúdo de um grupo\n",
    "- <font color='blue'>groups()</font>: retorna um dicionário onde as chaves são os rótulos dos grupos e os valores os índices das linhas onde elementos do grupo ocorrem\n",
    "\n"
   ]
  },
  {
   "cell_type": "code",
   "execution_count": 25,
   "metadata": {
    "colab": {
     "base_uri": "https://localhost:8080/",
     "height": 206
    },
    "colab_type": "code",
    "executionInfo": {
     "elapsed": 727,
     "status": "ok",
     "timestamp": 1576346735851,
     "user": {
      "displayName": "Bruno Gomes Coelho",
      "photoUrl": "",
      "userId": "05092110984953098563"
     },
     "user_tz": 180
    },
    "id": "9zQqg2X-bShr",
    "outputId": "dad71025-d8a6-44f5-d78c-7e4a118d7e61"
   },
   "outputs": [
    {
     "data": {
      "text/html": "<div>\n<style scoped>\n    .dataframe tbody tr th:only-of-type {\n        vertical-align: middle;\n    }\n\n    .dataframe tbody tr th {\n        vertical-align: top;\n    }\n\n    .dataframe thead th {\n        text-align: right;\n    }\n</style>\n<table border=\"1\" class=\"dataframe\">\n  <thead>\n    <tr style=\"text-align: right;\">\n      <th></th>\n      <th>total_bill</th>\n      <th>tip</th>\n      <th>sex</th>\n      <th>smoker</th>\n      <th>day</th>\n      <th>time</th>\n      <th>size</th>\n    </tr>\n  </thead>\n  <tbody>\n    <tr>\n      <th>0</th>\n      <td>16.99</td>\n      <td>1.01</td>\n      <td>Female</td>\n      <td>No</td>\n      <td>Sun</td>\n      <td>Dinner</td>\n      <td>2</td>\n    </tr>\n    <tr>\n      <th>1</th>\n      <td>10.34</td>\n      <td>1.66</td>\n      <td>Male</td>\n      <td>No</td>\n      <td>Sun</td>\n      <td>Dinner</td>\n      <td>3</td>\n    </tr>\n    <tr>\n      <th>2</th>\n      <td>21.01</td>\n      <td>3.50</td>\n      <td>Male</td>\n      <td>No</td>\n      <td>Sun</td>\n      <td>Dinner</td>\n      <td>3</td>\n    </tr>\n    <tr>\n      <th>3</th>\n      <td>23.68</td>\n      <td>3.31</td>\n      <td>Male</td>\n      <td>No</td>\n      <td>Sun</td>\n      <td>Dinner</td>\n      <td>2</td>\n    </tr>\n    <tr>\n      <th>4</th>\n      <td>24.59</td>\n      <td>3.61</td>\n      <td>Female</td>\n      <td>No</td>\n      <td>Sun</td>\n      <td>Dinner</td>\n      <td>4</td>\n    </tr>\n  </tbody>\n</table>\n</div>",
      "text/plain": "   total_bill   tip     sex smoker  day    time  size\n0       16.99  1.01  Female     No  Sun  Dinner     2\n1       10.34  1.66    Male     No  Sun  Dinner     3\n2       21.01  3.50    Male     No  Sun  Dinner     3\n3       23.68  3.31    Male     No  Sun  Dinner     2\n4       24.59  3.61  Female     No  Sun  Dinner     4"
     },
     "execution_count": 25,
     "metadata": {},
     "output_type": "execute_result"
    }
   ],
   "source": [
    "# Importando o pacote 'pandas' e 'numpy'\n",
    "import pandas as pd\n",
    "import numpy as np\n",
    "\n",
    "# O comando abaixo carrega o arquivo 'tips.csv' disponível no moodle\n",
    "df = pd.read_csv(\"tips.csv\")\n",
    "df.head()"
   ]
  },
  {
   "cell_type": "code",
   "execution_count": 26,
   "metadata": {
    "colab": {
     "base_uri": "https://localhost:8080/",
     "height": 243
    },
    "colab_type": "code",
    "executionInfo": {
     "elapsed": 1477,
     "status": "ok",
     "timestamp": 1576346993797,
     "user": {
      "displayName": "Bruno Gomes Coelho",
      "photoUrl": "",
      "userId": "05092110984953098563"
     },
     "user_tz": 180
    },
    "id": "px0CqvrBlmmk",
    "outputId": "196acce9-1a13-4924-feca-a9cbc66a6ff1"
   },
   "outputs": [
    {
     "name": "stdout",
     "output_type": "stream",
     "text": [
      "<class 'pandas.core.groupby.generic.DataFrameGroupBy'>\n"
     ]
    }
   ],
   "source": [
    "# Agrupando os dados de acordo com os valores da coluna \"sex\"\r\n",
    "\r\n",
    "dfgb_sex = df.groupby(\"sex\")\r\n",
    "\r\n",
    "# Perceba que a variável 'dfgb_sex' não é um DataFrame, mas sim \r\n",
    "# um 'DataFrameGroupBy'\r\n",
    "print(type(dfgb_sex))"
   ]
  },
  {
   "cell_type": "code",
   "execution_count": 27,
   "metadata": {},
   "outputs": [
    {
     "name": "stdout",
     "output_type": "stream",
     "text": [
      "<class 'pandas.core.frame.DataFrame'>\n",
      "\n",
      " primeira linha cada grupo:\n",
      "         total_bill   tip smoker  day    time  size\n",
      "sex                                               \n",
      "Female       16.99  1.01     No  Sun  Dinner     2\n",
      "Male         10.34  1.66     No  Sun  Dinner     3\n"
     ]
    }
   ],
   "source": [
    "# visualizando a primeira linha de cada grupo\n",
    "print(type(dfgb_sex.first()))  # note que ao invocar o método first() obtemos um DataFrame\n",
    "print('\\n primeira linha cada grupo:\\n',dfgb_sex.first())  # note que os rótulos das linhas são\n",
    "                                                           # os grupos obtidos"
   ]
  },
  {
   "cell_type": "code",
   "execution_count": 23,
   "metadata": {},
   "outputs": [
    {
     "name": "stdout",
     "output_type": "stream",
     "text": [
      "\n",
      " última linha cada grupo:\n",
      "         total_bill   tip smoker   day    time  size\n",
      "sex                                                \n",
      "Female       18.78  3.00     No  Thur  Dinner     2\n",
      "Male         17.82  1.75     No   Sat  Dinner     2\n"
     ]
    }
   ],
   "source": [
    "print('\\n última linha cada grupo:\\n',dfgb_sex.last())"
   ]
  },
  {
   "cell_type": "code",
   "execution_count": 28,
   "metadata": {},
   "outputs": [
    {
     "name": "stdout",
     "output_type": "stream",
     "text": [
      "\n",
      " <class 'pandas.core.frame.DataFrame'>\n",
      "\n",
      " primeiras linhas do grupo \"Male\":\n",
      "    total_bill   tip   sex smoker  day    time  size\n",
      "1       10.34  1.66  Male     No  Sun  Dinner     3\n",
      "2       21.01  3.50  Male     No  Sun  Dinner     3\n",
      "3       23.68  3.31  Male     No  Sun  Dinner     2\n",
      "5       25.29  4.71  Male     No  Sun  Dinner     4\n",
      "6        8.77  2.00  Male     No  Sun  Dinner     2\n"
     ]
    }
   ],
   "source": [
    "# visualizando as primeiras linhas do grupo 'Male'\n",
    "print('\\n',type(dfgb_sex.get_group('Male')))  # o resultado do get_group é um DataFrame\n",
    "print('\\n primeiras linhas do grupo \"Male\":\\n',\n",
    "      dfgb_sex.get_group('Male').head())"
   ]
  },
  {
   "cell_type": "code",
   "execution_count": 30,
   "metadata": {},
   "outputs": [
    {
     "name": "stdout",
     "output_type": "stream",
     "text": [
      "\n",
      " <class 'pandas.io.formats.printing.PrettyDict'>\n",
      "\n",
      " rótulos dos grupos:\n",
      " dict_keys(['Female', 'Male'])\n",
      "\n",
      " indices de alguns elementos do grupo \"Female\":\n",
      " Int64Index([0, 4, 11, 14, 16], dtype='int64')\n"
     ]
    }
   ],
   "source": [
    "# o método 'groups' retorna um dicionário onde as chaves \r\n",
    "# são os rótulos dos grupos formados e os valores são os índices das linhas\r\n",
    "# onde os elementos do grupo estão\r\n",
    "print('\\n',type(dfgb_sex.groups))  # o resultado de groups é um dicionário\r\n",
    "print('\\n rótulos dos grupos:\\n',dfgb_sex.groups.keys())  # as chaves são os rótulos dos grupos\r\n",
    "print('\\n indices de alguns elementos do grupo \"Female\":\\n',\r\n",
    "      dfgb_sex.groups['Female'][0:5])"
   ]
  },
  {
   "cell_type": "markdown",
   "metadata": {},
   "source": [
    "#### Agrupando de acordo com uma lista externa\n",
    "O método <font color='blue'>groupby</font> pode agrupar um DataFrame de acordo com uma lista externa (que não é parte do DataFrame). Para isso, a lista deve possuir um número de elementos igual ao número de linhas do DataFrame."
   ]
  },
  {
   "cell_type": "code",
   "execution_count": 31,
   "metadata": {},
   "outputs": [
    {
     "name": "stdout",
     "output_type": "stream",
     "text": [
      "  key1 key2     data1     data2\n",
      "0    a  one  0.577239  0.339910\n",
      "1    a  two  0.263337  0.616519\n",
      "2    b  one  0.494679  0.336728\n",
      "3    b  two  0.881603  0.254556\n",
      "4    a  one  0.552036  0.390944\n",
      "[1, 0, 0, 1, 0]\n"
     ]
    }
   ],
   "source": [
    "# Construindo DataFrame a partir de um dicionário\n",
    "df = pd.DataFrame({'key1': ['a','a','b','b','a'],\n",
    "                  'key2': ['one','two','one','two','one'], \n",
    "                  'data1': np.random.uniform(low=0,high=1,size=5),\n",
    "                  'data2': np.random.uniform(low=0,high=1,size=5)})\n",
    "print(df)\n",
    "\n",
    "# criando uma lista de 0 e 1 com o mesmo número de linhas do DataFrame\n",
    "ls = [i for i in np.random.randint(0,2,df.shape[0])]\n",
    "\n",
    "#lista criada\n",
    "print(ls) "
   ]
  },
  {
   "cell_type": "code",
   "execution_count": 32,
   "metadata": {},
   "outputs": [
    {
     "name": "stdout",
     "output_type": "stream",
     "text": [
      "  key1 key2     data1     data2\n",
      "1    a  two  0.263337  0.616519\n",
      "2    b  one  0.494679  0.336728\n",
      "4    a  one  0.552036  0.390944\n",
      "  key1 key2     data1     data2\n",
      "0    a  one  0.577239  0.339910\n",
      "3    b  two  0.881603  0.254556\n"
     ]
    }
   ],
   "source": [
    "# Agrupando o DataFrame de acordo com a lista 'ls'\n",
    "gbylist = df.groupby(ls)\n",
    "\n",
    "print(gbylist.get_group(0))  # linhas onde o valor 0 aparece na lista\n",
    "print(gbylist.get_group(1))  # linhas onde o valor 1 aparece na lista"
   ]
  },
  {
   "cell_type": "markdown",
   "metadata": {},
   "source": [
    "#### Agrupando com múltiplos critérios (indexação hierárquica)\n",
    "Quando mais que um conjunto de valores é enviado como parâmetro para o <font color='blue'>groupby</font>, o resultado é um agrupamento com índices organizados de forma hierárquica."
   ]
  },
  {
   "cell_type": "code",
   "execution_count": 11,
   "metadata": {},
   "outputs": [
    {
     "data": {
      "text/html": "<div>\n<style scoped>\n    .dataframe tbody tr th:only-of-type {\n        vertical-align: middle;\n    }\n\n    .dataframe tbody tr th {\n        vertical-align: top;\n    }\n\n    .dataframe thead th {\n        text-align: right;\n    }\n</style>\n<table border=\"1\" class=\"dataframe\">\n  <thead>\n    <tr style=\"text-align: right;\">\n      <th></th>\n      <th>key1</th>\n      <th>key2</th>\n      <th>data1</th>\n      <th>data2</th>\n    </tr>\n  </thead>\n  <tbody>\n    <tr>\n      <th>0</th>\n      <td>a</td>\n      <td>one</td>\n      <td>0.025712</td>\n      <td>0.233743</td>\n    </tr>\n    <tr>\n      <th>1</th>\n      <td>a</td>\n      <td>two</td>\n      <td>0.030237</td>\n      <td>0.580148</td>\n    </tr>\n    <tr>\n      <th>2</th>\n      <td>b</td>\n      <td>one</td>\n      <td>0.778353</td>\n      <td>0.853350</td>\n    </tr>\n    <tr>\n      <th>3</th>\n      <td>b</td>\n      <td>two</td>\n      <td>0.212230</td>\n      <td>0.762083</td>\n    </tr>\n    <tr>\n      <th>4</th>\n      <td>a</td>\n      <td>one</td>\n      <td>0.281853</td>\n      <td>0.218681</td>\n    </tr>\n    <tr>\n      <th>5</th>\n      <td>a</td>\n      <td>two</td>\n      <td>0.675009</td>\n      <td>0.383792</td>\n    </tr>\n    <tr>\n      <th>6</th>\n      <td>b</td>\n      <td>two</td>\n      <td>0.233728</td>\n      <td>0.943275</td>\n    </tr>\n    <tr>\n      <th>7</th>\n      <td>a</td>\n      <td>one</td>\n      <td>0.544332</td>\n      <td>0.314939</td>\n    </tr>\n  </tbody>\n</table>\n</div>",
      "text/plain": "  key1 key2     data1     data2\n0    a  one  0.025712  0.233743\n1    a  two  0.030237  0.580148\n2    b  one  0.778353  0.853350\n3    b  two  0.212230  0.762083\n4    a  one  0.281853  0.218681\n5    a  two  0.675009  0.383792\n6    b  two  0.233728  0.943275\n7    a  one  0.544332  0.314939"
     },
     "execution_count": 11,
     "metadata": {},
     "output_type": "execute_result"
    }
   ],
   "source": [
    "# Construindo DataFrame a partir de um dicionário\n",
    "df = pd.DataFrame({'key1': ['a','a','b','b','a','a','b','a'],\n",
    "                  'key2': ['one','two','one','two','one','two','two','one'], \n",
    "                  'data1': np.random.uniform(low=0,high=1,size=8),\n",
    "                  'data2': np.random.uniform(low=0,high=1,size=8)})\n",
    "\n",
    "df"
   ]
  },
  {
   "cell_type": "code",
   "execution_count": 12,
   "metadata": {},
   "outputs": [
    {
     "name": "stdout",
     "output_type": "stream",
     "text": [
      "Rotulo do Grupo:  ('a', 'one')\n",
      "  key1 key2     data1     data2\n",
      "0    a  one  0.025712  0.233743\n",
      "4    a  one  0.281853  0.218681\n",
      "7    a  one  0.544332  0.314939 \n",
      "\n",
      "Rotulo do Grupo:  ('a', 'two')\n",
      "  key1 key2     data1     data2\n",
      "1    a  two  0.030237  0.580148\n",
      "5    a  two  0.675009  0.383792 \n",
      "\n",
      "Rotulo do Grupo:  ('b', 'one')\n",
      "  key1 key2     data1    data2\n",
      "2    b  one  0.778353  0.85335 \n",
      "\n",
      "Rotulo do Grupo:  ('b', 'two')\n",
      "  key1 key2     data1     data2\n",
      "3    b  two  0.212230  0.762083\n",
      "6    b  two  0.233728  0.943275 \n",
      "\n"
     ]
    }
   ],
   "source": [
    "# agrupando com base nos valores das colunas 'key1' e 'key2'\n",
    "dfh = df.groupby(['key1','key2'])\n",
    "\n",
    "# imprimindo o conteúdo de cada grupo com um laço for\n",
    "# 'groupname' corresponde ao índice do grupo, uma tupla neste caso\n",
    "# 'group' corresponde ao grupo\\ própriamente dito\n",
    "for groupname,group in dfh:\n",
    "    print('Rotulo do Grupo: ',groupname)\n",
    "    print(group,'\\n')"
   ]
  },
  {
   "cell_type": "markdown",
   "metadata": {},
   "source": [
    "#### Agrupando com funções\n",
    "Uma função pode ser enviada como parâmetro de agrupamento para o <font color='blue'>groupby</font>. Neste caso, a função é aplicada aos rótulos das linhas do DataFrame e o resultado é utilizado como rótulo do grupo."
   ]
  },
  {
   "cell_type": "code",
   "execution_count": 13,
   "metadata": {},
   "outputs": [
    {
     "data": {
      "text/html": "<div>\n<style scoped>\n    .dataframe tbody tr th:only-of-type {\n        vertical-align: middle;\n    }\n\n    .dataframe tbody tr th {\n        vertical-align: top;\n    }\n\n    .dataframe thead th {\n        text-align: right;\n    }\n</style>\n<table border=\"1\" class=\"dataframe\">\n  <thead>\n    <tr style=\"text-align: right;\">\n      <th></th>\n      <th>a</th>\n      <th>b</th>\n      <th>c</th>\n      <th>d</th>\n      <th>e</th>\n    </tr>\n  </thead>\n  <tbody>\n    <tr>\n      <th>Joe</th>\n      <td>8</td>\n      <td>4</td>\n      <td>1</td>\n      <td>8</td>\n      <td>2</td>\n    </tr>\n    <tr>\n      <th>Michel</th>\n      <td>7</td>\n      <td>4</td>\n      <td>6</td>\n      <td>6</td>\n      <td>0</td>\n    </tr>\n    <tr>\n      <th>Steve</th>\n      <td>3</td>\n      <td>5</td>\n      <td>3</td>\n      <td>0</td>\n      <td>4</td>\n    </tr>\n    <tr>\n      <th>Wes</th>\n      <td>4</td>\n      <td>0</td>\n      <td>6</td>\n      <td>1</td>\n      <td>4</td>\n    </tr>\n    <tr>\n      <th>Jim</th>\n      <td>3</td>\n      <td>2</td>\n      <td>3</td>\n      <td>1</td>\n      <td>2</td>\n    </tr>\n    <tr>\n      <th>Travis</th>\n      <td>5</td>\n      <td>4</td>\n      <td>0</td>\n      <td>3</td>\n      <td>1</td>\n    </tr>\n  </tbody>\n</table>\n</div>",
      "text/plain": "        a  b  c  d  e\nJoe     8  4  1  8  2\nMichel  7  4  6  6  0\nSteve   3  5  3  0  4\nWes     4  0  6  1  4\nJim     3  2  3  1  2\nTravis  5  4  0  3  1"
     },
     "execution_count": 13,
     "metadata": {},
     "output_type": "execute_result"
    }
   ],
   "source": [
    "# constuindo DataFrame com rótulos de linhas e colunas\n",
    "dfp = pd.DataFrame(data=np.random.randint(low=0, high=10, size=(6,5)),\n",
    "               columns=['a','b','c','d','e'], \n",
    "               index=['Joe','Michel','Steve','Wes','Jim','Travis'])\n",
    "dfp"
   ]
  },
  {
   "cell_type": "code",
   "execution_count": 14,
   "metadata": {},
   "outputs": [
    {
     "name": "stdout",
     "output_type": "stream",
     "text": [
      "Grupo:  3\n",
      "     a  b  c  d  e\n",
      "Joe  8  4  1  8  2\n",
      "Wes  4  0  6  1  4\n",
      "Jim  3  2  3  1  2 \n",
      "\n",
      "Grupo:  5\n",
      "       a  b  c  d  e\n",
      "Steve  3  5  3  0  4 \n",
      "\n",
      "Grupo:  6\n",
      "        a  b  c  d  e\n",
      "Michel  7  4  6  6  0\n",
      "Travis  5  4  0  3  1 \n",
      "\n"
     ]
    }
   ],
   "source": [
    "# agrupando de acordo com o número de caracteres nos rótulos das linhas\n",
    "gbf = dfp.groupby(lambda x: len(x))\n",
    "\n",
    "for name, group in gbf:\n",
    "    print('Grupo: ',name)\n",
    "    print(group,'\\n')"
   ]
  },
  {
   "cell_type": "markdown",
   "metadata": {
    "colab_type": "text",
    "id": "V5IJugintCGi"
   },
   "source": [
    "# Transformações e Agregações\n",
    "\n",
    "Em geral, temos 5 tipos de operações que podem ser aplicadas aos grupos gerados pelo <font color='blue'>groupby</font>:\n",
    "\n",
    "\n",
    "- __Métodos de agregação__: Combinam várias linhas em um único valor. Exemplos incluem a média, soma e mediana de cada coluna em cada grupo.\n",
    "\n",
    "- __Métodos de filtragem__: Retornam apenas um subconjunto dos dados originais. \n",
    "\n",
    "- __Métodos de tranformação__: Retornam um DataFrame com o mesmo tamanho e índices dos dados originais, mas com valores transformados com base nos grupos."
   ]
  },
  {
   "cell_type": "markdown",
   "metadata": {
    "colab_type": "text",
    "id": "lHhf8Urnt-Sq"
   },
   "source": [
    "## Métodos de agregação\n",
    "\n",
    "Pandas fornece [diversas funções](https://pandas.pydata.org/pandas-docs/stable/user_guide/groupby.html#aggregation) estatísticas de agregação, como <font color='blue'>sum, mean, std, max, min </font>. Pode-se ainda calcular várias agregações simultaneamente com o método <font color='blue'>agg</font> (de \"aggregate\")"
   ]
  },
  {
   "cell_type": "code",
   "execution_count": 35,
   "metadata": {},
   "outputs": [
    {
     "data": {
      "text/html": "<div>\n<style scoped>\n    .dataframe tbody tr th:only-of-type {\n        vertical-align: middle;\n    }\n\n    .dataframe tbody tr th {\n        vertical-align: top;\n    }\n\n    .dataframe thead th {\n        text-align: right;\n    }\n</style>\n<table border=\"1\" class=\"dataframe\">\n  <thead>\n    <tr style=\"text-align: right;\">\n      <th></th>\n      <th>total_bill</th>\n      <th>tip</th>\n      <th>sex</th>\n      <th>smoker</th>\n      <th>day</th>\n      <th>time</th>\n      <th>size</th>\n    </tr>\n  </thead>\n  <tbody>\n    <tr>\n      <th>0</th>\n      <td>16.99</td>\n      <td>1.01</td>\n      <td>Female</td>\n      <td>No</td>\n      <td>Sun</td>\n      <td>Dinner</td>\n      <td>2</td>\n    </tr>\n    <tr>\n      <th>1</th>\n      <td>10.34</td>\n      <td>1.66</td>\n      <td>Male</td>\n      <td>No</td>\n      <td>Sun</td>\n      <td>Dinner</td>\n      <td>3</td>\n    </tr>\n    <tr>\n      <th>2</th>\n      <td>21.01</td>\n      <td>3.50</td>\n      <td>Male</td>\n      <td>No</td>\n      <td>Sun</td>\n      <td>Dinner</td>\n      <td>3</td>\n    </tr>\n    <tr>\n      <th>3</th>\n      <td>23.68</td>\n      <td>3.31</td>\n      <td>Male</td>\n      <td>No</td>\n      <td>Sun</td>\n      <td>Dinner</td>\n      <td>2</td>\n    </tr>\n    <tr>\n      <th>4</th>\n      <td>24.59</td>\n      <td>3.61</td>\n      <td>Female</td>\n      <td>No</td>\n      <td>Sun</td>\n      <td>Dinner</td>\n      <td>4</td>\n    </tr>\n  </tbody>\n</table>\n</div>",
      "text/plain": "   total_bill   tip     sex smoker  day    time  size\n0       16.99  1.01  Female     No  Sun  Dinner     2\n1       10.34  1.66    Male     No  Sun  Dinner     3\n2       21.01  3.50    Male     No  Sun  Dinner     3\n3       23.68  3.31    Male     No  Sun  Dinner     2\n4       24.59  3.61  Female     No  Sun  Dinner     4"
     },
     "execution_count": 35,
     "metadata": {},
     "output_type": "execute_result"
    }
   ],
   "source": [
    "# Importando o pacote 'pandas'\n",
    "import pandas as pd\n",
    "\n",
    "# Carregando o arquivo 'tips.csv'\n",
    "df = pd.read_csv(\"tips.csv\")\n",
    "df.head()"
   ]
  },
  {
   "cell_type": "code",
   "execution_count": 173,
   "metadata": {
    "colab": {
     "base_uri": "https://localhost:8080/",
     "height": 397
    },
    "colab_type": "code",
    "executionInfo": {
     "elapsed": 839,
     "status": "ok",
     "timestamp": 1576349500243,
     "user": {
      "displayName": "Bruno Gomes Coelho",
      "photoUrl": "",
      "userId": "05092110984953098563"
     },
     "user_tz": 180
    },
    "id": "KUAlkviKt9J8",
    "outputId": "ef489476-7ad0-4e6a-fa87-e6b913826cb5"
   },
   "outputs": [
    {
     "name": "stdout",
     "output_type": "stream",
     "text": [
      "Gorjeta máxima\n",
      "sex\n",
      "Female     6.5\n",
      "Male      10.0\n",
      "Name: tip, dtype: float64\n"
     ]
    }
   ],
   "source": [
    "# Obtendo a maior gorjeta dos grupos 'Male' e 'Female'\n",
    "print(\"Gorjeta máxima\")\n",
    "\n",
    "# Agrupamos por sexo, depois selecionamos a coluna \"tip\" (gorjeta)\n",
    "# e pegamos o máximo dela.\n",
    "print(df.groupby([\"sex\"])[\"tip\"].max())\n"
   ]
  },
  {
   "cell_type": "code",
   "execution_count": 36,
   "metadata": {},
   "outputs": [
    {
     "name": "stdout",
     "output_type": "stream",
     "text": [
      "Média e Desvio Padrão das gorjetas em cada grupo:\n"
     ]
    },
    {
     "data": {
      "text/html": "<div>\n<style scoped>\n    .dataframe tbody tr th:only-of-type {\n        vertical-align: middle;\n    }\n\n    .dataframe tbody tr th {\n        vertical-align: top;\n    }\n\n    .dataframe thead th {\n        text-align: right;\n    }\n</style>\n<table border=\"1\" class=\"dataframe\">\n  <thead>\n    <tr style=\"text-align: right;\">\n      <th></th>\n      <th>mean</th>\n      <th>std</th>\n    </tr>\n    <tr>\n      <th>sex</th>\n      <th></th>\n      <th></th>\n    </tr>\n  </thead>\n  <tbody>\n    <tr>\n      <th>Female</th>\n      <td>2.833448</td>\n      <td>1.159495</td>\n    </tr>\n    <tr>\n      <th>Male</th>\n      <td>3.089618</td>\n      <td>1.489102</td>\n    </tr>\n  </tbody>\n</table>\n</div>",
      "text/plain": "            mean       std\nsex                       \nFemale  2.833448  1.159495\nMale    3.089618  1.489102"
     },
     "execution_count": 36,
     "metadata": {},
     "output_type": "execute_result"
    }
   ],
   "source": [
    "# Pode-se calcular várias agregações simultaneamente via método \"agg\"\r\n",
    "print(\"Média e Desvio Padrão das gorjetas em cada grupo:\")\r\n",
    "df.groupby([\"sex\"])[\"tip\"].agg([\"mean\",\"std\"])"
   ]
  },
  {
   "cell_type": "markdown",
   "metadata": {
    "colab_type": "text",
    "id": "guWA-3qYvzZx"
   },
   "source": [
    "**Importante**: O resultado de uma agregação, transformação ou filtragem  é um novo DataFrame onde os rótulos das linhas são os valores utilizados para realizar o agrupamento. \n",
    "Caso queiramos um DataFrame com linhas indexadas com valores $0,1,...$, devemos empregar o método <font color='blue'>reset_index</font>."
   ]
  },
  {
   "cell_type": "code",
   "execution_count": 4,
   "metadata": {
    "colab": {
     "base_uri": "https://localhost:8080/",
     "height": 225
    },
    "colab_type": "code",
    "executionInfo": {
     "elapsed": 871,
     "status": "ok",
     "timestamp": 1576349756711,
     "user": {
      "displayName": "Bruno Gomes Coelho",
      "photoUrl": "",
      "userId": "05092110984953098563"
     },
     "user_tz": 180
    },
    "id": "Bb5nmNwVsiIL",
    "outputId": "9542ba30-ea8c-47bf-c923-145a7f20a910"
   },
   "outputs": [
    {
     "name": "stdout",
     "output_type": "stream",
     "text": [
      "            mean       std\n",
      "sex                       \n",
      "Female  2.833448  1.159495\n",
      "Male    3.089618  1.489102 \n",
      "\n",
      "Rotulos dos grupos:\n",
      " Index(['Female', 'Male'], dtype='object', name='sex')\n",
      "\n",
      "Rotulos das colunas:\n",
      " Index(['mean', 'std'], dtype='object')\n"
     ]
    }
   ],
   "source": [
    "# Usando as colunas de agregação como índices\n",
    "result = df.groupby([\"sex\"])[\"tip\"].agg([\"mean\", \"std\"])\n",
    "print(result,'\\n')\n",
    "print(\"Rotulos dos grupos:\\n\", result.index)\n",
    "print(\"\\nRotulos das colunas:\\n\", result.columns)"
   ]
  },
  {
   "cell_type": "code",
   "execution_count": 5,
   "metadata": {},
   "outputs": [
    {
     "name": "stdout",
     "output_type": "stream",
     "text": [
      "      sex      mean       std\n",
      "0  Female  2.833448  1.159495\n",
      "1    Male  3.089618  1.489102 \n",
      "\n",
      "Rotulos dos grupos:\n",
      " RangeIndex(start=0, stop=2, step=1)\n",
      "\n",
      "Rotulos das colunas:\n",
      " Index(['sex', 'mean', 'std'], dtype='object')\n"
     ]
    }
   ],
   "source": [
    "# Reindexando com reset_index(), os rótulos se tornam uma nova coluna\n",
    "result = df.groupby([\"sex\"])[\"tip\"].agg([\"mean\", \"std\"]).reset_index()\n",
    "print(result,'\\n')\n",
    "print(\"Rotulos dos grupos:\\n\", result.index)\n",
    "print(\"\\nRotulos das colunas:\\n\", result.columns)"
   ]
  },
  {
   "cell_type": "markdown",
   "metadata": {
    "colab_type": "text",
    "id": "s-EBi_8HBhT3"
   },
   "source": [
    "### Pode-se aplicar agregações diferentes para cada coluna com o uso de dicionário."
   ]
  },
  {
   "cell_type": "code",
   "execution_count": 37,
   "metadata": {
    "colab": {
     "base_uri": "https://localhost:8080/",
     "height": 206
    },
    "colab_type": "code",
    "executionInfo": {
     "elapsed": 723,
     "status": "ok",
     "timestamp": 1576354393807,
     "user": {
      "displayName": "Bruno Gomes Coelho",
      "photoUrl": "",
      "userId": "05092110984953098563"
     },
     "user_tz": 180
    },
    "id": "fcDG9Nm_CCYh",
    "outputId": "576e0155-ff8e-45f4-d7a5-46a24c29ac9b"
   },
   "outputs": [
    {
     "name": "stdout",
     "output_type": "stream",
     "text": [
      "   total_bill   tip     sex smoker  day    time  size\n",
      "0       16.99  1.01  Female     No  Sun  Dinner     2\n",
      "1       10.34  1.66    Male     No  Sun  Dinner     3\n",
      "2       21.01  3.50    Male     No  Sun  Dinner     3\n",
      "3       23.68  3.31    Male     No  Sun  Dinner     2\n",
      "4       24.59  3.61  Female     No  Sun  Dinner     4\n",
      "\n",
      "              tip  total_bill   day\n",
      "sex                               \n",
      "Female  2.833448       44.30  Thur\n",
      "Male    3.089618       50.81   Sat\n"
     ]
    }
   ],
   "source": [
    "print(df.head())\r\n",
    "# calculando a média das gorjetas, \r\n",
    "# o valor máximo das refeições \r\n",
    "# e o dia da semana mais frequente (moda) de cada grupo 'Male' e 'Female'\r\n",
    "dfm = df.groupby([\"sex\"]).agg({\"tip\": \"mean\",\"total_bill\": \"max\",\"day\": lambda x: x.mode()})\r\n",
    "\r\n",
    "print('\\n',dfm.head())"
   ]
  },
  {
   "cell_type": "code",
   "execution_count": 38,
   "metadata": {},
   "outputs": [
    {
     "name": "stdout",
     "output_type": "stream",
     "text": [
      "        mean_tip  max_bill most_freq_day\n",
      "sex                                     \n",
      "Female  2.833448     44.30          Thur\n",
      "Male    3.089618     50.81           Sat\n"
     ]
    }
   ],
   "source": [
    "# Pode-se renomear as colunas do DataFrame gerado durante a agregação\n",
    "# renomeando colunas com agg\n",
    "print(df.groupby([\"sex\"]).agg(mean_tip=(\"tip\", \"mean\"),\n",
    "                              max_bill=(\"total_bill\", \"max\"),\n",
    "                              most_freq_day=(\"day\", lambda x: x.mode())))"
   ]
  },
  {
   "cell_type": "markdown",
   "metadata": {
    "colab_type": "text",
    "id": "oYHW27Z4xOQA"
   },
   "source": [
    "## Métodos de filtragem"
   ]
  },
  {
   "cell_type": "markdown",
   "metadata": {
    "colab_type": "text",
    "id": "fCz55GwN54Uz"
   },
   "source": [
    "O método mais comum de filtragem é o <font color='blue'>filter </font>que retorna os elementos do grupo que satisfaz uma condição dada. "
   ]
  },
  {
   "cell_type": "code",
   "execution_count": 39,
   "metadata": {},
   "outputs": [
    {
     "data": {
      "text/html": "<div>\n<style scoped>\n    .dataframe tbody tr th:only-of-type {\n        vertical-align: middle;\n    }\n\n    .dataframe tbody tr th {\n        vertical-align: top;\n    }\n\n    .dataframe thead th {\n        text-align: right;\n    }\n</style>\n<table border=\"1\" class=\"dataframe\">\n  <thead>\n    <tr style=\"text-align: right;\">\n      <th></th>\n      <th>key1</th>\n      <th>data0</th>\n      <th>data1</th>\n      <th>data2</th>\n    </tr>\n  </thead>\n  <tbody>\n    <tr>\n      <th>0</th>\n      <td>a</td>\n      <td>0.590898</td>\n      <td>0.663302</td>\n      <td>0.364411</td>\n    </tr>\n    <tr>\n      <th>1</th>\n      <td>c</td>\n      <td>0.063587</td>\n      <td>0.718407</td>\n      <td>0.881627</td>\n    </tr>\n    <tr>\n      <th>2</th>\n      <td>b</td>\n      <td>0.233773</td>\n      <td>0.341686</td>\n      <td>0.641104</td>\n    </tr>\n    <tr>\n      <th>3</th>\n      <td>c</td>\n      <td>0.079769</td>\n      <td>0.844161</td>\n      <td>0.772516</td>\n    </tr>\n    <tr>\n      <th>4</th>\n      <td>a</td>\n      <td>0.901859</td>\n      <td>0.775796</td>\n      <td>0.929725</td>\n    </tr>\n    <tr>\n      <th>5</th>\n      <td>a</td>\n      <td>0.770314</td>\n      <td>0.664571</td>\n      <td>0.062814</td>\n    </tr>\n    <tr>\n      <th>6</th>\n      <td>b</td>\n      <td>0.968807</td>\n      <td>0.819561</td>\n      <td>0.692521</td>\n    </tr>\n    <tr>\n      <th>7</th>\n      <td>a</td>\n      <td>0.302924</td>\n      <td>0.580932</td>\n      <td>0.770864</td>\n    </tr>\n    <tr>\n      <th>8</th>\n      <td>c</td>\n      <td>0.698425</td>\n      <td>0.001452</td>\n      <td>0.678423</td>\n    </tr>\n    <tr>\n      <th>9</th>\n      <td>b</td>\n      <td>0.292106</td>\n      <td>0.439569</td>\n      <td>0.776854</td>\n    </tr>\n  </tbody>\n</table>\n</div>",
      "text/plain": "  key1     data0     data1     data2\n0    a  0.590898  0.663302  0.364411\n1    c  0.063587  0.718407  0.881627\n2    b  0.233773  0.341686  0.641104\n3    c  0.079769  0.844161  0.772516\n4    a  0.901859  0.775796  0.929725\n5    a  0.770314  0.664571  0.062814\n6    b  0.968807  0.819561  0.692521\n7    a  0.302924  0.580932  0.770864\n8    c  0.698425  0.001452  0.678423\n9    b  0.292106  0.439569  0.776854"
     },
     "execution_count": 39,
     "metadata": {},
     "output_type": "execute_result"
    }
   ],
   "source": [
    "import numpy as np\r\n",
    "# Construindo DataFrame a partir de um dicionário\r\n",
    "df = pd.DataFrame({'key1': ['a','c','b','c','a','a','b','a','c','b'],\r\n",
    "                  'data0': np.random.uniform(low=0,high=1,size=10),\r\n",
    "                  'data1': np.random.uniform(low=0,high=1,size=10),\r\n",
    "                  'data2': np.random.uniform(low=0,high=1,size=10)})\r\n",
    "\r\n",
    "df"
   ]
  },
  {
   "cell_type": "code",
   "execution_count": 16,
   "metadata": {
    "colab": {
     "base_uri": "https://localhost:8080/",
     "height": 424
    },
    "colab_type": "code",
    "executionInfo": {
     "elapsed": 860,
     "status": "ok",
     "timestamp": 1576352338482,
     "user": {
      "displayName": "Bruno Gomes Coelho",
      "photoUrl": "",
      "userId": "05092110984953098563"
     },
     "user_tz": 180
    },
    "id": "AH9VKTBYxN3P",
    "outputId": "9f5633e5-46b2-4580-8f17-a20f7fa11669"
   },
   "outputs": [
    {
     "name": "stdout",
     "output_type": "stream",
     "text": [
      "media da coluna \"data1\"\n",
      " 0.5641340885448626\n",
      "\n",
      "media de cada grupo\n",
      "          data0     data1     data2\n",
      "key1                              \n",
      "a     0.440002  0.305379  0.228003\n",
      "b     0.470074  0.844564  0.653952\n",
      "c     0.478482  0.628710  0.854560\n",
      "\n",
      " grupos cuja média da coluna \"data1\" é maior que a média geral de \"data1\"\n",
      "\n",
      "  key1     data0     data1     data2\n",
      "1    c  0.694699  0.966926  0.940898\n",
      "2    b  0.516477  0.904974  0.702352\n",
      "3    c  0.526632  0.284643  0.892902\n",
      "6    b  0.083109  0.930837  0.914147\n",
      "8    c  0.214116  0.634562  0.729880\n",
      "9    b  0.810637  0.697881  0.345358\n"
     ]
    }
   ],
   "source": [
    "# média geral da coluna 'data1'\n",
    "data1_mean = df['data1'].mean()\n",
    "print('media da coluna \"data1\"\\n',data1_mean)\n",
    "\n",
    "# calculando a média de cada coluna em cada grupo dado pela coluna 'key1'\n",
    "print('\\nmedia de cada grupo\\n',df.groupby('key1').mean())\n",
    "\n",
    "# filtrando os grupos cuja média da coluna 'data1' é maior que a média \n",
    "# geral da coluna 'data1'\n",
    "print('\\n grupos cuja média da coluna \"data1\" é maior que a média geral de \"data1\"\\n')\n",
    "print(df.groupby('key1').filter(lambda x : x['data1'].mean() > data1_mean))"
   ]
  },
  {
   "cell_type": "markdown",
   "metadata": {
    "colab_type": "text",
    "id": "Q6tDl55YbSiG"
   },
   "source": [
    "## Métodos de transformação"
   ]
  },
  {
   "cell_type": "markdown",
   "metadata": {
    "colab_type": "text",
    "id": "dH1Xwa6C_VO3"
   },
   "source": [
    "O método <font color='blue'>transform</font> retorna um DataFrame com o **mesmo número de linhas** que o DataFrame original. A transformação é realizada em cada elemento de cada grupo."
   ]
  },
  {
   "cell_type": "code",
   "execution_count": 40,
   "metadata": {},
   "outputs": [
    {
     "data": {
      "text/html": "<div>\n<style scoped>\n    .dataframe tbody tr th:only-of-type {\n        vertical-align: middle;\n    }\n\n    .dataframe tbody tr th {\n        vertical-align: top;\n    }\n\n    .dataframe thead th {\n        text-align: right;\n    }\n</style>\n<table border=\"1\" class=\"dataframe\">\n  <thead>\n    <tr style=\"text-align: right;\">\n      <th></th>\n      <th>key1</th>\n      <th>data0</th>\n      <th>data1</th>\n      <th>data2</th>\n    </tr>\n  </thead>\n  <tbody>\n    <tr>\n      <th>0</th>\n      <td>a</td>\n      <td>0.013786</td>\n      <td>0.909521</td>\n      <td>0.854145</td>\n    </tr>\n    <tr>\n      <th>1</th>\n      <td>c</td>\n      <td>0.777704</td>\n      <td>0.856443</td>\n      <td>0.436721</td>\n    </tr>\n    <tr>\n      <th>2</th>\n      <td>b</td>\n      <td>0.343789</td>\n      <td>0.298247</td>\n      <td>0.597425</td>\n    </tr>\n    <tr>\n      <th>3</th>\n      <td>c</td>\n      <td>0.943504</td>\n      <td>0.342788</td>\n      <td>0.660669</td>\n    </tr>\n    <tr>\n      <th>4</th>\n      <td>a</td>\n      <td>0.006209</td>\n      <td>0.564335</td>\n      <td>0.292543</td>\n    </tr>\n    <tr>\n      <th>5</th>\n      <td>a</td>\n      <td>0.020974</td>\n      <td>0.097755</td>\n      <td>0.315373</td>\n    </tr>\n    <tr>\n      <th>6</th>\n      <td>b</td>\n      <td>0.382749</td>\n      <td>0.156379</td>\n      <td>0.310163</td>\n    </tr>\n    <tr>\n      <th>7</th>\n      <td>a</td>\n      <td>0.401390</td>\n      <td>0.043713</td>\n      <td>0.323816</td>\n    </tr>\n    <tr>\n      <th>8</th>\n      <td>c</td>\n      <td>0.880574</td>\n      <td>0.387380</td>\n      <td>0.527184</td>\n    </tr>\n    <tr>\n      <th>9</th>\n      <td>b</td>\n      <td>0.757488</td>\n      <td>0.959226</td>\n      <td>0.849573</td>\n    </tr>\n  </tbody>\n</table>\n</div>",
      "text/plain": "  key1     data0     data1     data2\n0    a  0.013786  0.909521  0.854145\n1    c  0.777704  0.856443  0.436721\n2    b  0.343789  0.298247  0.597425\n3    c  0.943504  0.342788  0.660669\n4    a  0.006209  0.564335  0.292543\n5    a  0.020974  0.097755  0.315373\n6    b  0.382749  0.156379  0.310163\n7    a  0.401390  0.043713  0.323816\n8    c  0.880574  0.387380  0.527184\n9    b  0.757488  0.959226  0.849573"
     },
     "execution_count": 40,
     "metadata": {},
     "output_type": "execute_result"
    }
   ],
   "source": [
    "# Construindo DataFrame a partir de um dicionário\n",
    "df = pd.DataFrame({'key1': ['a','c','b','c','a','a','b','a','c','b'],\n",
    "                  'data0': np.random.uniform(low=0,high=1,size=10),\n",
    "                  'data1': np.random.uniform(low=0,high=1,size=10),\n",
    "                  'data2': np.random.uniform(low=0,high=1,size=10)})\n",
    "\n",
    "df"
   ]
  },
  {
   "cell_type": "code",
   "execution_count": 18,
   "metadata": {
    "colab": {
     "base_uri": "https://localhost:8080/",
     "height": 241
    },
    "colab_type": "code",
    "executionInfo": {
     "elapsed": 1229,
     "status": "ok",
     "timestamp": 1576354004420,
     "user": {
      "displayName": "Bruno Gomes Coelho",
      "photoUrl": "",
      "userId": "05092110984953098563"
     },
     "user_tz": 180
    },
    "id": "d5irFvBj_Ch_",
    "outputId": "16bf2268-b771-493b-b289-3c8f5c8a6c3d"
   },
   "outputs": [
    {
     "name": "stdout",
     "output_type": "stream",
     "text": [
      "média de cada grupo\n",
      "          data0     data1     data2\n",
      "key1                              \n",
      "a     0.475076  0.581153  0.428277\n",
      "b     0.339218  0.502673  0.607236\n",
      "c     0.500801  0.561973  0.513310\n",
      "\n",
      "   key1     data0     data1     data2        d1        d2        d3\n",
      "0    a  0.752687  0.703462  0.816468  0.277611  0.122309  0.388191\n",
      "1    c  0.711394  0.237431  0.616238  0.210592 -0.324542  0.102928\n",
      "2    b  0.138789  0.629330  0.752405 -0.200429  0.126657  0.145169\n",
      "3    c  0.390139  0.659471  0.717868 -0.110662  0.097498  0.204558\n",
      "4    a  0.118797  0.835410  0.392499 -0.356279  0.254257 -0.035778\n",
      "5    a  0.811809  0.079336  0.360627  0.336733 -0.501817 -0.067650\n",
      "6    b  0.752516  0.294782  0.900429  0.413298 -0.207890  0.293193\n",
      "7    a  0.217012  0.706405  0.143515 -0.258064  0.125252 -0.284762\n",
      "8    c  0.400872  0.789017  0.205824 -0.099930  0.227044 -0.307486\n",
      "9    b  0.126350  0.583906  0.168874 -0.212868  0.081233 -0.438362\n"
     ]
    }
   ],
   "source": [
    "# Calcula a diferença entre a média do grupo e \n",
    "# o elemento do grupo (em cada coluna)\n",
    "print('média de cada grupo\\n',df.groupby(\"key1\").mean())\n",
    "\n",
    "df[['d1','d2','d3']] = df.groupby(\"key1\").transform(lambda x: x-x.mean())\n",
    "print('\\n',df)"
   ]
  },
  {
   "cell_type": "markdown",
   "metadata": {},
   "source": [
    "O método <font color='blue'>apply</font> aplica uma função em cada grupo e retorna um DataFrame com o resultado da função em cada grupo. Os rótulos das linhas do DataFrame gerado são os identificadores dos grupos. O método <font color='blue'>apply</font> é o mais versátil dos métodos de transformação."
   ]
  },
  {
   "cell_type": "code",
   "execution_count": 41,
   "metadata": {},
   "outputs": [
    {
     "data": {
      "text/html": "<div>\n<style scoped>\n    .dataframe tbody tr th:only-of-type {\n        vertical-align: middle;\n    }\n\n    .dataframe tbody tr th {\n        vertical-align: top;\n    }\n\n    .dataframe thead th {\n        text-align: right;\n    }\n</style>\n<table border=\"1\" class=\"dataframe\">\n  <thead>\n    <tr style=\"text-align: right;\">\n      <th></th>\n      <th>key1</th>\n      <th>data0</th>\n      <th>data1</th>\n      <th>data2</th>\n    </tr>\n  </thead>\n  <tbody>\n    <tr>\n      <th>0</th>\n      <td>a</td>\n      <td>0.999393</td>\n      <td>0.134854</td>\n      <td>0.340989</td>\n    </tr>\n    <tr>\n      <th>1</th>\n      <td>c</td>\n      <td>0.117748</td>\n      <td>0.744118</td>\n      <td>0.230955</td>\n    </tr>\n    <tr>\n      <th>2</th>\n      <td>b</td>\n      <td>0.495444</td>\n      <td>0.262164</td>\n      <td>0.952003</td>\n    </tr>\n    <tr>\n      <th>3</th>\n      <td>c</td>\n      <td>0.865078</td>\n      <td>0.721211</td>\n      <td>0.742631</td>\n    </tr>\n    <tr>\n      <th>4</th>\n      <td>a</td>\n      <td>0.670826</td>\n      <td>0.189563</td>\n      <td>0.009071</td>\n    </tr>\n    <tr>\n      <th>5</th>\n      <td>a</td>\n      <td>0.152570</td>\n      <td>0.527849</td>\n      <td>0.239987</td>\n    </tr>\n    <tr>\n      <th>6</th>\n      <td>b</td>\n      <td>0.061284</td>\n      <td>0.628577</td>\n      <td>0.639319</td>\n    </tr>\n    <tr>\n      <th>7</th>\n      <td>a</td>\n      <td>0.293411</td>\n      <td>0.791821</td>\n      <td>0.135858</td>\n    </tr>\n    <tr>\n      <th>8</th>\n      <td>c</td>\n      <td>0.496162</td>\n      <td>0.961006</td>\n      <td>0.721076</td>\n    </tr>\n    <tr>\n      <th>9</th>\n      <td>b</td>\n      <td>0.561485</td>\n      <td>0.978343</td>\n      <td>0.845561</td>\n    </tr>\n  </tbody>\n</table>\n</div>",
      "text/plain": "  key1     data0     data1     data2\n0    a  0.999393  0.134854  0.340989\n1    c  0.117748  0.744118  0.230955\n2    b  0.495444  0.262164  0.952003\n3    c  0.865078  0.721211  0.742631\n4    a  0.670826  0.189563  0.009071\n5    a  0.152570  0.527849  0.239987\n6    b  0.061284  0.628577  0.639319\n7    a  0.293411  0.791821  0.135858\n8    c  0.496162  0.961006  0.721076\n9    b  0.561485  0.978343  0.845561"
     },
     "execution_count": 41,
     "metadata": {},
     "output_type": "execute_result"
    }
   ],
   "source": [
    "# Construindo DataFrame a partir de um dicionário\n",
    "df = pd.DataFrame({'key1': ['a','c','b','c','a','a','b','a','c','b'],\n",
    "                  'data0': np.random.uniform(low=0,high=1,size=10),\n",
    "                  'data1': np.random.uniform(low=0,high=1,size=10),\n",
    "                  'data2': np.random.uniform(low=0,high=1,size=10)})\n",
    "\n",
    "df"
   ]
  },
  {
   "cell_type": "code",
   "execution_count": 42,
   "metadata": {},
   "outputs": [
    {
     "name": "stdout",
     "output_type": "stream",
     "text": [
      "a\n",
      "  key1     data0     data1     data2\n",
      "0    a  0.999393  0.134854  0.340989\n",
      "4    a  0.670826  0.189563  0.009071\n",
      "5    a  0.152570  0.527849  0.239987\n",
      "7    a  0.293411  0.791821  0.135858\n",
      "b\n",
      "  key1     data0     data1     data2\n",
      "2    b  0.495444  0.262164  0.952003\n",
      "6    b  0.061284  0.628577  0.639319\n",
      "9    b  0.561485  0.978343  0.845561\n",
      "c\n",
      "  key1     data0     data1     data2\n",
      "1    c  0.117748  0.744118  0.230955\n",
      "3    c  0.865078  0.721211  0.742631\n",
      "8    c  0.496162  0.961006  0.721076\n"
     ]
    }
   ],
   "source": [
    "for groupname, group in df.groupby(\"key1\"):\r\n",
    "    print(groupname)\r\n",
    "    print(group)"
   ]
  },
  {
   "cell_type": "code",
   "execution_count": 43,
   "metadata": {},
   "outputs": [
    {
     "name": "stdout",
     "output_type": "stream",
     "text": [
      "         data0     data1     data2\n",
      "key1                              \n",
      "a     0.846823  0.656967  0.331919\n",
      "b     0.500201  0.716179  0.312685\n",
      "c     0.747330  0.239795  0.511676\n",
      "key1\n",
      "a    0.331919\n",
      "b    0.312685\n",
      "c    0.239795\n",
      "dtype: float64\n"
     ]
    }
   ],
   "source": [
    "# agrupando pela coluna 'key1' e calculando a \n",
    "# diferença entre o maior e o menor valor de cada coluna em cada grupo\n",
    "# e retornando a menor diferença\n",
    "\n",
    "# diferença entre o maior e menor valor em cada coluna em cada grupo\n",
    "print(df.groupby('key1').apply(lambda x: (x.max()-x.min())))\n",
    "\n",
    "# menor diferença em cada grupo\n",
    "max_min = df.groupby('key1').apply(lambda x: (x.max()-x.min()).sort_values()[0])\n",
    "print(max_min)"
   ]
  },
  {
   "cell_type": "markdown",
   "metadata": {
    "colab_type": "text",
    "id": "ChkhhAl0hNkc"
   },
   "source": [
    "**Comentário: MapReduce**\n",
    "\n",
    "Embora frequentemente chamamos qualquer operação split-apply-combine de _MapReduce_, originalmente esse nome foi dado ao modelo de programação desenvolvido pela Apache.\n",
    "\n",
    "Sua funcionalidade é a mesma do _GroupBy_ do Pandas, porém foi implementado para operar em grandes volumes de dados utilizando algoritmos distribuidos em uma arquitetura de computação paralela (cluster de computadores), garantindo que cada máquina opere sobre um subconjunto específico dos dados, sendo o padrão para tecnologias de Big Data como [Hadoop](https://hadoop.apache.org/)\n"
   ]
  }
 ],
 "metadata": {
  "colab": {
   "collapsed_sections": [],
   "name": "Pandas II.ipynb",
   "provenance": []
  },
  "kernelspec": {
   "display_name": "Python 3.9.2 64-bit",
   "name": "python392jvsc74a57bd0ac59ebe37160ed0dfa835113d9b8498d9f09ceb179beaac4002f036b9467c963"
  },
  "language_info": {
   "codemirror_mode": {
    "name": "ipython",
    "version": 3
   },
   "file_extension": ".py",
   "mimetype": "text/x-python",
   "name": "python",
   "nbconvert_exporter": "python",
   "pygments_lexer": "ipython3",
   "version": "3.9.2"
  },
  "metadata": {
   "interpreter": {
    "hash": "ac59ebe37160ed0dfa835113d9b8498d9f09ceb179beaac4002f036b9467c963"
   }
  },
  "toc": {
   "base_numbering": 1,
   "nav_menu": {},
   "number_sections": true,
   "sideBar": true,
   "skip_h1_title": false,
   "title_cell": "Table of Contents",
   "title_sidebar": "Contents",
   "toc_cell": false,
   "toc_position": {},
   "toc_section_display": true,
   "toc_window_display": false
  }
 },
 "nbformat": 4,
 "nbformat_minor": 1
}