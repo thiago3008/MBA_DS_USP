{
 "metadata": {
  "language_info": {
   "codemirror_mode": {
    "name": "ipython",
    "version": 3
   },
   "file_extension": ".py",
   "mimetype": "text/x-python",
   "name": "python",
   "nbconvert_exporter": "python",
   "pygments_lexer": "ipython3",
   "version": "3.8.5-final"
  },
  "orig_nbformat": 2,
  "kernelspec": {
   "name": "python3",
   "display_name": "Python 3.8.5 32-bit",
   "metadata": {
    "interpreter": {
     "hash": "ef1a5d0b392b78fa6b938496ed158b31a5708e64beeadf2ab287f2b43192d531"
    }
   }
  }
 },
 "nbformat": 4,
 "nbformat_minor": 2,
 "cells": [
  {
   "source": [
    "# (1) Considere a lista lt abaixo. Escreva um código para calcular quantos números são múltiplos de 2 e quantos são múltiplos de 3."
   ],
   "cell_type": "markdown",
   "metadata": {}
  },
  {
   "cell_type": "code",
   "execution_count": 3,
   "metadata": {},
   "outputs": [
    {
     "output_type": "stream",
     "name": "stdout",
     "text": [
      "20\n15\n"
     ]
    }
   ],
   "source": [
    "lt = [99, 128, 185, 19, 215, 493, 104, 78, 248, 299, 278, 141, 467, 212, 465, 130, 320, 35, 148, 351, 176,\\\n",
    "    366,373, 256, 314, 354, 188, 259, 443, 81, 447, 313, 368, 197, 185, 328, 275, 269, 153, 495, 155, 312,\\\n",
    "        87, 141, 413, 129, 106, 44, 245, 479]\n",
    "\n",
    "mult2 = 0\n",
    "mult3 = 0\n",
    "\n",
    "for num in lt:\n",
    "    if num % 2 == 0:\n",
    "        mult2 += 1\n",
    "    if num % 3 == 0:\n",
    "        mult3 += 1\n",
    "\n",
    "print(mult2)\n",
    "print(mult3)"
   ]
  },
  {
   "source": [
    "# (2) Considere a lista palavras abaixo. Escreva um código para encontrar a palavra com o maior número de letras (caracteres). A palavra é:"
   ],
   "cell_type": "markdown",
   "metadata": {}
  },
  {
   "cell_type": "code",
   "execution_count": 24,
   "metadata": {},
   "outputs": [
    {
     "output_type": "stream",
     "name": "stdout",
     "text": [
      "Inicia variável 'maior' = adeus\nTamanho inicial 'maior' = 5\n\nPalavra: adeus - Tamanho: 5 || Maior: adeus - Tamanho: 5\nPalavra: adoravel - Tamanho: 8 || Maior: adeus - Tamanho: 5\nEntrou na condicional 'len(palavra) > len(maior)'\nPalavra: amor - Tamanho: 4 || Maior: adoravel - Tamanho: 8\nPalavra: caminhos - Tamanho: 8 || Maior: adoravel - Tamanho: 8\nPalavra: chuva - Tamanho: 5 || Maior: adoravel - Tamanho: 8\nPalavra: coragem - Tamanho: 7 || Maior: adoravel - Tamanho: 8\nPalavra: cuidar - Tamanho: 6 || Maior: adoravel - Tamanho: 8\nPalavra: equilibrio - Tamanho: 10 || Maior: adoravel - Tamanho: 8\nEntrou na condicional 'len(palavra) > len(maior)'\nPalavra: esperanca - Tamanho: 9 || Maior: equilibrio - Tamanho: 10\nPalavra: felicidade - Tamanho: 10 || Maior: equilibrio - Tamanho: 10\nPalavra: gentilezas - Tamanho: 10 || Maior: equilibrio - Tamanho: 10\nPalavra: liberdade - Tamanho: 9 || Maior: equilibrio - Tamanho: 10\nPalavra: melancolia - Tamanho: 10 || Maior: equilibrio - Tamanho: 10\nPalavra: paz - Tamanho: 3 || Maior: equilibrio - Tamanho: 10\nPalavra: respeito - Tamanho: 8 || Maior: equilibrio - Tamanho: 10\nPalavra: riso - Tamanho: 4 || Maior: equilibrio - Tamanho: 10\nPalavra: saudade - Tamanho: 7 || Maior: equilibrio - Tamanho: 10\nPalavra: palimpsesto - Tamanho: 11 || Maior: equilibrio - Tamanho: 10\nEntrou na condicional 'len(palavra) > len(maior)'\nPalavra: perfeito - Tamanho: 8 || Maior: palimpsesto - Tamanho: 11\nPalavra: reciproco - Tamanho: 9 || Maior: palimpsesto - Tamanho: 11\nPalavra: recomeçar - Tamanho: 9 || Maior: palimpsesto - Tamanho: 11\nPalavra: resiliente - Tamanho: 10 || Maior: palimpsesto - Tamanho: 11\nPalavra: sentir - Tamanho: 6 || Maior: palimpsesto - Tamanho: 11\nPalavra: silencio - Tamanho: 8 || Maior: palimpsesto - Tamanho: 11\nPalavra: imprescindivel - Tamanho: 14 || Maior: palimpsesto - Tamanho: 11\nEntrou na condicional 'len(palavra) > len(maior)'\nPalavra: sublime - Tamanho: 7 || Maior: imprescindivel - Tamanho: 14\nPalavra: tertulias - Tamanho: 9 || Maior: imprescindivel - Tamanho: 14\n\nMaior palavra: imprescindivel\n"
     ]
    }
   ],
   "source": [
    "palavras = ['adeus','adoravel','amor','caminhos','chuva','coragem','cuidar','equilibrio',\\\n",
    "    'esperanca','felicidade','gentilezas','liberdade','melancolia','paz','respeito',\\\n",
    "        'riso','saudade','palimpsesto','perfeito','reciproco','recomeçar','resiliente',\\\n",
    "            'sentir','silencio','imprescindivel','sublime','tertulias']\n",
    "\n",
    "maior = palavras[0]\n",
    "print(f\"Inicia variável 'maior' = {maior}\")\n",
    "print(f\"Tamanho inicial 'maior' = {len(maior)}\\n\")\n",
    "\n",
    "for palavra in palavras:\n",
    "    print(f\"Palavra: {palavra} - Tamanho: {len(palavra)} || Maior: {maior} - Tamanho: \\\n",
    "{len(maior)}\")\n",
    "    if len(palavra) > len(maior):\n",
    "        print(f\"Entrou na condicional 'len(palavra) > len(maior)'\")\n",
    "        maior = palavra\n",
    "\n",
    "print(f\"\\nMaior palavra: {maior}\")\n"
   ]
  },
  {
   "source": [
    "# (3-5) Os exercícios de 3 a 5 abaixo fazem uso da lista de tuplas dados_deputados definida no arquivo disponibilizado. Cada elemento da lista corresponde a uma tupla com nome de um deputado, estado e partido ao qual o deputado pertence e o valor de reembolso solicitado em um determinado mês do ano, ou seja:\n",
    "\n",
    "dados_deputados = [(NOME, ESTADO, PARTIDO, VALOR),\n",
    "                   (NOME, ESTADO, PARTIDO, VALOR),\n",
    "                   ...\n",
    "                   (NOME, ESTADO, PARTIDO, VALOR)]\n"
   ],
   "cell_type": "markdown",
   "metadata": {}
  },
  {
   "source": [
    "# (3) Escreva um código para calcular o valor total dos reembolsos solicitado."
   ],
   "cell_type": "markdown",
   "metadata": {}
  },
  {
   "cell_type": "code",
   "execution_count": null,
   "metadata": {},
   "outputs": [],
   "source": []
  }
 ]
}