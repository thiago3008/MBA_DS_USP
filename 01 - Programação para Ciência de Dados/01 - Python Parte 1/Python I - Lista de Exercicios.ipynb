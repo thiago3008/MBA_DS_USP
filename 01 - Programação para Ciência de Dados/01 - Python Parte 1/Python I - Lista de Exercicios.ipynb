{
 "cells": [
  {
   "cell_type": "markdown",
   "metadata": {},
   "source": [
    "# <span style=\"color:blue\"> MBA em Ciência de Dados</span>\n",
    "# <span style=\"color:blue\">Programação para Ciência de Dados</span>\n",
    "\n",
    "## <span style=\"color:blue\">Exercícios Python Parte I</span>\n",
    "**Material Produzido por Luis Gustavo Nonato**<br>\n",
    "**Cemeai - ICMC/USP São Carlos**"
   ]
  },
  {
   "cell_type": "markdown",
   "metadata": {},
   "source": [
    "#### <span style=\"color:red\">Recomenda-se fortemente que os exercícios sejam feitos sem consultar as respostas antecipadamente.</span>"
   ]
  },
  {
   "cell_type": "markdown",
   "metadata": {},
   "source": [
    "### Exercício 1)\n",
    "Declare duas variáveis chamadas *preco_dolar* e *preco_celular_em_dolar* com os valores *5.12* e *849*, respectivamente. Realize a conversão do preço do celular para real e imprima o resultado"
   ]
  },
  {
   "cell_type": "code",
   "execution_count": 5,
   "metadata": {},
   "outputs": [
    {
     "output_type": "stream",
     "name": "stdout",
     "text": [
      "Preço do Celular: R$ 4346.88\n"
     ]
    }
   ],
   "source": [
    "preco_dolar = 5.12\n",
    "preco_celular_em_dolar = 849\n",
    "\n",
    "print(\"Preço do Celular: R$\",preco_dolar*preco_celular_em_dolar)"
   ]
  },
  {
   "cell_type": "markdown",
   "metadata": {},
   "source": [
    "### Exercício 2)\n",
    "Considere o conjunto de valores armazenados na lista `valores` descrita abaixo. Utilizando um laço \"_for_\" percorra a lista e calcule:\n",
    "- A média dos valores\n",
    "- O maior valor\n",
    "- O menor valor\n",
    "\n",
    "Armazene os resultados nas variáveis *media*, *maximo* e *minimo*. Imprima os valores obtidos."
   ]
  },
  {
   "cell_type": "code",
   "execution_count": 1,
   "metadata": {},
   "outputs": [
    {
     "output_type": "stream",
     "name": "stdout",
     "text": [
      "Media =  0.11705882352941177\nMaximo =  0.99\nMinimo =  -0.97\n"
     ]
    }
   ],
   "source": [
    "valores = [-0.85,-0.64,0.93,0.73,0.34,0.90,0.39,\n",
    "           0.04,0.32,0.99,-0.71,-0.97,0.04,0.30,0.47,0.46,-0.75]\n",
    "\n",
    "# escreva o codigo aqui\n",
    "soma = 0\n",
    "minimo = valores[0]\n",
    "maximo = valores[0]\n",
    "\n",
    "\n",
    "for val in valores:\n",
    "    soma += val\n",
    "    if val < minimo:\n",
    "        minimo = val\n",
    "    if val > maximo:\n",
    "        maximo = val\n",
    "\n",
    "media = soma / len(valores)\n",
    "print('Media = ',media)\n",
    "print('Maximo = ',maximo)\n",
    "print('Minimo = ',minimo)\n"
   ]
  },
  {
   "cell_type": "markdown",
   "metadata": {},
   "source": [
    "### Exercício 3)\n",
    "Dada a lista `meus_numeros` abaixo, crie uma nova lista chamada `meus_numeros3` contendo apenas elementos de `meus_numeros` que são multiplos de 3.\n",
    "\n",
    "__Dica:__ Utilize o operador binário <font color='blue'>'%'</font> que retorna o resto da divisão de um número por outro. Por exemplo:\n",
    "```python\n",
    "print(22%6)\n",
    "```\n",
    "resulta no valor 4"
   ]
  },
  {
   "cell_type": "code",
   "execution_count": 15,
   "metadata": {},
   "outputs": [
    {
     "output_type": "stream",
     "name": "stdout",
     "text": [
      "[342, 12, 45, 123, 567]\n"
     ]
    }
   ],
   "source": [
    "meus_numeros = [1, 56, 342, 12, 781, 23, 43, 45, 123, 567]\n",
    "meus_numeros3 = []\n",
    "\n",
    "for num in meus_numeros:\n",
    "    if num%3==0:\n",
    "        meus_numeros3.append(num)\n",
    "        \n",
    "print(meus_numeros3)"
   ]
  },
  {
   "cell_type": "markdown",
   "metadata": {},
   "source": [
    "### Exercício 4)\n",
    "Considere a lista `minha_lista` declarada abaixo. \n",
    "- Utilizando \"slicing\", imprima o subconjunto de elementos entre o segundo e o quarto elemento (inclusive)\n",
    "- Gere uma nova lista chamada `maiores4` contendo os elementos da lista `minha_lista` que possuam quatro caracteres ou mais.\n",
    "- Gere uma nova lista chamada `j_ou_c` contendo os elementos da lista `minha_lista` que começam com a letra j ou com a letra c."
   ]
  },
  {
   "cell_type": "code",
   "execution_count": 25,
   "metadata": {},
   "outputs": [
    {
     "output_type": "stream",
     "name": "stdout",
     "text": [
      "['java', 'c++', 'javascript']\n['python', 'java', 'javascript']\n['java', 'c++', 'javascript', 'c#']\n"
     ]
    }
   ],
   "source": [
    "minha_lista = ['python', 'java', 'c++', 'javascript', 'c#', 'go', 'r']\n",
    "\n",
    "# escreva o codigo aqui\n",
    "\n",
    "# Utilizando \"slicing\", imprima o subconjunto de elementos entre o segundo e o quarto elemento (inclusive)\n",
    "print(minha_lista[1:4])\n",
    "\n",
    "# Gere uma nova lista chamada maiores4 contendo os elementos da lista minha_lista que possuam quatro caracteres ou mais.\n",
    "maiores4 = []\n",
    "for val in minha_lista:\n",
    "    if len(val)>=4:\n",
    "        maiores4.append(val)\n",
    "print(maiores4)\n",
    "\n",
    "# Gere uma nova lista chamada j_ou_c contendo os elementos da lista minha_lista que começam com a letra j ou com a letra c.\n",
    "j_ou_c = []\n",
    "for val in minha_lista:\n",
    "    if val[0] == 'j' or val[0] == 'c': j_ou_c.append(val)\n",
    "print(j_ou_c)"
   ]
  },
  {
   "cell_type": "markdown",
   "metadata": {},
   "source": [
    "### Exercício 5) \n",
    "Considere a lista `minhas_notas` definida abaixo, onde cada elemento é uma lista que representa notas dadas a um produto. Calcule a média de notas de cada produto, salvando o resultado em uma nova lista chamada `notas_medias`.\n",
    "\n",
    "__Dica:__ Utilize o comando <font color='blue'>'sum'</font> do Python para somar os valores em uma lista. Por exemplo:\n",
    "```python\n",
    "ls = [1,1,1,1,1]\n",
    "print(sum(ls))\n",
    "```\n",
    "resulta no valor 5"
   ]
  },
  {
   "cell_type": "code",
   "execution_count": 23,
   "metadata": {},
   "outputs": [
    {
     "output_type": "stream",
     "name": "stdout",
     "text": [
      "[2.6666666666666665, 5.7749999999999995, 8.16, 8.7, 3.5250000000000004]\n"
     ]
    }
   ],
   "source": [
    "minhas_notas = [[2.3, 4.5, 1.2], # Notas do produto 1\n",
    "                [5.4, 3.6, 7.9, 6.2], # Notas do produto 2\n",
    "                [8.1, 8.9, 6.5, 7.9, 9.4], # ...\n",
    "                [9.8, 7.6],\n",
    "                [3.2, 4.5, 1.6, 4.8]]\n",
    "\n",
    "# escreva o codigo aqui\n",
    "notas_medias = []\n",
    "for notas_prod in minhas_notas: notas_medias.append( sum(notas_prod)/len(notas_prod) )\n",
    "\n",
    "print(notas_medias)"
   ]
  },
  {
   "cell_type": "markdown",
   "metadata": {},
   "source": [
    "### Exercício 6) \n",
    "Considerando a lista `nomes` a abaixo. Crie uma nova lista chamada `nomes_o` com os elementos da lista `nomes` que possuam a letra  'o' como parte do nome. Para isso, utilize o comando <font color='blue'>'in'</font> disponível no Python para verificar se uma substring esta contida em outra. \n",
    "\n",
    "Por exemplo, o código abaixo:\n",
    "```python\n",
    "print('us' in 'Gustavo')\n",
    "```\n",
    "imprime como resultado:\n",
    "```python\n",
    "True\n",
    "```"
   ]
  },
  {
   "cell_type": "code",
   "execution_count": 2,
   "metadata": {},
   "outputs": [
    {
     "output_type": "stream",
     "name": "stdout",
     "text": [
      "['Gustavo', 'Hugo', 'Ricardo']\n"
     ]
    }
   ],
   "source": [
    "nomes = ['Matheus', 'Gabriel', 'Gustavo', 'Hugo', 'Ricardo', 'Rui', 'Guilherme', 'Luiz']\n",
    "\n",
    "# escreva o codigo aqui\n",
    "nomes_o = []\n",
    "\n",
    "for nome in nomes:\n",
    "    if 'o' in nome: nomes_o.append(nome)\n",
    "    #for letra in nome:\n",
    "    #    if letra == 'o': nomes_o.append(nome)\n",
    "\n",
    "print(nomes_o)"
   ]
  },
  {
   "cell_type": "markdown",
   "metadata": {},
   "source": [
    "### Exercício 7) \n",
    "Ainda utilizando a lista `nomes` definida acima, crie uma nova lista chamada `concatenados` com os elementos da lista `nomes`, porém, elementos começando com a mesma letra devem ser concatenados em um único elemento, ou seja, a lista resultante deve ser: \n",
    "```python\n",
    "['Matheus', 'GabrielGustavoGuilherme', 'Hugo', 'RicardoRui', 'Luiz']\n",
    "```\n",
    "__Dica:__ Crie um dicionario onde a chave corresponde a uma letra e o valor a uma string que pode ser concatenada caso o valor não seja vazio. Você pode utilizar o comando <font color='blue'>'in'</font> para verificar se uma chave existe em um dicionário. Por exemplo, o código:\n",
    "```python\n",
    "dc = {'c1': 0, 'c2':1, 'c3':2}\n",
    "print('c2' in dc)\n",
    "```\n",
    "imprime como resultado:\n",
    "```python\n",
    "True\n",
    "```"
   ]
  },
  {
   "cell_type": "code",
   "execution_count": 22,
   "metadata": {},
   "outputs": [
    {
     "output_type": "stream",
     "name": "stdout",
     "text": [
      "['Matheus', 'GabrielGustavoGuilherme', 'Hugo', 'RicardoRui', 'Luiz']\n"
     ]
    }
   ],
   "source": [
    "nomes = ['Matheus', 'Gabriel', 'Gustavo', 'Hugo', 'Ricardo', 'Rui', 'Guilherme', 'Luiz']\n",
    "\n",
    "# Declaring empty dictionary \n",
    "dc = {}\n",
    "\n",
    "# escreva o codigo aqui\n",
    "for nome in nomes:\n",
    "  \n",
    "    # If key is not present in the dictionary then we \n",
    "    # will add the key and word to the dictionary. \n",
    "    if (nome[0] not in dc.keys()): \n",
    "        dc[nome[0]] = nome    \n",
    "  \n",
    "    # If key is present then checking for the word \n",
    "    else: \n",
    "        dc[nome[0]] += nome            \n",
    "  \n",
    "# Printing the dictionary \n",
    "concatenados = list(dc.values())\n",
    "print(concatenados)"
   ]
  },
  {
   "cell_type": "markdown",
   "metadata": {},
   "source": [
    "### Exercício 8) \n",
    "Dado o dicionário abaixo, o qual contém valores de imóveis pertencentes a uma pessoa, escreva um código para encontrar qual é o imóvel de maior valor, salvando a chave correspondente em uma variável tipo string."
   ]
  },
  {
   "cell_type": "code",
   "execution_count": 45,
   "metadata": {},
   "outputs": [
    {
     "output_type": "stream",
     "name": "stdout",
     "text": [
      "Imovel de maior valor:  Sitio com lago\n"
     ]
    }
   ],
   "source": [
    "preco_imoveis = {'Apartamento centro': 1250000,\n",
    "               'Apartamento suburbio': 500000,\n",
    "               'Casa cinco quartos': 750000,\n",
    "               'Casa com garagem': 300000,\n",
    "               'Casa com piscina': 1200000,\n",
    "               'Sitio pequeno': 3000000,\n",
    "               'Sitio com lago': 5500000}\n",
    "\n",
    "# escreva o codigo aqui\n",
    "for imovel, value in preco_imoveis.items():\n",
    "    if value == max(list(preco_imoveis.values())):\n",
    "        print(\"Imovel de maior valor: \",imovel)"
   ]
  },
  {
   "cell_type": "markdown",
   "metadata": {},
   "source": [
    "### Exercício 9) \n",
    "Repita o exercício anterior de modo a encontrar o imóvel de maior valor, porém, **NÃO** utilizando um laço <font color='blue'>'for'</font><br> no código.\n",
    "\n",
    "__Dica:__ Armazene os pares (chave, valor) em listas e utilize uma combinação do comando <font color='blue'>'max'</font> disponível no python com o método <font color='blue'>.index()</font> presente nos objetos tipo <font color='blue'>'list'</font>."
   ]
  },
  {
   "cell_type": "code",
   "execution_count": 3,
   "metadata": {},
   "outputs": [
    {
     "output_type": "stream",
     "name": "stdout",
     "text": [
      "Imovel de maior valor: Sitio com lago\n"
     ]
    }
   ],
   "source": [
    "# escreva o codigo aqui\n",
    "preco_imoveis2 = {'Apartamento centro': 1250000,\n",
    "               'Apartamento suburbio': 500000,\n",
    "               'Casa cinco quartos': 750000,\n",
    "               'Casa com garagem': 300000,\n",
    "               'Casa com piscina': 1200000,\n",
    "               'Sitio pequeno': 3000000,\n",
    "               'Sitio com lago': 5500000}\n",
    "\n",
    "# escreva o codigo aqui\n",
    "imoveis = list(preco_imoveis2.keys())\n",
    "valores = list(preco_imoveis2.values())\n",
    "\n",
    "print(\"Imovel de maior valor:\",imoveis[valores.index(max(valores))])"
   ]
  },
  {
   "cell_type": "markdown",
   "metadata": {},
   "source": [
    "### Exercício 10) \n",
    "Escreva um código para contar o número de ocorrências de cada letra na string `minha_string` fornecida abaixo e imprima os resultados.\n",
    "\n",
    "__Dica:__ Utilize um dicionário."
   ]
  },
  {
   "cell_type": "code",
   "execution_count": 4,
   "metadata": {},
   "outputs": [
    {
     "output_type": "stream",
     "name": "stdout",
     "text": [
      "s = 2\nc = 2\ni = 3\ne = 2\nn = 2\nt = 1\na = 1\nv = 1\n"
     ]
    }
   ],
   "source": [
    "minha_string = \"scientia vinces\"\n",
    "\n",
    "dc = {}\n",
    "for char in minha_string:\n",
    "    if char != ' ':\n",
    "        if (char not in dc.keys()): \n",
    "            dc[char] = 1  \n",
    "        else: \n",
    "            dc[char] += 1\n",
    "  \n",
    "#print(dc)\n",
    "for kv in dc.items():\n",
    "    print(kv[0],'=',kv[1])"
   ]
  },
  {
   "cell_type": "code",
   "execution_count": null,
   "metadata": {},
   "outputs": [],
   "source": []
  }
 ],
 "metadata": {
  "kernelspec": {
   "name": "python3",
   "display_name": "Python 3.9.1 64-bit",
   "metadata": {
    "interpreter": {
     "hash": "ac59ebe37160ed0dfa835113d9b8498d9f09ceb179beaac4002f036b9467c963"
    }
   }
  },
  "language_info": {
   "codemirror_mode": {
    "name": "ipython",
    "version": 3
   },
   "file_extension": ".py",
   "mimetype": "text/x-python",
   "name": "python",
   "nbconvert_exporter": "python",
   "pygments_lexer": "ipython3",
   "version": "3.9.1-final"
  },
  "toc": {
   "base_numbering": 1,
   "nav_menu": {},
   "number_sections": true,
   "sideBar": true,
   "skip_h1_title": false,
   "title_cell": "Table of Contents",
   "title_sidebar": "Contents",
   "toc_cell": false,
   "toc_position": {},
   "toc_section_display": true,
   "toc_window_display": false
  }
 },
 "nbformat": 4,
 "nbformat_minor": 2
}