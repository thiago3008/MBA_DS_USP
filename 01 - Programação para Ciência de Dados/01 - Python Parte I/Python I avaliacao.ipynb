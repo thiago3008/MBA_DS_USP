{
 "cells": [
  {
   "cell_type": "markdown",
   "metadata": {},
   "source": [
    "# <span style=\"color:blue\"> MBA em Ciência de Dados</span>\n",
    "# <span style=\"color:blue\">Programação para Ciência de Dados</span>\n",
    "\n",
    "## <span style=\"color:blue\">Python Parte I: Avaliação</span>\n",
    "**Material Produzido por Luis Gustavo Nonato**<br>\n",
    "**Cemeai - ICMC/USP São Carlos**"
   ]
  },
  {
   "cell_type": "markdown",
   "metadata": {},
   "source": [
    "<font color='red'> As respostas devem ser fornecidas no Moodle. O notebook é apenas para a implementação dos códigos que fornecerão as respostas</font>"
   ]
  },
  {
   "cell_type": "markdown",
   "metadata": {},
   "source": [
    "### Exercício 1\n",
    "Considere a lista `lt` abaixo. Escreva um código para calcular quantos números são múltiplos de 2 e quantos são múltiplos de 3.\n",
    "\n",
    "a) múltiplos de 2 = 13; múltiplos de 3 = 20<br>\n",
    "b) múltiplos de 2 = 20; múltiplos de 3 = 15<br>\n",
    "c) múltiplos de 2 = 15; múltiplos de 3 = 7<br>\n",
    "d) múltiplos de 2 = 22; múltiplos de 3 = 20"
   ]
  },
  {
   "cell_type": "code",
   "execution_count": 1,
   "metadata": {},
   "outputs": [
    {
     "output_type": "stream",
     "name": "stdout",
     "text": [
      "20\n15\n"
     ]
    }
   ],
   "source": [
    "lt = [99, 128, 185, 19, 215, 493, 104, 78, 248, 299, 278, 141, 467, 212, 465, 130, 320, 35, 148, 351, 176,\\\n",
    "    366,373, 256, 314, 354, 188, 259, 443, 81, 447, 313, 368, 197, 185, 328, 275, 269, 153, 495, 155, 312,\\\n",
    "        87, 141, 413, 129, 106, 44, 245, 479]\n",
    "\n",
    "mult2 = 0\n",
    "mult3 = 0\n",
    "\n",
    "for num in lt:\n",
    "    if num % 2 == 0:\n",
    "        mult2 += 1\n",
    "    if num % 3 == 0:\n",
    "        mult3 += 1\n",
    "\n",
    "print(mult2)\n",
    "print(mult3)"
   ]
  },
  {
   "cell_type": "markdown",
   "metadata": {},
   "source": [
    "### Exercício 2\n",
    "Considere a lista `palavras` abaixo. Escreva um código para encontrar a plavra com o maior número de letras (caracteres). A palavra é:\n",
    "\n",
    "a) imprescindivel<br>\n",
    "b) resiliente<br>\n",
    "c) palimpsesto<br>\n",
    "d) melancolia"
   ]
  },
  {
   "cell_type": "code",
   "execution_count": 2,
   "metadata": {},
   "outputs": [
    {
     "output_type": "stream",
     "name": "stdout",
     "text": [
      "Inicia variável 'maior' = adeus\nTamanho inicial 'maior' = 5\n\nPalavra: adeus - Tamanho: 5 || Maior: adeus - Tamanho: 5\nPalavra: adoravel - Tamanho: 8 || Maior: adeus - Tamanho: 5\nEntrou na condicional 'len(palavra) > len(maior)'\nPalavra: amor - Tamanho: 4 || Maior: adoravel - Tamanho: 8\nPalavra: caminhos - Tamanho: 8 || Maior: adoravel - Tamanho: 8\nPalavra: chuva - Tamanho: 5 || Maior: adoravel - Tamanho: 8\nPalavra: coragem - Tamanho: 7 || Maior: adoravel - Tamanho: 8\nPalavra: cuidar - Tamanho: 6 || Maior: adoravel - Tamanho: 8\nPalavra: equilibrio - Tamanho: 10 || Maior: adoravel - Tamanho: 8\nEntrou na condicional 'len(palavra) > len(maior)'\nPalavra: esperanca - Tamanho: 9 || Maior: equilibrio - Tamanho: 10\nPalavra: felicidade - Tamanho: 10 || Maior: equilibrio - Tamanho: 10\nPalavra: gentilezas - Tamanho: 10 || Maior: equilibrio - Tamanho: 10\nPalavra: liberdade - Tamanho: 9 || Maior: equilibrio - Tamanho: 10\nPalavra: melancolia - Tamanho: 10 || Maior: equilibrio - Tamanho: 10\nPalavra: paz - Tamanho: 3 || Maior: equilibrio - Tamanho: 10\nPalavra: respeito - Tamanho: 8 || Maior: equilibrio - Tamanho: 10\nPalavra: riso - Tamanho: 4 || Maior: equilibrio - Tamanho: 10\nPalavra: saudade - Tamanho: 7 || Maior: equilibrio - Tamanho: 10\nPalavra: palimpsesto - Tamanho: 11 || Maior: equilibrio - Tamanho: 10\nEntrou na condicional 'len(palavra) > len(maior)'\nPalavra: perfeito - Tamanho: 8 || Maior: palimpsesto - Tamanho: 11\nPalavra: reciproco - Tamanho: 9 || Maior: palimpsesto - Tamanho: 11\nPalavra: recomeçar - Tamanho: 9 || Maior: palimpsesto - Tamanho: 11\nPalavra: resiliente - Tamanho: 10 || Maior: palimpsesto - Tamanho: 11\nPalavra: sentir - Tamanho: 6 || Maior: palimpsesto - Tamanho: 11\nPalavra: silencio - Tamanho: 8 || Maior: palimpsesto - Tamanho: 11\nPalavra: imprescindivel - Tamanho: 14 || Maior: palimpsesto - Tamanho: 11\nEntrou na condicional 'len(palavra) > len(maior)'\nPalavra: sublime - Tamanho: 7 || Maior: imprescindivel - Tamanho: 14\nPalavra: tertulias - Tamanho: 9 || Maior: imprescindivel - Tamanho: 14\n\nMaior palavra: imprescindivel\n"
     ]
    }
   ],
   "source": [
    "palavras = ['adeus','adoravel','amor','caminhos','chuva','coragem','cuidar','equilibrio',\\\n",
    "    'esperanca','felicidade','gentilezas','liberdade','melancolia','paz','respeito',\\\n",
    "        'riso','saudade','palimpsesto','perfeito','reciproco','recomeçar','resiliente',\\\n",
    "            'sentir','silencio','imprescindivel','sublime','tertulias']\n",
    "\n",
    "maior = palavras[0]\n",
    "print(f\"Inicia variável 'maior' = {maior}\")\n",
    "print(f\"Tamanho inicial 'maior' = {len(maior)}\\n\")\n",
    "\n",
    "for palavra in palavras:\n",
    "    print(f\"Palavra: {palavra} - Tamanho: {len(palavra)} || Maior: {maior} - Tamanho: \\\n",
    "{len(maior)}\")\n",
    "    if len(palavra) > len(maior):\n",
    "        print(f\"Entrou na condicional 'len(palavra) > len(maior)'\")\n",
    "        maior = palavra\n",
    "\n",
    "print(f\"\\nMaior palavra: {maior}\")\n"
   ]
  },
  {
   "cell_type": "markdown",
   "metadata": {},
   "source": [
    "---\n",
    "\n",
    "Os exercícios de 3 a 5 abaixo fazem uso da lista de tuplas `dados_deputados` definida abaixo. Cada elemento da lista corresponde a uma tupla com nome de um deputado, estado e partido ao qual o deputado pertence e o valor de reembolso solicitado em um determinado mês do ano, ou seja:\n",
    "\n",
    "```python\n",
    "dados_deputados = [(NOME, ESTADO, PARTIDO, VALOR),\n",
    "                   (NOME, ESTADO, PARTIDO, VALOR),\n",
    "                    ...\n",
    "                   (NOME, ESTADO, PARTIDO, VALOR)]\n",
    "```"
   ]
  },
  {
   "cell_type": "code",
   "execution_count": 3,
   "metadata": {},
   "outputs": [],
   "source": [
    "dados_deputados = [('JOSE STEDILE', 'RS', 'PSB', 106.03), ('BENITO GAMA', 'BA', 'PTB', 46.82),\n",
    "                   ('LUCIO VIEIRA LIMA', 'BA', 'PMDB', 332.0), ('FABIO REIS', 'SE', 'PMDB', 80.0), \n",
    "                   ('LUIZA ERUNDINA', 'SP', 'PSOL', 5.7), ('MAURO MARIANI', 'SC', 'PMDB', 526.68), \n",
    "                   ('MAJOR OLIMPIO', 'SP', 'SD', 38.1), ('BETINHO GOMES', 'PE', 'PSDB', 12000.0), \n",
    "                   ('PAULO ABI-ACKEL', 'MG', 'PSDB', 972.72), ('EZEQUIEL TEIXEIRA', 'RJ', 'PTN', 50.0), \n",
    "                   ('ADELMO CARNEIRO LEÃO', 'MG', 'PT', 709.72), ('HISSA ABRAHAO', 'AM', 'PDT', 1379.58), \n",
    "                   ('PAES LANDIM', 'PI', 'PTB', 1091.66), ('ANDRES SANCHEZ', 'SP', 'PT', 61.4), \n",
    "                   ('JOZI ARAUJO', 'AP', 'PTN', 141.0), ('ROBERTO FREIRE', 'SP', 'PPS', 161.88), \n",
    "                   ('ELIZIANE GAMA', 'MA', 'PPS', 546.73), ('CACA LEAO', 'BA', 'PP', 77.5), \n",
    "                   ('DIMAS FABIANO', 'MG', 'PP', 185.0), ('SILVIO TORRES', 'SP', 'PSDB', 233.0), \n",
    "                   ('RICARDO TEOBALDO ', 'PE', 'PTN', 50.0), ('ZECA DIRCEU', 'PR', 'PT', 499.29), \n",
    "                   ('ROCHA', 'AC', 'PSDB', 152.9), ('LAUDIVIO CARVALHO', 'MG', 'SD', 15.6), \n",
    "                   ('CRISTIANE BRASIL', 'RJ', 'PTB', 240.45), ('FABIO SOUSA', 'GO', 'PSDB', 80.0), \n",
    "                   ('CARLOS MANATO', 'ES', 'SD', 124.9), ('GONZAGA PATRIOTA', 'PE', 'PSB', 6.0), \n",
    "                   ('LUIZ COUTO', 'PB', 'PT', 868.83), ('EZEQUIEL TEIXEIRA', 'RJ', 'PTN', 710.45), \n",
    "                   ('MAURO LOPES', 'MG', 'PMDB', 92.6), ('MARCIO ALVINO', 'SP', 'PR', 5.2),\n",
    "                   ('ALEX SANTANA','BA','PDT',137.8),('AELTON FREITAS','MG','PR',27.9)]"
   ]
  },
  {
   "cell_type": "markdown",
   "metadata": {},
   "source": [
    "### Exercício 3\n",
    "Escreva um código para calcular o valor total dos reembolsos solicitado.\n",
    "\n",
    "\n",
    "a) 19783.71<br>\n",
    "b) 21757.44<br>\n",
    "c) 27136.50<br>\n",
    "d) 42313.13"
   ]
  },
  {
   "cell_type": "code",
   "execution_count": 4,
   "metadata": {},
   "outputs": [
    {
     "output_type": "stream",
     "name": "stdout",
     "text": [
      "Reembolsos total: R$21757.44\n"
     ]
    }
   ],
   "source": [
    "reembolsos_total = 0\n",
    "for dados_deputado in dados_deputados:\n",
    "    reembolsos_total+=dados_deputado[3]\n",
    "\n",
    "print(f\"Reembolsos total: R${reembolsos_total:.2f}\")"
   ]
  },
  {
   "cell_type": "markdown",
   "metadata": {},
   "source": [
    "### Exercício 4\n",
    "Escreva um código para encontrar qual estado possui o maior valor total de reembolsos, ou seja, somando os reembolsos de todos os deputados de cada estado, qual estado possui o maior valor de reembolso? Qual é o estado e o valor encontrados?\n",
    "\n",
    "__Dica:__ Crie um dicionário onde as chaves são os estados.\n",
    "\n",
    "a) SP, 9546.60<br>\n",
    "b) MA, 19456.87<br>\n",
    "c) MT, 11132.70<br>\n",
    "d) PE, 12056.00"
   ]
  },
  {
   "cell_type": "code",
   "execution_count": 24,
   "metadata": {},
   "outputs": [
    {
     "output_type": "stream",
     "name": "stdout",
     "text": [
      "RS = 106.03\nBA = 594.12\nSE = 80.00\nSP = 505.28\nSC = 526.68\nPE = 12056.00\nMG = 2003.54\nRJ = 1000.90\nAM = 1379.58\nPI = 1091.66\nAP = 141.00\nMA = 546.73\nPR = 499.29\nAC = 152.90\nGO = 80.00\nES = 124.90\nPB = 868.83\n\n\nEstado: RS -> Reembolso: R$106.03 || Est_maior:  -> Val_maior: R$0.00\nEntrou na condição 'keyv[1] > val_maior'\nEst_maior alterado para RS\nVal_maior alterado para R$106.03\n\nEstado: BA -> Reembolso: R$594.12 || Est_maior: RS -> Val_maior: R$106.03\nEntrou na condição 'keyv[1] > val_maior'\nEst_maior alterado para BA\nVal_maior alterado para R$594.12\n\nEstado: SE -> Reembolso: R$80.00 || Est_maior: BA -> Val_maior: R$594.12\n\n\nEstado: SP -> Reembolso: R$505.28 || Est_maior: BA -> Val_maior: R$594.12\n\n\nEstado: SC -> Reembolso: R$526.68 || Est_maior: BA -> Val_maior: R$594.12\n\n\nEstado: PE -> Reembolso: R$12056.00 || Est_maior: BA -> Val_maior: R$594.12\nEntrou na condição 'keyv[1] > val_maior'\nEst_maior alterado para PE\nVal_maior alterado para R$12056.0\n\nEstado: MG -> Reembolso: R$2003.54 || Est_maior: PE -> Val_maior: R$12056.00\n\n\nEstado: RJ -> Reembolso: R$1000.90 || Est_maior: PE -> Val_maior: R$12056.00\n\n\nEstado: AM -> Reembolso: R$1379.58 || Est_maior: PE -> Val_maior: R$12056.00\n\n\nEstado: PI -> Reembolso: R$1091.66 || Est_maior: PE -> Val_maior: R$12056.00\n\n\nEstado: AP -> Reembolso: R$141.00 || Est_maior: PE -> Val_maior: R$12056.00\n\n\nEstado: MA -> Reembolso: R$546.73 || Est_maior: PE -> Val_maior: R$12056.00\n\n\nEstado: PR -> Reembolso: R$499.29 || Est_maior: PE -> Val_maior: R$12056.00\n\n\nEstado: AC -> Reembolso: R$152.90 || Est_maior: PE -> Val_maior: R$12056.00\n\n\nEstado: GO -> Reembolso: R$80.00 || Est_maior: PE -> Val_maior: R$12056.00\n\n\nEstado: ES -> Reembolso: R$124.90 || Est_maior: PE -> Val_maior: R$12056.00\n\n\nEstado: PB -> Reembolso: R$868.83 || Est_maior: PE -> Val_maior: R$12056.00\n\n\n\nMaior reembolso:\nEstado: PE\nReembolso: R$12056.00\n"
     ]
    }
   ],
   "source": [
    "# escreva o código para encontrar a solução \n",
    "reembolso_estado = {}\n",
    "\n",
    "for dados_deputado in dados_deputados:\n",
    "    \n",
    "    # key is not present\n",
    "    if (dados_deputado[1] not in reembolso_estado.keys()):\n",
    "        reembolso_estado[dados_deputado[1]] = dados_deputado[3]        \n",
    "    # key is present\n",
    "    else:\n",
    "        reembolso_estado[dados_deputado[1]] += dados_deputado[3]\n",
    "\n",
    "for kv in reembolso_estado.items():\n",
    "    print(f\"{kv[0]} = {kv[1]:.2f}\")\n",
    "\n",
    "est_maior = ''\n",
    "val_maior = 0\n",
    "\n",
    "print('\\n')\n",
    "for keyv in reembolso_estado.items():\n",
    "    print(f\"Estado: {keyv[0]} -> Reembolso: R${keyv[1]:.2f} || Est_maior: {est_maior} -> Val_maior: R${val_maior:.2f}\")\n",
    "    if keyv[1] > val_maior:\n",
    "        print(\"Entrou na condição 'keyv[1] > val_maior'\")\n",
    "        est_maior = keyv[0]\n",
    "        print(f\"Est_maior alterado para {keyv[0]}\")\n",
    "        val_maior = keyv[1]\n",
    "        print(f\"Val_maior alterado para R${keyv[1]}\\n\")\n",
    "    else:\n",
    "        print(\"\\n\")\n",
    "\n",
    "print(f\"\\nMaior reembolso:\\nEstado: {est_maior]}\\nReembolso: R${val_maior:.2f}\")"
   ]
  },
  {
   "cell_type": "markdown",
   "metadata": {},
   "source": [
    "### Exercício 5\n",
    "Escreva um código para encontrar qual partido requisitou o menor número de reembolsos (não o valor, mas sim o número de vezes solicitadas).\n",
    "Qual o partido e a quantidade de vezes solicitadas?\n",
    "\n",
    "a) PTB, 3 vezes<br>\n",
    "b) PT, 2 vezes<br>\n",
    "c) PSOL, 1 vez<br>\n",
    "d) PMDB, 5 vezes"
   ]
  },
  {
   "cell_type": "code",
   "execution_count": 26,
   "metadata": {},
   "outputs": [
    {
     "output_type": "stream",
     "name": "stdout",
     "text": [
      "PSB = 2\nPTB = 3\nPMDB = 4\nPSOL = 1\nSD = 3\nPSDB = 5\nPTN = 4\nPT = 4\nPDT = 2\nPPS = 2\nPP = 2\nPR = 2\nPSOL\n"
     ]
    },
    {
     "output_type": "execute_result",
     "data": {
      "text/plain": [
       "'\\nest_maior = \\'\\'\\nval_maior = 0\\n\\nprint(\\'\\n\\')\\nfor keyv in reembolso_estado.items():\\n    print(f\"Estado: {keyv[0]} -> Reembolso: R${keyv[1]:.2f} || Est_maior: {est_maior} -> Val_maior: R${val_maior:.2f}\")\\n    if keyv[1] > val_maior:\\n        print(\"Entrou na condição \\'keyv[1] > val_maior\\'\")\\n        est_maior = keyv[0]\\n        print(f\"Est_maior alterado para {keyv[0]}\")\\n        val_maior = keyv[1]\\n        print(f\"Val_maior alterado para R${keyv[1]}\\n\")\\n    else:\\n        print(\"\\n\")\\n\\nprint(f\"\\nMaior reembolso:\\nEstado: {est_maior}\\nReembolso: R${val_maior:.2f}\")\\n'"
      ]
     },
     "metadata": {},
     "execution_count": 26
    }
   ],
   "source": [
    "# escreva o código para encontrar a solução \n",
    "cont_reembolso_partido = {}\n",
    "\n",
    "for dados_deputado in dados_deputados:\n",
    "    \n",
    "    # key is not present\n",
    "    if (dados_deputado[2] not in cont_reembolso_partido.keys()):\n",
    "        cont_reembolso_partido[dados_deputado[2]] = 1\n",
    "    # key is present\n",
    "    else:\n",
    "        cont_reembolso_partido[dados_deputado[2]] += 1\n",
    "\n",
    "for kv in cont_reembolso_partido.items():\n",
    "    print(f\"{kv[0]} = {kv[1]}\")\n",
    "\n",
    "\n",
    "'''\n",
    "est_maior = ''\n",
    "val_maior = 0\n",
    "\n",
    "print('\\n')\n",
    "for keyv in reembolso_estado.items():\n",
    "    print(f\"Estado: {keyv[0]} -> Reembolso: R${keyv[1]:.2f} || Est_maior: {est_maior} -> Val_maior: R${val_maior:.2f}\")\n",
    "    if keyv[1] > val_maior:\n",
    "        print(\"Entrou na condição 'keyv[1] > val_maior'\")\n",
    "        est_maior = keyv[0]\n",
    "        print(f\"Est_maior alterado para {keyv[0]}\")\n",
    "        val_maior = keyv[1]\n",
    "        print(f\"Val_maior alterado para R${keyv[1]}\\n\")\n",
    "    else:\n",
    "        print(\"\\n\")\n",
    "\n",
    "print(f\"\\nMaior reembolso:\\nEstado: {est_maior}\\nReembolso: R${val_maior:.2f}\")\n",
    "'''"
   ]
  },
  {
   "cell_type": "code",
   "execution_count": null,
   "metadata": {},
   "outputs": [],
   "source": []
  }
 ],
 "metadata": {
  "kernelspec": {
   "name": "python3",
   "display_name": "Python 3.8.5 32-bit",
   "metadata": {
    "interpreter": {
     "hash": "ef1a5d0b392b78fa6b938496ed158b31a5708e64beeadf2ab287f2b43192d531"
    }
   }
  },
  "language_info": {
   "codemirror_mode": {
    "name": "ipython",
    "version": 3
   },
   "file_extension": ".py",
   "mimetype": "text/x-python",
   "name": "python",
   "nbconvert_exporter": "python",
   "pygments_lexer": "ipython3",
   "version": "3.8.5-final"
  },
  "toc": {
   "base_numbering": 1,
   "nav_menu": {},
   "number_sections": true,
   "sideBar": true,
   "skip_h1_title": false,
   "title_cell": "Table of Contents",
   "title_sidebar": "Contents",
   "toc_cell": false,
   "toc_position": {},
   "toc_section_display": true,
   "toc_window_display": false
  }
 },
 "nbformat": 4,
 "nbformat_minor": 2
}