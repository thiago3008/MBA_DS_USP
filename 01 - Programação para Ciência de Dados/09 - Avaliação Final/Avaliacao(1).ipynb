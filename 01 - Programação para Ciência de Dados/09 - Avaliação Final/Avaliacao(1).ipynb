{
 "cells": [
  {
   "cell_type": "markdown",
   "metadata": {},
   "source": [
    "# <font color=\"blue\"> MBA em Ciência de Dados</font>\n",
    "# <font color=\"blue\">Programação para Ciência de Dados</font>\n",
    "\n",
    "## <font color=\"blue\">Avaliação Final</font>\n",
    "**Material Produzido por Luis Gustavo Nonato**<br>\n",
    "**Cemeai - ICMC/USP São Carlos**"
   ]
  },
  {
   "cell_type": "markdown",
   "metadata": {},
   "source": [
    "A avaliação vale 10 pontos. As questões de 1 a 4, caso respondidas da forma correta, já totalizam 10 pontos. A última questão é um bônus e se respondida corretamente pode ajudar na nota final, ou seja, caso tenha respondido incorretamente uma das questões de 1 a 4, mas tenha acertado a questão bônus, ainda poderá atingir 10 pontos."
   ]
  },
  {
   "cell_type": "markdown",
   "metadata": {},
   "source": [
    "<font color='red'>**ATENÇÃO:** Quando terminar o exame, você deve fazer um \"upload\" do notebook no _moodle_</font>."
   ]
  },
  {
   "cell_type": "markdown",
   "metadata": {},
   "source": [
    "Para responder as questões abaixo será necessário fazer uso do arquivo <font style=\"font-family: monaco\">covid.csv\"</font> disponível para download no _moodle_. As colunas do conjunto de dados fornecem informações sobre:\n",
    "- **'Country/Region'**: país onde os casos de COVID19 foram registrados\n",
    "- **'Lat'** e **'Long'**: latitude e longitude de referência\n",
    "- **'Date'**: data dos registros\n",
    "- **'Value'**: quantidade acumulada de casos registrados"
   ]
  },
  {
   "cell_type": "code",
   "execution_count": 1,
   "metadata": {},
   "outputs": [],
   "source": [
    "import numpy as np\n",
    "import pandas as pd"
   ]
  },
  {
   "cell_type": "markdown",
   "metadata": {},
   "source": [
    "### Questão 1 (2 pontos)\n",
    "Considerando os dados contidos no arquivo <font style=\"font-family: monaco\">covid.csv\"</font>:\n"
   ]
  },
  {
   "cell_type": "markdown",
   "metadata": {},
   "source": [
    "#### a) (0.5 pontos)\n",
    "Carregue o arquivo \"covid.csv\" e armazena em um pandas DataFrame."
   ]
  },
  {
   "cell_type": "code",
   "execution_count": 2,
   "metadata": {
    "scrolled": true
   },
   "outputs": [],
   "source": [
    "covid_df = pd.read_csv('covid.csv', header=0)\r\n",
    "#covid_df.head(10)"
   ]
  },
  {
   "cell_type": "markdown",
   "metadata": {},
   "source": [
    "#### b) (0.5 pontos)\n",
    "Elimine a primeira linha do DataFrame, a qual contém a informação:\n",
    "```python\n",
    "#adm1+name,#country+name,#geo+lat,#geo+lon,#date,#affected+infected+value+num\n",
    "```"
   ]
  },
  {
   "cell_type": "code",
   "execution_count": 3,
   "metadata": {},
   "outputs": [],
   "source": [
    "covid_df.drop(index=0,axis=0,inplace=True)\r\n",
    "#covid_df.head(10)"
   ]
  },
  {
   "cell_type": "markdown",
   "metadata": {},
   "source": [
    "#### c) (1 ponto)\r\n",
    "Verifique qual o tipo de dado da coluna \"Value\" e converta o tipo para inteiro (<font color='blue'>int</font>)."
   ]
  },
  {
   "cell_type": "code",
   "execution_count": 4,
   "metadata": {},
   "outputs": [
    {
     "name": "stdout",
     "output_type": "stream",
     "text": [
      "covid_df['Value'].dtype) before:  object\n",
      "covid_df['Value'].dtype) after:  int64\n"
     ]
    }
   ],
   "source": [
    "print(\"covid_df['Value'].dtype) before:\", covid_df['Value'].dtype)\r\n",
    "covid_df['Value'] = pd.to_numeric(covid_df['Value'])\r\n",
    "print(\"covid_df['Value'].dtype) after:\", covid_df['Value'].dtype)"
   ]
  },
  {
   "cell_type": "markdown",
   "metadata": {},
   "source": [
    "### Questão 2 (2 pontos)\n",
    "Devido a um erro de armazenamento de inteiros, alguns países apresentam mais de 8 bilhões de casos de COVID19 (valor da coluna \"Value\" maior ou igual a 8.000.000.000) \n",
    "\n",
    "Elimine as linhas onde o número de casos é maior ou igual a 8 bilhões."
   ]
  },
  {
   "cell_type": "code",
   "execution_count": 13,
   "metadata": {},
   "outputs": [
    {
     "data": {
      "text/html": "<div>\n<style scoped>\n    .dataframe tbody tr th:only-of-type {\n        vertical-align: middle;\n    }\n\n    .dataframe tbody tr th {\n        vertical-align: top;\n    }\n\n    .dataframe thead th {\n        text-align: right;\n    }\n</style>\n<table border=\"1\" class=\"dataframe\">\n  <thead>\n    <tr style=\"text-align: right;\">\n      <th></th>\n      <th>Country/Region</th>\n      <th>Lat</th>\n      <th>Long</th>\n      <th>Date</th>\n      <th>Value</th>\n    </tr>\n  </thead>\n  <tbody>\n  </tbody>\n</table>\n</div>",
      "text/plain": "Empty DataFrame\nColumns: [Country/Region, Lat, Long, Date, Value]\nIndex: []"
     },
     "execution_count": 13,
     "metadata": {},
     "output_type": "execute_result"
    }
   ],
   "source": [
    "covid_df = covid_df.drop(covid_df[covid_df[\"Value\"] > 8000000].index)\r\n",
    "\r\n",
    "# -- Verify --\r\n",
    "# covid_df[covid_df[\"Value\"] > 8000000]"
   ]
  },
  {
   "cell_type": "markdown",
   "metadata": {},
   "source": [
    "### Questão 3 (3 pontos)\n",
    "Qual registro contém o maior número de infectados? Exiba a data e o país deste registro"
   ]
  },
  {
   "cell_type": "code",
   "execution_count": 29,
   "metadata": {},
   "outputs": [
    {
     "name": "stdout",
     "output_type": "stream",
     "text": [
      "Registro com o maior nº de infectados: Id3364 - Total: 67800\n",
      "Data: 2020-03-18\n",
      "País: china\n"
     ]
    }
   ],
   "source": [
    "print(f'Registro com o maior nº de infectados: Id{covid_df[\"Value\"].idxmax()} - Total: {covid_df[\"Value\"].max()}')\r\n",
    "print(f'Data: {covid_df.loc[covid_df[\"Value\"].idxmax()][\"Date\"]}')\r\n",
    "print(f'País: {covid_df.loc[covid_df[\"Value\"].idxmax()][\"Country/Region\"]}')\r\n"
   ]
  },
  {
   "cell_type": "markdown",
   "metadata": {},
   "source": [
    "### Questão 4 (3 pontos)\n",
    "Quais são os três países com a maior quantidade acumulada de infectados?\n",
    "\n",
    "Note que o nome dos países podem aparecer com letras maiúsculas ou minusculas, portanto é necessários fazer uma padronização antes de calcular o gráfico.\n",
    "\n",
    "**DICA:** groupby + max"
   ]
  },
  {
   "cell_type": "code",
   "execution_count": 44,
   "metadata": {},
   "outputs": [
    {
     "data": {
      "text/html": "<div>\n<style scoped>\n    .dataframe tbody tr th:only-of-type {\n        vertical-align: middle;\n    }\n\n    .dataframe tbody tr th {\n        vertical-align: top;\n    }\n\n    .dataframe thead th {\n        text-align: right;\n    }\n</style>\n<table border=\"1\" class=\"dataframe\">\n  <thead>\n    <tr style=\"text-align: right;\">\n      <th></th>\n      <th>Total_Infectados</th>\n    </tr>\n    <tr>\n      <th>Country/Region</th>\n      <th></th>\n    </tr>\n  </thead>\n  <tbody>\n    <tr>\n      <th>China</th>\n      <td>3124529</td>\n    </tr>\n    <tr>\n      <th>Italy</th>\n      <td>238049</td>\n    </tr>\n    <tr>\n      <th>Iran</th>\n      <td>150833</td>\n    </tr>\n  </tbody>\n</table>\n</div>",
      "text/plain": "                Total_Infectados\nCountry/Region                  \nChina                    3124529\nItaly                     238049\nIran                      150833"
     },
     "execution_count": 44,
     "metadata": {},
     "output_type": "execute_result"
    }
   ],
   "source": [
    "covid_df[\"Country/Region\"] = covid_df[\"Country/Region\"].str.capitalize()\r\n",
    "covid_df.groupby(\"Country/Region\").agg(Total_Infectados=(\"Value\",\"sum\")).sort_values(\"Total_Infectados\",ascending=False)[:3]"
   ]
  },
  {
   "cell_type": "markdown",
   "metadata": {},
   "source": [
    "### Questão Bonus (2 pontos)\n",
    "Faça o gráfico do número de contaminados no Brasil e na Itália. Note que o nome dos países podem aparecer com letras maiúsculas ou minusculas, portanto é necessários fazer uma padronização antes de calcular o gráfico."
   ]
  },
  {
   "cell_type": "code",
   "execution_count": null,
   "metadata": {},
   "outputs": [],
   "source": []
  },
  {
   "cell_type": "code",
   "execution_count": null,
   "metadata": {},
   "outputs": [],
   "source": []
  },
  {
   "cell_type": "markdown",
   "metadata": {},
   "source": [
    "R: 13 dias"
   ]
  }
 ],
 "metadata": {
  "kernelspec": {
   "display_name": "Python 3.9.2 64-bit",
   "name": "python392jvsc74a57bd0e64a8ae88c0298db2bedf50189749685c2e3abfc11d34d18d8a09b564dca363f"
  },
  "language_info": {
   "codemirror_mode": {
    "name": "ipython",
    "version": 3
   },
   "file_extension": ".py",
   "mimetype": "text/x-python",
   "name": "python",
   "nbconvert_exporter": "python",
   "pygments_lexer": "ipython3",
   "version": "3.9.2"
  },
  "metadata": {
   "interpreter": {
    "hash": "e64a8ae88c0298db2bedf50189749685c2e3abfc11d34d18d8a09b564dca363f"
   }
  },
  "toc": {
   "base_numbering": 1,
   "nav_menu": {},
   "number_sections": true,
   "sideBar": true,
   "skip_h1_title": false,
   "title_cell": "Table of Contents",
   "title_sidebar": "Contents",
   "toc_cell": false,
   "toc_position": {},
   "toc_section_display": true,
   "toc_window_display": false
  }
 },
 "nbformat": 4,
 "nbformat_minor": 2
}