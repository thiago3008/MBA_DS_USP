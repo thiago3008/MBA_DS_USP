{
 "cells": [
  {
   "cell_type": "markdown",
   "metadata": {},
   "source": [
    "# <font color=\"blue\"> MBA em Ciência de Dados</font>\n",
    "# <font color=\"blue\">Programação para Ciência de Dados</font>\n",
    "\n",
    "## <font color=\"blue\">Avaliação Final</font>\n",
    "**Material Produzido por Luis Gustavo Nonato**<br>\n",
    "**Cemeai - ICMC/USP São Carlos**"
   ]
  },
  {
   "cell_type": "markdown",
   "metadata": {},
   "source": [
    "A avaliação vale 10 pontos. As questões de 1 a 4, caso respondidas da forma correta, já totalizam 10 pontos. A última questão é um bônus e se respondida corretamente pode ajudar na nota final, ou seja, caso tenha respondido incorretamente uma das questões de 1 a 4, mas tenha acertado a questão bônus, ainda poderá atingir 10 pontos."
   ]
  },
  {
   "cell_type": "markdown",
   "metadata": {},
   "source": [
    "<font color='red'>**ATENÇÃO:** Quando terminar o exame, você deve fazer um \"upload\" do notebook no _moodle_</font>."
   ]
  },
  {
   "cell_type": "markdown",
   "metadata": {},
   "source": [
    "Para responder as questões abaixo será necessário fazer uso do arquivo <font style=\"font-family: monaco\">covid.csv\"</font> disponível para download no _moodle_. As colunas do conjunto de dados fornecem informações sobre:\n",
    "- **'Country/Region'**: país onde os casos de COVID19 foram registrados\n",
    "- **'Lat'** e **'Long'**: latitude e longitude de referência\n",
    "- **'Date'**: data dos registros\n",
    "- **'Value'**: quantidade acumulada de casos registrados"
   ]
  },
  {
   "cell_type": "code",
   "execution_count": 1,
   "metadata": {},
   "outputs": [],
   "source": [
    "import numpy as np\n",
    "import pandas as pd"
   ]
  },
  {
   "cell_type": "markdown",
   "metadata": {},
   "source": [
    "### Questão 1 (2 pontos)\n",
    "Considerando os dados contidos no arquivo <font style=\"font-family: monaco\">covid.csv\"</font>:\n"
   ]
  },
  {
   "cell_type": "markdown",
   "metadata": {},
   "source": [
    "#### a) (0.5 pontos)\n",
    "Carregue o arquivo \"covid.csv\" e armazena em um pandas DataFrame."
   ]
  },
  {
   "cell_type": "code",
   "execution_count": 12,
   "metadata": {
    "scrolled": true
   },
   "outputs": [
    {
     "data": {
      "text/html": "<div>\n<style scoped>\n    .dataframe tbody tr th:only-of-type {\n        vertical-align: middle;\n    }\n\n    .dataframe tbody tr th {\n        vertical-align: top;\n    }\n\n    .dataframe thead th {\n        text-align: right;\n    }\n</style>\n<table border=\"1\" class=\"dataframe\">\n  <thead>\n    <tr style=\"text-align: right;\">\n      <th></th>\n      <th>Country/Region</th>\n      <th>Lat</th>\n      <th>Long</th>\n      <th>Date</th>\n      <th>Value</th>\n    </tr>\n  </thead>\n  <tbody>\n    <tr>\n      <th>0</th>\n      <td>#country+name</td>\n      <td>#geo+lat</td>\n      <td>#geo+lon</td>\n      <td>#date</td>\n      <td>#affected+infected+value+num</td>\n    </tr>\n    <tr>\n      <th>1</th>\n      <td>afghanistan</td>\n      <td>33</td>\n      <td>65</td>\n      <td>2020-03-18</td>\n      <td>22</td>\n    </tr>\n    <tr>\n      <th>2</th>\n      <td>afghanistan</td>\n      <td>33</td>\n      <td>65</td>\n      <td>2020-03-17</td>\n      <td>22</td>\n    </tr>\n    <tr>\n      <th>3</th>\n      <td>afghanistan</td>\n      <td>33</td>\n      <td>65</td>\n      <td>2020-03-16</td>\n      <td>21</td>\n    </tr>\n    <tr>\n      <th>4</th>\n      <td>Afghanistan</td>\n      <td>33</td>\n      <td>65</td>\n      <td>2020-03-15</td>\n      <td>16</td>\n    </tr>\n    <tr>\n      <th>5</th>\n      <td>afghanistan</td>\n      <td>33</td>\n      <td>65</td>\n      <td>2020-03-14</td>\n      <td>11</td>\n    </tr>\n    <tr>\n      <th>6</th>\n      <td>afghanistan</td>\n      <td>33</td>\n      <td>65</td>\n      <td>2020-03-13</td>\n      <td>7</td>\n    </tr>\n    <tr>\n      <th>7</th>\n      <td>Afghanistan</td>\n      <td>33</td>\n      <td>65</td>\n      <td>2020-03-12</td>\n      <td>7</td>\n    </tr>\n    <tr>\n      <th>8</th>\n      <td>afghanistan</td>\n      <td>33</td>\n      <td>65</td>\n      <td>2020-03-11</td>\n      <td>7</td>\n    </tr>\n    <tr>\n      <th>9</th>\n      <td>afghanistan</td>\n      <td>33</td>\n      <td>65</td>\n      <td>2020-03-10</td>\n      <td>5</td>\n    </tr>\n  </tbody>\n</table>\n</div>",
      "text/plain": "  Country/Region       Lat      Long        Date                         Value\n0  #country+name  #geo+lat  #geo+lon       #date  #affected+infected+value+num\n1    afghanistan        33        65  2020-03-18                            22\n2    afghanistan        33        65  2020-03-17                            22\n3    afghanistan        33        65  2020-03-16                            21\n4    Afghanistan        33        65  2020-03-15                            16\n5    afghanistan        33        65  2020-03-14                            11\n6    afghanistan        33        65  2020-03-13                             7\n7    Afghanistan        33        65  2020-03-12                             7\n8    afghanistan        33        65  2020-03-11                             7\n9    afghanistan        33        65  2020-03-10                             5"
     },
     "execution_count": 12,
     "metadata": {},
     "output_type": "execute_result"
    }
   ],
   "source": [
    "covid_df = pd.read_csv('covid.csv', header=0)\r\n",
    "#covid_df.head(10)"
   ]
  },
  {
   "cell_type": "markdown",
   "metadata": {},
   "source": [
    "#### b) (0.5 pontos)\n",
    "Elimine a primeira linha do DataFrame, a qual contém a informação:\n",
    "```python\n",
    "#adm1+name,#country+name,#geo+lat,#geo+lon,#date,#affected+infected+value+num\n",
    "```"
   ]
  },
  {
   "cell_type": "code",
   "execution_count": 15,
   "metadata": {},
   "outputs": [
    {
     "data": {
      "text/html": "<div>\n<style scoped>\n    .dataframe tbody tr th:only-of-type {\n        vertical-align: middle;\n    }\n\n    .dataframe tbody tr th {\n        vertical-align: top;\n    }\n\n    .dataframe thead th {\n        text-align: right;\n    }\n</style>\n<table border=\"1\" class=\"dataframe\">\n  <thead>\n    <tr style=\"text-align: right;\">\n      <th></th>\n      <th>Country/Region</th>\n      <th>Lat</th>\n      <th>Long</th>\n      <th>Date</th>\n      <th>Value</th>\n    </tr>\n  </thead>\n  <tbody>\n    <tr>\n      <th>1</th>\n      <td>afghanistan</td>\n      <td>33</td>\n      <td>65</td>\n      <td>2020-03-18</td>\n      <td>22</td>\n    </tr>\n    <tr>\n      <th>2</th>\n      <td>afghanistan</td>\n      <td>33</td>\n      <td>65</td>\n      <td>2020-03-17</td>\n      <td>22</td>\n    </tr>\n    <tr>\n      <th>3</th>\n      <td>afghanistan</td>\n      <td>33</td>\n      <td>65</td>\n      <td>2020-03-16</td>\n      <td>21</td>\n    </tr>\n    <tr>\n      <th>4</th>\n      <td>Afghanistan</td>\n      <td>33</td>\n      <td>65</td>\n      <td>2020-03-15</td>\n      <td>16</td>\n    </tr>\n    <tr>\n      <th>5</th>\n      <td>afghanistan</td>\n      <td>33</td>\n      <td>65</td>\n      <td>2020-03-14</td>\n      <td>11</td>\n    </tr>\n    <tr>\n      <th>6</th>\n      <td>afghanistan</td>\n      <td>33</td>\n      <td>65</td>\n      <td>2020-03-13</td>\n      <td>7</td>\n    </tr>\n    <tr>\n      <th>7</th>\n      <td>Afghanistan</td>\n      <td>33</td>\n      <td>65</td>\n      <td>2020-03-12</td>\n      <td>7</td>\n    </tr>\n    <tr>\n      <th>8</th>\n      <td>afghanistan</td>\n      <td>33</td>\n      <td>65</td>\n      <td>2020-03-11</td>\n      <td>7</td>\n    </tr>\n    <tr>\n      <th>9</th>\n      <td>afghanistan</td>\n      <td>33</td>\n      <td>65</td>\n      <td>2020-03-10</td>\n      <td>5</td>\n    </tr>\n    <tr>\n      <th>10</th>\n      <td>afghanistan</td>\n      <td>33</td>\n      <td>65</td>\n      <td>2020-03-09</td>\n      <td>4</td>\n    </tr>\n  </tbody>\n</table>\n</div>",
      "text/plain": "   Country/Region Lat Long        Date Value\n1     afghanistan  33   65  2020-03-18    22\n2     afghanistan  33   65  2020-03-17    22\n3     afghanistan  33   65  2020-03-16    21\n4     Afghanistan  33   65  2020-03-15    16\n5     afghanistan  33   65  2020-03-14    11\n6     afghanistan  33   65  2020-03-13     7\n7     Afghanistan  33   65  2020-03-12     7\n8     afghanistan  33   65  2020-03-11     7\n9     afghanistan  33   65  2020-03-10     5\n10    afghanistan  33   65  2020-03-09     4"
     },
     "execution_count": 15,
     "metadata": {},
     "output_type": "execute_result"
    }
   ],
   "source": [
    "covid_df.drop(index=0,axis=0,inplace=True)\r\n",
    "#covid_df.head(10)"
   ]
  },
  {
   "cell_type": "markdown",
   "metadata": {},
   "source": [
    "#### c) (1 ponto)\r\n",
    "Verifique qual o tipo de dado da coluna \"Value\" e converta o tipo para inteiro (<font color='blue'>int</font>)."
   ]
  },
  {
   "cell_type": "code",
   "execution_count": 20,
   "metadata": {},
   "outputs": [
    {
     "name": "stdout",
     "output_type": "stream",
     "text": [
      "object\n"
     ]
    },
    {
     "ename": "AttributeError",
     "evalue": "'DataFrame' object has no attribute 'to_numeric'",
     "output_type": "error",
     "traceback": [
      "\u001b[1;31m---------------------------------------------------------------------------\u001b[0m",
      "\u001b[1;31mAttributeError\u001b[0m                            Traceback (most recent call last)",
      "\u001b[1;32m<ipython-input-20-6cc855d28a9e>\u001b[0m in \u001b[0;36m<module>\u001b[1;34m\u001b[0m\n\u001b[0;32m      1\u001b[0m \u001b[0mprint\u001b[0m\u001b[1;33m(\u001b[0m\u001b[0mcovid_df\u001b[0m\u001b[1;33m[\u001b[0m\u001b[1;34m'Value'\u001b[0m\u001b[1;33m]\u001b[0m\u001b[1;33m.\u001b[0m\u001b[0mdtype\u001b[0m\u001b[1;33m)\u001b[0m\u001b[1;33m\u001b[0m\u001b[1;33m\u001b[0m\u001b[0m\n\u001b[1;32m----> 2\u001b[1;33m \u001b[0mcovid_df\u001b[0m\u001b[1;33m.\u001b[0m\u001b[0mto_numeric\u001b[0m\u001b[1;33m(\u001b[0m\u001b[0mcovid_df\u001b[0m\u001b[1;33m[\u001b[0m\u001b[1;34m'Value'\u001b[0m\u001b[1;33m]\u001b[0m\u001b[1;33m,\u001b[0m \u001b[0mdowncast\u001b[0m\u001b[1;33m=\u001b[0m\u001b[1;34m'signed'\u001b[0m\u001b[1;33m)\u001b[0m\u001b[1;33m\u001b[0m\u001b[1;33m\u001b[0m\u001b[0m\n\u001b[0m\u001b[0;32m      3\u001b[0m \u001b[0mprint\u001b[0m\u001b[1;33m(\u001b[0m\u001b[0mcovid_df\u001b[0m\u001b[1;33m[\u001b[0m\u001b[1;34m'Value'\u001b[0m\u001b[1;33m]\u001b[0m\u001b[1;33m.\u001b[0m\u001b[0mdtype\u001b[0m\u001b[1;33m)\u001b[0m\u001b[1;33m\u001b[0m\u001b[1;33m\u001b[0m\u001b[0m\n",
      "\u001b[1;32m~\\AppData\\Roaming\\Python\\Python39\\site-packages\\pandas\\core\\generic.py\u001b[0m in \u001b[0;36m__getattr__\u001b[1;34m(self, name)\u001b[0m\n\u001b[0;32m   5463\u001b[0m             \u001b[1;32mif\u001b[0m \u001b[0mself\u001b[0m\u001b[1;33m.\u001b[0m\u001b[0m_info_axis\u001b[0m\u001b[1;33m.\u001b[0m\u001b[0m_can_hold_identifiers_and_holds_name\u001b[0m\u001b[1;33m(\u001b[0m\u001b[0mname\u001b[0m\u001b[1;33m)\u001b[0m\u001b[1;33m:\u001b[0m\u001b[1;33m\u001b[0m\u001b[1;33m\u001b[0m\u001b[0m\n\u001b[0;32m   5464\u001b[0m                 \u001b[1;32mreturn\u001b[0m \u001b[0mself\u001b[0m\u001b[1;33m[\u001b[0m\u001b[0mname\u001b[0m\u001b[1;33m]\u001b[0m\u001b[1;33m\u001b[0m\u001b[1;33m\u001b[0m\u001b[0m\n\u001b[1;32m-> 5465\u001b[1;33m             \u001b[1;32mreturn\u001b[0m \u001b[0mobject\u001b[0m\u001b[1;33m.\u001b[0m\u001b[0m__getattribute__\u001b[0m\u001b[1;33m(\u001b[0m\u001b[0mself\u001b[0m\u001b[1;33m,\u001b[0m \u001b[0mname\u001b[0m\u001b[1;33m)\u001b[0m\u001b[1;33m\u001b[0m\u001b[1;33m\u001b[0m\u001b[0m\n\u001b[0m\u001b[0;32m   5466\u001b[0m \u001b[1;33m\u001b[0m\u001b[0m\n\u001b[0;32m   5467\u001b[0m     \u001b[1;32mdef\u001b[0m \u001b[0m__setattr__\u001b[0m\u001b[1;33m(\u001b[0m\u001b[0mself\u001b[0m\u001b[1;33m,\u001b[0m \u001b[0mname\u001b[0m\u001b[1;33m:\u001b[0m \u001b[0mstr\u001b[0m\u001b[1;33m,\u001b[0m \u001b[0mvalue\u001b[0m\u001b[1;33m)\u001b[0m \u001b[1;33m->\u001b[0m \u001b[1;32mNone\u001b[0m\u001b[1;33m:\u001b[0m\u001b[1;33m\u001b[0m\u001b[1;33m\u001b[0m\u001b[0m\n",
      "\u001b[1;31mAttributeError\u001b[0m: 'DataFrame' object has no attribute 'to_numeric'"
     ]
    }
   ],
   "source": [
    "print(covid_df['Value'].dtype)\r\n",
    "###\r\n",
    "print(covid_df['Value'].dtype)"
   ]
  },
  {
   "cell_type": "markdown",
   "metadata": {},
   "source": [
    "### Questão 2 (2 pontos)\n",
    "Devido a um erro de armazenamento de inteiros, alguns países apresentam mais de 8 bilhões de casos de COVID19 (valor da coluna \"Value\" maior ou igual a 8.000.000.000) \n",
    "\n",
    "Elimine as linhas onde o número de casos é maior ou igual a 8 bilhões."
   ]
  },
  {
   "cell_type": "code",
   "execution_count": null,
   "metadata": {},
   "outputs": [],
   "source": []
  },
  {
   "cell_type": "markdown",
   "metadata": {},
   "source": [
    "### Questão 3 (3 pontos)\n",
    "Qual registro contém o maior número de infectados? Exiba a data e o país deste registro"
   ]
  },
  {
   "cell_type": "code",
   "execution_count": null,
   "metadata": {},
   "outputs": [],
   "source": []
  },
  {
   "cell_type": "markdown",
   "metadata": {},
   "source": [
    "### Questão 4 (3 pontos)\n",
    "Quais são os três países com a maior quantidade acumulada de infectados?\n",
    "\n",
    "Note que o nome dos países podem aparecer com letras maiúsculas ou minusculas, portanto é necessários fazer uma padronização antes de calcular o gráfico.\n",
    "\n",
    "**DICA:** groupby + max"
   ]
  },
  {
   "cell_type": "code",
   "execution_count": null,
   "metadata": {},
   "outputs": [],
   "source": []
  },
  {
   "cell_type": "markdown",
   "metadata": {},
   "source": [
    "### Questão Bonus (2 pontos)\n",
    "Faça o gráfico do número de contaminados no Brasil e na Itália. Note que o nome dos países podem aparecer com letras maiúsculas ou minusculas, portanto é necessários fazer uma padronização antes de calcular o gráfico."
   ]
  },
  {
   "cell_type": "code",
   "execution_count": null,
   "metadata": {},
   "outputs": [],
   "source": []
  },
  {
   "cell_type": "code",
   "execution_count": null,
   "metadata": {},
   "outputs": [],
   "source": []
  },
  {
   "cell_type": "markdown",
   "metadata": {},
   "source": [
    "R: 13 dias"
   ]
  }
 ],
 "metadata": {
  "kernelspec": {
   "display_name": "Python 3.9.2 64-bit",
   "name": "python392jvsc74a57bd0ac59ebe37160ed0dfa835113d9b8498d9f09ceb179beaac4002f036b9467c963"
  },
  "language_info": {
   "codemirror_mode": {
    "name": "ipython",
    "version": 3
   },
   "file_extension": ".py",
   "mimetype": "text/x-python",
   "name": "python",
   "nbconvert_exporter": "python",
   "pygments_lexer": "ipython3",
   "version": "3.9.2"
  },
  "metadata": {
   "interpreter": {
    "hash": "ac59ebe37160ed0dfa835113d9b8498d9f09ceb179beaac4002f036b9467c963"
   }
  },
  "toc": {
   "base_numbering": 1,
   "nav_menu": {},
   "number_sections": true,
   "sideBar": true,
   "skip_h1_title": false,
   "title_cell": "Table of Contents",
   "title_sidebar": "Contents",
   "toc_cell": false,
   "toc_position": {},
   "toc_section_display": true,
   "toc_window_display": false
  }
 },
 "nbformat": 4,
 "nbformat_minor": 2
}