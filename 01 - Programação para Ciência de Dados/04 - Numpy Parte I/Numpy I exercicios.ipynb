{
 "cells": [
  {
   "cell_type": "markdown",
   "metadata": {},
   "source": [
    "# <span style=\"color:blue\"> MBA em Ciência de Dados</span>\n",
    "# <span style=\"color:blue\">Programação para Ciência de Dados</span>\n",
    "\n",
    "## <span style=\"color:blue\">Numpy Parte I - Exercícios</span>\n",
    "**Material Produzido por Luis Gustavo Nonato**<br>\n",
    "**Cemeai - ICMC/USP São Carlos**"
   ]
  },
  {
   "cell_type": "markdown",
   "metadata": {},
   "source": [
    "#### <span style=\"color:red\">Recomenda-se fortemente que os exercícios sejam feitos sem consultar as respostas antecipadamente.</span>"
   ]
  },
  {
   "cell_type": "code",
   "execution_count": 1,
   "metadata": {},
   "outputs": [],
   "source": [
    "import numpy as np"
   ]
  },
  {
   "cell_type": "markdown",
   "metadata": {},
   "source": [
    "### Exercício 1)\n",
    "Utilize comprehension para gerar a lista de todos os números interios entre 0 e 19. Converta a lista em um <font color='blue'>numpy</font> array bidimensional (matriz) com 4 linhas e 5 colunas."
   ]
  },
  {
   "cell_type": "code",
   "execution_count": 7,
   "metadata": {},
   "outputs": [
    {
     "output_type": "execute_result",
     "data": {
      "text/plain": [
       "array([[ 0,  1,  2,  3,  4],\n",
       "       [ 5,  6,  7,  8,  9],\n",
       "       [10, 11, 12, 13, 14],\n",
       "       [15, 16, 17, 18, 19]])"
      ]
     },
     "metadata": {},
     "execution_count": 7
    }
   ],
   "source": [
    "l = [i for i in range(20)]\n",
    "ar = np.array(l).reshape(4,5)\n",
    "ar"
   ]
  },
  {
   "cell_type": "markdown",
   "metadata": {},
   "source": [
    "### Exercício 2)\n",
    "Construa um array unidimensional com 30 números inteiros escolhidos de forma randômica no intervalo entre 0 e 20. Reformate o array para que se torne uma matriz `A` com 5 linhas e 6 colunas."
   ]
  },
  {
   "cell_type": "code",
   "execution_count": 8,
   "metadata": {},
   "outputs": [
    {
     "output_type": "stream",
     "name": "stdout",
     "text": [
      "[[ 5 11 12  8  9 11]\n [ 5 15  0 16  1 12]\n [ 7 13  6 18  5 18]\n [11 10 14 18  4  9]\n [17  0 13  9  9  7]]\n"
     ]
    }
   ],
   "source": [
    "np.random.seed(1)\n",
    "A = np.random.randint(0,20,30).reshape(5,6)\n",
    "print(A)"
   ]
  },
  {
   "cell_type": "markdown",
   "metadata": {},
   "source": [
    "### Exercício 3)\n",
    "Crie uma __view__ da matriz `A` gerada na célula anterior contendo:\n",
    "- as linhas de `A` com índices 0,1 e 3\n",
    "- as linhas de `A` com índice 1 e 2 e as colunas com índice 0,2 e 4\n",
    "- as linhas de `A` com índice 1 e 3 e as colunas com índice 1 e 3"
   ]
  },
  {
   "cell_type": "code",
   "execution_count": 18,
   "metadata": {},
   "outputs": [
    {
     "output_type": "stream",
     "name": "stdout",
     "text": [
      "A[[0,1,3]]:\n [[ 5 11 12  8  9 11]\n [ 5 15  0 16  1 12]\n [11 10 14 18  4  9]]\n\nA[1:3,[0,2,4]]:\n [[5 0 1]\n [7 6 5]]\n\nA[[1,3]][:,[1,3]]:\n [[15 16]\n [10 18]]\n"
     ]
    }
   ],
   "source": [
    "print(\"A[[0,1,3]]:\\n\",A[[0,1,3]])\n",
    "print(\"\\nA[1:3,[0,2,4]]:\\n\",A[1:3,[0,2,4]])\n",
    "print(\"\\nA[[1,3]][:,[1,3]]:\\n\",A[[1,3]][:,[1,3]])"
   ]
  },
  {
   "cell_type": "markdown",
   "metadata": {},
   "source": [
    "### Exercício 4)\n",
    "Construa um array `A` bidimensional 5x6 com 30 números inteiros escolhidos de forma randômica no intervalo entre 0 e 20. \n",
    "- faça uma cópia do array `A` criado, chamando a cópia de `Ac`\n",
    "- Substitua todos os elementos do array `A` que sejam maiores que 10 pelo valor -1 \n",
    "- Substitua todos os elementos do array `Ac` que sejam maiores que 7 e menores que 15 pelo valor -1 \n",
    "\n",
    "__Dica:__ Gere máscaras booleanas para realizar as modificações nos arrays."
   ]
  },
  {
   "cell_type": "code",
   "execution_count": 82,
   "metadata": {},
   "outputs": [
    {
     "output_type": "stream",
     "name": "stdout",
     "text": [
      "A:\n [[10  9 11  5 17  5]\n [10 14 17 10  8 16]\n [19 12 13 16  4 18]\n [ 4  3 12  2 12  0]\n [ 0 15  4 10 12 18]]\n\nAc:\n [[10  9 11  5 17  5]\n [10 14 17 10  8 16]\n [19 12 13 16  4 18]\n [ 4  3 12  2 12  0]\n [ 0 15  4 10 12 18]]\n[[False False  True False  True False]\n [False  True  True False False  True]\n [ True  True  True  True False  True]\n [False False  True False  True False]\n [False  True False False  True  True]]\n\nA´:\n [[10  9 -1  5 -1  5]\n [10 -1 -1 10  8 -1]\n [-1 -1 -1 -1  4 -1]\n [ 4  3 -1  2 -1  0]\n [ 0 -1  4 10 -1 -1]]\n\nAc´:\n [[-1 -1 -1  5 17  5]\n [-1 -1 17 -1 -1 16]\n [19 -1 -1 16  4 18]\n [ 4  3 -1  2 -1  0]\n [ 0 15  4 -1 -1 18]]\n"
     ]
    }
   ],
   "source": [
    "A = np.random.randint(0,20,30).reshape(5,6)\n",
    "print('A:\\n',A)\n",
    "\n",
    "Ac = np.copy(A)\n",
    "print('\\nAc:\\n',Ac)\n",
    "\n",
    "mask = A > 10\n",
    "A[mask] = -1\n",
    "print('\\nA´:\\n',A)\n",
    "\n",
    "mask2 = ((Ac > 7) & (Ac < 15))\n",
    "Ac[mask2] = -1\n",
    "print('\\nAc´:\\n',Ac)"
   ]
  },
  {
   "cell_type": "markdown",
   "metadata": {},
   "source": [
    "### Exercício 5)\n",
    "Construa um array `A` com 20 linhas e 10 colunas onde os elementos são os números interios de  1 até 200.\n",
    "- Crie uma __view__ de `A` chamada `A_lpares` contendo apenas as linhas de `A` com índice par. \n",
    "- Crie uma __view__ de `A` chamada `A_lpares_cimpares` contendo as linhas `A` com índice par e colunas com índice ímpar. "
   ]
  },
  {
   "cell_type": "code",
   "execution_count": 85,
   "metadata": {},
   "outputs": [
    {
     "output_type": "stream",
     "name": "stdout",
     "text": [
      "A:\n [[  1   2   3   4   5   6   7   8   9  10]\n [ 11  12  13  14  15  16  17  18  19  20]\n [ 21  22  23  24  25  26  27  28  29  30]\n [ 31  32  33  34  35  36  37  38  39  40]\n [ 41  42  43  44  45  46  47  48  49  50]\n [ 51  52  53  54  55  56  57  58  59  60]\n [ 61  62  63  64  65  66  67  68  69  70]\n [ 71  72  73  74  75  76  77  78  79  80]\n [ 81  82  83  84  85  86  87  88  89  90]\n [ 91  92  93  94  95  96  97  98  99 100]\n [101 102 103 104 105 106 107 108 109 110]\n [111 112 113 114 115 116 117 118 119 120]\n [121 122 123 124 125 126 127 128 129 130]\n [131 132 133 134 135 136 137 138 139 140]\n [141 142 143 144 145 146 147 148 149 150]\n [151 152 153 154 155 156 157 158 159 160]\n [161 162 163 164 165 166 167 168 169 170]\n [171 172 173 174 175 176 177 178 179 180]\n [181 182 183 184 185 186 187 188 189 190]\n [191 192 193 194 195 196 197 198 199 200]]\n\nShape: (20, 10)\n\nA_lpares:\n [[  1   2   3   4   5   6   7   8   9  10]\n [ 21  22  23  24  25  26  27  28  29  30]\n [ 41  42  43  44  45  46  47  48  49  50]\n [ 61  62  63  64  65  66  67  68  69  70]\n [ 81  82  83  84  85  86  87  88  89  90]\n [101 102 103 104 105 106 107 108 109 110]\n [121 122 123 124 125 126 127 128 129 130]\n [141 142 143 144 145 146 147 148 149 150]\n [161 162 163 164 165 166 167 168 169 170]\n [181 182 183 184 185 186 187 188 189 190]]\n\nA_lpares_cimpares:\n [[  2   4   6   8  10]\n [ 22  24  26  28  30]\n [ 42  44  46  48  50]\n [ 62  64  66  68  70]\n [ 82  84  86  88  90]\n [102 104 106 108 110]\n [122 124 126 128 130]\n [142 144 146 148 150]\n [162 164 166 168 170]\n [182 184 186 188 190]]\n"
     ]
    }
   ],
   "source": [
    "A = np.arange(1,201).reshape(20,10)\n",
    "print(\"A:\\n\",A)\n",
    "print(\"\\nShape:\",A.shape)\n",
    "\n",
    "\n",
    "A_lpares = A[np.arange(0,A.shape[0],2)]\n",
    "print(\"\\nA_lpares:\\n\",A_lpares)\n",
    "\n",
    "A_lpares_cimpares = A[np.arange(0,A.shape[0],2)][:,np.arange(1,A.shape[1],2)]\n",
    "print(\"\\nA_lpares_cimpares:\\n\",A_lpares_cimpares)"
   ]
  },
  {
   "cell_type": "markdown",
   "metadata": {},
   "source": [
    "### Exercício 6)\n",
    "Substitua os elememtos do array `A` do exercício anterior por -1 quando pelo menos um dos índices do elemento é par. \n",
    "\n",
    "__Dica:__ Construa uma máscara booleana"
   ]
  },
  {
   "cell_type": "code",
   "execution_count": 86,
   "metadata": {},
   "outputs": [
    {
     "output_type": "stream",
     "name": "stdout",
     "text": [
      "[[ -1  -1  -1  -1  -1  -1  -1  -1  -1  -1]\n [ -1  12  -1  14  -1  16  -1  18  -1  20]\n [ -1  -1  -1  -1  -1  -1  -1  -1  -1  -1]\n [ -1  32  -1  34  -1  36  -1  38  -1  40]\n [ -1  -1  -1  -1  -1  -1  -1  -1  -1  -1]\n [ -1  52  -1  54  -1  56  -1  58  -1  60]\n [ -1  -1  -1  -1  -1  -1  -1  -1  -1  -1]\n [ -1  72  -1  74  -1  76  -1  78  -1  80]\n [ -1  -1  -1  -1  -1  -1  -1  -1  -1  -1]\n [ -1  92  -1  94  -1  96  -1  98  -1 100]\n [ -1  -1  -1  -1  -1  -1  -1  -1  -1  -1]\n [ -1 112  -1 114  -1 116  -1 118  -1 120]\n [ -1  -1  -1  -1  -1  -1  -1  -1  -1  -1]\n [ -1 132  -1 134  -1 136  -1 138  -1 140]\n [ -1  -1  -1  -1  -1  -1  -1  -1  -1  -1]\n [ -1 152  -1 154  -1 156  -1 158  -1 160]\n [ -1  -1  -1  -1  -1  -1  -1  -1  -1  -1]\n [ -1 172  -1 174  -1 176  -1 178  -1 180]\n [ -1  -1  -1  -1  -1  -1  -1  -1  -1  -1]\n [ -1 192  -1 194  -1 196  -1 198  -1 200]]\n"
     ]
    }
   ],
   "source": [
    "mask = [(i%2==0) or (j%2==0) for i in range(A.shape[0]) for j in range(A.shape[1])]\n",
    "mask = np.array(mask).reshape(A.shape[0],A.shape[1])\n",
    "A[mask] = -1\n",
    "print(A)"
   ]
  },
  {
   "cell_type": "markdown",
   "metadata": {},
   "source": [
    "### Exercício 7)\n",
    "Considere o array `X` de números tipo <font color='blue'>float</font> gerado a partir de uma distribuição uniforme no intervalo entre 0 e 1. Escreva um código para encontrar os três menores valores do array.\n",
    "\n",
    "__Dica:__ Converta o array em uma lista e ordene."
   ]
  },
  {
   "cell_type": "code",
   "execution_count": 102,
   "metadata": {},
   "outputs": [
    {
     "output_type": "stream",
     "name": "stdout",
     "text": [
      "[0.010771790109854074, 0.03608969013164365, 0.057447237852760735]\n"
     ]
    }
   ],
   "source": [
    "X = np.random.uniform(0,1,30).reshape(6,5)\n",
    "X_sorted = sorted(X.ravel())\n",
    "\n",
    "print(X_sorted[:3])"
   ]
  },
  {
   "cell_type": "markdown",
   "metadata": {},
   "source": [
    "### Exercício 8)\n",
    "Escreva uma função chamada `troca_colunas` que recebe um array e o índice de duas colunas como parâmetros e retorna o array com as colunas trocadas. Por exemplo:\n",
    "```python\n",
    "X = np.array([[0, 1, 2, 3, 4, 5], \n",
    "              [0, 1, 2, 3, 4, 5], \n",
    "              [0, 1, 2, 3, 4, 5]])\n",
    "\n",
    "X = troca_colunas(X,1,3)\n",
    "print(X)\n",
    "```\n",
    "deve resultar em\n",
    "```python\n",
    "[[0 3 2 1 4 5]\n",
    " [0 3 2 1 4 5]\n",
    " [0 3 2 1 4 5]]\n",
    "```\n"
   ]
  },
  {
   "cell_type": "code",
   "execution_count": 107,
   "metadata": {},
   "outputs": [
    {
     "output_type": "stream",
     "name": "stdout",
     "text": [
      "[[0 1 2 3 4 5]\n [0 1 2 3 4 5]\n [0 1 2 3 4 5]]\n\n [[0 3 2 1 4 5]\n [0 3 2 1 4 5]\n [0 3 2 1 4 5]]\n"
     ]
    }
   ],
   "source": [
    "def troca_colunas(A,i,j):\n",
    "   Ac = np.copy(A)\n",
    "   A[:,i] = A[:,j]\n",
    "   A[:,j] = Ac[:,i]\n",
    "   return(A)\n",
    "\n",
    "X = np.array([[0, 1, 2, 3, 4, 5], [0, 1, 2, 3, 4, 5], [0, 1, 2, 3, 4, 5]])\n",
    "print(X)\n",
    "\n",
    "X = troca_colunas(X,1,3)\n",
    "print(\"\\n\",X)"
   ]
  },
  {
   "cell_type": "markdown",
   "metadata": {},
   "source": [
    "### Exercício 9)\n",
    "Os métodos <font color='blue'>vstack</font> e <font color='blue'>hstack</font> do <font color='blue'>numpy</font> empilha matrizes na vertical e horizontal, respectivamente. Por exemplo:\n",
    "```python\n",
    "A = [[1.0, 1.0, 1.0], [1.0, 1.0, 1.0]]\n",
    "B = [[2.0, 2.0, 2.0], [2.0, 2.0, 2.0]]\n",
    "\n",
    "C = np.vstack((A,B))\n",
    "print(C)\n",
    "```\n",
    "resulta em\n",
    "```python\n",
    "[[1. 1. 1.]\n",
    " [1. 1. 1.]\n",
    " [2. 2. 2.]\n",
    " [2. 2. 2.]]\n",
    "```\n",
    "Escreva um código para gerar duas matrizes `A` e `B` de números inteiros randômicos no intervalo entre 0 e 10, onde:\n",
    "- A matriz `A` é 5x6\n",
    "- A matriz `B` é 5x3\n",
    "\n",
    "Utilize o método <font color='blue'>hstack</font> para empilhar as matrizes\n",
    "\n",
    "O que acontece se tentar utilizar o método <font color='blue'>vstack</font>? Explique o motivo da mensagem gerada."
   ]
  },
  {
   "cell_type": "code",
   "execution_count": 6,
   "metadata": {},
   "outputs": [
    {
     "output_type": "stream",
     "name": "stdout",
     "text": [
      "[[2 6 7 2 9 5 6 6 2]\n [6 4 0 3 1 2 9 0 6]\n [2 8 8 9 8 7 6 3 3]\n [7 8 6 8 5 1 8 0 1]\n [5 0 7 3 7 3 6 8 7]]\n"
     ]
    }
   ],
   "source": [
    "A = np.random.randint(0,10,30).reshape(5,6)\n",
    "B = np.random.randint(0,10,15).reshape(5,3)\n",
    "\n",
    "C = np.hstack((A,B))\n",
    "print(C)\n",
    "\n",
    "# D = np.vstack((A,B)) **** error\n",
    "# o método vstack nao pode ser utilizado pois o número de colunas \n",
    "# não é o mesmo nas duas matrizes, somente o número de linhas coincide"
   ]
  },
  {
   "cell_type": "markdown",
   "metadata": {},
   "source": [
    "### Exercício 10)\n",
    "Escreva um código para, dada uma matriz, zerar todos os elementos abaixo da diagonal principal da matriz. Por exemplo:\n",
    "```python\n",
    "[[2 8 3 4 8]\n",
    " [4 8 7 7 3]\n",
    " [8 2 3 1 4]\n",
    " [8 6 3 8 1]\n",
    " [6 4 4 6 1]]\n",
    "```\n",
    "deve resultar em\n",
    "```python\n",
    "[[2 8 3 4 8]\n",
    " [0 8 7 7 3]\n",
    " [0 0 3 1 4]\n",
    " [0 0 0 8 1]\n",
    " [0 0 0 0 1]]\n",
    "```"
   ]
  },
  {
   "cell_type": "code",
   "execution_count": 19,
   "metadata": {},
   "outputs": [
    {
     "output_type": "stream",
     "name": "stdout",
     "text": [
      "[[2 8 3 4 8]\n [4 8 7 7 3]\n [8 2 3 1 4]\n [8 6 3 8 1]\n [6 4 4 6 1]]\n\n [[2. 8. 3. 4. 8.]\n [0. 8. 7. 7. 3.]\n [0. 0. 3. 1. 4.]\n [0. 0. 0. 8. 1.]\n [0. 0. 0. 0. 1.]]\n"
     ]
    }
   ],
   "source": [
    "A = np.array([[2,8,3,4,8],[4,8,7,7,3],[8,2,3,1,4],[8,6,3,8,1],[6,4,4,6,1]])\n",
    "#A = np.random.randint(1,10,25).reshape(5,5)\n",
    "print(A)\n",
    "\n",
    "B = np.zeros((A.shape[0],A.shape[1]))\n",
    "\n",
    "for i in range(A.shape[0]):\n",
    "    for j in range(A.shape[1]):\n",
    "        if i<=j:\n",
    "            B[i,j]=A[i,j]\n",
    "\n",
    "print(\"\\n\",B)"
   ]
  },
  {
   "cell_type": "code",
   "execution_count": 22,
   "metadata": {},
   "outputs": [
    {
     "output_type": "stream",
     "name": "stdout",
     "text": [
      "[[2 8 3 4 8]\n [4 8 7 7 3]\n [8 2 3 1 4]\n [8 6 3 8 1]\n [6 4 4 6 1]]\n\n [[2 8 3 4 8]\n [0 8 7 7 3]\n [0 0 3 1 4]\n [0 0 0 8 1]\n [0 0 0 0 1]]\n"
     ]
    }
   ],
   "source": [
    "A = np.array([[2,8,3,4,8],[4,8,7,7,3],[8,2,3,1,4],[8,6,3,8,1],[6,4,4,6,1]])\n",
    "#A = np.random.randint(1,10,25).reshape(5,5)\n",
    "print(A)\n",
    "\n",
    "mask = [True if i>j else False for i in range(A.shape[0]) for j in range(A.shape[1])]\n",
    "mask = np.array(mask).reshape(A.shape[0],A.shape[1])\n",
    "A[mask] = 0\n",
    "print(\"\\n\",A)"
   ]
  },
  {
   "cell_type": "code",
   "execution_count": 28,
   "metadata": {},
   "outputs": [
    {
     "output_type": "stream",
     "name": "stdout",
     "text": [
      "[[7 7 8 6 7]\n [2 8 5 7 7]\n [6 6 8 2 2]\n [6 8 1 3 9]\n [4 6 7 7 8]]\n\n [[7 7 8 6 7]\n [0 8 5 7 7]\n [0 0 8 2 2]\n [0 0 0 3 9]\n [0 0 0 0 8]]\n"
     ]
    }
   ],
   "source": [
    "# uma alternativa é utilizar o método 'triu' do numpy\n",
    "A = np.random.randint(1,10,25).reshape(5,5)\n",
    "print(A)\n",
    "A = np.triu(A)\n",
    "print(\"\\n\",A)"
   ]
  },
  {
   "cell_type": "code",
   "execution_count": null,
   "metadata": {},
   "outputs": [],
   "source": []
  }
 ],
 "metadata": {
  "kernelspec": {
   "name": "python3",
   "display_name": "Python 3.8.5 32-bit",
   "metadata": {
    "interpreter": {
     "hash": "ef1a5d0b392b78fa6b938496ed158b31a5708e64beeadf2ab287f2b43192d531"
    }
   }
  },
  "language_info": {
   "codemirror_mode": {
    "name": "ipython",
    "version": 3
   },
   "file_extension": ".py",
   "mimetype": "text/x-python",
   "name": "python",
   "nbconvert_exporter": "python",
   "pygments_lexer": "ipython3",
   "version": "3.8.5-final"
  }
 },
 "nbformat": 4,
 "nbformat_minor": 2
}