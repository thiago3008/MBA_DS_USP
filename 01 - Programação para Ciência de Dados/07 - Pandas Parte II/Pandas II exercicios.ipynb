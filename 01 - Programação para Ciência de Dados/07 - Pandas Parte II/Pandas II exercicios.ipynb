{
 "cells": [
  {
   "cell_type": "markdown",
   "metadata": {},
   "source": [
    "# <font color=\"blue\"> MBA em Ciência de Dados</font>\n",
    "# <font color=\"blue\">Programação para Ciência de Dados</font>\n",
    "\n",
    "## <font color=\"blue\">Pandas Parte II - Exercícios</font>\n",
    "**Material Produzido por Luis Gustavo Nonato**<br>\n",
    "**Cemeai - ICMC/USP São Carlos**\n",
    "---"
   ]
  },
  {
   "cell_type": "markdown",
   "metadata": {},
   "source": [
    "#### <font color=\"red\">Recomenda-se fortemente que os exercícios sejam feitos sem consultar as respostas antecipadamente.</font>"
   ]
  },
  {
   "cell_type": "markdown",
   "metadata": {},
   "source": [
    "Os exercícios a seguir farão uso do arquivo <font style=\"font-family: monaco\">ESC2013\\_RMSP\\_CEM.csv</font> disponível para download no sistema _Moodle_. Este conjunto de dados fornece informações a respeito das escolas de ensino básico, fundamental e médio do estado de São Paulo. O significado de cada coluna pode ser encontrado no arquivo <font style=\"font-family: monaco\">DicionarioESC.pdf</font> também disponível no moodle."
   ]
  },
  {
   "cell_type": "code",
   "execution_count": 1,
   "metadata": {},
   "outputs": [],
   "source": [
    "import numpy as np\n",
    "import pandas as pd\n",
    "import matplotlib.pyplot as plt"
   ]
  },
  {
   "cell_type": "code",
   "execution_count": 2,
   "metadata": {},
   "outputs": [],
   "source": [
    "# Os comandos abaixo são apenas para modificar como as informações serão apresentadas\n",
    "# no notebook\n",
    "\n",
    "# mostra no máximo 50 colunas\n",
    "pd.set_option('display.max_columns', 50)\n",
    "\n",
    "# aumenta o tamanho das figuras geradas pelo matplotlib\n",
    "plt.rcParams['figure.figsize'] = (10.0, 8.0)"
   ]
  },
  {
   "cell_type": "markdown",
   "metadata": {},
   "source": [
    "### Exercício 1)\n",
    "Carregue o arquivo <font style=\"font-family: monaco\">ESC2013\\_RMSP\\_CEM.csv</font> e armazene-o em uma variável DataFrame chamada `escolas`. Visualize as primeiras 5 linhas do DataFrame."
   ]
  },
  {
   "cell_type": "code",
   "execution_count": 3,
   "metadata": {},
   "outputs": [
    {
     "name": "stdout",
     "output_type": "stream",
     "text": [
      "    ID  LONGITUDE  LATITUDE    CODESC  CODESCTX  \\\n",
      "0   90  -47143986 -23986886  35080548  35080548   \n",
      "1  398  -47145545 -23985717  35352524  35352524   \n",
      "2  399  -47145560 -23985685  35069929  35069929   \n",
      "3  400  -47146239 -23983873  35036365  35036365   \n",
      "4   97  -47141337 -23964408  35913424  35913424   \n",
      "\n",
      "                                          NOMEESC    NOMEMUN   CODMUN  \\\n",
      "0       BAIRRO DOS BARNABES RECANTO DAS ORQUIDEAS  JUQUITIBA  3526209   \n",
      "1  MARIA CRISTINA BRESSALI CHAMA CRECHE MUNICIPAL  JUQUITIBA  3526209   \n",
      "2                                   TERRA NOVA EM  JUQUITIBA  3526209   \n",
      "3                             BAIRRO DOS BARNABES  JUQUITIBA  3526209   \n",
      "4                          BAIRRO DAS SENHORINHAS  JUQUITIBA  3526209   \n",
      "\n",
      "    NOMDIST      CODDIST  COD_SC  COD_DEP    TIP_DEP               BAIRRO  \\\n",
      "0  BARNABES  352620910.0     NaN        2   Estadual  BAIRRO DOS BARNABES   \n",
      "1  BARNABES  352620910.0     NaN        3  Municipal             BARNABES   \n",
      "2  BARNABES  352620910.0     NaN        3  Municipal             BARNABES   \n",
      "3  BARNABES  352620910.0     NaN        2   Estadual             BARNABES   \n",
      "4  BARNABES  352620910.0     NaN        2   Estadual          SENHORINHAS   \n",
      "\n",
      "         CEP                        END_ESC NUM_ESC DDD  TELEFONE  LOCALIZA  \\\n",
      "0  6950000.0  RUA ANTONIO FRANCISCO PEREIRA     285  11  46841502         1   \n",
      "1  6950000.0     RUA ANTONIO SOARES GODINHO      31  11  46841666         1   \n",
      "2  6950000.0       R ANTONIO SOARES GODINHO      35  11  46841462         1   \n",
      "3  6950000.0       R ANTONIO SOARES GODINHO     413  11  46841155         1   \n",
      "4  6950000.0                  RUA DOS LAGOS      20  11  46812769         1   \n",
      "\n",
      "   LAB_INF  QD_ESP_C  QD_ESP_D  BIBLIO  ENS_REG  ...  MAT07_AF  LP07_AF  \\\n",
      "0        0         0         1       0        1  ...       NaN      NaN   \n",
      "1        0         0         0       0        1  ...       NaN      NaN   \n",
      "2        0         0         0       0        1  ...       NaN      NaN   \n",
      "3        1         0         1       0        1  ...    230.40   220.14   \n",
      "4        0         1         0       0        1  ...    241.29   226.74   \n",
      "\n",
      "   NP07_AF  MAT09_AF  LP09_AF  NP09_AF  MAT11_AF  LP11_AF  NP11_AF  MAT13_AF  \\\n",
      "0      NaN       NaN      NaN      NaN       NaN      NaN      NaN       NaN   \n",
      "1      NaN       NaN      NaN      NaN       NaN      NaN      NaN       NaN   \n",
      "2      NaN       NaN      NaN      NaN       NaN      NaN      NaN       NaN   \n",
      "3     4.18    229.93   229.88     4.33    242.32   248.41     4.85    247.08   \n",
      "4     4.47    172.40   170.80     2.39    249.23   244.94     4.90    244.75   \n",
      "\n",
      "   LP13_AF  NP13_AF  IDEB05AF  IDEB07AF  IDEB09AF  IDEB11AF  IDEB13AF  \\\n",
      "0      NaN      NaN       NaN       NaN       NaN       NaN       NaN   \n",
      "1      NaN      NaN       NaN       NaN       NaN       NaN       NaN   \n",
      "2      NaN      NaN       NaN       NaN       NaN       NaN       NaN   \n",
      "3   238.32     4.76       NaN       3.7       4.2       4.5       4.4   \n",
      "4   231.59     4.61       NaN       4.2       2.3       4.7       4.4   \n",
      "\n",
      "   RED_EN13  LC_EN13  MAT_EN13  CH_EN13  CN_EN13  ENEM2013  INSE_AB  \\\n",
      "0       NaN      NaN       NaN      NaN      NaN       NaN  50.6921   \n",
      "1       NaN      NaN       NaN      NaN      NaN       NaN      NaN   \n",
      "2       NaN      NaN       NaN      NaN      NaN       NaN      NaN   \n",
      "3       NaN      NaN       NaN      NaN      NaN       NaN  47.3253   \n",
      "4    451.33   469.34    480.52   485.11   444.71    469.92  49.3778   \n",
      "\n",
      "      INSE_CL  \n",
      "0  Medio Alto  \n",
      "1         NaN  \n",
      "2         NaN  \n",
      "3       Medio  \n",
      "4       Medio  \n",
      "\n",
      "[5 rows x 136 columns]\n"
     ]
    }
   ],
   "source": [
    "escolas = pd.read_csv('ESC2013_RMSP_CEM.csv')\r\n",
    "print(escolas.head())"
   ]
  },
  {
   "cell_type": "markdown",
   "metadata": {},
   "source": [
    "### Exercício 2)\n",
    "O arquivo <font style=\"font-family: monaco\">ESC2013\\_RMSP\\_CEM.csv</font> possui muitos valores faltantes. Encontre e imprima o nome da coluna com mais valores faltantes. Calcule também o número de valores faltantes em tal coluna.\n",
    "\n",
    "__DICA__: Utilize uma combinação dos métodos do <font color='blue'>pandas</font>:\n",
    "\n",
    "[isna](https://pandas.pydata.org/pandas-docs/stable/reference/api/pandas.DataFrame.isna.html) que retorna uma máscara com True nas posições onde valores faltantes ocorrem<br>\n",
    "[idxmax](https://pandas.pydata.org/pandas-docs/stable/reference/api/pandas.DataFrame.idxmax.html) retorna o rótulo onde o valor máximo que ocorre em um dado eixo (rótulo da linha ou coluna dependento do valor do parâmetro `axis`)<br> \n",
    "[max](https://pandas.pydata.org/pandas-docs/stable/reference/api/pandas.DataFrame.max.html) que retorna o valor máximo em um eixo especificado"
   ]
  },
  {
   "cell_type": "code",
   "execution_count": 12,
   "metadata": {
    "scrolled": true
   },
   "outputs": [
    {
     "name": "stdout",
     "output_type": "stream",
     "text": [
      "Coluna COD_SC com 10937 dados faltantes\n"
     ]
    }
   ],
   "source": [
    "faltantes = escolas.isna().sum(axis=0)\r\n",
    "print(f'Coluna {faltantes.idxmax()} com {faltantes.max()} dados faltantes')\r\n"
   ]
  },
  {
   "cell_type": "markdown",
   "metadata": {},
   "source": [
    "### Exercício 3)\n",
    "Verifique se existem linhas duplicadas no conjunto de dados\n",
    "\n",
    "__Dica:__ Utilize o método <font color='blue'>duplicated</font> do <font color='blue'>pandas</font>"
   ]
  },
  {
   "cell_type": "code",
   "execution_count": 15,
   "metadata": {},
   "outputs": [
    {
     "name": "stdout",
     "output_type": "stream",
     "text": [
      "Total de linhas duplicadas: 0\n"
     ]
    }
   ],
   "source": [
    "print(f'Total de linhas duplicadas: {escolas.duplicated().sum(axis=0)}')\r\n"
   ]
  },
  {
   "cell_type": "markdown",
   "metadata": {},
   "source": [
    "### Exercício 4)\n",
    "A coluna 'COD_DEP' do DataFrame `escolas` representa o código da dependência administrativa da escola (1 - Federal, 2 - Estadual, 3 - Municipal, 4 - Privada).\n",
    "\n",
    "Calcule quantas escolas federais, estaduais, municipais e particulares existem na base de dados. Armazene a contagem em uma série cujos rótulos são o tipo de dependência e os valores correspondentes o número de ocorrências da dependência administrativa.\n",
    "\n",
    "**DICA**: Utilize o método <font color='blue'>value_counts</font> do <font color='blue'>pandas</font>"
   ]
  },
  {
   "cell_type": "code",
   "execution_count": 20,
   "metadata": {},
   "outputs": [],
   "source": [
    "cont = escolas['COD_DEP'].value_counts().rename({1:'Federal',2:'Estadual',3:'Municipal',4:'Privada'})"
   ]
  },
  {
   "cell_type": "markdown",
   "metadata": {},
   "source": [
    "### Exercício 5) \n",
    "O Pandas também oferece recursos para visualização que são simples de utilizar. Utilize o método <font color='blue'>plot</font> do <font color='blue'>pandas</font> com o parâmetro `bar` para gerar um gráfico de barras com o número de escolas calculadas na célula acima. Para mais informações sobre os recursos gráficos disponíveis no pandas veja documentação [aqui](https://pandas.pydata.org/pandas-docs/version/0.23.4/generated/pandas.DataFrame.plot.html)."
   ]
  },
  {
   "cell_type": "code",
   "execution_count": 22,
   "metadata": {},
   "outputs": [
    {
     "data": {
      "text/plain": "<AxesSubplot:>"
     },
     "execution_count": 22,
     "metadata": {},
     "output_type": "execute_result"
    },
    {
     "data": {
      "image/png": "[encoded data removed]",
      "text/plain": "<Figure size 720x576 with 1 Axes>"
     },
     "metadata": {
      "needs_background": "light"
     },
     "output_type": "display_data"
    }
   ],
   "source": [
    "cont.plot(kind='bar')"
   ]
  },
  {
   "cell_type": "markdown",
   "metadata": {},
   "source": [
    "### Exercício 6)\n",
    "Como visto anteriormente, o conjunto de dados do arquivo <font style=\"font-family: monaco\">ESC2013\\_RMSP\\_CEM.csv</font> possui muitos valores faltantes. Utilize uma combinação do método <font color='blue'>map</font> e <font color='blue'>isna</font> para encontrar a porcentagem de linhas do DataFrame que possuem dados faltantes."
   ]
  },
  {
   "cell_type": "code",
   "execution_count": 26,
   "metadata": {},
   "outputs": [
    {
     "name": "stdout",
     "output_type": "stream",
     "text": [
      "Porcentagem de linhas com dados faltantes:  100.0\n"
     ]
    }
   ],
   "source": [
    "faltantes_por_linha = escolas.isna().sum(axis=1)\r\n",
    "linha_com_valores_faltantes = faltantes_por_linha.map(lambda x: x>0)\r\n",
    "print(\"Porcentagem de linhas com dados faltantes: \",100*linha_com_valores_faltantes.sum()/linha_com_valores_faltantes.shape[0])"
   ]
  },
  {
   "cell_type": "markdown",
   "metadata": {},
   "source": [
    "### Exercício 7)\n",
    "\n",
    "O resultado do exercício anterior mostra que todas as linhas do conjunto de dados <font style=\"font-family: monaco\">ESC2013_RMSP_CEM.csv</font> possuem pelo menos um dado faltante. Assim, se adotarmos a estratégia de remover as linhas que possuem dados faltantes, todo o conjunto de dados será descartado. \n",
    "\n",
    "Uma alternativa é remover do conjunto de dados as colunas onde o número de valores faltantes é elevado. Escreva um código que gere um novo DataFrame chamado `escolas30` contendo as colunas do DataFrame `escolas` com no máximo 30% de valores faltantes. \n",
    "\n",
    "__Dica:__ Gere uma série booleana onde os rótulos das linhas são os rótulos das colunas do DataFrame `escolas`, sendo os valores 'True' nas entradas correspondendo às colunas\n",
    "com menos que 30% de valores faltantes. Utilize a série booleana em conjunto com o comando <font color='blue'>loc</font> do <font color='blue'>pandas</font> para extrair as colunas desejadas."
   ]
  },
  {
   "cell_type": "code",
   "execution_count": 32,
   "metadata": {},
   "outputs": [
    {
     "data": {
      "text/plain": "ID              0\nLONGITUDE       0\nLATITUDE        0\nCODESC          0\nCODESCTX        0\n             ... \nCH_EN13      9803\nCN_EN13      9803\nENEM2013     9803\nINSE_AB      6404\nINSE_CL      6404\nLength: 136, dtype: int64"
     },
     "execution_count": 32,
     "metadata": {},
     "output_type": "execute_result"
    }
   ],
   "source": [
    "# calcula o número de valores faltantes em cada coluna\r\n",
    "nulos_por_coluna = escolas.isna().sum(axis=0)\r\n",
    "nulos_por_coluna"
   ]
  },
  {
   "cell_type": "code",
   "execution_count": 30,
   "metadata": {},
   "outputs": [
    {
     "data": {
      "text/plain": "10937"
     },
     "execution_count": 30,
     "metadata": {},
     "output_type": "execute_result"
    }
   ],
   "source": [
    "len(escolas)"
   ]
  },
  {
   "cell_type": "code",
   "execution_count": 34,
   "metadata": {},
   "outputs": [],
   "source": [
    "# gera uma série booleana com valores True correspondendo as colunas do DataFrame 'escolas' com menos que 30% de valores faltantes\r\n",
    "colunas_maximo30_nulos = nulos_por_coluna < 0.3*len(escolas)"
   ]
  },
  {
   "cell_type": "code",
   "execution_count": 37,
   "metadata": {},
   "outputs": [
    {
     "name": "stdout",
     "output_type": "stream",
     "text": [
      "(10937, 47)\n",
      "    ID  LONGITUDE  LATITUDE    CODESC  CODESCTX  \\\n",
      "0   90  -47143986 -23986886  35080548  35080548   \n",
      "1  398  -47145545 -23985717  35352524  35352524   \n",
      "2  399  -47145560 -23985685  35069929  35069929   \n",
      "3  400  -47146239 -23983873  35036365  35036365   \n",
      "4   97  -47141337 -23964408  35913424  35913424   \n",
      "\n",
      "                                          NOMEESC    NOMEMUN   CODMUN  \\\n",
      "0       BAIRRO DOS BARNABES RECANTO DAS ORQUIDEAS  JUQUITIBA  3526209   \n",
      "1  MARIA CRISTINA BRESSALI CHAMA CRECHE MUNICIPAL  JUQUITIBA  3526209   \n",
      "2                                   TERRA NOVA EM  JUQUITIBA  3526209   \n",
      "3                             BAIRRO DOS BARNABES  JUQUITIBA  3526209   \n",
      "4                          BAIRRO DAS SENHORINHAS  JUQUITIBA  3526209   \n",
      "\n",
      "    NOMDIST      CODDIST  COD_DEP    TIP_DEP               BAIRRO        CEP  \\\n",
      "0  BARNABES  352620910.0        2   Estadual  BAIRRO DOS BARNABES  6950000.0   \n",
      "1  BARNABES  352620910.0        3  Municipal             BARNABES  6950000.0   \n",
      "2  BARNABES  352620910.0        3  Municipal             BARNABES  6950000.0   \n",
      "3  BARNABES  352620910.0        2   Estadual             BARNABES  6950000.0   \n",
      "4  BARNABES  352620910.0        2   Estadual          SENHORINHAS  6950000.0   \n",
      "\n",
      "                         END_ESC NUM_ESC DDD  TELEFONE  LOCALIZA  LAB_INF  \\\n",
      "0  RUA ANTONIO FRANCISCO PEREIRA     285  11  46841502         1        0   \n",
      "1     RUA ANTONIO SOARES GODINHO      31  11  46841666         1        0   \n",
      "2       R ANTONIO SOARES GODINHO      35  11  46841462         1        0   \n",
      "3       R ANTONIO SOARES GODINHO     413  11  46841155         1        1   \n",
      "4                  RUA DOS LAGOS      20  11  46812769         1        0   \n",
      "\n",
      "   QD_ESP_C  QD_ESP_D  BIBLIO  ENS_REG  REG_IN_CR  REG_IN_PE  REG_FU_8A  \\\n",
      "0         0         1       0        1          0          0          0   \n",
      "1         0         0       0        1          1          0          0   \n",
      "2         0         0       0        1          1          1          0   \n",
      "3         0         1       0        1          0          0          1   \n",
      "4         1         0       0        1          0          0          1   \n",
      "\n",
      "   REG_FU_9A  REG_MED  REG_MED_I  REG_MED_N  REG_MED_P  ENS_ESP  ESP_IN_CR  \\\n",
      "0          1        0          0          0          0        0          0   \n",
      "1          0        0          0          0          0        0          0   \n",
      "2          0        0          0          0          0        0          0   \n",
      "3          1        1          0          0          0        0          0   \n",
      "4          1        1          0          0          0        0          0   \n",
      "\n",
      "   ESP_IN_PE  ESP_FU_8A  ESP_FU_9A  ESP_MED  ESP_MED_I  ESP_MED_N  ESP_MED_P  \\\n",
      "0          0          0          0        0          0          0          0   \n",
      "1          0          0          0        0          0          0          0   \n",
      "2          0          0          0        0          0          0          0   \n",
      "3          0          0          0        0          0          0          0   \n",
      "4          0          0          0        0          0          0          0   \n",
      "\n",
      "   ESP_EJA_F  ESP_EJA_M  EJA  EJA_FUND  EJA_MED  EJA_PROJ  \n",
      "0          0          0    0         0        0         0  \n",
      "1          0          0    0         0        0         0  \n",
      "2          0          0    0         0        0         0  \n",
      "3          0          0    0         0        0         0  \n",
      "4          0          0    0         0        0         0  \n"
     ]
    }
   ],
   "source": [
    "# obtendo as colunas do DataFrame 'escolas' com menos que 30% de valores faltantes\r\n",
    "escolas30 = escolas.loc[:,colunas_maximo30_nulos.values]\r\n",
    "print(escolas30.shape)\r\n",
    "print(escolas30.head())\r\n"
   ]
  },
  {
   "cell_type": "markdown",
   "metadata": {},
   "source": [
    "### Exercício 8)\n",
    "\n",
    "Quantas colunas restaram no DataFrame `escolas30`? Recalcule a porcentagem de linhas com pelo menos um valor faltante."
   ]
  },
  {
   "cell_type": "code",
   "execution_count": 38,
   "metadata": {},
   "outputs": [
    {
     "name": "stdout",
     "output_type": "stream",
     "text": [
      "Numero de colunas restantes:  47\n",
      "10.07% de linhas com valores faltantes\n"
     ]
    }
   ],
   "source": [
    "print(\"Numero de colunas restantes: \",escolas30.shape[1])\r\n",
    "\r\n",
    "linhas_com_valores_faltantes_escolas30 = escolas30.isna().sum(axis=1).map(lambda x: x>0)\r\n",
    "\r\n",
    "perc_nulos = 100*linhas_com_valores_faltantes_escolas30.sum()/linhas_com_valores_faltantes_escolas30.shape[0]\r\n",
    "\r\n",
    "print(f'{perc_nulos:.2f}% de linhas com valores faltantes')"
   ]
  },
  {
   "cell_type": "markdown",
   "metadata": {},
   "source": [
    "### Exercício 9)\n",
    "\n",
    "O DataFrame `escolas30` possui poucos valores faltantes. Preencha os valores faltantes com o valor da _moda_  da coluna onde o valor faltante ocorre. \n",
    "\n",
    "__Dica:__ Utilize o método <font color='blue'>mode</font> combinado com <font color='blue'>fillna</font> do <font color='blue'>pandas</font>. Note que o método  <font color='blue'>mode</font> pode retornar vários valores caso haja um empate no cálculo da moda. Escolha o primeiro dentre os valores retornados como o valor da moda."
   ]
  },
  {
   "cell_type": "code",
   "execution_count": 40,
   "metadata": {
    "scrolled": false
   },
   "outputs": [
    {
     "name": "stdout",
     "output_type": "stream",
     "text": [
      "   ID   LONGITUDE    LATITUDE    CODESC  CODESCTX             NOMEESC  \\\n",
      "0   1 -46735695.0 -23663271.0  35000012  35000012       FENIX COLEGIO   \n",
      "1   3 -46593982.0 -23530345.0  35000024  35000024  INTEGRACAO COLEGIO   \n",
      "2   4 -46556889.0 -23514886.0  35000036  35000036                 NaN   \n",
      "3   5         NaN         NaN  35000048  35000048                 NaN   \n",
      "4   6         NaN         NaN  35000059  35000059                 NaN   \n",
      "\n",
      "     NOMEMUN     CODMUN    NOMDIST      CODDIST  COD_DEP  TIP_DEP  BAIRRO  \\\n",
      "0  SAO PAULO  3550308.0  GUARULHOS  351880005.0      4.0  Privada  CENTRO   \n",
      "1        NaN        NaN        NaN          NaN      NaN      NaN     NaN   \n",
      "2        NaN        NaN        NaN          NaN      NaN      NaN     NaN   \n",
      "3        NaN        NaN        NaN          NaN      NaN      NaN     NaN   \n",
      "4        NaN        NaN        NaN          NaN      NaN      NaN     NaN   \n",
      "\n",
      "         CEP     END_ESC NUM_ESC  DDD TELEFONE  LOCALIZA  LAB_INF  QD_ESP_C  \\\n",
      "0  7700000.0  R SAO JOAO     S/N   11       --       1.0      1.0       0.0   \n",
      "1        NaN         NaN     NaN  NaN      NaN       NaN      NaN       NaN   \n",
      "2        NaN         NaN     NaN  NaN      NaN       NaN      NaN       NaN   \n",
      "3        NaN         NaN     NaN  NaN      NaN       NaN      NaN       NaN   \n",
      "4        NaN         NaN     NaN  NaN      NaN       NaN      NaN       NaN   \n",
      "\n",
      "   QD_ESP_D  BIBLIO  ENS_REG  REG_IN_CR  REG_IN_PE  REG_FU_8A  REG_FU_9A  \\\n",
      "0       0.0     0.0      1.0        0.0        0.0        0.0        1.0   \n",
      "1       NaN     NaN      NaN        NaN        NaN        NaN        NaN   \n",
      "2       NaN     NaN      NaN        NaN        NaN        NaN        NaN   \n",
      "3       NaN     NaN      NaN        NaN        NaN        NaN        NaN   \n",
      "4       NaN     NaN      NaN        NaN        NaN        NaN        NaN   \n",
      "\n",
      "   REG_MED  REG_MED_I  REG_MED_N  REG_MED_P  ENS_ESP  ESP_IN_CR  ESP_IN_PE  \\\n",
      "0      0.0        0.0        0.0        0.0      0.0        0.0        0.0   \n",
      "1      NaN        NaN        NaN        NaN      NaN        NaN        NaN   \n",
      "2      NaN        NaN        NaN        NaN      NaN        NaN        NaN   \n",
      "3      NaN        NaN        NaN        NaN      NaN        NaN        NaN   \n",
      "4      NaN        NaN        NaN        NaN      NaN        NaN        NaN   \n",
      "\n",
      "   ESP_FU_8A  ESP_FU_9A  ESP_MED  ESP_MED_I  ESP_MED_N  ESP_MED_P  ESP_EJA_F  \\\n",
      "0        0.0        0.0      0.0        0.0        0.0        0.0        0.0   \n",
      "1        NaN        NaN      NaN        NaN        NaN        NaN        NaN   \n",
      "2        NaN        NaN      NaN        NaN        NaN        NaN        NaN   \n",
      "3        NaN        NaN      NaN        NaN        NaN        NaN        NaN   \n",
      "4        NaN        NaN      NaN        NaN        NaN        NaN        NaN   \n",
      "\n",
      "   ESP_EJA_M  EJA  EJA_FUND  EJA_MED  EJA_PROJ  \n",
      "0        0.0  0.0       0.0      0.0       0.0  \n",
      "1        NaN  NaN       NaN      NaN       NaN  \n",
      "2        NaN  NaN       NaN      NaN       NaN  \n",
      "3        NaN  NaN       NaN      NaN       NaN  \n",
      "4        NaN  NaN       NaN      NaN       NaN  \n"
     ]
    }
   ],
   "source": [
    "# Obtendo as modas\r\n",
    "modas = escolas30.mode() # calcula o valor da moda em cada coluna\r\n",
    "                         # o resultado é um DataFrame onde a primeira linha\r\n",
    "                         # contém os valores da moda da coluna, a segunda linha\r\n",
    "                         # valores de moda onde houve impate e NaN caso não ocorra \r\n",
    "                         # impate, e assim por diante\r\n",
    "print(modas.head())\r\n",
    "\r\n",
    "escolas30 = escolas30.fillna(modas.iloc[0])  # preenchendo os valores faltantes com um dos\r\n",
    "                                             # valores da moda em cada coluna."
   ]
  },
  {
   "cell_type": "markdown",
   "metadata": {},
   "source": [
    "### Exercício 10)\n",
    "\n",
    "Certifique que o DataFrame `escolas30` não possui qualquer valor faltante após o tratamento realizado no exercício anterior."
   ]
  },
  {
   "cell_type": "code",
   "execution_count": 41,
   "metadata": {},
   "outputs": [
    {
     "name": "stdout",
     "output_type": "stream",
     "text": [
      "Numero de valores faltante = 0\n"
     ]
    }
   ],
   "source": [
    "# Verificando que não restam valores faltantes\r\n",
    "# note que o resultado é um DataFrame vazio \"Empty DataFrame\"\r\n",
    "#print(escolas30.loc[escolas30.isna().sum(axis=1) > 0])\r\n",
    "\r\n",
    "# solucao alternativa\r\n",
    "\r\n",
    "print('Numero de valores faltante =',escolas30.isna().sum(axis=0).sum())"
   ]
  }
 ],
 "metadata": {
  "kernelspec": {
   "display_name": "Python 3.9.2 64-bit",
   "name": "python392jvsc74a57bd0ac59ebe37160ed0dfa835113d9b8498d9f09ceb179beaac4002f036b9467c963"
  },
  "language_info": {
   "codemirror_mode": {
    "name": "ipython",
    "version": 3
   },
   "file_extension": ".py",
   "mimetype": "text/x-python",
   "name": "python",
   "nbconvert_exporter": "python",
   "pygments_lexer": "ipython3",
   "version": "3.9.2"
  },
  "metadata": {
   "interpreter": {
    "hash": "ac59ebe37160ed0dfa835113d9b8498d9f09ceb179beaac4002f036b9467c963"
   }
  },
  "toc": {
   "base_numbering": 1,
   "nav_menu": {},
   "number_sections": true,
   "sideBar": true,
   "skip_h1_title": false,
   "title_cell": "Table of Contents",
   "title_sidebar": "Contents",
   "toc_cell": false,
   "toc_position": {},
   "toc_section_display": true,
   "toc_window_display": false
  }
 },
 "nbformat": 4,
 "nbformat_minor": 2
}