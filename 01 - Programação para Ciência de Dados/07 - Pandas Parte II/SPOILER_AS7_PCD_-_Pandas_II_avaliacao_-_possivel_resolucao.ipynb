{
 "cells": [
  {
   "cell_type": "markdown",
   "metadata": {},
   "source": [
    "# <font color=\"blue\"> MBA em Ciência de Dados</font>\n",
    "# <font color=\"blue\">Programação para Ciência de Dados</font>\n",
    "\n",
    "## <font color=\"blue\">Pandas Parte II - Avaliação</font>\n",
    "**Material Produzido por Luis Gustavo Nonato**<br>\n",
    "**Cemeai - ICMC/USP São Carlos**\n",
    "---"
   ]
  },
  {
   "cell_type": "markdown",
   "metadata": {},
   "source": [
    "Os exercícios a seguir farão uso dos arquivos <font style=\"font-family: monaco\">ESC2013\\_RMSP\\_CEM.csv</font> e <font style=\"font-family: monaco\">ENEM2015.csv</font> disponíveis para download no sistema _Moodle_."
   ]
  },
  {
   "cell_type": "code",
   "execution_count": 1,
   "metadata": {},
   "outputs": [],
   "source": [
    "import numpy as np\n",
    "import pandas as pd\n",
    "import matplotlib.pyplot as plt"
   ]
  },
  {
   "cell_type": "code",
   "execution_count": 2,
   "metadata": {},
   "outputs": [],
   "source": [
    "# Os comandos abaixo são apenas para modificar como as informações serão apresentadas\n",
    "# no notebook\n",
    "\n",
    "# mostra no máximo 50 colunas\n",
    "pd.set_option('display.max_columns', 50)\n",
    "\n",
    "# aumenta o tamanho das figuras geradas pelo matplotlib\n",
    "plt.rcParams['figure.figsize'] = (10.0, 8.0)"
   ]
  },
  {
   "cell_type": "markdown",
   "metadata": {},
   "source": [
    "### Exercício 1)\n",
    "Carregue os arquivos <font style=\"font-family: monaco\">ESC2013\\_RMSP\\_CEM.csv</font> e <font style=\"font-family: monaco\">ENEM2015.csv</font>, armazenando-os em variáveis tipo DataFrame chamadas `escolas` e `enem` respectivamente. \n",
    "Os arquivos <font style=\"font-family: monaco\">ESC2013_RMSP_CEM.csv</font> e <font style=\"font-family: monaco\">ENEM2015.csv</font> possuem em comum o código das escolas, os quais estão armazenados nas colunas CODESC e CODIGO DA ENTIDADE, respectivamente.\n",
    "\n",
    "Quantas escolas cujo código aparece no arquivo <font style=\"font-family: monaco\">ENEM2015.csv</font> tambem aparecem em <font style=\"font-family: monaco\">ESC2013_RMSP_CEM.csv</font>?\n",
    "\n",
    "a) 1243 escolas<br>\n",
    "b) 1043 escolas <br>\n",
    "c) 10243 escolas <br>\n",
    "d) 1003 escolas\n",
    "\n",
    "**Dica**: Utilize o método <font color='blue'>isin</font> do <font color='blue'>pandas</font>."
   ]
  },
  {
   "cell_type": "code",
   "execution_count": 3,
   "metadata": {},
   "outputs": [
    {
     "name": "stdout",
     "output_type": "stream",
     "text": [
      "escolas (10937, 136)\n",
      "enem2015 (1243, 3)\n"
     ]
    },
    {
     "data": {
      "text/html": "<div>\n<style scoped>\n    .dataframe tbody tr th:only-of-type {\n        vertical-align: middle;\n    }\n\n    .dataframe tbody tr th {\n        vertical-align: top;\n    }\n\n    .dataframe thead th {\n        text-align: right;\n    }\n</style>\n<table border=\"1\" class=\"dataframe\">\n  <thead>\n    <tr style=\"text-align: right;\">\n      <th></th>\n      <th>CODIGO DA ENTIDADE</th>\n      <th>NUMERO DE PARTICIPANTES</th>\n      <th>Classificacao</th>\n    </tr>\n  </thead>\n  <tbody>\n    <tr>\n      <th>0</th>\n      <td>35000139</td>\n      <td>142</td>\n      <td>1.0</td>\n    </tr>\n    <tr>\n      <th>1</th>\n      <td>35000140</td>\n      <td>79</td>\n      <td>1.0</td>\n    </tr>\n    <tr>\n      <th>2</th>\n      <td>35000267</td>\n      <td>131</td>\n      <td>2.0</td>\n    </tr>\n    <tr>\n      <th>3</th>\n      <td>35000280</td>\n      <td>146</td>\n      <td>1.0</td>\n    </tr>\n    <tr>\n      <th>4</th>\n      <td>35000334</td>\n      <td>95</td>\n      <td>1.0</td>\n    </tr>\n  </tbody>\n</table>\n</div>",
      "text/plain": "   CODIGO DA ENTIDADE  NUMERO DE PARTICIPANTES  Classificacao\n0            35000139                      142            1.0\n1            35000140                       79            1.0\n2            35000267                      131            2.0\n3            35000280                      146            1.0\n4            35000334                       95            1.0"
     },
     "execution_count": 3,
     "metadata": {},
     "output_type": "execute_result"
    }
   ],
   "source": [
    "escolas = pd.read_csv(\"ESC2013_RMSP_CEM.csv\")\n",
    "enem = pd.read_csv(\"ENEM2015.csv\")\n",
    "\n",
    "print(f'escolas {escolas.shape}\\nenem2015 {enem.shape}')\n",
    "enem.head()"
   ]
  },
  {
   "cell_type": "code",
   "execution_count": 14,
   "metadata": {},
   "outputs": [
    {
     "data": {
      "text/plain": [
       "1243"
      ]
     },
     "execution_count": 14,
     "metadata": {},
     "output_type": "execute_result"
    }
   ],
   "source": [
    "comum = escolas['CODESC'].isin(enem['CODIGO DA ENTIDADE'])\n",
    "comum.sum()"
   ]
  },
  {
   "cell_type": "markdown",
   "metadata": {},
   "source": [
    "## 1243 escolas"
   ]
  },
  {
   "cell_type": "markdown",
   "metadata": {},
   "source": [
    "### Exercício 2)\n",
    "\n",
    "Verifique quantos valores faltantes existem em cada um dos DataFrames:\n",
    "\n",
    "a) `escolas`: 776346 valores faltantes; `enem`: 0 valores faltantes <br>\n",
    "b) `escolas`: 776346 valores faltantes; `enem`: 1 valor faltante <br>\n",
    "c) `escolas`: 7346 valores faltantes; `enem`: 103 valores faltantes <br>\n",
    "d) `escolas`: 7346 valores faltantes; `enem`: 10 valores faltantes  "
   ]
  },
  {
   "cell_type": "code",
   "execution_count": 19,
   "metadata": {},
   "outputs": [
    {
     "name": "stdout",
     "output_type": "stream",
     "text": [
      "Missing values em escolas: 776346\n",
      "Missing values em enem: 1\n"
     ]
    }
   ],
   "source": [
    "print(f'Missing values em escolas: {escolas.isna().sum().sum()}')\n",
    "print(f'Missing values em enem: {enem.isna().sum().sum()}')"
   ]
  },
  {
   "cell_type": "markdown",
   "metadata": {},
   "source": [
    "## escolas: 776346 valores faltantes; enem: 1 valor faltante"
   ]
  },
  {
   "cell_type": "markdown",
   "metadata": {},
   "source": [
    "### Exercício 3)\n",
    "No DataFrame `escolas`, qual o rótulo da coluna com o maior número de valores faltantes.\n",
    "\n",
    "a) LP05_AF<br>\n",
    "b) MAT05_AF <br>\n",
    "c) IDEB05AF <br>\n",
    "d) COD_SC\n",
    "\n",
    "__Dica__: Utilize uma combinação dos comandos <font color='blue'>isna</font>, <font color='blue'>sum</font> e <font color='blue'>idxmax</font> do <font color='blue'>pandas</font>"
   ]
  },
  {
   "cell_type": "code",
   "execution_count": 59,
   "metadata": {},
   "outputs": [
    {
     "name": "stdout",
     "output_type": "stream",
     "text": [
      "rótulo da coluna com o maior número de valores faltantes é COD_SC com 10937 valores faltantes\n"
     ]
    }
   ],
   "source": [
    "print(f'rótulo da coluna com o maior número de valores faltantes é {escolas.isna().sum(axis=0).idxmax()} com {escolas.isna().sum(axis=0).max()} valores faltantes')"
   ]
  },
  {
   "cell_type": "markdown",
   "metadata": {},
   "source": [
    "## COD_SC"
   ]
  },
  {
   "cell_type": "markdown",
   "metadata": {},
   "source": [
    "### Exercício 4)\n",
    "\n",
    "O DataFrame `enem` possui valores faltantes na coluna 'Classificacao'. Preencha os valores faltantes com o valor da 'moda' da coluna. Qual o valor da moda utilizado para preencher os valores faltantes?\n",
    "\n",
    "a) 1<br>\n",
    "b) 2<br>\n",
    "c) 3<br>\n",
    "d) 4"
   ]
  },
  {
   "cell_type": "code",
   "execution_count": 24,
   "metadata": {},
   "outputs": [
    {
     "name": "stdout",
     "output_type": "stream",
     "text": [
      "      CODIGO DA ENTIDADE  NUMERO DE PARTICIPANTES  Classificacao\n",
      "0               35000139                     11.0            2.0\n",
      "1               35000140                      NaN            NaN\n",
      "2               35000267                      NaN            NaN\n",
      "3               35000280                      NaN            NaN\n",
      "4               35000334                      NaN            NaN\n",
      "5               35000413                      NaN            NaN\n",
      "6               35000486                      NaN            NaN\n",
      "7               35000553                      NaN            NaN\n",
      "8               35000620                      NaN            NaN\n",
      "9               35000668                      NaN            NaN\n",
      "10              35000673                      NaN            NaN\n",
      "11              35000711                      NaN            NaN\n",
      "12              35000848                      NaN            NaN\n",
      "13              35000875                      NaN            NaN\n",
      "14              35000905                      NaN            NaN\n",
      "15              35000917                      NaN            NaN\n",
      "16              35000929                      NaN            NaN\n",
      "17              35000930                      NaN            NaN\n",
      "18              35000942                      NaN            NaN\n",
      "19              35000954                      NaN            NaN\n",
      "20              35000978                      NaN            NaN\n",
      "21              35001036                      NaN            NaN\n",
      "22              35001156                      NaN            NaN\n",
      "23              35001168                      NaN            NaN\n",
      "24              35001247                      NaN            NaN\n",
      "25              35001259                      NaN            NaN\n",
      "26              35001284                      NaN            NaN\n",
      "27              35001363                      NaN            NaN\n",
      "28              35001375                      NaN            NaN\n",
      "29              35001569                      NaN            NaN\n",
      "...                  ...                      ...            ...\n",
      "1213            35915749                      NaN            NaN\n",
      "1214            35915750                      NaN            NaN\n",
      "1215            35917011                      NaN            NaN\n",
      "1216            35917515                      NaN            NaN\n",
      "1217            35918659                      NaN            NaN\n",
      "1218            35918805                      NaN            NaN\n",
      "1219            35919056                      NaN            NaN\n",
      "1220            35921051                      NaN            NaN\n",
      "1221            35921105                      NaN            NaN\n",
      "1222            35921130                      NaN            NaN\n",
      "1223            35921385                      NaN            NaN\n",
      "1224            35921543                      NaN            NaN\n",
      "1225            35922924                      NaN            NaN\n",
      "1226            35923254                      NaN            NaN\n",
      "1227            35923333                      NaN            NaN\n",
      "1228            35923369                      NaN            NaN\n",
      "1229            35923448                      NaN            NaN\n",
      "1230            35923461                      NaN            NaN\n",
      "1231            35923473                      NaN            NaN\n",
      "1232            35923795                      NaN            NaN\n",
      "1233            35923886                      NaN            NaN\n",
      "1234            35923904                      NaN            NaN\n",
      "1235            35923941                      NaN            NaN\n",
      "1236            35924039                      NaN            NaN\n",
      "1237            35924398                      NaN            NaN\n",
      "1238            35925603                      NaN            NaN\n",
      "1239            35925639                      NaN            NaN\n",
      "1240            35925834                      NaN            NaN\n",
      "1241            35925871                      NaN            NaN\n",
      "1242            35990012                      NaN            NaN\n",
      "\n",
      "[1243 rows x 3 columns]\n"
     ]
    }
   ],
   "source": [
    "moda = enem.mode()\n",
    "print(moda)"
   ]
  },
  {
   "cell_type": "code",
   "execution_count": 26,
   "metadata": {},
   "outputs": [
    {
     "name": "stdout",
     "output_type": "stream",
     "text": [
      "2.0\n"
     ]
    }
   ],
   "source": [
    "print(moda.loc[0,'Classificacao'])\n",
    "enem=enem.fillna(moda.loc[0,'Classificacao'])"
   ]
  },
  {
   "cell_type": "markdown",
   "metadata": {},
   "source": [
    "## o valor da moda utilizado para preencher os valores faltantes 2"
   ]
  },
  {
   "cell_type": "markdown",
   "metadata": {},
   "source": [
    "### Exercício 5)\n",
    "Os arquivos <font style=\"font-family: monaco\">ESC2013\\_RMSP\\_CEM.csv</font> e <font style=\"font-family: monaco\">ENEM2015.csv</font> possuem em comum o código das escolas, os quais estão armazenados nas colunas _CODESC_ e _CODIGO DA ENTIDADE_, respectivamente.\n",
    "\n",
    "Busque na coluna 'NUMERO DE PARTICIPANTES' do DataFrame `enem` o código das escolas com o menor número de participantes no ENEM. Utilizando o código obtido, imprima os nomes de tais escolas (armazenado na coluna 'NOMEESC' do DataFrame `escolas`). Uma das escolas com o menor número de participantes é:\n",
    "\n",
    "a) TEOTONIO ALVES PEREIRA<br>\n",
    "b) THAMARA CORREA DE MATOS<br>\n",
    "c) BRASILIO FLORES DE AZEVEDO<br>\n",
    "d) OSWALDO SAMMARTINO"
   ]
  },
  {
   "cell_type": "code",
   "execution_count": 56,
   "metadata": {
    "scrolled": true,
    "tags": []
   },
   "outputs": [
    {
     "name": "stdout",
     "output_type": "stream",
     "text": [
      "TEOTONIO ALVES PEREIRA:  1\n",
      "THAMARA CORREA DE MATOS:  0\n",
      "BRASILIO FLORES DE AZEVEDO:  0\n",
      "OSWALDO SAMMARTINO:  0\n"
     ]
    }
   ],
   "source": [
    "min = enem['NUMERO DE PARTICIPANTES'].min()\n",
    "cod_ent = enem['NUMERO DE PARTICIPANTES'] == min\n",
    "# print(escolas[escolas['CODESC'].isin(enem[cod_ent]['CODIGO DA ENTIDADE'])]['NOMEESC'])\n",
    "\n",
    "Escola_menos = escolas[escolas['CODESC'].isin(enem[cod_ent]['CODIGO DA ENTIDADE'])]['NOMEESC']\n",
    "\n",
    "# Escola_menos.head()\n",
    "print('TEOTONIO ALVES PEREIRA: ', Escola_menos.isin(['TEOTONIO ALVES PEREIRA']).sum())\n",
    "print('THAMARA CORREA DE MATOS: ',Escola_menos.isin(['THAMARA CORREA DE MATOS']).sum())\n",
    "print('BRASILIO FLORES DE AZEVEDO: ',Escola_menos.isin(['BRASILIO FLORES DE AZEVEDO']).sum())\n",
    "print('OSWALDO SAMMARTINO: ', Escola_menos.isin(['OSWALDO SAMMARTINO']).sum())"
   ]
  },
  {
   "cell_type": "markdown",
   "metadata": {},
   "source": [
    "### Uma das escolas com o menor número de participantes é:\n",
    "## TEOTONIO ALVES PEREIRA"
   ]
  }
 ],
 "metadata": {
  "kernelspec": {
   "display_name": "Python 3.9.2 64-bit",
   "name": "python392jvsc74a57bd0e64a8ae88c0298db2bedf50189749685c2e3abfc11d34d18d8a09b564dca363f"
  },
  "language_info": {
   "codemirror_mode": {
    "name": "ipython",
    "version": 3
   },
   "file_extension": ".py",
   "mimetype": "text/x-python",
   "name": "python",
   "nbconvert_exporter": "python",
   "pygments_lexer": "ipython3",
   "version": "3.9.2"
  },
  "metadata": {
   "interpreter": {
    "hash": "e64a8ae88c0298db2bedf50189749685c2e3abfc11d34d18d8a09b564dca363f"
   }
  },
  "toc": {
   "base_numbering": 1,
   "nav_menu": {},
   "number_sections": true,
   "sideBar": true,
   "skip_h1_title": false,
   "title_cell": "Table of Contents",
   "title_sidebar": "Contents",
   "toc_cell": false,
   "toc_position": {},
   "toc_section_display": true,
   "toc_window_display": false
  }
 },
 "nbformat": 4,
 "nbformat_minor": 2
}