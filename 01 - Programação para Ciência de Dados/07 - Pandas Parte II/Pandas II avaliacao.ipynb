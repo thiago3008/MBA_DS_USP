{
 "cells": [
  {
   "cell_type": "markdown",
   "metadata": {},
   "source": [
    "# <font color=\"blue\"> MBA em Ciência de Dados</font>\n",
    "# <font color=\"blue\">Programação para Ciência de Dados</font>\n",
    "\n",
    "## <font color=\"blue\">Pandas Parte II - Avaliação</font>\n",
    "**Material Produzido por Luis Gustavo Nonato**<br>\n",
    "**Cemeai - ICMC/USP São Carlos**\n",
    "---"
   ]
  },
  {
   "cell_type": "markdown",
   "metadata": {},
   "source": [
    "Os exercícios a seguir farão uso dos arquivos <font style=\"font-family: monaco\">ESC2013\\_RMSP\\_CEM.csv</font> e <font style=\"font-family: monaco\">ENEM2015.csv</font> disponíveis para download no sistema _Moodle_."
   ]
  },
  {
   "cell_type": "code",
   "execution_count": 2,
   "metadata": {},
   "outputs": [],
   "source": [
    "import numpy as np\n",
    "import pandas as pd\n",
    "import matplotlib.pyplot as plt"
   ]
  },
  {
   "cell_type": "code",
   "execution_count": 5,
   "metadata": {},
   "outputs": [],
   "source": [
    "# Os comandos abaixo são apenas para modificar como as informações serão apresentadas no notebook\r\n",
    "\r\n",
    "# mostra no máximo 50 colunas\r\n",
    "pd.set_option('display.max_columns', 50)\r\n",
    "\r\n",
    "# aumenta o tamanho das figuras geradas pelo matplotlib\r\n",
    "plt.rcParams['figure.figsize'] = (10.0, 8.0)"
   ]
  },
  {
   "cell_type": "markdown",
   "metadata": {},
   "source": [
    "### Exercício 1)\n",
    "Carregue os arquivos <font style=\"font-family: monaco\">ESC2013\\_RMSP\\_CEM.csv</font> e <font style=\"font-family: monaco\">ENEM2015.csv</font>, armazenando-os em variáveis tipo DataFrame chamadas `escolas` e `enem` respectivamente. \n",
    "Os arquivos <font style=\"font-family: monaco\">ESC2013_RMSP_CEM.csv</font> e <font style=\"font-family: monaco\">ENEM2015.csv</font> possuem em comum o código das escolas, os quais estão armazenados nas colunas CODESC e CODIGO DA ENTIDADE, respectivamente.\n",
    "\n",
    "Quantas escolas cujo código aparece no arquivo <font style=\"font-family: monaco\">ENEM2015.csv</font> tambem aparecem em <font style=\"font-family: monaco\">ESC2013_RMSP_CEM.csv</font>?\n",
    "\n",
    "a) 1243 escolas<br>\n",
    "b) 1043 escolas <br>\n",
    "c) 10243 escolas <br>\n",
    "d) 1003 escolas\n",
    "\n",
    "**Dica**: Utilize o método <font color='blue'>isin</font> do <font color='blue'>pandas</font>."
   ]
  },
  {
   "cell_type": "code",
   "execution_count": 6,
   "metadata": {},
   "outputs": [],
   "source": [
    "escolas = pd.read_csv('ESC2013_RMSP_CEM.csv')\r\n",
    "enem = pd.read_csv('ENEM2015.csv')"
   ]
  },
  {
   "cell_type": "code",
   "execution_count": 43,
   "metadata": {},
   "outputs": [
    {
     "name": "stdout",
     "output_type": "stream",
     "text": [
      "Escolas e Enem: 1243\n"
     ]
    }
   ],
   "source": [
    "enem = enem.rename(columns={'CODIGO DA ENTIDADE':'CODESC'})\r\n",
    "escolasenem = pd.merge(enem,escolas,on='CODESC')\r\n",
    "#print(escolasenem.duplicated().sum(axis=0))\r\n",
    "print(\"Escolas e Enem:\",escolasenem.shape[0])\r\n",
    "#print(escolasenem)\r\n",
    "\r\n"
   ]
  },
  {
   "cell_type": "markdown",
   "metadata": {},
   "source": [
    "### Exercício 2)\n",
    "\n",
    "Verifique quantos valores faltantes existem em cada um dos DataFrames:\n",
    "\n",
    "a) `escolas`: 776346 valores faltantes; `enem`: 0 valores faltantes <br>\n",
    "b) `escolas`: 776346 valores faltantes; `enem`: 1 valor faltante <br>\n",
    "c) `escolas`: 7346 valores faltantes; `enem`: 103 valores faltantes <br>\n",
    "d) `escolas`: 7346 valores faltantes; `enem`: 10 valores faltantes  "
   ]
  },
  {
   "cell_type": "code",
   "execution_count": 55,
   "metadata": {},
   "outputs": [
    {
     "name": "stdout",
     "output_type": "stream",
     "text": [
      "Escolas: 776346 valor(es) faltante(s);\n",
      "Enem: 1 valor(es) faltante(s);\n",
      "CODESC                     0\n",
      "NUMERO DE PARTICIPANTES    0\n",
      "Classificacao              1\n",
      "dtype: int64\n"
     ]
    }
   ],
   "source": [
    "print(\"Escolas:\",escolas.isna().sum(axis=0).sum(),\"valor(es) faltante(s);\")\r\n",
    "print(\"Enem:\",enem.isna().sum(axis=0).sum(),\"valor(es) faltante(s);\")"
   ]
  },
  {
   "cell_type": "markdown",
   "metadata": {},
   "source": [
    "### Exercício 3)\n",
    "No DataFrame `escolas`, qual o rótulo da coluna com o maior número de valores faltantes.\n",
    "\n",
    "a) LP05_AF<br>\n",
    "b) MAT05_AF <br>\n",
    "c) IDEB05AF <br>\n",
    "d) COD_SC\n",
    "\n",
    "__Dica__: Utilize uma combinação dos comandos <font color='blue'>isna</font>, <font color='blue'>sum</font> e <font color='blue'>idxmax</font> do <font color='blue'>pandas</font>"
   ]
  },
  {
   "cell_type": "code",
   "execution_count": 53,
   "metadata": {},
   "outputs": [
    {
     "name": "stdout",
     "output_type": "stream",
     "text": [
      "Campo com maior número de valores faltantes em 'ESCOLA': COD_SC - 10937\n"
     ]
    }
   ],
   "source": [
    "print(\"Campo com maior número de valores faltantes em 'ESCOLA':\", escolas.isna().sum(axis=0).idxmax(),\"-\",escolas.isna().sum(axis=0).max())"
   ]
  },
  {
   "cell_type": "markdown",
   "metadata": {},
   "source": [
    "### Exercício 4)\n",
    "\n",
    "O DataFrame `enem` possui valores faltantes na coluna 'Classificacao'. Preencha os valores faltantes com o valor da 'moda' da coluna. Qual o valor da moda utilizado para preencher os valores faltantes?\n",
    "\n",
    "a) 1<br>\n",
    "b) 2<br>\n",
    "c) 3<br>\n",
    "d) 4"
   ]
  },
  {
   "cell_type": "code",
   "execution_count": 61,
   "metadata": {},
   "outputs": [
    {
     "name": "stdout",
     "output_type": "stream",
     "text": [
      "CODESC                     35000139.0\n",
      "NUMERO DE PARTICIPANTES          11.0\n",
      "Classificacao                     2.0\n",
      "Name: 0, dtype: float64\n"
     ]
    }
   ],
   "source": [
    "modas = enem.mode()\r\n",
    "enem_mod = enem.fillna(modas.iloc[0])\r\n",
    "print(modas.iloc[0])"
   ]
  },
  {
   "cell_type": "markdown",
   "metadata": {},
   "source": [
    "### Exercício 5)\n",
    "Os arquivos <font style=\"font-family: monaco\">ESC2013\\_RMSP\\_CEM.csv</font> e <font style=\"font-family: monaco\">ENEM2015.csv</font> possuem em comum o código das escolas, os quais estão armazenados nas colunas _CODESC_ e _CODIGO DA ENTIDADE_, respectivamente.\n",
    "\n",
    "Busque na coluna 'NUMERO DE PARTICIPANTES' do DataFrame `enem` o código das escolas com o menor número de participantes no ENEM. Utilizando o código obtido, imprima os nomes de tais escolas (armazenado na coluna 'NOMEESC' do DataFrame `escolas`). Uma das escolas com o menor número de participantes é:\n",
    "\n",
    "a) TEOTONIO ALVES PEREIRA<br>\n",
    "b) THAMARA CORREA DE MATOS<br>\n",
    "c) BRASILIO FLORES DE AZEVEDO<br>\n",
    "d) OSWALDO SAMMARTINO"
   ]
  },
  {
   "cell_type": "code",
   "execution_count": 126,
   "metadata": {
    "scrolled": true
   },
   "outputs": [
    {
     "data": {
      "text/html": "<div>\n<style scoped>\n    .dataframe tbody tr th:only-of-type {\n        vertical-align: middle;\n    }\n\n    .dataframe tbody tr th {\n        vertical-align: top;\n    }\n\n    .dataframe thead th {\n        text-align: right;\n    }\n</style>\n<table border=\"1\" class=\"dataframe\">\n  <thead>\n    <tr style=\"text-align: right;\">\n      <th></th>\n      <th>NOMEESC</th>\n      <th>NUMERO DE PARTICIPANTES</th>\n    </tr>\n  </thead>\n  <tbody>\n    <tr>\n      <th>110</th>\n      <td>TEOTONIO ALVES PEREIRA</td>\n      <td>10</td>\n    </tr>\n    <tr>\n      <th>326</th>\n      <td>CENTENARIO COLEGIO</td>\n      <td>10</td>\n    </tr>\n    <tr>\n      <th>371</th>\n      <td>BRASIL COLEGIO</td>\n      <td>10</td>\n    </tr>\n    <tr>\n      <th>380</th>\n      <td>NOSSA SENHORA DO SAGRADO CORACAO COLEGIO</td>\n      <td>10</td>\n    </tr>\n    <tr>\n      <th>416</th>\n      <td>ASSUNCAO COLEGIO EIEFM</td>\n      <td>10</td>\n    </tr>\n    <tr>\n      <th>447</th>\n      <td>JEAN PIAGET COLEGIO</td>\n      <td>10</td>\n    </tr>\n    <tr>\n      <th>574</th>\n      <td>MANOEL MARCONDES GALVAO UNIDADE II</td>\n      <td>10</td>\n    </tr>\n    <tr>\n      <th>582</th>\n      <td>HARMONIA COLEGIO</td>\n      <td>10</td>\n    </tr>\n    <tr>\n      <th>584</th>\n      <td>PRESTES MAIA INSTITUTO EDUCACIONAL</td>\n      <td>10</td>\n    </tr>\n    <tr>\n      <th>593</th>\n      <td>EUCLYDES DA CUNHA COLEGIO</td>\n      <td>10</td>\n    </tr>\n    <tr>\n      <th>598</th>\n      <td>COOPERATIVISTA DE POA COLEGIO</td>\n      <td>10</td>\n    </tr>\n    <tr>\n      <th>624</th>\n      <td>PAULO DE TARSO COLEGIO</td>\n      <td>10</td>\n    </tr>\n    <tr>\n      <th>632</th>\n      <td>GRAN LEONE COLEGIO</td>\n      <td>11</td>\n    </tr>\n    <tr>\n      <th>661</th>\n      <td>COSTA ZAVAGLI COLEGIO</td>\n      <td>10</td>\n    </tr>\n    <tr>\n      <th>670</th>\n      <td>BRASIL JOVEM COLEGIO</td>\n      <td>11</td>\n    </tr>\n    <tr>\n      <th>673</th>\n      <td>GUARULHOS COLEGIO INTEGRADO</td>\n      <td>10</td>\n    </tr>\n    <tr>\n      <th>674</th>\n      <td>CALIFORNIA JUNIOR COLEGIO</td>\n      <td>10</td>\n    </tr>\n    <tr>\n      <th>677</th>\n      <td>ALIADO COLEGIO UNIDADE JOAO PAULO II</td>\n      <td>11</td>\n    </tr>\n    <tr>\n      <th>698</th>\n      <td>ANTOINE DE SAINT EXUPERY COLEGIO</td>\n      <td>11</td>\n    </tr>\n    <tr>\n      <th>726</th>\n      <td>SAO DOMINGOS SAVIO COLEGIO</td>\n      <td>11</td>\n    </tr>\n    <tr>\n      <th>740</th>\n      <td>RUI BARBOSA COLEGIO</td>\n      <td>10</td>\n    </tr>\n    <tr>\n      <th>748</th>\n      <td>MOSAICO COLEGIO</td>\n      <td>11</td>\n    </tr>\n    <tr>\n      <th>770</th>\n      <td>VISCONDE DE ITABORAI COLEGIO</td>\n      <td>11</td>\n    </tr>\n    <tr>\n      <th>780</th>\n      <td>MARCO ZERO COLEGIO</td>\n      <td>10</td>\n    </tr>\n    <tr>\n      <th>784</th>\n      <td>BRASILIENSE COLEGIO</td>\n      <td>11</td>\n    </tr>\n    <tr>\n      <th>826</th>\n      <td>SANTA MARIA DE NAZARE COLEGIO UNIDADE I</td>\n      <td>11</td>\n    </tr>\n    <tr>\n      <th>828</th>\n      <td>PASSO SEGURO COLEGIO</td>\n      <td>11</td>\n    </tr>\n    <tr>\n      <th>838</th>\n      <td>ALMA MATER COLEGIO</td>\n      <td>11</td>\n    </tr>\n    <tr>\n      <th>848</th>\n      <td>ABC COLEGIO</td>\n      <td>11</td>\n    </tr>\n    <tr>\n      <th>856</th>\n      <td>ARCADIA COLEGIO</td>\n      <td>10</td>\n    </tr>\n    <tr>\n      <th>869</th>\n      <td>GENESE COLEGIO</td>\n      <td>11</td>\n    </tr>\n    <tr>\n      <th>876</th>\n      <td>SANTA RITA COLEGIO</td>\n      <td>10</td>\n    </tr>\n    <tr>\n      <th>881</th>\n      <td>AUGUSTO SILVA COLEGIO</td>\n      <td>10</td>\n    </tr>\n    <tr>\n      <th>890</th>\n      <td>FUTURO ESCOLA DO</td>\n      <td>10</td>\n    </tr>\n    <tr>\n      <th>896</th>\n      <td>ANDRADE INSTITUTO EDUCACIONAL</td>\n      <td>10</td>\n    </tr>\n    <tr>\n      <th>905</th>\n      <td>ITAQUERA COLEGIO</td>\n      <td>11</td>\n    </tr>\n    <tr>\n      <th>908</th>\n      <td>CETS COLEGIO</td>\n      <td>11</td>\n    </tr>\n    <tr>\n      <th>913</th>\n      <td>CULTURA COLEGIO</td>\n      <td>11</td>\n    </tr>\n    <tr>\n      <th>928</th>\n      <td>CORACAO DE MARIA INSTITUTO EDUCACIONAL</td>\n      <td>11</td>\n    </tr>\n    <tr>\n      <th>930</th>\n      <td>SANTA ISABEL COLEGIO</td>\n      <td>11</td>\n    </tr>\n    <tr>\n      <th>954</th>\n      <td>POLIEDRO COLEGIO</td>\n      <td>10</td>\n    </tr>\n    <tr>\n      <th>967</th>\n      <td>ADVENTUS COLEGIO</td>\n      <td>10</td>\n    </tr>\n    <tr>\n      <th>1051</th>\n      <td>CASTANHEIRAS ESCOLA</td>\n      <td>11</td>\n    </tr>\n    <tr>\n      <th>1093</th>\n      <td>DOM BOSCO SANTO ANDRE UNIDADE III COLEGIO</td>\n      <td>10</td>\n    </tr>\n    <tr>\n      <th>1095</th>\n      <td>ALEXANDRE DUMAS COMPLEXO EDUCACIONAL</td>\n      <td>10</td>\n    </tr>\n    <tr>\n      <th>1130</th>\n      <td>FUTURA COLEGIO</td>\n      <td>10</td>\n    </tr>\n    <tr>\n      <th>1141</th>\n      <td>SAINT GERMAIN COLEGIO</td>\n      <td>11</td>\n    </tr>\n    <tr>\n      <th>1152</th>\n      <td>SHANGRI LA COLEGIO</td>\n      <td>10</td>\n    </tr>\n    <tr>\n      <th>1172</th>\n      <td>VIVARE COLEGIO</td>\n      <td>10</td>\n    </tr>\n    <tr>\n      <th>1173</th>\n      <td>CRIACAO COLEGIO</td>\n      <td>10</td>\n    </tr>\n  </tbody>\n</table>\n</div>",
      "text/plain": "                                        NOMEESC  NUMERO DE PARTICIPANTES\n110                      TEOTONIO ALVES PEREIRA                       10\n326                          CENTENARIO COLEGIO                       10\n371                              BRASIL COLEGIO                       10\n380    NOSSA SENHORA DO SAGRADO CORACAO COLEGIO                       10\n416                      ASSUNCAO COLEGIO EIEFM                       10\n447                         JEAN PIAGET COLEGIO                       10\n574          MANOEL MARCONDES GALVAO UNIDADE II                       10\n582                            HARMONIA COLEGIO                       10\n584          PRESTES MAIA INSTITUTO EDUCACIONAL                       10\n593                   EUCLYDES DA CUNHA COLEGIO                       10\n598               COOPERATIVISTA DE POA COLEGIO                       10\n624                      PAULO DE TARSO COLEGIO                       10\n632                          GRAN LEONE COLEGIO                       11\n661                       COSTA ZAVAGLI COLEGIO                       10\n670                        BRASIL JOVEM COLEGIO                       11\n673                 GUARULHOS COLEGIO INTEGRADO                       10\n674                   CALIFORNIA JUNIOR COLEGIO                       10\n677        ALIADO COLEGIO UNIDADE JOAO PAULO II                       11\n698            ANTOINE DE SAINT EXUPERY COLEGIO                       11\n726                  SAO DOMINGOS SAVIO COLEGIO                       11\n740                         RUI BARBOSA COLEGIO                       10\n748                             MOSAICO COLEGIO                       11\n770                VISCONDE DE ITABORAI COLEGIO                       11\n780                          MARCO ZERO COLEGIO                       10\n784                         BRASILIENSE COLEGIO                       11\n826     SANTA MARIA DE NAZARE COLEGIO UNIDADE I                       11\n828                        PASSO SEGURO COLEGIO                       11\n838                          ALMA MATER COLEGIO                       11\n848                                 ABC COLEGIO                       11\n856                             ARCADIA COLEGIO                       10\n869                              GENESE COLEGIO                       11\n876                          SANTA RITA COLEGIO                       10\n881                       AUGUSTO SILVA COLEGIO                       10\n890                            FUTURO ESCOLA DO                       10\n896               ANDRADE INSTITUTO EDUCACIONAL                       10\n905                            ITAQUERA COLEGIO                       11\n908                                CETS COLEGIO                       11\n913                             CULTURA COLEGIO                       11\n928      CORACAO DE MARIA INSTITUTO EDUCACIONAL                       11\n930                        SANTA ISABEL COLEGIO                       11\n954                            POLIEDRO COLEGIO                       10\n967                            ADVENTUS COLEGIO                       10\n1051                        CASTANHEIRAS ESCOLA                       11\n1093  DOM BOSCO SANTO ANDRE UNIDADE III COLEGIO                       10\n1095       ALEXANDRE DUMAS COMPLEXO EDUCACIONAL                       10\n1130                             FUTURA COLEGIO                       10\n1141                      SAINT GERMAIN COLEGIO                       11\n1152                         SHANGRI LA COLEGIO                       10\n1172                             VIVARE COLEGIO                       10\n1173                            CRIACAO COLEGIO                       10"
     },
     "execution_count": 126,
     "metadata": {},
     "output_type": "execute_result"
    }
   ],
   "source": [
    "escolasenem[escolasenem['CODESC'].isin(enem.sort_values('NUMERO DE PARTICIPANTES')[:50]['CODESC'].tolist())][['NOMEESC','NUMERO DE PARTICIPANTES']]"
   ]
  }
 ],
 "metadata": {
  "kernelspec": {
   "display_name": "Python 3.9.2 64-bit",
   "name": "python392jvsc74a57bd0e64a8ae88c0298db2bedf50189749685c2e3abfc11d34d18d8a09b564dca363f"
  },
  "language_info": {
   "codemirror_mode": {
    "name": "ipython",
    "version": 3
   },
   "file_extension": ".py",
   "mimetype": "text/x-python",
   "name": "python",
   "nbconvert_exporter": "python",
   "pygments_lexer": "ipython3",
   "version": "3.9.2"
  },
  "metadata": {
   "interpreter": {
    "hash": "e64a8ae88c0298db2bedf50189749685c2e3abfc11d34d18d8a09b564dca363f"
   }
  },
  "toc": {
   "base_numbering": 1,
   "nav_menu": {},
   "number_sections": true,
   "sideBar": true,
   "skip_h1_title": false,
   "title_cell": "Table of Contents",
   "title_sidebar": "Contents",
   "toc_cell": false,
   "toc_position": {},
   "toc_section_display": true,
   "toc_window_display": false
  }
 },
 "nbformat": 4,
 "nbformat_minor": 2
}