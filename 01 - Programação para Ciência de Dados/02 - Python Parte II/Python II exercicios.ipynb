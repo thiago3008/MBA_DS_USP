{
 "cells": [
  {
   "cell_type": "markdown",
   "metadata": {
    "id": "YRuQfjG7jPDg"
   },
   "source": [
    "# <span style=\"color:blue\"> MBA em Ciência de Dados</span>\n",
    "# <span style=\"color:blue\">Programação para Ciência de Dados</span>\n",
    "\n",
    "## <span style=\"color:blue\">Exercícios Python Parte II</span>\n",
    "**Material Produzido por Luis Gustavo Nonato**<br>\n",
    "**Cemeai - ICMC/USP São Carlos**"
   ]
  },
  {
   "cell_type": "markdown",
   "metadata": {
    "id": "Pdh0qGE0jPDl"
   },
   "source": [
    "#### <span style=\"color:red\">Recomenda-se fortemente que os exercícios sejam feitos sem consultar as respostas antecipadamente.</span>"
   ]
  },
  {
   "cell_type": "markdown",
   "metadata": {
    "id": "6bULgIjJjPDm"
   },
   "source": [
    "### Exercício 1)"
   ]
  },
  {
   "cell_type": "markdown",
   "metadata": {
    "id": "BFbk3dhsjPDm"
   },
   "source": [
    "**1.1** No código abaixo, explique por que o valor da variável `y` não é o mesmo que o valor de `x` após a operação `x = x+1`."
   ]
  },
  {
   "cell_type": "code",
   "execution_count": 3,
   "metadata": {
    "id": "1vKxIn2DjPDm"
   },
   "outputs": [
    {
     "output_type": "stream",
     "name": "stdout",
     "text": [
      "(x,y): 3 3\nEndereço x:  1376298960\nEndereço y:  1376298960\n(x,y): 4 3\nEndereço x:  1376298976\nEndereço y:  1376298960\n"
     ]
    }
   ],
   "source": [
    "x = 3\n",
    "y = x\n",
    "print(\"(x,y):\",x,y)\n",
    "print(\"Endereço x: \",id(x))\n",
    "print(\"Endereço y: \",id(y))\n",
    "x = x+1\n",
    "print(\"(x,y):\",x,y)\n",
    "print(\"Endereço x: \",id(x))\n",
    "print(\"Endereço y: \",id(y))"
   ]
  },
  {
   "cell_type": "markdown",
   "metadata": {
    "id": "9hbR9r2FjPDn"
   },
   "source": [
    "**Resposta:** O valor inteiro \"3\" é atribuído à variável x, em um endereço de memória específico. Ao atribuir \"y = x\", o endereço de memória, onde se encontra o valor atribuído à variável x, é passado para y. Neste caso, id(y)=id(x).\n",
    "Ao realizar uma nova atribuição à variável x, por meio de uma operação com um valor inteiro, um novo valor é atribuído à x, assim como um novo endereço de memória. O endereço de memória anterior não é alterado, assim como o valor em que se encontra neste. Desta maneira, y continua \"armazenando\" o valor inteiro \"3\".\n",
    "\n",
    "Na atribuição `x=3`, um endereço de memória é criado para armazenar o valor 3 e uma referência para este endereço é armazenada na váriável `x`. A atribuição `y = x` faz com que `y` também seja uma referência para o endereço de memória onde o valor 3 está armazendo.\n",
    "A operação `x+1` recupera o valor 3 referenciado por `x`, adicionado 1 e o resultado 4 é colocado em um novo endereço de memória. Com a atribuição `x = x+1`, a variável `x` passa a referenciar este novo endereço de memória. A variável `y`, por sua vez, continua sendo uma referência para o endereço de memória onde o valor 3 está armazenado."
   ]
  },
  {
   "cell_type": "code",
   "execution_count": null,
   "metadata": {
    "id": "vAw_Nry2jPDn"
   },
   "outputs": [],
   "source": [
    "print(id(x))\n",
    "print(id(y))"
   ]
  },
  {
   "cell_type": "markdown",
   "metadata": {
    "id": "dr-Sea_zjPDn"
   },
   "source": [
    "**1.2** No código abaixo, explique por que o conteúdo da variável `y` também é afetado quando um novo elemento é adicionado à lista referenciada por `x`."
   ]
  },
  {
   "cell_type": "code",
   "execution_count": 8,
   "metadata": {
    "id": "95ABvrG2jPDn"
   },
   "outputs": [
    {
     "output_type": "stream",
     "name": "stdout",
     "text": [
      "x,y: [3] [3]\nid(x): 136594088\nid(y): 136594088\nx,y: [3, 1] [3, 1]\nid(x): 136594088\nid(y): 136594088\n"
     ]
    }
   ],
   "source": [
    "x = [3]\n",
    "y = x\n",
    "print(\"x,y:\",x,y)\n",
    "print(\"id(x):\", id(x))\n",
    "print(\"id(y):\", id(y))\n",
    "x.append(1)\n",
    "print(\"x,y:\",x,y)\n",
    "print(\"id(x):\", id(x))\n",
    "print(\"id(y):\", id(y))"
   ]
  },
  {
   "cell_type": "markdown",
   "metadata": {
    "id": "YihrK6m8jPDo"
   },
   "source": [
    "**Resposta:** Na atribuição x=[3], um endereço de memória é criado para armazenar a lista [3] e uma referência para este endereço é armazenada na váriável x. O endereço onde o elemento 3 da lista está armazenado é diferente do endereço de memória da lista. A atribuição `y = x` faz com que `y` também seja uma referência para o endereço de memória onde a lista [3] está armazenada.\n",
    "Ao realizar a operação `x.append(1)`, o elemento `1` é adicionado à lista [3], sem alterar o endereço de memória onde a lista encontrada alocada. Como `y` referencia este endereço, `y` tem acesso ao conteúdo alterado pela operação `x.append(1)`."
   ]
  },
  {
   "cell_type": "markdown",
   "metadata": {
    "id": "KxqASTBujPDo"
   },
   "source": [
    "**1.3** No código abaixo, explique por que o conteúdo da variável `y` NÃO afetado após a operação `x = x+[1]`."
   ]
  },
  {
   "cell_type": "code",
   "execution_count": 10,
   "metadata": {
    "id": "etpIR6QzjPDo"
   },
   "outputs": [
    {
     "output_type": "stream",
     "name": "stdout",
     "text": [
      "x,y: [3] [3]\nid(x): 130802632\nid(y): 130802632\n\nx,y: [3, 1] [3]\nid(x): 130804072\nid(y): 130802632\n"
     ]
    }
   ],
   "source": [
    "x = [3]\n",
    "y = x\n",
    "print(\"x,y:\",x,y)\n",
    "print(\"id(x):\", id(x))\n",
    "print(\"id(y):\", id(y))\n",
    "x = x+[1]\n",
    "print(\"\\nx,y:\",x,y)\n",
    "print(\"id(x):\", id(x))\n",
    "print(\"id(y):\", id(y))"
   ]
  },
  {
   "cell_type": "markdown",
   "metadata": {
    "id": "4APTG6kujPDo"
   },
   "source": [
    "**Resposta:** A operação `x+[1]` recupera a lista referênciada por `x` e a concatena com a lista `[1]`, porém, a concatenação resulta em uma nova lista, que é armazenada em um novo endereço de memória. A atribuição `x = x+[1]` faz com que `x` referencie este novo endereço de memória. \n",
    "\n",
    "A variável `y`, por sua vez, continua referenciando o endereço de memória onde a lista `[3]` foi armazenada, de modo que os endereços referenciados por `x` e `y` são diferentes. "
   ]
  },
  {
   "cell_type": "markdown",
   "metadata": {
    "id": "DLXnfiUnjPDo"
   },
   "source": [
    "### Exercício 2)\n",
    "Considere a lista `pessoas` abaixo. Escreva um código para remover todos os nomes da lista que começam com as letras 'A' e 'M', inserindo estes nomes em uma nova lista chamada `pessoasAM`. "
   ]
  },
  {
   "cell_type": "code",
   "execution_count": 25,
   "metadata": {
    "id": "yA69aRl-jPDp"
   },
   "outputs": [
    {
     "output_type": "stream",
     "name": "stdout",
     "text": [
      "['Miguel', 'Alice', 'Arthur', 'Manuela']\n['Sophia', 'Davi', 'Julia', 'Pedro', 'Isabella', 'Gabriel', 'Laura']\n"
     ]
    }
   ],
   "source": [
    "pessoas = ['Miguel','Sophia','Davi','Alice','Arthur','Julia','Pedro','Isabella','Gabriel','Manuela','Laura']\n",
    "\n",
    "pessoasAM = [nome for nome in pessoas if (nome[0] == 'A' or nome[0] == 'M')]\n",
    "\n",
    "# List Comprehensions acima é equivalente a:\n",
    "#pessoasAM = []\n",
    "#for pessoa in pessoas:\n",
    "#    if pessoa[0] == 'A' or pessoa[0] == 'M':\n",
    "#        pessoasAM.append(pessoa)\n",
    "\n",
    "# Remover nomes iniciados por 'A' e 'M' em \"pessoas\"\n",
    "for nome in pessoasAM:\n",
    "    if nome in pessoas:\n",
    "        pessoas.remove(nome)\n",
    "\n",
    "print(pessoasAM)\n",
    "print(pessoas)"
   ]
  },
  {
   "cell_type": "markdown",
   "metadata": {
    "id": "XhBHJYm3jPDp"
   },
   "source": [
    "### Exercício 3) \n",
    "Crie um dicionário cujas chaves são as strings da lista `pessoas` definida no exercício anterior, sendo o comprimento da string correspondentes o valor associado a chave. Utilize comprehension para criar o dicionário. Por exemplo:\n",
    "```python\n",
    "{'Miguel': 6, 'Sophia': 6, 'Davi': 4,...}\n",
    "```\n",
    "\n",
    "\n",
    "\n",
    "** Lembrando! **\n",
    "Comprehention também pode ser utilizado para construir dicionários. A syntaxe se torna:\n",
    "```python\n",
    "dicionario = {expressao_chave:expressao_valor for variavel_local in objeto}\n",
    "``` \n",
    "O resultado do comando acima é equivalente a:\n",
    "```python\n",
    "dicionario = {}\n",
    "for variavel in objeto:\n",
    "    dicionario[expressao_chave]=expressao_valor\n",
    "```\n",
    "Da mesma forma que listas, pode-se utilizar condições <font color='blue'>'if'</font>, <font color='blue'>'if' 'else'</font> e laços <font color='blue'>'for'</font> aninhados para construir dicionários."
   ]
  },
  {
   "cell_type": "code",
   "execution_count": 29,
   "metadata": {
    "id": "up0uKilYjPDp"
   },
   "outputs": [
    {
     "output_type": "stream",
     "name": "stdout",
     "text": [
      "{'Miguel': 6, 'Sophia': 6, 'Davi': 4, 'Alice': 5, 'Arthur': 6, 'Julia': 5, 'Pedro': 5, 'Isabella': 8, 'Gabriel': 7, 'Manuela': 7, 'Laura': 5}\n"
     ]
    }
   ],
   "source": [
    "pessoas = ['Miguel','Sophia','Davi','Alice','Arthur','Julia','Pedro','Isabella','Gabriel','Manuela','Laura']\n",
    "\n",
    "dic_pessoas = {nome:len(nome) for nome in pessoas}\n",
    "print(dic_pessoas)"
   ]
  },
  {
   "cell_type": "markdown",
   "metadata": {
    "id": "nSeVwbvojPDp"
   },
   "source": [
    "### Exercício 4) \n",
    "Considere a lista `pessoas` abaixo. Modifique os elementos da lista fazendo que com que o último caracter de cada elemento fique maiúsculo caso tal caractere seja uma vogal. Utilize o método <font color='blue'>'.upper'</font> de objetos string para converter um caracter em maiúsculo. Por exemplo, o método <font color='blue'>'.upper'</font> no código abaixo:\n",
    "```python\n",
    "x = 'abc'.upper()\n",
    "print(x)\n",
    "```\n",
    "resulta em `ABC`. Você não deve utilizar um laço <font color='blue'>'for'</font>, apenas comprehension."
   ]
  },
  {
   "cell_type": "code",
   "execution_count": 44,
   "metadata": {
    "id": "aZkQbcMDjPDp"
   },
   "outputs": [
    {
     "output_type": "stream",
     "name": "stdout",
     "text": [
      "['Miguel', 'SophiA', 'DavI', 'AlicE', 'Arthur', 'JuliA', 'PedrO', 'IsabellA', 'Gabriel', 'ManuelA', 'LaurA']\n"
     ]
    }
   ],
   "source": [
    "pessoas = ['Miguel','Sophia','Davi','Alice','Arthur','Julia','Pedro','Isabella','Gabriel','Manuela','Laura']\n",
    "# Escreva o código aqui\n",
    "\n",
    "pessoas_upper = [nome[:-1]+nome[-1].upper() if nome[-1] in 'aeiou' else nome for nome in pessoas]\n",
    "\n",
    "print(pessoas_upper)"
   ]
  },
  {
   "cell_type": "markdown",
   "metadata": {
    "id": "uStoN3C3jPDp"
   },
   "source": [
    "### Exercício 5)\n",
    "Escreva uma função chamda `div3e5` que recebe como parâmetro um número. Se o número for divisível por 3 a função retorna `div3`, se for divisível por 5 retorna `div5`, se for divisível por 3 e 5 retorna `div3div5`, senão retorna o próprio número. Aplique a função na lista `teste` abaixo e utilize comprehension para gerar uma nova lista com os resultados correspondentes. Por exemplo, dada a lista:\n",
    "```python\n",
    "[30, 21, 21, 49, 39, 49, 19,  5, 17,  4]\n",
    "```\n",
    "o código deve produzir\n",
    "```python\n",
    "['div3div5', 'div3', 'div3', 49, 'div3', 49, 19, 'div5', 17, 4]\n",
    "```"
   ]
  },
  {
   "cell_type": "code",
   "execution_count": 46,
   "metadata": {
    "id": "77I618NZjPDq"
   },
   "outputs": [
    {
     "output_type": "stream",
     "name": "stdout",
     "text": [
      "[4, 7, 'div3', 'div5', 'div3div5', 34, 'div3div5', 'div3', 17, 'div3', 'div3', 26, 32, 'div5', 34, 'div3', 41, 'div3', 7, 'div3']\n"
     ]
    }
   ],
   "source": [
    "teste = [4, 7, 33, 20, 30, 34, 15, 3, 17, 39, 21, 26, 32, 10, 34, 42, 41, 18, 7, 36]\n",
    "\n",
    "def div3e5(x):\n",
    "    if x%3 == 0 and x%5 != 0:\n",
    "        return 'div3'\n",
    "    elif x%3 != 0 and x%5 == 0:\n",
    "        return 'div5'\n",
    "    elif x%3 == 0 and x%5 == 0:\n",
    "        return 'div3div5'\n",
    "    else:\n",
    "        return x\n",
    "\n",
    "ret_teste = [div3e5(n) for n in teste]\n",
    "print(ret_teste)\n"
   ]
  },
  {
   "cell_type": "markdown",
   "metadata": {
    "id": "ynf1pLUdjPDq"
   },
   "source": [
    "### Exercício 6) \n",
    "Considere a lista `numeros` abaixo que contém números inteiros entre 0 e 5. Escreva uma função chamda `ocorrencias` que recebe a lista `numeros` como parâmetro e retorna um dicionário onde as chaves são números de 0 a 5 e os valores associados correspondem ao número de vezes que a chave aparece na lista. Por exemplo, o código abaixo:\n",
    "```python\n",
    "numeros = [2, 1, 1, 2, 0, 2, 0, 1, 4, 1]\n",
    "print(ocorrencias(numeros))\n",
    "```\n",
    "deve gerar o seguinte resultado:\n",
    "```python\n",
    "{0: 2, 1: 4, 2: 3, 3: 0, 4: 1, 5: 0}\n",
    "```\n",
    "Tente não utilizar um laço <font color='blue'>'for'</font>, mas sim comprehension para dicionários."
   ]
  },
  {
   "cell_type": "code",
   "execution_count": 48,
   "metadata": {
    "id": "4bIm9xi0jPDq"
   },
   "outputs": [
    {
     "output_type": "stream",
     "name": "stdout",
     "text": [
      "{0: 7, 1: 3, 2: 2, 3: 2, 4: 4, 5: 2}\n"
     ]
    }
   ],
   "source": [
    "numeros = [1, 5, 1, 4, 3, 2, 4, 0, 0, 0, 3, 0, 2, 1, 0, 0, 4, 0, 5, 4]\n",
    "\n",
    "def ocorrencias(l):\n",
    "    l.sort()\n",
    "    dic_list = {num:l.count(num) for num in l}\n",
    "    return dic_list\n",
    "    \n",
    "print(ocorrencias(numeros))"
   ]
  },
  {
   "cell_type": "markdown",
   "metadata": {
    "id": "3YhUAQCYjPDq"
   },
   "source": [
    "### Exercício 7) \n",
    "Escreva uma função `retorna_maiuscula` que recebe um caractere como parâmetro e retorna o caracter em maiúsculo caso ele seja uma vogal. Utilize a função `retorna_maiuscula` para converter todas as vogais de uma string em maiúsculas.\n",
    "Por exemplo: \n",
    "```python\n",
    "'string para testar a funcao'\n",
    "```\n",
    "deve ser transformada em:\n",
    "```python\n",
    "'strIng pArA tEstAr A fUncAO'\n",
    "```\n",
    "Não utilize um laço <font color='blue'>'for'</font> em seu código.\n",
    "\n",
    "__Dica:__ Armazene os resultados da função `retorna_maiuscula` em uma lista e utilize a função <font color='blue'>.join</font> para converter a lista em uma string."
   ]
  },
  {
   "cell_type": "code",
   "execution_count": 56,
   "metadata": {
    "id": "kbQ78-FBjPDq"
   },
   "outputs": [
    {
     "output_type": "stream",
     "name": "stdout",
     "text": [
      "strIng pArA tEstAr A fUncAO\n"
     ]
    }
   ],
   "source": [
    "def retorna_maiuscula(s):\n",
    "    retorno = [c.upper() if c in 'aeiou' else c for c in s]\n",
    "    retorno = ''.join(retorno)\n",
    "    return retorno\n",
    "\n",
    "chave = 'string para testar a funcao'\n",
    "print(retorna_maiuscula(chave))      \n"
   ]
  },
  {
   "cell_type": "markdown",
   "metadata": {
    "id": "-xZENba5jPDr"
   },
   "source": [
    "### Exercício 8)\n",
    "Repita o exercício 6) utilizando a função <font color='blue'>'lambda'</font> ao invés de uma função declarada pelo comando <font color='blue'>'def'</font>."
   ]
  },
  {
   "cell_type": "code",
   "execution_count": 61,
   "metadata": {
    "id": "mJzu7XZ9jPDr"
   },
   "outputs": [
    {
     "output_type": "stream",
     "name": "stdout",
     "text": [
      "strIng pArA tEstAr A fUncAO\n"
     ]
    }
   ],
   "source": [
    " chave = 'string para testar a funcao'\n",
    " f = lambda c: c.upper() if c in 'aeiou' else c\n",
    " print(''.join([f(c) for c in chave]))"
   ]
  },
  {
   "cell_type": "markdown",
   "metadata": {
    "id": "j8usO24FjPDr"
   },
   "source": [
    "### Exercício 9)\n",
    "Escreva uma função `intersecao` que recebe duas listas como parâmetros e retorna uma outra lista contendo apenas os elementos que aparecem em ambas, sem repetição de elementos.\n",
    "Por exemplo, o código abaixo:\n",
    "```python\n",
    "s1 = ['a', 'f', 'o', 'i', 'n', 'f', 'g', 'a', 'o', 'i']\n",
    "s2 = ['l', 'k', 'j', 'f', 'a', 'j', 'i']\n",
    "print(intersecao(s1,s2))\n",
    "```\n",
    "deve resultar em \n",
    "```python\n",
    "['a', 'f', 'i']\n",
    "```\n",
    "__Dica:__ Utilize dicionário para encontrar os elementos únicos em cada lista. Você também pode converter a lista para uma váriavel tipo conjunto utilizando o comando <font color='blue'>set</font> disponível no python. Conjuntos não possuem elementos repetidos."
   ]
  },
  {
   "cell_type": "code",
   "execution_count": 65,
   "metadata": {
    "id": "jM_fTiSNjPDr"
   },
   "outputs": [
    {
     "output_type": "stream",
     "name": "stdout",
     "text": [
      "['a', 'f', 'i']\n"
     ]
    }
   ],
   "source": [
    "def intersecao(l1,l2):\n",
    "    l1_set = set(l1)\n",
    "    l2_set = set(l2)\n",
    "    l3 = [i for i in l1_set if (i in l2_set)]\n",
    "    return list(l3)\n",
    "\n",
    "s1 = ['a', 'f', 'o', 'i', 'n', 'f', 'g', 'a', 'o', 'i']\n",
    "s2 = ['l', 'k', 'j', 'f', 'a', 'j', 'i']\n",
    "print(intersecao(s1,s2))"
   ]
  },
  {
   "cell_type": "code",
   "execution_count": 69,
   "metadata": {},
   "outputs": [
    {
     "output_type": "stream",
     "name": "stdout",
     "text": [
      "['a', 'f', 'i']\n"
     ]
    }
   ],
   "source": [
    "def intersecao(l1,l2):\n",
    "    l1 = list(set(l1))\n",
    "    l2 = list(set(l2))\n",
    "    l3 = [i for i in l1 if (i in l2)]\n",
    "    return list(l3)\n",
    "\n",
    "s1 = ['a', 'f', 'o', 'i', 'n', 'f', 'g', 'a', 'o', 'i']\n",
    "s2 = ['l', 'k', 'j', 'f', 'a', 'j', 'i']\n",
    "print(intersecao(s1,s2))"
   ]
  },
  {
   "cell_type": "code",
   "execution_count": 68,
   "metadata": {},
   "outputs": [
    {
     "output_type": "stream",
     "name": "stdout",
     "text": [
      "['a', 'f', 'i']\n"
     ]
    }
   ],
   "source": [
    "def intersecao(l1,l2):\n",
    "    l1_dic = {c:c for c in l1}\n",
    "    l2_dic = {c:c for c in l2}\n",
    "    l1_list_unique = list(l1_dic.values())\n",
    "    l2_list_unique = list(l2_dic.values())\n",
    "    return( [char for char in l1_list_unique if char in l2_list_unique] )\n",
    "\n",
    "s1 = ['a', 'f', 'o', 'i', 'n', 'f', 'g', 'a', 'o', 'i']\n",
    "s2 = ['l', 'k', 'j', 'f', 'a', 'j', 'i']\n",
    "print(intersecao(s1,s2))"
   ]
  },
  {
   "cell_type": "markdown",
   "metadata": {
    "id": "qdRPcylZjPDr"
   },
   "source": [
    "### Exercício 10)\n",
    "As funções <font color='blue'>lambda</font>, também chamada de _funções anônimas_, são muito utilizadas quando se invoca um método (ou função) que aceita outra função como parâmetro. Por exemplo, a função <font color='blue'>sorted</font> aceita uma função com parâmetro, a qual é aplicada aos elementos da lista antes que a ordenação seja feita. Por exemplo:\n",
    "```python\n",
    "numeros = [0.11, -0.11, 0.4, 0.11, -0.57, -0.05, 0.85, -0.27, -0.07, -0.78]\n",
    "print(sorted(numeros,key=lambda x:x**2))\n",
    "```\n",
    "resulta nos elementos ordenados, mas como se eles estivessem elevados ao quadrado, ou seja, o resultado é:\n",
    "```python\n",
    "[-0.05, -0.07, 0.11, -0.11, 0.11, -0.27, 0.4, -0.57, -0.78, 0.85]\n",
    "```\n",
    "pois quando elevados ao quadrado e ordenados, os elementos da lista `numeros` resultam em:\n",
    "```python\n",
    "[0.0025, 0.0049, 0.0121, 0.0121, 0.0121, 0.0729, 0.1600, 0.3248, 0.6084, 0.7224]\n",
    "```\n",
    "\n",
    "Utilize a função <font color='blue'>lambda</font> combinada com o método <font color='blue'>sorted</font> para colocar todos os números múltiplos de 3 na parte esquerda de uma lista, ficando os demais números a direita. Por exemplo, a lista:\n",
    "```python\n",
    "[17, 46, 21, 16, 44, 1, 6, 5, 27, 24]\n",
    "```\n",
    "deve ficar organizada como:\n",
    "```python\n",
    "[21, 6, 27, 24, 17, 46, 16, 44, 1, 5]\n",
    "```\n",
    "onde `21, 6, 27, 24` ficam a esquerda, pois são múltipos de 3, equanto \n",
    "`17, 46, 16, 44, 1, 5` ficam a direita pois não são múltiplos de 3.\n",
    "\n",
    "Como teste para seu código, utilize a lista\n",
    "```python\n",
    "[2, 17, 12, 35, 39, 35, 4, 44, 12, 20, 7, 1, 21, 45, 43, 26, 6, 13, 48, 42]\n",
    "```\n",
    "que deve ficar organizada da seguinte forma:\n",
    "```python\n",
    "[12, 39, 12, 21, 45, 6, 48, 42, 2, 17, 35, 35, 4, 44, 20, 7, 1, 43, 26, 13]\n",
    "```"
   ]
  },
  {
   "cell_type": "code",
   "execution_count": 76,
   "metadata": {
    "id": "DyGB9wuQjPDs"
   },
   "outputs": [
    {
     "output_type": "stream",
     "name": "stdout",
     "text": [
      "[12, 39, 12, 21, 45, 6, 48, 42, 2, 17, 35, 35, 4, 44, 20, 7, 1, 43, 26, 13]\n"
     ]
    }
   ],
   "source": [
    "n = [2, 17, 12, 35, 39, 35, 4, 44, 12, 20, 7, 1, 21, 45, 43, 26, 6, 13, 48, 42]\n",
    "print(sorted(n,key=lambda x: 0 if x%3==0 else 1))"
   ]
  },
  {
   "cell_type": "code",
   "execution_count": null,
   "metadata": {},
   "outputs": [],
   "source": []
  }
 ],
 "metadata": {
  "colab": {
   "collapsed_sections": [],
   "name": "Python II exercicios.ipynb",
   "provenance": []
  },
  "kernelspec": {
   "name": "python3",
   "display_name": "Python 3.8.5 32-bit",
   "metadata": {
    "interpreter": {
     "hash": "ef1a5d0b392b78fa6b938496ed158b31a5708e64beeadf2ab287f2b43192d531"
    }
   }
  },
  "language_info": {
   "codemirror_mode": {
    "name": "ipython",
    "version": 3
   },
   "file_extension": ".py",
   "mimetype": "text/x-python",
   "name": "python",
   "nbconvert_exporter": "python",
   "pygments_lexer": "ipython3",
   "version": "3.8.5-final"
  }
 },
 "nbformat": 4,
 "nbformat_minor": 1
}