{
 "cells": [
  {
   "cell_type": "markdown",
   "metadata": {
    "id": "6funjacwNy-q"
   },
   "source": [
    "# <span style=\"color:blue\"> MBA em Ciência de Dados</span>\n",
    "# <span style=\"color:blue\">Programação para Ciência de Dados</span>\n",
    "\n",
    "## <span style=\"color:blue\">Avaliação Python Parte II</span>\n",
    "**Material Produzido por Luis Gustavo Nonato**<br>\n",
    "**Cemeai - ICMC/USP São Carlos**"
   ]
  },
  {
   "cell_type": "markdown",
   "metadata": {
    "id": "cutfp5OANy-y"
   },
   "source": [
    "<font color='red'> As respostas devem ser fornecidas no Moodle. O notebook é apenas para a implementação dos códigos que fornecerão as respostas</font>"
   ]
  },
  {
   "cell_type": "markdown",
   "metadata": {
    "id": "fXbLVfzhNy-3"
   },
   "source": [
    "### Exercício 1) \n",
    "Considere a lista `mat` abaixo, onde cada elemento é também uma lista. A lista correspondente a cada elemento de `mat` tem como primeiro elemento o cargo, o segundo elemento o nível de formação e o terceiro o nome de um  funcionário.\n",
    "\n",
    "Utilize comprehension para gerar uma lista chamada `nomes` que contenha o nome dos funcionários que __NÃO__ são doutor. \n",
    "Dentre as opções abaixo, qual implementa a solução correta?\n",
    "\n",
    "a) <font color='red'>nomes = [s[2] for s in mat if s[1] != 'doutor']</font><br>\n",
    "b) nomes = [s[1] for s in mat if s[2] != 'doutor']<br>\n",
    "c) nomes = [s for s in mat if s != 'doutor']<br>\n",
    "c) nomes = [s[0] for s in mat if s != 'doutor']"
   ]
  },
  {
   "cell_type": "code",
   "execution_count": null,
   "metadata": {
    "id": "WgBIqbVINy-4",
    "outputId": "dd50aaa3-49c0-45b8-cd00-737b925a0e06"
   },
   "outputs": [
    {
     "name": "stdout",
     "output_type": "stream",
     "text": [
      "['Carlos', 'Lucas', 'Alberto', 'Ricardo', 'Fernando']\n"
     ]
    }
   ],
   "source": [
    "mat = [\n",
    "    ['supervisor', 'tecnico', 'Carlos'],\n",
    "    ['assistente', 'tecnico', 'Lucas'],\n",
    "    ['iniciante', 'doutor', 'Jeremias'],\n",
    "    ['supervisor', 'mestre', 'Alberto'],\n",
    "    ['gerente', 'graduado', 'Ricardo'],\n",
    "    ['engenheiro', 'graduado', 'Fernando'],\n",
    "]\n",
    "\n",
    "nomes = [s[2] for s in mat if s[1] != 'doutor' ]\n",
    "print(nomes)"
   ]
  },
  {
   "cell_type": "markdown",
   "metadata": {
    "id": "qNf3LdUGNy-7"
   },
   "source": [
    "### Exercício 2)\n",
    "Ainda utilizando a lista `mat` do exercício anterior e comprehension, crie um dicionário da forma `nome:(cargo, formacao)`, ou seja, as chaves são os _nomes_ e os valores uma tupla com o par (_cargo_, _nível de formação_). No dicionário produzido, o valor associado à chave 'Carlos' será:\n",
    "\n",
    "a) <font color='red'>('supervisor', 'tecnico')</font><br>\n",
    "b) ('tecnico', 'assistente')<br>\n",
    "c) ('supervisor', 'mestre')<br>\n",
    "d) ('mestre','supervisor')"
   ]
  },
  {
   "cell_type": "code",
   "execution_count": null,
   "metadata": {
    "id": "kMvAVc18Ny-9",
    "outputId": "3d56e916-2bc7-41ac-b649-d29d8e857a8c"
   },
   "outputs": [
    {
     "name": "stdout",
     "output_type": "stream",
     "text": [
      "Carlos: ('supervisor', 'tecnico')\n",
      "{'Carlos': ('supervisor', 'tecnico'), 'Lucas': ('assistente', 'tecnico'), 'Jeremias': ('iniciante', 'doutor'), 'Alberto': ('supervisor', 'mestre'), 'Ricardo': ('gerente', 'graduado'), 'Fernando': ('engenheiro', 'graduado')}\n"
     ]
    }
   ],
   "source": [
    "dc = {s[2]:(s[0],s[1]) for s in mat}\n",
    "print('Carlos:',dc['Carlos'])\n",
    "print(dc)"
   ]
  },
  {
   "cell_type": "markdown",
   "metadata": {
    "id": "xlNmh7NuNy--"
   },
   "source": [
    "### Exercício 3) \n",
    "A função `variacoes` descrita abaixo \n",
    "```python\n",
    "def variacoes(s):\n",
    "    dc = {______________}\n",
    "    return(dc)\n",
    "```\n",
    "recebe uma 'string' como parâmetro e gera um dicionário como resposta, onde as chaves do dicionário são todas as variações da string com um caracter removido, sendo o valor associado a cada chave a string original. Por exemplo:\n",
    "```python\n",
    "print(variacoes('casa'))\n",
    "```\n",
    "deve resultar em:\n",
    "```python\n",
    "{'asa': 'casa', 'csa': 'casa', 'caa': 'casa', 'cas': 'casa'}\n",
    "```\n",
    "\n",
    "Qual das alternativas abaixo completa corretamente a função?\n",
    "\n",
    "a) {s[0]+s[1] for s in range(len(s))}<br>\n",
    "b) {s[:i]+s[i+1:]:i for i in s}<br>\n",
    "c) {s[0:i]+s[i+1:]:s for i in len(s)}<br>\n",
    "d) <font color='red'> {s[0:i]+s[i+1:]:s for i in range(len(s))} </font>"
   ]
  },
  {
   "cell_type": "code",
   "execution_count": null,
   "metadata": {
    "colab": {
     "base_uri": "https://localhost:8080/"
    },
    "executionInfo": {
     "elapsed": 636,
     "status": "ok",
     "timestamp": 1612387761339,
     "user": {
      "displayName": "Edesio Alcobaça",
      "photoUrl": "https://lh3.googleusercontent.com/a-/AOh14GhybDI1qzP3W03EYKTP89NWEXxwNg5z5OM5L6kdTg=s64",
      "userId": "10422480453975814446"
     },
     "user_tz": 180
    },
    "id": "QFfqmQAWNy-_",
    "outputId": "41bfa23e-aee9-48fa-ff25-75455e57e1ae"
   },
   "outputs": [
    {
     "name": "stdout",
     "output_type": "stream",
     "text": [
      "{'asa': 'casa', 'csa': 'casa', 'caa': 'casa', 'cas': 'casa'}\n"
     ]
    }
   ],
   "source": [
    "def variacoes(s):\n",
    "    dc = {s[0:i]+s[i+1:]:s for i in range(len(s))}\n",
    "    return(dc)\n",
    "\n",
    "print(variacoes('casa')) "
   ]
  },
  {
   "cell_type": "markdown",
   "metadata": {
    "id": "2C36zssaNy_B"
   },
   "source": [
    "### Exercício 4) \n",
    "O método <font color='blue'>sorted</font> assume como parâmetros uma sequência e um parâmetro `key` que pode ser uma função, a qual é aplicada aos elementos da lista a fim de ordená-los de acordo com os valores resultantes da função.\n",
    "Utilize uma função <font color='blue'>lambda</font> como parâmetro para método <font color='blue'>sorted</font> para ordenar os elementos de uma lista como se estes fossem da forma $(x+0.5)^2$.\n",
    "\n",
    "O resultado da função construída quando aplicada à lista \n",
    "```python\n",
    "[0.11, -0.11, 0.4, 0.11, -0.57, -0.05, 0.85, -0.27, -0.07, -0.78]\n",
    "```\n",
    "será:\n",
    "\n",
    "a) [-0.78, -0.57, -0.27, -0.11, -0.07, -0.05, 0.11, 0.11, 0.4, 0.85]<br>\n",
    "b) <font color='red'>[-0.57, -0.27, -0.78, -0.11, -0.07, -0.05, 0.11, 0.11, 0.4, 0.85]</font><br>\n",
    "c) [-0.05, -0.07, 0.11, -0.11, 0.11, -0.27, 0.4, -0.57, -0.78, 0.85]<br>\n",
    "d) [-0.05, 0.11, -0.07, -0.11, 0.11, -0.27, 0.4, -0.57, -0.78, 0.85]"
   ]
  },
  {
   "cell_type": "code",
   "execution_count": null,
   "metadata": {
    "id": "7F-kuDkuNy_C",
    "outputId": "6087f918-41d3-431c-fc38-483728198cec"
   },
   "outputs": [
    {
     "name": "stdout",
     "output_type": "stream",
     "text": [
      "[-0.57, -0.27, -0.78, -0.11, -0.07, -0.05, 0.11, 0.11, 0.4, 0.85]\n"
     ]
    }
   ],
   "source": [
    "l = [0.11, -0.11, 0.4, 0.11, -0.57, -0.05, 0.85, -0.27, -0.07, -0.78]\n",
    "print(sorted(l,key=lambda x:(x+0.5)**2))\n"
   ]
  },
  {
   "cell_type": "markdown",
   "metadata": {
    "id": "S2H0JLg1Ny_E"
   },
   "source": [
    "### Exercício 5) \n",
    "Construa uma função `concatena_dicionarios` que recebe dois dicionários como parâmetros e concatena ambos em um único dicionário contendo as chaves e valores dos dois dicionários. Se a chave se repete em ambos, junte os valores em uma lista. Por exemplo, dados os dicionários:\n",
    "```python\n",
    "dc1 = {1: '5479', 5: '1479', 7: '1549', 9: '1547'}\n",
    "dc2 = {5: '2647', 2: '9647', 1: '9247'}\n",
    "```\n",
    "a função deve resultar no dicionário\n",
    "```python\n",
    "{1: ['5479', '9247'], 7: '1549', 5: ['1479', '2647'], 9: '1547', 2: '9647'}\n",
    "```\n",
    "Supondo os dicionários:\n",
    "```python\n",
    "dc1 = {4: '10153', 18: '41118', 2: '101515', 15: '354', 7: '4145', 8: '10316', 3: '121016', \n",
    "       11: '15122', 12: '16158', 10: '4188', 14: '15318', 5: '11711', 16: '181412'}\n",
    "\n",
    "dc2 = {19: '16619', 4: '11310', 18: '171112', 11: '171817', 12: '171911', 6: '4195', \n",
    "       5: '171910', 3: '10310', 16: '191916', 10: '111619', 17: '51016'}\n",
    "```\n",
    "como entrada para a função construída, quais serão os valores associados as chaves 3 e 18?\n",
    "\n",
    "a) valor da chave 3 = ['16158', '171911']; valor da chave 18 = ['15122', '171817']<br>\n",
    "b) valor da chave 3 = ['10153', '11310']; valor da chave 18 = '41118'<br>\n",
    "c) <font color='red'>valor da chave 3 = ['121016', '10310']; valor da chave 18 = ['41118', '171112']</font><br>\n",
    "d) valor da chave 3 = ['4188', '111619']; valor da chave 18 = ['181412', '191916']"
   ]
  },
  {
   "cell_type": "code",
   "execution_count": null,
   "metadata": {
    "id": "-isO4J3VNy_F",
    "outputId": "857ea41f-ed3b-4fa5-eac0-089997e42117"
   },
   "outputs": [
    {
     "name": "stdout",
     "output_type": "stream",
     "text": [
      "['121016', '10310'] ['41118', '171112']\n",
      "[(2, '101515'), (3, ['121016', '10310']), (4, ['10153', '11310']), (5, ['11711', '171910']), (6, '4195'), (7, '4145'), (8, '10316'), (10, ['4188', '111619']), (11, ['15122', '171817']), (12, ['16158', '171911']), (14, '15318'), (15, '354'), (16, ['181412', '191916']), (17, '51016'), (18, ['41118', '171112']), (19, '16619')]\n"
     ]
    }
   ],
   "source": [
    "def concatena_dicionarios(d1,d2):\n",
    "    dr = d1\n",
    "    for k,v in d2.items():\n",
    "        if k in d1:\n",
    "            dr[k] = [dr[k],v]\n",
    "        else:\n",
    "            dr[k] = v\n",
    "    return(dr)\n",
    "\n",
    "dc1 = {4: '10153', 18: '41118', 2: '101515', 15: '354', 7: '4145', 8: '10316', 3: '121016', \n",
    " 11: '15122', 12: '16158', 10: '4188', 14: '15318', 5: '11711', 16: '181412'}\n",
    "dc2 = {19: '16619', 4: '11310', 18: '171112', 11: '171817', 12: '171911', 6: '4195', \n",
    "       5: '171910', 3: '10310', 16: '191916', 10: '111619', 17: '51016'}\n",
    "\n",
    "dc12 = concatena_dicionarios(dc1,dc2)\n",
    "print(dc12[3],dc12[18])\n",
    "print(sorted(dc12.items()))\n"
   ]
  }
 ],
 "metadata": {
  "colab": {
   "collapsed_sections": [],
   "name": "Python II avaliacao - respostas.ipynb",
   "provenance": []
  },
  "kernelspec": {
   "display_name": "Python 3",
   "language": "python",
   "name": "python3"
  },
  "language_info": {
   "codemirror_mode": {
    "name": "ipython",
    "version": 3
   },
   "file_extension": ".py",
   "mimetype": "text/x-python",
   "name": "python",
   "nbconvert_exporter": "python",
   "pygments_lexer": "ipython3",
   "version": "3.9.1"
  }
 },
 "nbformat": 4,
 "nbformat_minor": 1
}
