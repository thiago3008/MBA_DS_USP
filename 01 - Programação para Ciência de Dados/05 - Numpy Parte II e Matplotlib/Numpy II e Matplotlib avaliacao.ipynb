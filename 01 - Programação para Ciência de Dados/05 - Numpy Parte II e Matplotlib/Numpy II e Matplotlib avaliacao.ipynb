{
 "cells": [
  {
   "cell_type": "markdown",
   "metadata": {},
   "source": [
    "# <span style=\"color:blue\"> MBA em Ciência de Dados</span>\n",
    "# <span style=\"color:blue\">Programação para Ciência de Dados</span>\n",
    "\n",
    "## <span style=\"color:blue\">Numpy Parte II e Matplotlib - Avaliação</span>\n",
    "**Material Produzido por Luis Gustavo Nonato**<br>\n",
    "**Cemeai - ICMC/USP São Carlos**\n",
    "---"
   ]
  },
  {
   "cell_type": "code",
   "execution_count": 1,
   "metadata": {},
   "outputs": [],
   "source": [
    "import numpy as np\n",
    "import matplotlib.pyplot as plt"
   ]
  },
  {
   "cell_type": "markdown",
   "metadata": {},
   "source": [
    "### Exercício 1)\n",
    "Qual dos códigos abaixo corretamente utiliza broadcasting para construir uma matriz cujas **colunas** são todas formadas pelos elementos [0,1,2,3]?\n",
    "```python\n",
    "A = np.zeros((4,4))\n",
    "v = np.arange(4)\n",
    "```\n",
    "\n",
    "a)\n",
    "```python\n",
    "A[:] = v[:,np.newaxis]\n",
    "```\n",
    "b) \n",
    "```python\n",
    "A[:] = v.reshape(4,1)\n",
    "```\n",
    "c)\n",
    "```python\n",
    "A[:] = v\n",
    "A = A.T\n",
    "```\n",
    "d) Todas as alternativas estão corretas"
   ]
  },
  {
   "cell_type": "code",
   "execution_count": 7,
   "metadata": {},
   "outputs": [
    {
     "output_type": "stream",
     "name": "stdout",
     "text": [
      "A:\n[[0. 0. 0. 0.]\n [0. 0. 0. 0.]\n [0. 0. 0. 0.]\n [0. 0. 0. 0.]]\n\nv:\n[0 1 2 3]\n\nA:\n[[0. 0. 0. 0.]\n [1. 1. 1. 1.]\n [2. 2. 2. 2.]\n [3. 3. 3. 3.]]\n\n"
     ]
    }
   ],
   "source": [
    "A = np.zeros((4,4))\n",
    "v = np.arange(4)\n",
    "\n",
    "print(f'A:\\n{A}\\n')\n",
    "print(f'v:\\n{v}\\n')\n",
    "\n",
    "A[:] = v\n",
    "A = A.T\n",
    "print(f'A:\\n{A}\\n')"
   ]
  },
  {
   "cell_type": "markdown",
   "metadata": {},
   "source": [
    "### Exercício 2)\n",
    "Qual das alternativas corretamente explica como o array `W` está sendo calculando no código abaixo?\n",
    "```python\n",
    "u = np.random.randint(0,30,7)\n",
    "v = np.random.randint(0,30,10).reshape(10,1)\n",
    "\n",
    "W = v + u\n",
    "```\n",
    "\n",
    "a) O array `W` possui 10 elementos como resultado da soma dos arrays `u` e `v`, onde `u` é complementado com zeros durante o broadcasting.<br>\n",
    "b) O array `W` é uma matriz com 10 linhas e 7 colunas gerado a partir da soma das matriz obtidas do broadcasting do array `v` em 7 colunas e do array `u` em 10 linhas.<br>\n",
    "c) O array `W` é uma matriz com 7 linhas e 10 colunas gerado a partir da soma das matriz obtidas do broadcasting do array `v` em 7 linhas e o array `u` em 10 linhas.<br>\n",
    "d) O array `W` possui 7 elementos como resultado da soma dos arrays `u` e `v`, onde os três útlimos elementos de `v` são descartados no broadcasting."
   ]
  },
  {
   "cell_type": "code",
   "execution_count": 13,
   "metadata": {},
   "outputs": [
    {
     "output_type": "stream",
     "name": "stdout",
     "text": [
      "u:\n[ 8 15 13  8 22 11 18]\n\nv:\n[[11]\n [ 8]\n [ 7]\n [ 2]\n [17]\n [11]\n [21]\n [15]\n [26]\n [20]]\n\nW:\n[[19 26 24 19 33 22 29]\n [16 23 21 16 30 19 26]\n [15 22 20 15 29 18 25]\n [10 17 15 10 24 13 20]\n [25 32 30 25 39 28 35]\n [19 26 24 19 33 22 29]\n [29 36 34 29 43 32 39]\n [23 30 28 23 37 26 33]\n [34 41 39 34 48 37 44]\n [28 35 33 28 42 31 38]]\n\n"
     ]
    }
   ],
   "source": [
    "np.random.seed(2)\n",
    "\n",
    "u = np.random.randint(0,30,7)\n",
    "v = np.random.randint(0,30,10).reshape(10,1)\n",
    "\n",
    "print(f'u:\\n{u}\\n')\n",
    "print(f'v:\\n{v}\\n')\n",
    "\n",
    "W = v + u\n",
    "\n",
    "print(f'W:\\n{W}\\n')"
   ]
  },
  {
   "cell_type": "markdown",
   "metadata": {},
   "source": [
    "### Exercício 3)\n",
    "Considere a matriz abaixo. Utilizando redução, encontre o **índice da linha** que possui a maior soma dos elementos.\n",
    "```python\n",
    "A = np.array([[5, 2, 3, 6, 1, 5, 7, 7, 8, 9], [8, 8, 3, 5, 0, 1, 4, 8, 3, 7], \n",
    "              [8, 0, 0, 4, 2, 0, 2, 6, 0, 3], [5, 0, 0, 4, 4, 3, 5, 8, 0, 0], \n",
    "              [2, 4, 2, 5, 3, 4, 9, 8, 0, 0], [6, 7, 4, 8, 5, 1, 3, 5, 4, 1], \n",
    "              [6, 8, 0, 5, 2, 9, 3, 6, 1, 6], [5, 5, 2, 9, 0, 5, 5, 8, 2, 4], \n",
    "              [8, 8, 1, 8, 4, 1, 8, 9, 7, 6], [5, 6, 0, 9, 0, 4, 9, 0, 2, 0]])\n",
    "```\n",
    "a) linha 6<br>\n",
    "b) linha 0<br>\n",
    "c) linha 8<br>\n",
    "d) linha 9"
   ]
  },
  {
   "cell_type": "code",
   "execution_count": 18,
   "metadata": {},
   "outputs": [
    {
     "output_type": "stream",
     "name": "stdout",
     "text": [
      "A:\n[[5 2 3 6 1 5 7 7 8 9]\n [8 8 3 5 0 1 4 8 3 7]\n [8 0 0 4 2 0 2 6 0 3]\n [5 0 0 4 4 3 5 8 0 0]\n [2 4 2 5 3 4 9 8 0 0]\n [6 7 4 8 5 1 3 5 4 1]\n [6 8 0 5 2 9 3 6 1 6]\n [5 5 2 9 0 5 5 8 2 4]\n [8 8 1 8 4 1 8 9 7 6]\n [5 6 0 9 0 4 9 0 2 0]]\n\nA.shape:\n(10, 10)\n\nA_rowsum:\n[53 47 25 29 37 44 46 45 60 35]\n\nA_rowsum_maxarg:\n8\n\n"
     ]
    }
   ],
   "source": [
    "A = np.array([[5, 2, 3, 6, 1, 5, 7, 7, 8, 9], [8, 8, 3, 5, 0, 1, 4, 8, 3, 7], \n",
    "              [8, 0, 0, 4, 2, 0, 2, 6, 0, 3], [5, 0, 0, 4, 4, 3, 5, 8, 0, 0], \n",
    "              [2, 4, 2, 5, 3, 4, 9, 8, 0, 0], [6, 7, 4, 8, 5, 1, 3, 5, 4, 1], \n",
    "              [6, 8, 0, 5, 2, 9, 3, 6, 1, 6], [5, 5, 2, 9, 0, 5, 5, 8, 2, 4], \n",
    "              [8, 8, 1, 8, 4, 1, 8, 9, 7, 6], [5, 6, 0, 9, 0, 4, 9, 0, 2, 0]])\n",
    "\n",
    "print(f'A:\\n{A}\\n')\n",
    "print(f'A.shape:\\n{A.shape}\\n')\n",
    "A_rowsum = np.sum(A,axis=1)\n",
    "print(f'A_rowsum:\\n{A_rowsum}\\n')\n",
    "A_rowsum_maxarg = np.argmax(A_rowsum)\n",
    "print(f'A_rowsum_maxarg:\\n{A_rowsum_maxarg}\\n')"
   ]
  },
  {
   "cell_type": "markdown",
   "metadata": {},
   "source": [
    "### Exercício 4) \n",
    "Considerando a matriz `A` do exercício anterior, qual o **índice da coluna** que possui a menor média de valores?\n",
    "\n",
    "a) coluna 2<br>\n",
    "b) coluna 0<br>\n",
    "c) coluna 8<br>\n",
    "d) coluna 9"
   ]
  },
  {
   "cell_type": "code",
   "execution_count": 20,
   "metadata": {},
   "outputs": [
    {
     "output_type": "stream",
     "name": "stdout",
     "text": [
      "A:\n[[5 2 3 6 1 5 7 7 8 9]\n [8 8 3 5 0 1 4 8 3 7]\n [8 0 0 4 2 0 2 6 0 3]\n [5 0 0 4 4 3 5 8 0 0]\n [2 4 2 5 3 4 9 8 0 0]\n [6 7 4 8 5 1 3 5 4 1]\n [6 8 0 5 2 9 3 6 1 6]\n [5 5 2 9 0 5 5 8 2 4]\n [8 8 1 8 4 1 8 9 7 6]\n [5 6 0 9 0 4 9 0 2 0]]\n\nA.shape:\n(10, 10)\n\nA_colmean:\n[5.8 4.8 1.5 6.3 2.1 3.3 5.5 6.5 2.7 3.6]\n\nA_colmean_minarg:\n2\n\n"
     ]
    }
   ],
   "source": [
    "A = np.array([[5, 2, 3, 6, 1, 5, 7, 7, 8, 9], [8, 8, 3, 5, 0, 1, 4, 8, 3, 7], \n",
    "              [8, 0, 0, 4, 2, 0, 2, 6, 0, 3], [5, 0, 0, 4, 4, 3, 5, 8, 0, 0], \n",
    "              [2, 4, 2, 5, 3, 4, 9, 8, 0, 0], [6, 7, 4, 8, 5, 1, 3, 5, 4, 1], \n",
    "              [6, 8, 0, 5, 2, 9, 3, 6, 1, 6], [5, 5, 2, 9, 0, 5, 5, 8, 2, 4], \n",
    "              [8, 8, 1, 8, 4, 1, 8, 9, 7, 6], [5, 6, 0, 9, 0, 4, 9, 0, 2, 0]])\n",
    "\n",
    "print(f'A:\\n{A}\\n')\n",
    "print(f'A.shape:\\n{A.shape}\\n')\n",
    "A_colmean = np.mean(A,axis=0)\n",
    "print(f'A_colmean:\\n{A_colmean}\\n')\n",
    "A_colmean_minarg = np.argmin(A_colmean)\n",
    "print(f'A_colmean_minarg:\\n{A_colmean_minarg}\\n')"
   ]
  },
  {
   "cell_type": "markdown",
   "metadata": {},
   "source": [
    "### Exercício 5)\n",
    "Suponha que a variável `A` no código abaixo é uma matriz com $n$ linhas e $m$ colunas. O que o código está realizando?\n",
    "```python\n",
    "Aargs = np.argsort(A)\n",
    "A[np.arange(A.shape[0]),Aargs[:,-1]] = -1\n",
    "```\n",
    "a) Substituindo o maior valor de cada coluna por -1<br>\n",
    "b) Substituindo o maior valor de cada linha por -1<br>\n",
    "c) Substituindo o menor valor de cada linha por -1<br>\n",
    "d) Substituindo o menor valor de cada coluna por -1"
   ]
  },
  {
   "cell_type": "code",
   "execution_count": 25,
   "metadata": {},
   "outputs": [
    {
     "output_type": "stream",
     "name": "stdout",
     "text": [
      "A:\n[[50 20 30 60 10 50 70 70 80 90]\n [80 80 30 50  0 10 40 80 30 70]\n [80  0  0 40 20  0 20 60  0 30]\n [50  0  0 40 40 30 50 80  0  0]\n [20 40 20 50 30 40 90 80  0  0]\n [60 70 40 80 50 10 30 50 40 10]\n [60 80  0 50 20 90 30 60 10 60]\n [50 50 20 90  0 50 50 80 20 40]\n [80 80 10 80 40 10 80 90 70 60]\n [50 60  0 90  0 40 90  0 20  0]]\n\nAargs:\n[[4 1 2 0 5 3 6 7 8 9]\n [4 5 2 8 6 3 9 0 1 7]\n [1 2 5 8 4 6 9 3 7 0]\n [1 2 8 9 5 3 4 0 6 7]\n [8 9 0 2 4 1 5 3 7 6]\n [5 9 6 2 8 4 7 0 1 3]\n [2 8 4 6 3 0 7 9 1 5]\n [4 2 8 9 0 1 5 6 7 3]\n [2 5 4 9 8 0 1 3 6 7]\n [2 4 7 9 8 5 0 1 3 6]]\n\nA:\n[[50 20 30 60 10 50 70 70 80 -1]\n [80 80 30 50  0 10 40 -1 30 70]\n [-1  0  0 40 20  0 20 60  0 30]\n [50  0  0 40 40 30 50 -1  0  0]\n [20 40 20 50 30 40 -1 80  0  0]\n [60 70 40 -1 50 10 30 50 40 10]\n [60 80  0 50 20 -1 30 60 10 60]\n [50 50 20 -1  0 50 50 80 20 40]\n [80 80 10 80 40 10 80 -1 70 60]\n [50 60  0 90  0 40 -1  0 20  0]]\n\n"
     ]
    }
   ],
   "source": [
    "A = np.array([[5, 2, 3, 6, 1, 5, 7, 7, 8, 9], [8, 8, 3, 5, 0, 1, 4, 8, 3, 7], \n",
    "              [8, 0, 0, 4, 2, 0, 2, 6, 0, 3], [5, 0, 0, 4, 4, 3, 5, 8, 0, 0], \n",
    "              [2, 4, 2, 5, 3, 4, 9, 8, 0, 0], [6, 7, 4, 8, 5, 1, 3, 5, 4, 1], \n",
    "              [6, 8, 0, 5, 2, 9, 3, 6, 1, 6], [5, 5, 2, 9, 0, 5, 5, 8, 2, 4], \n",
    "              [8, 8, 1, 8, 4, 1, 8, 9, 7, 6], [5, 6, 0, 9, 0, 4, 9, 0, 2, 0]])\n",
    "\n",
    "A = A*10\n",
    "print(f'A:\\n{A}\\n')\n",
    "Aargs = np.argsort(A)\n",
    "print(f'Aargs:\\n{Aargs}\\n')\n",
    "A[np.arange(A.shape[0]),Aargs[:,-1]] = -1\n",
    "print(f'A:\\n{A}\\n')"
   ]
  },
  {
   "cell_type": "code",
   "execution_count": null,
   "metadata": {},
   "outputs": [],
   "source": []
  }
 ],
 "metadata": {
  "kernelspec": {
   "name": "python3",
   "display_name": "Python 3.9.1 64-bit",
   "metadata": {
    "interpreter": {
     "hash": "ac59ebe37160ed0dfa835113d9b8498d9f09ceb179beaac4002f036b9467c963"
    }
   }
  },
  "language_info": {
   "codemirror_mode": {
    "name": "ipython",
    "version": 3
   },
   "file_extension": ".py",
   "mimetype": "text/x-python",
   "name": "python",
   "nbconvert_exporter": "python",
   "pygments_lexer": "ipython3",
   "version": "3.9.1-final"
  }
 },
 "nbformat": 4,
 "nbformat_minor": 2
}