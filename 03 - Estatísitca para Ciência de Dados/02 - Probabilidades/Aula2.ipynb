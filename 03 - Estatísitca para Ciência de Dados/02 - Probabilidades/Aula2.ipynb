{
 "cells": [
  {
   "cell_type": "markdown",
   "metadata": {},
   "source": [
    "# Aula 2: Probabilidades"
   ]
  },
  {
   "cell_type": "markdown",
   "metadata": {},
   "source": [
    "Vamos simular alguns problemas que vimos na aula."
   ]
  },
  {
   "cell_type": "markdown",
   "metadata": {},
   "source": [
    "Lançamento de uma moeda justa."
   ]
  },
  {
   "cell_type": "code",
   "execution_count": 9,
   "metadata": {},
   "outputs": [
    {
     "name": "stdout",
     "output_type": "stream",
     "text": [
      "Saida: [1, 0, 1, 1, 0, 1, 1, 0, 1, 1]\n",
      "Frequencia de caras: 0.7\n"
     ]
    }
   ],
   "source": [
    "import numpy as np\r\n",
    "p = 0.6 #probabilidade de sair cara\r\n",
    "nsim = 10 # num de experimentos\r\n",
    "nhead = 0 # num de caras obtidas\r\n",
    "saida = [] # armazena as saidas (cara:1, coroa:0)\r\n",
    "for i in range(0, nsim):\r\n",
    "    if(np.random.uniform() < p): # se menor que p, cara\r\n",
    "        nhead = nhead + 1\r\n",
    "        saida.append(1)\r\n",
    "    else:\r\n",
    "        saida.append(0)\r\n",
    "print(\"Saida:\", saida)\r\n",
    "print(\"Frequencia de caras:\", nhead/nsim)"
   ]
  },
  {
   "cell_type": "code",
   "execution_count": 21,
   "metadata": {},
   "outputs": [
    {
     "data": {
      "image/png": "[encoded data removed]",
      "text/plain": "<Figure size 576x432 with 1 Axes>"
     },
     "metadata": {
      "needs_background": "light"
     },
     "output_type": "display_data"
    }
   ],
   "source": [
    "import random\r\n",
    "import numpy as np\r\n",
    "import matplotlib.pyplot as plt\r\n",
    "%matplotlib inline\r\n",
    "\r\n",
    "vp = [] # lista que armazena a fração de ocorrências em função do número de simulações\r\n",
    "vsim = [] # armazena o número de simulações\r\n",
    "Nmax = 1000 # numero maximo de simulacoes\r\n",
    "moeda = ['C','R']\r\n",
    "for nsim in np.arange(1,Nmax,5):\r\n",
    "    nhead = 0 # numero de caras\r\n",
    "    for i in range(1,nsim):\r\n",
    "        face = random.choice(moeda)\r\n",
    "        if(face == 'C'):\r\n",
    "            nhead = nhead + 1 \r\n",
    "    vp.append(nhead/nsim)\r\n",
    "    vsim.append(nsim)\r\n",
    "\r\n",
    "plt.figure(figsize=(8,6))\r\n",
    "plt.plot(vsim, vp, linestyle='-', color=\"blue\", linewidth=2,label = 'Valor simulado')\r\n",
    "plt.axhline(y=1/2, color='r', linestyle='--', label = 'Valor teorico')\r\n",
    "plt.ylabel(\"Fração de caras\", fontsize=20)\r\n",
    "plt.xlabel(\"Numero de experimentos\", fontsize=20)\r\n",
    "plt.xlim([0.0, Nmax])\r\n",
    "plt.ylim([0.0, 1.0])\r\n",
    "plt.legend()\r\n",
    "plt.show(True) "
   ]
  },
  {
   "cell_type": "markdown",
   "metadata": {},
   "source": [
    "Pela definição frequentista de probabilidades, vimos que a probabilidade de ocorrência de um evento $A$ é definida por:\n",
    "$$\n",
    "P(A) = \\lim_{n\\rightarrow \\infty} \\frac{n_A}{n},\n",
    "$$\n",
    "onde $n$ é o número de experimentos."
   ]
  },
  {
   "cell_type": "markdown",
   "metadata": {},
   "source": [
    "**Exemplo:** Lançando dois dados equilibrados, qual é a probabilidade de que:<br>\n",
    "a) A soma das faces seja igual a 7 (evento A).<br>\n",
    "a) Obter uma soma maior do que 5 (evento B).<br>\n",
    "Na aula, vimos que:\n",
    "$$\n",
    "P(A) = 1/6 = 0.166\n",
    "$$\n",
    "$$\n",
    "P(B) = 26/36 = 0.72.\n",
    "$$"
   ]
  },
  {
   "cell_type": "code",
   "execution_count": 18,
   "metadata": {},
   "outputs": [
    {
     "name": "stdout",
     "output_type": "stream",
     "text": [
      "Probabilidade de que a soma das faces seja igual a 7: 0.1665194\n",
      "Probabilidade de que a soma das faces seja maior do que 5: 0.7221568\n"
     ]
    }
   ],
   "source": [
    "import random\r\n",
    "import numpy as np\r\n",
    "n = 1000000 #numero de experimentos\r\n",
    "nA = 0\r\n",
    "nB = 0\r\n",
    "faces = np.arange(1,7) #valores 1 a 6\r\n",
    "for i in range(0,n):\r\n",
    "    dado1 = random.choice(faces)\r\n",
    "    dado2 = random.choice(faces)\r\n",
    "    if (dado1+dado2 == 7):\r\n",
    "        nA = nA + 1\r\n",
    "    if((dado1 + dado2) > 5):\r\n",
    "        nB = nB + 1\r\n",
    "    \r\n",
    "nA = nA/n\r\n",
    "nB = nB/n\r\n",
    "print('Probabilidade de que a soma das faces seja igual a 7:', nA)\r\n",
    "print('Probabilidade de que a soma das faces seja maior do que 5:', nB)"
   ]
  },
  {
   "cell_type": "markdown",
   "metadata": {},
   "source": [
    "**Exemplo:** Qual é a probabilidade de que em um lançamento de dados saia um número par ou maior do que três?<br>\n",
    "Solução: 4/6 = 0.66."
   ]
  },
  {
   "cell_type": "code",
   "execution_count": 33,
   "metadata": {},
   "outputs": [
    {
     "name": "stdout",
     "output_type": "stream",
     "text": [
      "Probabilidade de que saia um número par ou maior do que três: 0.6670701\n"
     ]
    }
   ],
   "source": [
    "import random\r\n",
    "import numpy as np\r\n",
    "n = 10000000 #numero de experimentos\r\n",
    "nA = 0\r\n",
    "faces = np.arange(1,7) #valores 1 a 6\r\n",
    "for i in range(0,n):\r\n",
    "    dado = random.choice(faces)\r\n",
    "    if (dado%2 == 0) or (dado > 3):\r\n",
    "        nA = nA + 1\r\n",
    "    \r\n",
    "nA = nA/n\r\n",
    "print('Probabilidade de que saia um número par ou maior do que três:', nA)"
   ]
  },
  {
   "cell_type": "markdown",
   "metadata": {},
   "source": [
    "**Exemplo:** Uma caixa usada em um sorteio contém 5 bolas pretas numeradas de 1 a 5, sete bolas brancas numeradas de 1 a 7 e oito bolas vermelhas numeradas de 1 a 8.<br>\n",
    "i) Sorteando-se uma bola dessa caixa, qual é a probabilidade de encontrarmos uma bola preta?\n",
    "$$\n",
    "P(A) = \\frac{5}{20} = 0.25\n",
    "$$"
   ]
  },
  {
   "cell_type": "code",
   "execution_count": 45,
   "metadata": {},
   "outputs": [
    {
     "name": "stdout",
     "output_type": "stream",
     "text": [
      "P(A): 0.2516\n"
     ]
    }
   ],
   "source": [
    "import random\r\n",
    "urna = ['P1','P2','P3','P4','P5',\r\n",
    "        'B1','B2','B3','B4','B5','B6','B7',\r\n",
    "        'V1','V2','V3','V4','V5','V6','V7','V8'] \r\n",
    "n = 10000\r\n",
    "nA = 0\r\n",
    "for i in range(0,n):\r\n",
    "    bola = random.choice(urna)\r\n",
    "    #print(bola[1])\r\n",
    "    if(bola[0] == 'P'):\r\n",
    "        nA = nA + 1\r\n",
    "print('P(A):', nA/n)"
   ]
  },
  {
   "cell_type": "markdown",
   "metadata": {},
   "source": [
    "ii) Sorteando-se uma bola preta, qual é a probabilidade de tal bola ser par?\n",
    "$$\n",
    "P(B|A) = \\frac{2/20}{5/20} = \\frac{2}{5}= 0.4\n",
    "$$"
   ]
  },
  {
   "cell_type": "code",
   "execution_count": 47,
   "metadata": {},
   "outputs": [
    {
     "name": "stdout",
     "output_type": "stream",
     "text": [
      "P(B|A): 0.3979340484704013\n"
     ]
    }
   ],
   "source": [
    "import random\r\n",
    "urna = ['P1','P2','P3','P4','P5','B1','B2','B3','B4','B5','B6','B7',\r\n",
    "       'V1','V2','V3','V4','V5','V6','V7','V8'] \r\n",
    "n = 100000\r\n",
    "nA = 0\r\n",
    "nB = 0\r\n",
    "for i in range(0,n):\r\n",
    "    bola = random.choice(urna)\r\n",
    "    if(bola[0] == 'P'):\r\n",
    "        nA = nA + 1\r\n",
    "        if(int(bola[1])%2 == 0):\r\n",
    "            nB = nB + 1\r\n",
    "\r\n",
    "print('P(B|A):', (nB/n)/(nA/n))"
   ]
  },
  {
   "cell_type": "markdown",
   "metadata": {},
   "source": [
    "## Exercícios de fixação"
   ]
  },
  {
   "cell_type": "markdown",
   "metadata": {},
   "source": [
    "Resolva e simule os exercícios a seguir."
   ]
  },
  {
   "cell_type": "markdown",
   "metadata": {},
   "source": [
    "1 - Lançando dois dados equilibrados, qual é a probabilidade de que:<br><br>\r\n",
    "a) A soma das faces seja igual a 6 (evento A).<br>\r\n",
    "b) Obter uma soma maior do que 10 (evento B).<br>"
   ]
  },
  {
   "cell_type": "code",
   "execution_count": 62,
   "metadata": {},
   "outputs": [
    {
     "name": "stdout",
     "output_type": "stream",
     "text": [
      "a) Probabilidade de que a soma das faces seja igual a 6: 13.91%\n",
      "b) Probabilidade de que a soma das faces seja maior do que 10: 41.64%\n"
     ]
    }
   ],
   "source": [
    "import random\r\n",
    "import numpy as np\r\n",
    "\r\n",
    "exps = 10000000 #num de experimentos\r\n",
    "nA = 0 #numero de eventos A (soma das faces seja igual a 6)\r\n",
    "nB = 0 #numero de eventos B (obter uma soma maior do que 10)\r\n",
    "\r\n",
    "faces = np.arange(1,7) #valores 1 a 6\r\n",
    "\r\n",
    "for i in range(0,exps):\r\n",
    "    \r\n",
    "    dado1 = random.choice(faces)\r\n",
    "    dado2 = random.choice(faces)\r\n",
    "\r\n",
    "    if (dado1+dado2 == 6):\r\n",
    "        nA = nA + 1\r\n",
    "    if (dado1+dado2 >7 ):\r\n",
    "        nB = nB+1\r\n",
    "\r\n",
    "pA = nA/exps\r\n",
    "pB = nB/exps\r\n",
    "\r\n",
    "print(f'a) Probabilidade de que a soma das faces seja igual a 6: {100*pA:.2f}%')\r\n",
    "print(f'b) Probabilidade de que a soma das faces seja maior do que 10: {100*pB:.2f}%')\r\n"
   ]
  },
  {
   "cell_type": "markdown",
   "metadata": {},
   "source": [
    "2 - Qual é a probabilidade de que em um lançamento de dados saia um número ímpar ou maior do que dois?"
   ]
  },
  {
   "cell_type": "code",
   "execution_count": 57,
   "metadata": {},
   "outputs": [
    {
     "name": "stdout",
     "output_type": "stream",
     "text": [
      "Probabilidade de que em um lançamento de dados saia um número ímpar ou maior do que dois: 83.34%\n"
     ]
    }
   ],
   "source": [
    "import random\r\n",
    "import numpy as np\r\n",
    "\r\n",
    "exps = 1000000\r\n",
    "nA = 0 # número de eventos de número ímparo ou maior do que dois\r\n",
    "faces = np.arange(1,7) # valores de 1 a 6\r\n",
    "\r\n",
    "for i in range(exps):\r\n",
    "\r\n",
    "    dado = random.choice(faces)\r\n",
    "    if ((dado%2==0)|(dado>2)):\r\n",
    "        nA+=1\r\n",
    "\r\n",
    "pA=nA/exps\r\n",
    "print(f'Probabilidade de que em um lançamento de dados saia um número ímpar ou maior do que dois: {100*pA:.2f}%')        "
   ]
  },
  {
   "cell_type": "markdown",
   "metadata": {},
   "source": [
    "3 - Uma caixa usada em um sorteio contém 2 bolas pretas numeradas de 1 a 2, três bolas brancas numeradas de 1 a 3 e cinco bolas vermelhas numeradas de 1 a 5.<br><br>\r\n",
    "a) Qual é a probabilidade de que uma bola sorteada seja branca ou par?<br>\r\n",
    "b) Dado que uma bola é vermelha, qual é a chance ser ímpar?"
   ]
  },
  {
   "cell_type": "code",
   "execution_count": 61,
   "metadata": {},
   "outputs": [
    {
     "name": "stdout",
     "output_type": "stream",
     "text": [
      "Probabilidade de que uma bola sorteada seja branca ou par: 59.82%\n",
      "Dado que uma bola é vermelha, qual é a chance ser ímpar: 60.26%\n"
     ]
    }
   ],
   "source": [
    "import random\r\n",
    "import numpy as np\r\n",
    "\r\n",
    "exps = 100000\r\n",
    "\r\n",
    "nA = 0\r\n",
    "nB = 0\r\n",
    "nC = 0\r\n",
    "\r\n",
    "urna = ['P1','P2',\r\n",
    "        'B1','B2','B3',\r\n",
    "        'V1','V2','V3','V4','V5'] \r\n",
    "\r\n",
    "for i in range(exps):\r\n",
    "    \r\n",
    "    #Sorteio Bola\r\n",
    "    bola = random.choice(urna)\r\n",
    "    \r\n",
    "    #Evento A\r\n",
    "    if ( (bola[0]=='B') | (int(bola[1])%2==0) ):\r\n",
    "        nA+=1\r\n",
    "\r\n",
    "    #Evento B\r\n",
    "    if( (bola[0]=='V') ):\r\n",
    "        nB+=1\r\n",
    "        if ( (int(bola[1])%2==1) ):\r\n",
    "            nC+=1        \r\n",
    "    \r\n",
    "pA = nA/exps\r\n",
    "print(f'Probabilidade de que uma bola sorteada seja branca ou par: {100*pA:.2f}%')\r\n",
    "\r\n",
    "pCB = (nC/exps)/(nB/exps)\r\n",
    "print(f'Dado que uma bola é vermelha, qual é a chance ser ímpar: {100*pCB:.2f}%')"
   ]
  },
  {
   "cell_type": "markdown",
   "metadata": {},
   "source": [
    "4 - Simule o exercício resolvido na aula teórica e compare os resultados: Lançamos dois dados e observamos a variável aleatória X é igual a 1 se a soma for par ou igual a zero, caso contrário. Determine a distribuição de X."
   ]
  },
  {
   "cell_type": "code",
   "execution_count": null,
   "metadata": {},
   "outputs": [],
   "source": []
  },
  {
   "cell_type": "code",
   "execution_count": 65,
   "metadata": {},
   "outputs": [
    {
     "name": "stdout",
     "output_type": "stream",
     "text": [
      "Suponha que temos três moedas idênticas no formato, mas sendo que a primeira moeda tem ambos os lados vermelhos, a segunda tem ambos os lados azuis e a terceira tem um lado azul e o outro vermelho. A moedas são misturadas em uma caixa.\n",
      "Se retiramos uma moeda e mostramos um lado vermelho, qual é a probabilidade de que o outro lado seja azul?\n",
      "\n",
      "49.98%\n"
     ]
    }
   ],
   "source": [
    "import random\r\n",
    "import numpy as np\r\n",
    "\r\n",
    "exps = 10000000\r\n",
    "\r\n",
    "nB = 0\r\n",
    "nC = 0\r\n",
    "\r\n",
    "urna = ['VV','AA','VA']\r\n",
    "\r\n",
    "for i in range(exps):\r\n",
    "    \r\n",
    "    #Sorteio Bola\r\n",
    "    bola = random.choice(urna)\r\n",
    "    \r\n",
    "    #Evento B\r\n",
    "    if( (bola[0]=='V') ):\r\n",
    "        nB+=1\r\n",
    "        if ( (bola[1]=='A') ):\r\n",
    "            nC+=1        \r\n",
    "\r\n",
    "pCB = (nC/exps)/(nB/exps)\r\n",
    "print(\"Suponha que temos três moedas idênticas no formato, mas sendo que a primeira moeda tem ambos os lados vermelhos, a segunda tem ambos os lados azuis e a terceira tem um lado azul e o outro vermelho. A moedas são misturadas em uma caixa.\")\r\n",
    "print(f'Se retiramos uma moeda e mostramos um lado vermelho, qual é a probabilidade de que o outro lado seja azul?\\n\\n{100*pCB:.2f}%')"
   ]
  }
 ],
 "metadata": {
  "kernelspec": {
   "display_name": "Python 3",
   "language": "python",
   "name": "python3"
  },
  "language_info": {
   "codemirror_mode": {
    "name": "ipython",
    "version": 3
   },
   "file_extension": ".py",
   "mimetype": "text/x-python",
   "name": "python",
   "nbconvert_exporter": "python",
   "pygments_lexer": "ipython3",
   "version": "3.8.5"
  }
 },
 "nbformat": 4,
 "nbformat_minor": 2
}