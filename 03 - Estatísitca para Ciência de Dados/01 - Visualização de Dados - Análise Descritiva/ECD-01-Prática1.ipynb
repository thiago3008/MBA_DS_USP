{
 "cells": [
  {
   "cell_type": "markdown",
   "metadata": {},
   "source": [
    "# Prática 1\n",
    "\n",
    "***Estatística para Ciência de Dados***\n",
    "\n",
    "por **Cibele Russo** (ICMC/USP - São Carlos SP)\n",
    "\n",
    "**MBA em Ciências de Dados**\n",
    "\n"
   ]
  },
  {
   "cell_type": "markdown",
   "metadata": {},
   "source": [
    "## Visualização e exploração de dados\n",
    "\n",
    "### Associação entre variáveis\n",
    "\n",
    "Considere os dados de 100 mil clientes de um banco no arquivo dados_banco.csv. Estão disponíveis as variáveis:\n",
    "\n",
    "- Cliente: Identificador do cliente.\n",
    "- Sexo: Feminino (F) ou Masculino (M)\n",
    "- Idade: Idade do cliente, em anos completos.\n",
    "- Empresa: Tipo da empresa em que trabalha: Pública, Privada ou Autônomo\n",
    "- Salário: Salário declarado pelo cliente na abertura da conta, em reais.\n",
    "- Saldo_cc: Saldo em conta corrente, em reais.\n",
    "- Saldo_poupança: Saldo em poupança, em reais.\n",
    "- Saldo_investimento: Saldo em investimentos, em reais.\n",
    "- Devedor_cartao: Valor em atraso no cartão de crédito, em reais.\n",
    "- Inadimplente: Se o cliente é considerado inadimplente atualmente (1) ou não (0), de acordo com critérios preestabelecidos.\n",
    "\n",
    "\n",
    "Analise as possíveis associações entre o sexo, idade, empresa, salário, saldo em conta corrente, saldo em conta poupança, saldo em investimento e devedor no cartão com a variável Inadimplente."
   ]
  },
  {
   "cell_type": "code",
   "execution_count": 2,
   "metadata": {},
   "outputs": [],
   "source": [
    "import warnings\r\n",
    "warnings.filterwarnings('ignore')"
   ]
  },
  {
   "cell_type": "code",
   "execution_count": 1,
   "metadata": {},
   "outputs": [
    {
     "data": {
      "text/html": "<div>\n<style scoped>\n    .dataframe tbody tr th:only-of-type {\n        vertical-align: middle;\n    }\n\n    .dataframe tbody tr th {\n        vertical-align: top;\n    }\n\n    .dataframe thead th {\n        text-align: right;\n    }\n</style>\n<table border=\"1\" class=\"dataframe\">\n  <thead>\n    <tr style=\"text-align: right;\">\n      <th></th>\n      <th>Cliente</th>\n      <th>Sexo</th>\n      <th>Idade</th>\n      <th>Empresa</th>\n      <th>Salario</th>\n      <th>Saldo_cc</th>\n      <th>Saldo_poupança</th>\n      <th>Saldo_investimento</th>\n      <th>Devedor_cartao</th>\n      <th>Inadimplente</th>\n    </tr>\n  </thead>\n  <tbody>\n    <tr>\n      <th>1</th>\n      <td>1</td>\n      <td>M</td>\n      <td>33</td>\n      <td>Privada</td>\n      <td>6019</td>\n      <td>1084.98</td>\n      <td>0.0</td>\n      <td>0.0</td>\n      <td>1214.35</td>\n      <td>0</td>\n    </tr>\n    <tr>\n      <th>2</th>\n      <td>2</td>\n      <td>F</td>\n      <td>31</td>\n      <td>Pública</td>\n      <td>5134</td>\n      <td>532.09</td>\n      <td>0.0</td>\n      <td>0.0</td>\n      <td>1662.96</td>\n      <td>0</td>\n    </tr>\n    <tr>\n      <th>3</th>\n      <td>3</td>\n      <td>M</td>\n      <td>31</td>\n      <td>Pública</td>\n      <td>5286</td>\n      <td>719.91</td>\n      <td>0.0</td>\n      <td>0.0</td>\n      <td>2167.97</td>\n      <td>0</td>\n    </tr>\n    <tr>\n      <th>4</th>\n      <td>4</td>\n      <td>F</td>\n      <td>32</td>\n      <td>Privada</td>\n      <td>5534</td>\n      <td>547.47</td>\n      <td>0.0</td>\n      <td>0.0</td>\n      <td>639.13</td>\n      <td>1</td>\n    </tr>\n    <tr>\n      <th>5</th>\n      <td>5</td>\n      <td>F</td>\n      <td>28</td>\n      <td>Autônomo</td>\n      <td>4559</td>\n      <td>412.81</td>\n      <td>0.0</td>\n      <td>0.0</td>\n      <td>1466.96</td>\n      <td>1</td>\n    </tr>\n  </tbody>\n</table>\n</div>",
      "text/plain": "   Cliente Sexo  Idade   Empresa  Salario  Saldo_cc  Saldo_poupança  \\\n1        1    M     33   Privada     6019   1084.98             0.0   \n2        2    F     31   Pública     5134    532.09             0.0   \n3        3    M     31   Pública     5286    719.91             0.0   \n4        4    F     32   Privada     5534    547.47             0.0   \n5        5    F     28  Autônomo     4559    412.81             0.0   \n\n   Saldo_investimento  Devedor_cartao  Inadimplente  \n1                 0.0         1214.35             0  \n2                 0.0         1662.96             0  \n3                 0.0         2167.97             0  \n4                 0.0          639.13             1  \n5                 0.0         1466.96             1  "
     },
     "execution_count": 1,
     "metadata": {},
     "output_type": "execute_result"
    }
   ],
   "source": [
    "import os.path\r\n",
    "import pandas as pd\r\n",
    "import matplotlib.pyplot as plt\r\n",
    "import numpy as np\r\n",
    "import seaborn as sns\r\n",
    "from scipy import stats\r\n",
    "\r\n",
    "%matplotlib inline\r\n",
    "\r\n",
    "pkgdir = '.\\data'\r\n",
    "\r\n",
    "# Dados banco - Leitura dos dados\r\n",
    "dados = pd.read_csv(f'{pkgdir}\\dados_banco.csv', index_col=0, decimal=',')\r\n",
    "\r\n",
    "dados.head()"
   ]
  },
  {
   "cell_type": "markdown",
   "metadata": {},
   "source": [
    "#### Descreva a associação entre sexo e inadimplência.\n"
   ]
  },
  {
   "cell_type": "code",
   "execution_count": 4,
   "metadata": {},
   "outputs": [
    {
     "data": {
      "text/html": "<div>\n<style scoped>\n    .dataframe tbody tr th:only-of-type {\n        vertical-align: middle;\n    }\n\n    .dataframe tbody tr th {\n        vertical-align: top;\n    }\n\n    .dataframe thead th {\n        text-align: right;\n    }\n</style>\n<table border=\"1\" class=\"dataframe\">\n  <thead>\n    <tr style=\"text-align: right;\">\n      <th></th>\n      <th>Idade</th>\n      <th>Salario</th>\n      <th>Saldo_cc</th>\n      <th>Saldo_poupança</th>\n      <th>Saldo_investimento</th>\n      <th>Devedor_cartao</th>\n      <th>Inadimplente</th>\n    </tr>\n  </thead>\n  <tbody>\n    <tr>\n      <th>count</th>\n      <td>100000.00000</td>\n      <td>100000.000000</td>\n      <td>100000.000000</td>\n      <td>100000.000000</td>\n      <td>100000.000000</td>\n      <td>100000.000000</td>\n      <td>100000.00000</td>\n    </tr>\n    <tr>\n      <th>mean</th>\n      <td>31.83236</td>\n      <td>5513.453080</td>\n      <td>836.530683</td>\n      <td>2213.296334</td>\n      <td>1471.116085</td>\n      <td>2408.638706</td>\n      <td>0.24359</td>\n    </tr>\n    <tr>\n      <th>std</th>\n      <td>2.92772</td>\n      <td>392.083661</td>\n      <td>238.691071</td>\n      <td>5650.814769</td>\n      <td>3914.558428</td>\n      <td>1659.405630</td>\n      <td>0.42925</td>\n    </tr>\n    <tr>\n      <th>min</th>\n      <td>21.00000</td>\n      <td>4359.000000</td>\n      <td>-280.670000</td>\n      <td>0.000000</td>\n      <td>0.000000</td>\n      <td>0.000000</td>\n      <td>0.00000</td>\n    </tr>\n    <tr>\n      <th>25%</th>\n      <td>30.00000</td>\n      <td>5235.000000</td>\n      <td>675.290000</td>\n      <td>0.000000</td>\n      <td>0.000000</td>\n      <td>1100.242500</td>\n      <td>0.00000</td>\n    </tr>\n    <tr>\n      <th>50%</th>\n      <td>32.00000</td>\n      <td>5530.000000</td>\n      <td>835.050000</td>\n      <td>0.000000</td>\n      <td>0.000000</td>\n      <td>2463.965000</td>\n      <td>0.00000</td>\n    </tr>\n    <tr>\n      <th>75%</th>\n      <td>34.00000</td>\n      <td>5766.000000</td>\n      <td>996.560000</td>\n      <td>0.000000</td>\n      <td>0.000000</td>\n      <td>3602.510000</td>\n      <td>0.00000</td>\n    </tr>\n    <tr>\n      <th>max</th>\n      <td>56.00000</td>\n      <td>9080.000000</td>\n      <td>2340.650000</td>\n      <td>27329.110000</td>\n      <td>22803.560000</td>\n      <td>10281.780000</td>\n      <td>1.00000</td>\n    </tr>\n  </tbody>\n</table>\n</div>",
      "text/plain": "              Idade        Salario       Saldo_cc  Saldo_poupança  \\\ncount  100000.00000  100000.000000  100000.000000   100000.000000   \nmean       31.83236    5513.453080     836.530683     2213.296334   \nstd         2.92772     392.083661     238.691071     5650.814769   \nmin        21.00000    4359.000000    -280.670000        0.000000   \n25%        30.00000    5235.000000     675.290000        0.000000   \n50%        32.00000    5530.000000     835.050000        0.000000   \n75%        34.00000    5766.000000     996.560000        0.000000   \nmax        56.00000    9080.000000    2340.650000    27329.110000   \n\n       Saldo_investimento  Devedor_cartao  Inadimplente  \ncount       100000.000000   100000.000000  100000.00000  \nmean          1471.116085     2408.638706       0.24359  \nstd           3914.558428     1659.405630       0.42925  \nmin              0.000000        0.000000       0.00000  \n25%              0.000000     1100.242500       0.00000  \n50%              0.000000     2463.965000       0.00000  \n75%              0.000000     3602.510000       0.00000  \nmax          22803.560000    10281.780000       1.00000  "
     },
     "execution_count": 4,
     "metadata": {},
     "output_type": "execute_result"
    }
   ],
   "source": [
    "dados.loc[:,dados.columns != 'Cliente'].describe()"
   ]
  },
  {
   "cell_type": "code",
   "execution_count": 5,
   "metadata": {},
   "outputs": [
    {
     "data": {
      "text/html": "<div>\n<style scoped>\n    .dataframe tbody tr th:only-of-type {\n        vertical-align: middle;\n    }\n\n    .dataframe tbody tr th {\n        vertical-align: top;\n    }\n\n    .dataframe thead th {\n        text-align: right;\n    }\n</style>\n<table border=\"1\" class=\"dataframe\">\n  <thead>\n    <tr style=\"text-align: right;\">\n      <th>Sexo</th>\n      <th>F</th>\n      <th>M</th>\n    </tr>\n    <tr>\n      <th>Inadimplente</th>\n      <th></th>\n      <th></th>\n    </tr>\n  </thead>\n  <tbody>\n    <tr>\n      <th>0</th>\n      <td>31603</td>\n      <td>44038</td>\n    </tr>\n    <tr>\n      <th>1</th>\n      <td>10242</td>\n      <td>14117</td>\n    </tr>\n  </tbody>\n</table>\n</div>",
      "text/plain": "Sexo              F      M\nInadimplente              \n0             31603  44038\n1             10242  14117"
     },
     "execution_count": 5,
     "metadata": {},
     "output_type": "execute_result"
    }
   ],
   "source": [
    "# Tabela de dupla entrada\r\n",
    "tabela_dupla = pd.crosstab(index=dados['Inadimplente'], columns=dados['Sexo'])\r\n",
    "tabela_dupla"
   ]
  },
  {
   "cell_type": "code",
   "execution_count": 7,
   "metadata": {},
   "outputs": [
    {
     "data": {
      "text/html": "<div>\n<style scoped>\n    .dataframe tbody tr th:only-of-type {\n        vertical-align: middle;\n    }\n\n    .dataframe tbody tr th {\n        vertical-align: top;\n    }\n\n    .dataframe thead th {\n        text-align: right;\n    }\n</style>\n<table border=\"1\" class=\"dataframe\">\n  <thead>\n    <tr style=\"text-align: right;\">\n      <th>Sexo</th>\n      <th>F</th>\n      <th>M</th>\n    </tr>\n    <tr>\n      <th>Inadimplente</th>\n      <th></th>\n      <th></th>\n    </tr>\n  </thead>\n  <tbody>\n    <tr>\n      <th>0</th>\n      <td>0.75524</td>\n      <td>0.757252</td>\n    </tr>\n    <tr>\n      <th>1</th>\n      <td>0.24476</td>\n      <td>0.242748</td>\n    </tr>\n  </tbody>\n</table>\n</div>",
      "text/plain": "Sexo                F         M\nInadimplente                   \n0             0.75524  0.757252\n1             0.24476  0.242748"
     },
     "execution_count": 7,
     "metadata": {},
     "output_type": "execute_result"
    }
   ],
   "source": [
    "tabela_dupla/tabela_dupla.sum()"
   ]
  },
  {
   "cell_type": "code",
   "execution_count": 6,
   "metadata": {},
   "outputs": [
    {
     "data": {
      "image/png": "[encoded data removed]",
      "text/plain": "<Figure size 432x288 with 1 Axes>"
     },
     "metadata": {
      "needs_background": "light"
     },
     "output_type": "display_data"
    }
   ],
   "source": [
    "tabela_dupla.plot.bar()\r\n",
    "plt.legend(title='Sexo')\r\n",
    "plt.show()"
   ]
  },
  {
   "cell_type": "markdown",
   "metadata": {},
   "source": [
    "#### Há associação entre idade e inadimplência?"
   ]
  },
  {
   "cell_type": "code",
   "execution_count": 9,
   "metadata": {},
   "outputs": [
    {
     "data": {
      "image/png": "[encoded data removed]",
      "text/plain": "<Figure size 432x288 with 1 Axes>"
     },
     "metadata": {
      "needs_background": "light"
     },
     "output_type": "display_data"
    }
   ],
   "source": [
    "#import seaborn as sns\r\n",
    "#sns.boxplot(y=dados[\"Idade\"],x=dados[\"Inadimplente\"], palette=\"Blues\")\r\n",
    "sns.boxplot(x='Inadimplente', y='Idade', data=dados, palette=\"Blues\")"
   ]
  },
  {
   "cell_type": "markdown",
   "metadata": {},
   "source": [
    "#### Há associação entre empresa e inadimplência?"
   ]
  },
  {
   "cell_type": "code",
   "execution_count": 10,
   "metadata": {},
   "outputs": [
    {
     "data": {
      "text/html": "<div>\n<style scoped>\n    .dataframe tbody tr th:only-of-type {\n        vertical-align: middle;\n    }\n\n    .dataframe tbody tr th {\n        vertical-align: top;\n    }\n\n    .dataframe thead th {\n        text-align: right;\n    }\n</style>\n<table border=\"1\" class=\"dataframe\">\n  <thead>\n    <tr style=\"text-align: right;\">\n      <th>Empresa</th>\n      <th>Autônomo</th>\n      <th>Privada</th>\n      <th>Pública</th>\n    </tr>\n    <tr>\n      <th>Inadimplente</th>\n      <th></th>\n      <th></th>\n      <th></th>\n    </tr>\n  </thead>\n  <tbody>\n    <tr>\n      <th>0</th>\n      <td>8345</td>\n      <td>46144</td>\n      <td>21152</td>\n    </tr>\n    <tr>\n      <th>1</th>\n      <td>5861</td>\n      <td>15480</td>\n      <td>3018</td>\n    </tr>\n  </tbody>\n</table>\n</div>",
      "text/plain": "Empresa       Autônomo  Privada  Pública\nInadimplente                            \n0                 8345    46144    21152\n1                 5861    15480     3018"
     },
     "execution_count": 10,
     "metadata": {},
     "output_type": "execute_result"
    }
   ],
   "source": [
    "# Tabela de dupla entrada\r\n",
    "tabela_dupla = pd.crosstab(index=dados['Inadimplente'], columns=dados['Empresa'])\r\n",
    "tabela_dupla"
   ]
  },
  {
   "cell_type": "code",
   "execution_count": 11,
   "metadata": {},
   "outputs": [
    {
     "data": {
      "text/html": "<div>\n<style scoped>\n    .dataframe tbody tr th:only-of-type {\n        vertical-align: middle;\n    }\n\n    .dataframe tbody tr th {\n        vertical-align: top;\n    }\n\n    .dataframe thead th {\n        text-align: right;\n    }\n</style>\n<table border=\"1\" class=\"dataframe\">\n  <thead>\n    <tr style=\"text-align: right;\">\n      <th>Empresa</th>\n      <th>Autônomo</th>\n      <th>Privada</th>\n      <th>Pública</th>\n    </tr>\n    <tr>\n      <th>Inadimplente</th>\n      <th></th>\n      <th></th>\n      <th></th>\n    </tr>\n  </thead>\n  <tbody>\n    <tr>\n      <th>0</th>\n      <td>0.587428</td>\n      <td>0.748799</td>\n      <td>0.875134</td>\n    </tr>\n    <tr>\n      <th>1</th>\n      <td>0.412572</td>\n      <td>0.251201</td>\n      <td>0.124866</td>\n    </tr>\n  </tbody>\n</table>\n</div>",
      "text/plain": "Empresa       Autônomo   Privada   Pública\nInadimplente                              \n0             0.587428  0.748799  0.875134\n1             0.412572  0.251201  0.124866"
     },
     "execution_count": 11,
     "metadata": {},
     "output_type": "execute_result"
    }
   ],
   "source": [
    "tabela_dupla/tabela_dupla.sum()"
   ]
  },
  {
   "cell_type": "code",
   "execution_count": 15,
   "metadata": {},
   "outputs": [
    {
     "data": {
      "image/png": "[encoded data removed]",
      "text/plain": "<Figure size 432x288 with 1 Axes>"
     },
     "metadata": {
      "needs_background": "light"
     },
     "output_type": "display_data"
    }
   ],
   "source": [
    "tabela_dupla.plot.bar(stacked=True)\r\n",
    "plt.legend(title='Empresa')\r\n",
    "plt.show()"
   ]
  },
  {
   "cell_type": "markdown",
   "metadata": {},
   "source": [
    "#### Verifique a associação entre salário e inadimplência."
   ]
  },
  {
   "cell_type": "code",
   "execution_count": 23,
   "metadata": {},
   "outputs": [
    {
     "data": {
      "text/plain": "<AxesSubplot:xlabel='Inadimplente', ylabel='Salario'>"
     },
     "execution_count": 23,
     "metadata": {},
     "output_type": "execute_result"
    },
    {
     "data": {
      "image/png": "[encoded data removed]",
      "text/plain": "<Figure size 432x288 with 1 Axes>"
     },
     "metadata": {
      "needs_background": "light"
     },
     "output_type": "display_data"
    }
   ],
   "source": [
    "sns.boxplot(x=dados['Inadimplente'],\r\n",
    "        y=dados['Salario'],\r\n",
    "        #hue=dados['Empresa'],\r\n",
    "        palette=\"Blues\")"
   ]
  },
  {
   "cell_type": "markdown",
   "metadata": {},
   "source": [
    "#### Verifique a associação entre saldo em conta corrente e inadimplência."
   ]
  },
  {
   "cell_type": "code",
   "execution_count": 26,
   "metadata": {},
   "outputs": [
    {
     "data": {
      "text/plain": "<AxesSubplot:xlabel='Inadimplente', ylabel='Saldo_cc'>"
     },
     "execution_count": 26,
     "metadata": {},
     "output_type": "execute_result"
    },
    {
     "data": {
      "image/png": "[encoded data removed]",
      "text/plain": "<Figure size 432x288 with 1 Axes>"
     },
     "metadata": {
      "needs_background": "light"
     },
     "output_type": "display_data"
    }
   ],
   "source": [
    "sns.boxplot(data=dados,\r\n",
    "        x='Inadimplente',\r\n",
    "        y='Saldo_cc',\r\n",
    "        palette=\"Blues\")"
   ]
  },
  {
   "cell_type": "markdown",
   "metadata": {},
   "source": [
    "#### Há associação entre saldo em conta poupança e inadimplência?"
   ]
  },
  {
   "cell_type": "code",
   "execution_count": 29,
   "metadata": {},
   "outputs": [
    {
     "data": {
      "text/plain": "<AxesSubplot:xlabel='Inadimplente', ylabel='Saldo_poupança'>"
     },
     "execution_count": 29,
     "metadata": {},
     "output_type": "execute_result"
    },
    {
     "data": {
      "image/png": "[encoded data removed]",
      "text/plain": "<Figure size 432x288 with 1 Axes>"
     },
     "metadata": {
      "needs_background": "light"
     },
     "output_type": "display_data"
    }
   ],
   "source": [
    "sns.boxplot(data=dados,\r\n",
    "        x='Inadimplente',\r\n",
    "        y='Saldo_poupança')"
   ]
  },
  {
   "cell_type": "markdown",
   "metadata": {},
   "source": [
    "#### Há associação entre devedor no cartão e inadimplência?"
   ]
  },
  {
   "cell_type": "code",
   "execution_count": 30,
   "metadata": {},
   "outputs": [
    {
     "data": {
      "text/plain": "<AxesSubplot:xlabel='Inadimplente', ylabel='Devedor_cartao'>"
     },
     "execution_count": 30,
     "metadata": {},
     "output_type": "execute_result"
    },
    {
     "data": {
      "image/png": "[encoded data removed]",
      "text/plain": "<Figure size 432x288 with 1 Axes>"
     },
     "metadata": {
      "needs_background": "light"
     },
     "output_type": "display_data"
    }
   ],
   "source": [
    "sns.boxplot(data=dados,\r\n",
    "        x='Inadimplente',\r\n",
    "        y='Devedor_cartao')"
   ]
  },
  {
   "cell_type": "markdown",
   "metadata": {},
   "source": [
    "Como não fizemos análises inferenciais, não podemos concluir estatisticamente sobre as associações. Porém, com base nas análises de visualização e exploração de dados, parece existir associação entre inadimplência e tipo de empresa somente."
   ]
  }
 ],
 "metadata": {
  "kernelspec": {
   "display_name": "Python 3",
   "language": "python",
   "name": "python3"
  },
  "language_info": {
   "codemirror_mode": {
    "name": "ipython",
    "version": 3
   },
   "file_extension": ".py",
   "mimetype": "text/x-python",
   "name": "python",
   "nbconvert_exporter": "python",
   "pygments_lexer": "ipython3",
   "version": "3.7.6"
  }
 },
 "nbformat": 4,
 "nbformat_minor": 4
}