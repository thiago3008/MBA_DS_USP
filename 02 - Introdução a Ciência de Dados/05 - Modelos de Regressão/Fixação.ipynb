{
  "cells": [
    {
      "cell_type": "code",
      "execution_count": 1,
      "metadata": {
        "colab": {},
        "colab_type": "code",
        "id": "oSrFk7Wii47K"
      },
      "outputs": [],
      "source": [
        "import numpy as np\n",
        "import pandas as pd\n",
        "\n",
        "from sklearn.linear_model import LinearRegression, Lasso, Ridge\n",
        "from sklearn.preprocessing import PolynomialFeatures\n",
        "from sklearn.model_selection import train_test_split\n",
        "from sklearn.metrics import r2_score, mean_squared_error\n",
        "\n",
        "import matplotlib.pyplot as plt"
      ]
    },
    {
      "cell_type": "markdown",
      "metadata": {
        "colab_type": "text",
        "id": "oxcEAEBqi47T"
      },
      "source": [
        "1 - Considere a base BostonHousing. Compare o coeficiente R2 obtido através de regressão linear múltipla, Lasso e ridge regression. Para os métodos Lasso e ridge regression, faça um gráfico de 𝛼×\n",
        "R2 como foi feito nos exemplos anteriores."
      ]
    },
    {
      "cell_type": "code",
      "execution_count": 2,
      "metadata": {
        "colab": {
          "base_uri": "https://localhost:8080/",
          "height": 204
        },
        "colab_type": "code",
        "id": "IOZJ1qf0i47V",
        "outputId": "35bcee52-64d1-4f12-ca88-31ca14c04b0d"
      },
      "outputs": [
        {
          "data": {
            "text/html": "<div>\n<style scoped>\n    .dataframe tbody tr th:only-of-type {\n        vertical-align: middle;\n    }\n\n    .dataframe tbody tr th {\n        vertical-align: top;\n    }\n\n    .dataframe thead th {\n        text-align: right;\n    }\n</style>\n<table border=\"1\" class=\"dataframe\">\n  <thead>\n    <tr style=\"text-align: right;\">\n      <th></th>\n      <th>crim</th>\n      <th>zn</th>\n      <th>indus</th>\n      <th>chas</th>\n      <th>nox</th>\n      <th>rm</th>\n      <th>age</th>\n      <th>dis</th>\n      <th>rad</th>\n      <th>tax</th>\n      <th>ptratio</th>\n      <th>b</th>\n      <th>lstat</th>\n      <th>medv</th>\n    </tr>\n  </thead>\n  <tbody>\n    <tr>\n      <th>0</th>\n      <td>0.00632</td>\n      <td>18.0</td>\n      <td>2.31</td>\n      <td>0</td>\n      <td>0.538</td>\n      <td>6.575</td>\n      <td>65.2</td>\n      <td>4.0900</td>\n      <td>1</td>\n      <td>296</td>\n      <td>15.3</td>\n      <td>396.90</td>\n      <td>4.98</td>\n      <td>24.0</td>\n    </tr>\n    <tr>\n      <th>1</th>\n      <td>0.02731</td>\n      <td>0.0</td>\n      <td>7.07</td>\n      <td>0</td>\n      <td>0.469</td>\n      <td>6.421</td>\n      <td>78.9</td>\n      <td>4.9671</td>\n      <td>2</td>\n      <td>242</td>\n      <td>17.8</td>\n      <td>396.90</td>\n      <td>9.14</td>\n      <td>21.6</td>\n    </tr>\n    <tr>\n      <th>2</th>\n      <td>0.02729</td>\n      <td>0.0</td>\n      <td>7.07</td>\n      <td>0</td>\n      <td>0.469</td>\n      <td>7.185</td>\n      <td>61.1</td>\n      <td>4.9671</td>\n      <td>2</td>\n      <td>242</td>\n      <td>17.8</td>\n      <td>392.83</td>\n      <td>4.03</td>\n      <td>34.7</td>\n    </tr>\n    <tr>\n      <th>3</th>\n      <td>0.03237</td>\n      <td>0.0</td>\n      <td>2.18</td>\n      <td>0</td>\n      <td>0.458</td>\n      <td>6.998</td>\n      <td>45.8</td>\n      <td>6.0622</td>\n      <td>3</td>\n      <td>222</td>\n      <td>18.7</td>\n      <td>394.63</td>\n      <td>2.94</td>\n      <td>33.4</td>\n    </tr>\n    <tr>\n      <th>4</th>\n      <td>0.06905</td>\n      <td>0.0</td>\n      <td>2.18</td>\n      <td>0</td>\n      <td>0.458</td>\n      <td>7.147</td>\n      <td>54.2</td>\n      <td>6.0622</td>\n      <td>3</td>\n      <td>222</td>\n      <td>18.7</td>\n      <td>396.90</td>\n      <td>5.33</td>\n      <td>36.2</td>\n    </tr>\n  </tbody>\n</table>\n</div>",
            "text/plain": "      crim    zn  indus  chas    nox     rm   age     dis  rad  tax  ptratio  \\\n0  0.00632  18.0   2.31     0  0.538  6.575  65.2  4.0900    1  296     15.3   \n1  0.02731   0.0   7.07     0  0.469  6.421  78.9  4.9671    2  242     17.8   \n2  0.02729   0.0   7.07     0  0.469  7.185  61.1  4.9671    2  242     17.8   \n3  0.03237   0.0   2.18     0  0.458  6.998  45.8  6.0622    3  222     18.7   \n4  0.06905   0.0   2.18     0  0.458  7.147  54.2  6.0622    3  222     18.7   \n\n        b  lstat  medv  \n0  396.90   4.98  24.0  \n1  396.90   9.14  21.6  \n2  392.83   4.03  34.7  \n3  394.63   2.94  33.4  \n4  396.90   5.33  36.2  "
          },
          "execution_count": 2,
          "metadata": {},
          "output_type": "execute_result"
        }
      ],
      "source": [
        "# realiza a leitura dos dados\n",
        "df = pd.read_csv('data/BostonHousing.csv')\n",
        "\n",
        "# listamos as 10 primeiras linhas do arquivo\n",
        "df.head()"
      ]
    },
    {
      "cell_type": "code",
      "execution_count": 3,
      "metadata": {
        "colab": {},
        "colab_type": "code",
        "id": "bjXBCEHXi47b"
      },
      "outputs": [],
      "source": [
        "# separamos as variaveis X e y\n",
        "# usamos a variavel 'medv' como target do nosso problema de regressão\n",
        "X = df.drop(columns='medv')\n",
        "y = df['medv']"
      ]
    },
    {
      "cell_type": "code",
      "execution_count": 4,
      "metadata": {
        "colab": {},
        "colab_type": "code",
        "id": "DXLwO2vNi47g"
      },
      "outputs": [],
      "source": [
        "# divide o conjunto em treinamento e teste\n",
        "X_train, X_test, y_train, y_test = train_test_split(X, y, test_size=0.3, random_state=42)"
      ]
    },
    {
      "cell_type": "code",
      "execution_count": 5,
      "metadata": {
        "colab": {},
        "colab_type": "code",
        "id": "3XNZcdrzi47m"
      },
      "outputs": [],
      "source": [
        "# instancia o modelo de regressao linear multipla\n",
        "linreg = LinearRegression()\n",
        "\n",
        "# ajusta os dados do conjunto de treinamento\n",
        "linreg.fit(X_train, y_train)\n",
        "\n",
        "# preve o target para os dados de teste\n",
        "y_pred_linreg = linreg.predict(X_test)\n",
        "\n",
        "# calcula o r2 score do modelo de regressao linear multipla\n",
        "r2_linreg = r2_score(y_test, y_pred_linreg)"
      ]
    },
    {
      "cell_type": "code",
      "execution_count": 6,
      "metadata": {
        "colab": {},
        "colab_type": "code",
        "id": "rMWDf7sLi47r"
      },
      "outputs": [],
      "source": [
        "# armazena os r2 score de cada alpha\n",
        "all_r2_lasso = []\n",
        "all_r2_ridge = []\n",
        "all_alpha = np.arange(0.1, 3.1, 0.1)\n",
        "\n",
        "for alpha in all_alpha:\n",
        "    # instancia os modelos lasso e ridge\n",
        "    lasso = Lasso(alpha=alpha, normalize=True, max_iter=1e5)\n",
        "    ridge = Ridge(alpha=alpha, normalize=True)\n",
        "    \n",
        "    # ajusta o modelo aos dados de treinamento\n",
        "    lasso.fit(X_train, y_train)\n",
        "    ridge.fit(X_train, y_train)\n",
        "    \n",
        "    # preve o target para os dados de teste\n",
        "    y_pred_lasso = lasso.predict(X_test)\n",
        "    y_pred_ridge = ridge.predict(X_test)\n",
        "    \n",
        "    # calcula o r2 score dos dois modelos\n",
        "    r2_lasso = r2_score(y_test, y_pred_lasso)\n",
        "    r2_ridge = r2_score(y_test, y_pred_ridge)\n",
        "    \n",
        "    # adiciona o score dos 2 modelos\n",
        "    all_r2_lasso.append(r2_lasso)\n",
        "    all_r2_ridge.append(r2_ridge)"
      ]
    },
    {
      "cell_type": "code",
      "execution_count": 7,
      "metadata": {
        "colab": {
          "base_uri": "https://localhost:8080/",
          "height": 284
        },
        "colab_type": "code",
        "id": "VhOnOv8xi47x",
        "outputId": "4783a4f8-50b7-4b11-8f72-7716ed8fa305"
      },
      "outputs": [
        {
          "data": {
            "image/png": "[encoded data removed]",
            "text/plain": "<Figure size 432x288 with 1 Axes>"
          },
          "metadata": {
            "needs_background": "light"
          },
          "output_type": "display_data"
        }
      ],
      "source": [
        "# plota o grafica entre r2 (eixo y) e alpha (eixo x) dos modelos Lasso (azul) e Ridge (vermelho)\n",
        "\n",
        "plt.plot(all_alpha, all_r2_lasso, '-bo', label='LASSO')\n",
        "plt.plot(all_alpha, all_r2_ridge, '-ro', label='Ridge')\n",
        "plt.xlabel(\"alpha\", fontsize=15)\n",
        "plt.ylabel(\"R2\", fontsize=15)\n",
        "plt.legend()\n",
        "plt.show(True)"
      ]
    },
    {
      "cell_type": "markdown",
      "metadata": {
        "colab_type": "text",
        "id": "DA6cIVU3i473"
      },
      "source": [
        "Note que para este dataset, o modelo Ridge diminui a pontuação $R^2$ lentamente em relação ao Lasso"
      ]
    },
    {
      "cell_type": "code",
      "execution_count": 9,
      "metadata": {
        "colab": {
          "base_uri": "https://localhost:8080/",
          "height": 68
        },
        "colab_type": "code",
        "id": "p17d07fCi474",
        "outputId": "5e0940fd-5762-4b5e-ac76-45f3b20fc6fb"
      },
      "outputs": [
        {
          "name": "stdout",
          "output_type": "stream",
          "text": [
            "LinReg: 0.711226005748494\n",
            "LASSO: 0.595022953532855\n",
            "Ridge: 0.6996938275127313\n"
          ]
        }
      ],
      "source": [
        "# Exibimos a melhor pontucao R2 dos 3 modelos avaliados\n",
        "# O modelo de regressão linear simples apresenda o melhor resultado\n",
        "print('LinReg:', r2_linreg)\n",
        "print('LASSO:', np.max(all_r2_lasso))\n",
        "print('Ridge:', np.max(all_r2_ridge))"
      ]
    },
    {
      "cell_type": "markdown",
      "metadata": {
        "colab_type": "text",
        "id": "fCF3SPbai479"
      },
      "source": [
        "2 - Para os dados gerados pelo código abaixo, ajuste um modelo de regressão não-linear considerando um polinômio de grau 3, conforme feito na aula."
      ]
    },
    {
      "cell_type": "code",
      "execution_count": 10,
      "metadata": {
        "colab": {
          "base_uri": "https://localhost:8080/",
          "height": 284
        },
        "colab_type": "code",
        "id": "3x0kmd1fi47_",
        "outputId": "8711b41b-4dcb-4385-f872-775df42271b3"
      },
      "outputs": [
        {
          "data": {
            "image/png": "[encoded data removed]",
            "text/plain": "<Figure size 432x288 with 1 Axes>"
          },
          "metadata": {
            "needs_background": "light"
          },
          "output_type": "display_data"
        }
      ],
      "source": [
        "# geramos os dados X e y\n",
        "N = 10\n",
        "X = np.linspace(0, 10, N)\n",
        "y_true = X**3 + np.random.normal(0, 50, N)\n",
        "\n",
        "# geramos as features polinomiais de grau 3 no conjunto de dados X\n",
        "pf3 = PolynomialFeatures(degree=3, include_bias=False)\n",
        "X_pf3 = pf3.fit_transform(X.reshape(-1, 1))\n",
        "\n",
        "# instanciamos, ajustamos e predizemos os valores\n",
        "linreg = LinearRegression()\n",
        "linreg.fit(X_pf3, y_true)\n",
        "y_pred = linreg.predict(X_pf3)\n",
        "\n",
        "# Apresentamos os valores originais e preditos no grafico\n",
        "plt.plot(X, y_true, 'ro', label='Dados originais')\n",
        "plt.plot(X, y_pred, 'bo-', label = 'Dados preditos')\n",
        "plt.ylabel(\"y\", fontsize=15)\n",
        "plt.xlabel(\"x\", fontsize=15)\n",
        "plt.legend()\n",
        "plt.show(True)"
      ]
    },
    {
      "cell_type": "markdown",
      "metadata": {
        "colab_type": "text",
        "id": "7QU2UYc6i48F"
      },
      "source": [
        "3 - Determine as variáveis que mais influenciam o preço de imóveis em Boston usando Lasso."
      ]
    },
    {
      "cell_type": "code",
      "execution_count": 11,
      "metadata": {
        "colab": {
          "base_uri": "https://localhost:8080/",
          "height": 238
        },
        "colab_type": "code",
        "id": "n5TnRPVoi48H",
        "outputId": "5ce386e0-f3ab-4a00-8e0b-9a04c38483f1"
      },
      "outputs": [
        {
          "name": "stdout",
          "output_type": "stream",
          "text": [
            "crim\t-0.00\n",
            "zn\t0.00\n",
            "indus\t-0.00\n",
            "chas\t0.00\n",
            "nox\t-0.00\n",
            "rm\t3.19\n",
            "age\t-0.00\n",
            "dis\t-0.00\n",
            "rad\t-0.00\n",
            "tax\t-0.00\n",
            "ptratio\t-0.31\n",
            "b\t0.00\n",
            "lstat\t-0.49\n"
          ]
        }
      ],
      "source": [
        "\n",
        "# utilizamos alpha=0.1 por ser o valor que reportou maior r2 nos exemplos anteriores\n",
        "lasso = Lasso(alpha=0.1, normalize=True, max_iter=1e5)\n",
        "\n",
        "# reutilizamos o nosso conjunto de treino do dataset Boston para realizarmos o ajuste\n",
        "lasso.fit(X_train, y_train)\n",
        "\n",
        "# exibimos os coeficientes de cada variavel\n",
        "for col, param in zip(X_train.columns, lasso.coef_):\n",
        "    print('{}\\t{:.2f}'.format(col, param))"
      ]
    },
    {
      "cell_type": "markdown",
      "metadata": {
        "colab_type": "text",
        "id": "vhfGKnfZi48M"
      },
      "source": [
        "Podemos notar que as variáveis que mais influeciam nos preços dos imóveis são: 'lstat', 'ptratio' e 'rm'"
      ]
    },
    {
      "cell_type": "code",
      "execution_count": 0,
      "metadata": {
        "colab": {},
        "colab_type": "code",
        "id": "T3NOX0Temv57"
      },
      "outputs": [],
      "source": []
    }
  ],
  "metadata": {
    "colab": {
      "name": "Fixação.ipynb",
      "provenance": [],
      "toc_visible": true
    },
    "kernelspec": {
      "display_name": "Python 3.9.2 64-bit",
      "metadata": {
        "interpreter": {
          "hash": "ac59ebe37160ed0dfa835113d9b8498d9f09ceb179beaac4002f036b9467c963"
        }
      },
      "name": "python3"
    },
    "language_info": {
      "codemirror_mode": {
        "name": "ipython",
        "version": 3
      },
      "file_extension": ".py",
      "mimetype": "text/x-python",
      "name": "python",
      "nbconvert_exporter": "python",
      "pygments_lexer": "ipython3",
      "version": "3.9.2"
    }
  },
  "nbformat": 4,
  "nbformat_minor": 0
}