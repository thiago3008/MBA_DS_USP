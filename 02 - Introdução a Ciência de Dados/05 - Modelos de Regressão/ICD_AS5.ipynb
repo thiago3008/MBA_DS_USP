{
 "cells": [
  {
   "cell_type": "code",
   "execution_count": 2,
   "metadata": {},
   "outputs": [],
   "source": [
    "import matplotlib.pyplot as plt\r\n",
    "import numpy as np\r\n",
    "from statistics import variance\r\n",
    "import math"
   ]
  },
  {
   "cell_type": "code",
   "execution_count": 4,
   "metadata": {},
   "outputs": [],
   "source": [
    "x = np.array([0,1,2,3,4,5,6,7,8,9,10,11,12,13,14,15])\r\n",
    "y = np.array([0, 3,4,5,10,8,12,15,15,19,22,21,26,28,27,29])"
   ]
  },
  {
   "cell_type": "code",
   "execution_count": 6,
   "metadata": {},
   "outputs": [
    {
     "data": {
      "image/png": "[encoded data removed]",
      "text/plain": "<Figure size 432x288 with 1 Axes>"
     },
     "metadata": {
      "needs_background": "light"
     },
     "output_type": "display_data"
    }
   ],
   "source": [
    "plt.plot(x,y,'bo')\r\n",
    "plt.xlabel(\"x\",fontsize=15)\r\n",
    "plt.ylabel(\"y\",fontsize=15)\r\n",
    "plt.show(True)"
   ]
  },
  {
   "cell_type": "code",
   "execution_count": 8,
   "metadata": {},
   "outputs": [],
   "source": [
    "def linear_regression(x, y): \r\n",
    "    # número de observações/pontos\r\n",
    "    n = np.size(x) \r\n",
    "  \r\n",
    "    # médias de x e y\r\n",
    "    m_x, m_y = np.mean(x), np.mean(y) \r\n",
    "    SS_xy = 0\r\n",
    "    SS_xx = 0\r\n",
    "    for i in range(0,len(x)):\r\n",
    "        SS_xy = SS_xy + (x[i]-m_x)*(y[i]-m_y)\r\n",
    "        SS_xx = SS_xx + (x[i]-m_x)**2\r\n",
    "  \r\n",
    "    # calcula os coeficientes de regressão\r\n",
    "    b_1 = SS_xy / SS_xx \r\n",
    "    b_0 = m_y - b_1*m_x \r\n",
    "  \r\n",
    "    return (b_0, b_1) \r\n",
    "\r\n",
    "# função para mostrar os dados e o ajuste linear\r\n",
    "def plot_regression_line(x, y, b): \r\n",
    "    # mostra os dados\r\n",
    "    plt.scatter(x, y, color = \"b\", marker = \"o\", s = 50) \r\n",
    "  \r\n",
    "    # prediz os valores\r\n",
    "    y_pred = b[0] + b[1]*x \r\n",
    "  \r\n",
    "    # mostra a reta de regressão\r\n",
    "    plt.plot(x, y_pred, color = \"r\") \r\n",
    "  \r\n",
    "    plt.xlabel('x', fontsize = 15) \r\n",
    "    plt.ylabel('y', fontsize = 15) \r\n",
    "    plt.show(True) "
   ]
  },
  {
   "cell_type": "code",
   "execution_count": 9,
   "metadata": {},
   "outputs": [
    {
     "name": "stdout",
     "output_type": "stream",
     "text": [
      "Estimated coefficients:\n",
      "b_0 = 0.16176470588235325  \n",
      "b_1 = 2.011764705882353\n"
     ]
    },
    {
     "data": {
      "image/png": "[encoded data removed]",
      "text/plain": "<Figure size 432x288 with 1 Axes>"
     },
     "metadata": {
      "needs_background": "light"
     },
     "output_type": "display_data"
    }
   ],
   "source": [
    "# estima os coeficientes\r\n",
    "b = linear_regression(x, y) \r\n",
    "print(\"Estimated coefficients:\\nb_0 = {}  \\nb_1 = {}\".format(b[0], b[1])) \r\n",
    "  \r\n",
    "# mostra o ajuste linear\r\n",
    "plot_regression_line(x, y, b) "
   ]
  },
  {
   "cell_type": "code",
   "execution_count": 10,
   "metadata": {},
   "outputs": [
    {
     "name": "stdout",
     "output_type": "stream",
     "text": [
      "R2: 0.9807890654479896\n"
     ]
    }
   ],
   "source": [
    "def R2(x,y,b):\r\n",
    "    n = len(y)\r\n",
    "    c1 = 0\r\n",
    "    c2 = 0\r\n",
    "    ym = np.mean(y)\r\n",
    "    for i in range(0,n):\r\n",
    "        y_pred = b[0]+ x[i]*b[1] # valor predito\r\n",
    "        c1 = c1 + (y[i]-y_pred)**2\r\n",
    "        c2 = c2 + (y[i]-ym)**2\r\n",
    "    R2 = 1 - c1/c2\r\n",
    "    return R2\r\n",
    "\r\n",
    "print('R2:', R2(x,y,b))"
   ]
  },
  {
   "cell_type": "code",
   "execution_count": null,
   "metadata": {},
   "outputs": [],
   "source": []
  }
 ],
 "metadata": {
  "kernelspec": {
   "display_name": "Python 3.9.2 64-bit",
   "metadata": {
    "interpreter": {
     "hash": "ac59ebe37160ed0dfa835113d9b8498d9f09ceb179beaac4002f036b9467c963"
    }
   },
   "name": "python3"
  },
  "language_info": {
   "codemirror_mode": {
    "name": "ipython",
    "version": 3
   },
   "file_extension": ".py",
   "mimetype": "text/x-python",
   "name": "python",
   "nbconvert_exporter": "python",
   "pygments_lexer": "ipython3",
   "version": "3.9.2"
  },
  "orig_nbformat": 2
 },
 "nbformat": 4,
 "nbformat_minor": 2
}