{
 "cells": [
  {
   "cell_type": "code",
   "execution_count": null,
   "metadata": {},
   "outputs": [],
   "source": [
    "import numpy as np\r\n",
    "import matplotlib.pyplot as plt\r\n",
    "import pandas as pd\r\n",
    "from sklearn.svm import SVC\r\n",
    "from sklearn.linear_model import LinearRegression\r\n",
    "from sklearn.ensemble import RandomForestClassifier\r\n",
    "from sklearn import metrics"
   ]
  },
  {
   "cell_type": "code",
   "execution_count": null,
   "metadata": {},
   "outputs": [],
   "source": [
    "# Converter caracteres para \"0\" (ou outra constante)\r\n",
    "# substituir - por 0\r\n",
    "#df.loc[df['attribute']=='-','attribute'] = '0'\r\n",
    "\r\n"
   ]
  },
  {
   "cell_type": "code",
   "execution_count": null,
   "metadata": {},
   "outputs": [],
   "source": [
    "# Converter para inteiro (ou float) e caracteres para NaN - Not a Number\r\n",
    "\r\n",
    "# coerce obriga a conversão, jogando para Nan que não foi convertido\r\n",
    "#df.loc[:,'attribute'] = pd.to_numeric(df.loc[:,'attribute'], downcast='integer', errors='coerce')\r\n",
    "#df.loc[:,'attribute'] = pd.to_numeric(df.loc[:,'attribute'], downcast='float', errors='coerce')\r\n",
    "\r\n",
    "\r\n",
    "# Outra opção\r\n",
    "#data.loc[data['attribute'] == 'P', 'Sex'] = np.nan"
   ]
  },
  {
   "cell_type": "code",
   "execution_count": null,
   "metadata": {},
   "outputs": [],
   "source": [
    "dtrain_orig = dtrain.copy()\r\n",
    "\r\n",
    "# remove duplicatas\r\n",
    "dtrain_nd = dtrain.drop_duplicates(keep='first')\r\n",
    "print(\"Dados originais: %d, após remocao duplicatas: %d\" % (dtrain.shape[0], dtrain_nd.shape[0]))\r\n",
    "\r\n",
    "# remove outliers\r\n",
    "attributes = ['tax','total','insurance', 'bathroom']\r\n",
    "dtrain_out = remove_outliers_IQR(dtrain_nd, attributes)\r\n",
    "dtest_out = remove_outliers_IQR(dtest, attributes)"
   ]
  },
  {
   "cell_type": "code",
   "execution_count": null,
   "metadata": {},
   "outputs": [],
   "source": [
    "def check_missing_att(df):\r\n",
    "    # verificando atributos faltantes\r\n",
    "    for var in df:\r\n",
    "        # somamos o número de variáveis nulas (NaN)\r\n",
    "        nullatt = np.sum(df[var].isnull())\r\n",
    "        if nullatt > 0:\r\n",
    "            print(var,\"- faltantes: \", end='')\r\n",
    "            print(nullatt)"
   ]
  },
  {
   "cell_type": "code",
   "execution_count": null,
   "metadata": {},
   "outputs": [],
   "source": [
    "def fill_missing_average(df):\r\n",
    "        \r\n",
    "    dfn = df.copy()\r\n",
    "    for i in dfn:\r\n",
    "        nullatt = np.sum(dfn[i].isnull())\r\n",
    "        if nullatt == 0: continue\r\n",
    "        print(i, nullatt, 'faltantes')\r\n",
    "        \r\n",
    "        # obtem a media para os dados completos no atributo\r\n",
    "        # dfn[i].notnull() -> elementos completos no atributo i\r\n",
    "        # dfn.loc[dfn[i].notnull(),i] -> filtra os valores completos do atributo i\r\n",
    "        avg_compl = dfn.loc[dfn[i].notnull(),i].mean().astype(dfn[i].dtype)\r\n",
    "        print('\\tmédia =', avg_compl)\r\n",
    "        dfn.loc[dfn[i].isnull(),i] = avg_compl\r\n",
    "        \r\n",
    "    return dfn"
   ]
  },
  {
   "cell_type": "code",
   "execution_count": null,
   "metadata": {},
   "outputs": [],
   "source": [
    "#check_missing_att(df)"
   ]
  },
  {
   "cell_type": "code",
   "execution_count": null,
   "metadata": {},
   "outputs": [],
   "source": [
    "def fill_missing_regression(df, attributes, attributes_reg):\r\n",
    "    \r\n",
    "    \"\"\" Funcao para preencher dados faltantes por regressao\r\n",
    "        parametros:\r\n",
    "            df - dataframe\r\n",
    "            attributes - lista de atributos a preencher (alvo/saida)\r\n",
    "            attributes_reg - lista dos respectivos atributos a serem usados na regressao\r\n",
    "                             como variaveis de entrada\r\n",
    "    \"\"\"\r\n",
    "    \r\n",
    "    dfn = df.copy()\r\n",
    "    print(len(attributes), ' attributos: ')\r\n",
    "    \r\n",
    "    for i in range(len(attributes)):\r\n",
    "        print('-', i, ': preencher ', attributes[i], ' usando ', attributes_reg[i], end=' -- ')\r\n",
    "        nullatt = np.sum(dfn[attributes[i]].isnull())\r\n",
    "        print(nullatt, ' faltantes')\r\n",
    "        if nullatt == 0: continue\r\n",
    "        \r\n",
    "        # atributo de entrada para dados completos\r\n",
    "        Xa = np.array(dfn.loc[dfn[attributes[i]].notnull() & dfn[attributes_reg[i]].notnull(), \r\n",
    "                              attributes_reg[i]])\r\n",
    "        \r\n",
    "        # atributo de saida para dados completos\r\n",
    "        Ya = np.array(dfn.loc[dfn[attributes[i]].notnull() & dfn[attributes_reg[i]].notnull(), \r\n",
    "                              attributes[i]])\r\n",
    "        \r\n",
    "        reg = LinearRegression()\r\n",
    "        reg.fit(Xa.reshape(-1, 1), Ya.reshape(-1, 1))\r\n",
    "        \r\n",
    "        # seleciona as variáveis de entrada \r\n",
    "        # relativa aos valores faltantes para fazer a regressao\r\n",
    "        Zr = dfn.loc[ dfn[attributes[i]].isnull(), attributes_reg[i]]\r\n",
    "        \r\n",
    "        # prediz as variaveis faltantes\r\n",
    "        Za = reg.predict( (np.array(Zr)).reshape(-1, 1) )\r\n",
    "\r\n",
    "        # monta array para substituir a variavel agora preenchida\r\n",
    "        att_fill = np.array(dfn.loc[:, attributes[i]])\r\n",
    "        att_fill[np.where(np.isnan(att_fill))] = np.array(Za.flatten()).astype(int)\r\n",
    "        dfn.loc[:,attributes[i]] = att_fill.astype(np.int32)\r\n",
    "        #print(dfn.loc[df[attributes[i]].isnull(), attributes[i]])\r\n",
    "        \r\n",
    "    return dfn"
   ]
  },
  {
   "cell_type": "code",
   "execution_count": null,
   "metadata": {},
   "outputs": [],
   "source": []
  },
  {
   "cell_type": "code",
   "execution_count": null,
   "metadata": {},
   "outputs": [],
   "source": [
    "# attributes     = ['rooms', 'parking spaces', 'area', 'tax']\r\n",
    "# attributes_reg = ['area', 'rent', 'tax', 'hoa']\r\n",
    "\r\n",
    "# dtrain_misr = fill_missing_regression(dtrain_out, attributes, attributes_reg)\r\n",
    "\r\n",
    "# check_missing_att(dtrain_misr)"
   ]
  },
  {
   "cell_type": "code",
   "execution_count": null,
   "metadata": {},
   "outputs": [],
   "source": [
    "# dtrain_mism = fill_missing_average(dtrain_out)\r\n",
    "# check_missing_att(dtrain_mism)\r\n",
    "# dtrain_mism.sample(5)"
   ]
  }
 ],
 "metadata": {
  "kernelspec": {
   "display_name": "Python 3.9.2 64-bit",
   "name": "python392jvsc74a57bd0ac59ebe37160ed0dfa835113d9b8498d9f09ceb179beaac4002f036b9467c963"
  },
  "language_info": {
   "name": "python",
   "version": ""
  },
  "metadata": {
   "interpreter": {
    "hash": "ac59ebe37160ed0dfa835113d9b8498d9f09ceb179beaac4002f036b9467c963"
   }
  },
  "orig_nbformat": 2
 },
 "nbformat": 4,
 "nbformat_minor": 2
}