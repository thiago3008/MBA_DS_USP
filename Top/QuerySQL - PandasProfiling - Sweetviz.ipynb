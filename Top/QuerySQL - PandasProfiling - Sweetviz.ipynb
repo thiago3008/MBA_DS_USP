{
 "cells": [
  {
   "cell_type": "code",
   "execution_count": 1,
   "metadata": {},
   "outputs": [],
   "source": [
    "from datetime import datetime, timedelta\r\n",
    "import pandas as pd\r\n",
    "import pyodbc\r\n",
    "#import matplotlib.pyplot as plt\r\n",
    "#import seaborn as sns\r\n",
    "import numpy as np\r\n",
    "from pandas_profiling import profile_report\r\n",
    "import pandas as pd"
   ]
  },
  {
   "cell_type": "code",
   "execution_count": 2,
   "metadata": {},
   "outputs": [
    {
     "name": "stdout",
     "output_type": "stream",
     "text": [
      "     Id_Exc              Dt_Ref  Qt_Banho  Qt_Metal  Qt_AEK  \\\n",
      "Id                                                            \n",
      "283     101 2021-03-11 14:38:42        18         0    29.0   \n",
      "290     115 2021-03-11 20:17:12        17        44    35.0   \n",
      "292      21 2021-03-11 20:20:22        20        41    18.0   \n",
      "296     109 2021-03-11 20:25:38        18        42    36.0   \n",
      "297      68 2021-03-11 20:27:54        18        42    36.0   \n",
      "\n",
      "                           Ds_Ruido                  Nm_Responsavel  \\\n",
      "Id                                                                    \n",
      "283  Normal                          Kauan Camargo                    \n",
      "290  Normal                          deni                             \n",
      "292  Normal                          deni                             \n",
      "296  Normal                          deni                             \n",
      "297  Normal                          deni                             \n",
      "\n",
      "     Qt_Temperatura  Qt_Tensao  Qt_Banho_Liq  Qt_Banho_Frio  \\\n",
      "Id                                                            \n",
      "283             964       4.50             0              0   \n",
      "290             968       4.26             0              0   \n",
      "292             970       4.30             0              0   \n",
      "296             962       4.31             0              0   \n",
      "297             962       4.31             0              0   \n",
      "\n",
      "                            Ds_Acao  \\\n",
      "Id                                    \n",
      "283                                   \n",
      "290                                   \n",
      "292                                   \n",
      "296                                   \n",
      "297                                   \n",
      "\n",
      "                                             Ds_Observ  \\\n",
      "Id                                                       \n",
      "283  12X2 Normal -                                 ...   \n",
      "290  18X2 1/2 -                                    ...   \n",
      "292  12X2 1/2 -                                    ...   \n",
      "296  12X2 -                                        ...   \n",
      "297  12X2 1/2 -                                    ...   \n",
      "\n",
      "                    Nm_Prox_Atuador        Hr_Prox_Acao  \n",
      "Id                                                       \n",
      "283  NOK                            2021-03-11 22:38:42  \n",
      "290  NOK                            2021-03-12 04:17:12  \n",
      "292  NOK                            2021-03-12 12:20:22  \n",
      "296  NOK                            2021-03-12 04:25:38  \n",
      "297  NOK                            2021-03-12 20:27:54  \n"
     ]
    }
   ],
   "source": [
    "############\r\n",
    "# Query\r\n",
    "conn = pyodbc.connect('Driver={SQL Server};'\r\n",
    "                       'Server=bramowvsql01cba;'\r\n",
    "                       'Database=DB_CockpitSF_PRD;'\r\n",
    "                       'UID=usr_dbr_cockpitsf.prd;'\r\n",
    "                       'PWD=4e8F2rLm;'\r\n",
    "                       'Trusted_Connection=no;')\r\n",
    "cursor = conn.cursor()\r\n",
    "\r\n",
    "query = \"SELECT * \\\r\n",
    "         FROM [DB_CockpitSF_PRD].[dbo].[EXC_ACOMP]\"\r\n",
    "\r\n",
    "dados = pd.read_sql_query(query, conn, index_col='Id')\r\n",
    "print(dados.head())\r\n",
    "\r\n",
    "#############\r\n",
    "# Data Profile Report\r\n",
    "report = dados.profile_report(title=\"[DB_CockpitSF_PRD].[dbo].[EXC_ACOMP] - Profile Report\")\r\n",
    "report.to_file(output_file=\"EXC_ACOMP - Profile Report.html\")\r\n",
    "# import sweetviz library\r\n",
    "\r\n",
    "#############\r\n",
    "# Sweetviz\r\n",
    "import sweetviz as xx\r\n",
    "study_report = xx.analyze(dados)\r\n",
    "# Gerar relatório\r\n",
    "study_report.show_html('EXC_ACOMP - SweetViz Report.html')"
   ]
  },
  {
   "cell_type": "code",
   "execution_count": 5,
   "metadata": {},
   "outputs": [
    {
     "name": "stderr",
     "output_type": "stream",
     "text": [
      "Summarize dataset:   0%|          | 0/29 [00:00<?, ?it/s]"
     ]
    },
    {
     "name": "stdout",
     "output_type": "stream",
     "text": [
      "                 Dt_Ref  Cd_Forno                  Nm_Responsavel  \\\n",
      "Id                                                                  \n",
      "188 2021-03-22 04:06:44       707  Sistema                          \n",
      "198 2021-03-23 12:42:48       344  Sistema                          \n",
      "18  2021-03-04 20:54:38       363  Sistema                          \n",
      "\n",
      "                                             Nm_Motivo  \\\n",
      "Id                                                       \n",
      "188  Vindo de Operação                             ...   \n",
      "198  Vindo de Operação                             ...   \n",
      "18   Vindo de Operação                             ...   \n",
      "\n",
      "                          Nm_Status  Cd_Sala        Dt_Conclusao  \n",
      "Id                                                                \n",
      "188  Encerrada                             4 2021-03-25 13:08:12  \n",
      "198  Encerrada                             2 2021-03-30 14:12:36  \n",
      "18   Encerrada                             2 2021-04-04 19:43:49  \n"
     ]
    },
    {
     "name": "stderr",
     "output_type": "stream",
     "text": [
      "Summarize dataset: 100%|██████████| 29/29 [00:18<00:00,  1.59it/s, Completed]\n",
      "Generate report structure: 100%|██████████| 1/1 [00:07<00:00,  7.94s/it]\n",
      "Render HTML: 100%|██████████| 1/1 [00:01<00:00,  1.87s/it]\n",
      "Export report to file: 100%|██████████| 1/1 [00:00<00:00, 13.41it/s]\n",
      "Done! Use 'show' commands to display/save.   |██████████| [100%]   00:00 -> (00:00 left)"
     ]
    },
    {
     "name": "stdout",
     "output_type": "stream",
     "text": [
      "Report EXC_CTRL - SweetViz Report.html was generated! NOTEBOOK/COLAB USERS: the web browser MAY not pop up, regardless, the report IS saved in your notebook/colab files.\n"
     ]
    },
    {
     "name": "stderr",
     "output_type": "stream",
     "text": [
      "\n"
     ]
    }
   ],
   "source": [
    "############\r\n",
    "# Query\r\n",
    "conn = pyodbc.connect('Driver={SQL Server};'\r\n",
    "                       'Server=bramowvsql01cba;'\r\n",
    "                       'Database=DB_CockpitSF_PRD;'\r\n",
    "                       'UID=usr_dbr_cockpitsf.prd;'\r\n",
    "                       'PWD=4e8F2rLm;'\r\n",
    "                       'Trusted_Connection=no;')\r\n",
    "cursor = conn.cursor()\r\n",
    "\r\n",
    "query2 = \"SELECT * \\\r\n",
    "         FROM [DB_CockpitSF_PRD].[dbo].[EXC_CTRL]\"\r\n",
    "\r\n",
    "dados2 = pd.read_sql_query(query2, conn, index_col='Id')\r\n",
    "print(dados2.head(3))\r\n",
    "\r\n",
    "#############\r\n",
    "# Data Profile Report\r\n",
    "report2 = dados.profile_report(title=\"[DB_CockpitSF_PRD].[dbo].[EXC_CTRL] - Profile Report\")\r\n",
    "report2.to_file(output_file=\"EXC_CTRL - Profile Report.html\")\r\n",
    "# import sweetviz library\r\n",
    "\r\n",
    "#############\r\n",
    "# Sweetviz\r\n",
    "import sweetviz as xx\r\n",
    "sv_report2 = xx.analyze(dados)\r\n",
    "# Gerar relatório\r\n",
    "sv_report2.show_html('EXC_CTRL - SweetViz Report.html')"
   ]
  }
 ],
 "metadata": {
  "language_info": {
   "name": "python",
   "nbconvert_exporter": "python"
  },
  "orig_nbformat": 2
 },
 "nbformat": 4,
 "nbformat_minor": 2
}